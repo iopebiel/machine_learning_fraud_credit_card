{
  "cells": [
    {
      "cell_type": "markdown",
      "metadata": {
        "id": "view-in-github",
        "colab_type": "text"
      },
      "source": [
        "<a href=\"https://colab.research.google.com/github/iopebiel/modelo_fraudes_em_cartao/blob/main/regress%C3%A3o_log%C3%ADstica.ipynb\" target=\"_parent\"><img src=\"https://colab.research.google.com/assets/colab-badge.svg\" alt=\"Open In Colab\"/></a>"
      ]
    },
    {
      "cell_type": "code",
      "execution_count": 39,
      "metadata": {
        "colab": {
          "base_uri": "https://localhost:8080/"
        },
        "id": "6u0d7udHDdcH",
        "outputId": "d80f1e45-ba69-42ee-a3ff-13dc330c8723"
      },
      "outputs": [
        {
          "output_type": "stream",
          "name": "stdout",
          "text": [
            "Requirement already satisfied: imblearn in /usr/local/lib/python3.11/dist-packages (0.0)\n",
            "Requirement already satisfied: imbalanced-learn in /usr/local/lib/python3.11/dist-packages (from imblearn) (0.13.0)\n",
            "Requirement already satisfied: numpy<3,>=1.24.3 in /usr/local/lib/python3.11/dist-packages (from imbalanced-learn->imblearn) (2.0.2)\n",
            "Requirement already satisfied: scipy<2,>=1.10.1 in /usr/local/lib/python3.11/dist-packages (from imbalanced-learn->imblearn) (1.15.2)\n",
            "Requirement already satisfied: scikit-learn<2,>=1.3.2 in /usr/local/lib/python3.11/dist-packages (from imbalanced-learn->imblearn) (1.6.1)\n",
            "Requirement already satisfied: sklearn-compat<1,>=0.1 in /usr/local/lib/python3.11/dist-packages (from imbalanced-learn->imblearn) (0.1.3)\n",
            "Requirement already satisfied: joblib<2,>=1.1.1 in /usr/local/lib/python3.11/dist-packages (from imbalanced-learn->imblearn) (1.4.2)\n",
            "Requirement already satisfied: threadpoolctl<4,>=2.0.0 in /usr/local/lib/python3.11/dist-packages (from imbalanced-learn->imblearn) (3.6.0)\n"
          ]
        }
      ],
      "source": [
        "!pip install imblearn\n",
        "import numpy as np\n",
        "import pandas as pd\n",
        "import seaborn as sn\n",
        "import matplotlib.pyplot as plt\n",
        "import kagglehub\n",
        "from kagglehub import KaggleDatasetAdapter\n",
        "import os\n",
        "from imblearn.over_sampling import SMOTE\n",
        "from collections import Counter\n",
        "from sklearn.metrics import confusion_matrix, accuracy_score\n",
        "from sklearn.linear_model import LogisticRegression\n",
        "from sklearn.model_selection import train_test_split\n",
        "import matplotlib.pyplot as plt"
      ],
      "id": "6u0d7udHDdcH"
    },
    {
      "cell_type": "code",
      "source": [
        "path = kagglehub.dataset_download(\"mlg-ulb/creditcardfraud\")\n",
        "\n",
        "print(\"Path to dataset files:\", path)\n",
        "os.listdir(\"../kaggle/input/creditcardfraud\")"
      ],
      "metadata": {
        "colab": {
          "base_uri": "https://localhost:8080/"
        },
        "id": "-b0wCo2O7oFT",
        "outputId": "6a93cd2d-177e-464f-bdb2-7fed4ea1998e"
      },
      "id": "-b0wCo2O7oFT",
      "execution_count": 40,
      "outputs": [
        {
          "output_type": "stream",
          "name": "stdout",
          "text": [
            "Path to dataset files: /kaggle/input/creditcardfraud\n"
          ]
        },
        {
          "output_type": "execute_result",
          "data": {
            "text/plain": [
              "['creditcard.csv']"
            ]
          },
          "metadata": {},
          "execution_count": 40
        }
      ]
    },
    {
      "cell_type": "code",
      "source": [
        "data = pd.read_csv(\"../kaggle/input/creditcardfraud/creditcard.csv\")\n",
        "data.tail()"
      ],
      "metadata": {
        "colab": {
          "base_uri": "https://localhost:8080/",
          "height": 255
        },
        "id": "jmeNj-g27uhL",
        "outputId": "4743c4d2-4fd0-4275-f35b-2479271a91bd"
      },
      "id": "jmeNj-g27uhL",
      "execution_count": 41,
      "outputs": [
        {
          "output_type": "execute_result",
          "data": {
            "text/plain": [
              "            Time         V1         V2        V3        V4        V5  \\\n",
              "284802  172786.0 -11.881118  10.071785 -9.834783 -2.066656 -5.364473   \n",
              "284803  172787.0  -0.732789  -0.055080  2.035030 -0.738589  0.868229   \n",
              "284804  172788.0   1.919565  -0.301254 -3.249640 -0.557828  2.630515   \n",
              "284805  172788.0  -0.240440   0.530483  0.702510  0.689799 -0.377961   \n",
              "284806  172792.0  -0.533413  -0.189733  0.703337 -0.506271 -0.012546   \n",
              "\n",
              "              V6        V7        V8        V9  ...       V21       V22  \\\n",
              "284802 -2.606837 -4.918215  7.305334  1.914428  ...  0.213454  0.111864   \n",
              "284803  1.058415  0.024330  0.294869  0.584800  ...  0.214205  0.924384   \n",
              "284804  3.031260 -0.296827  0.708417  0.432454  ...  0.232045  0.578229   \n",
              "284805  0.623708 -0.686180  0.679145  0.392087  ...  0.265245  0.800049   \n",
              "284806 -0.649617  1.577006 -0.414650  0.486180  ...  0.261057  0.643078   \n",
              "\n",
              "             V23       V24       V25       V26       V27       V28  Amount  \\\n",
              "284802  1.014480 -0.509348  1.436807  0.250034  0.943651  0.823731    0.77   \n",
              "284803  0.012463 -1.016226 -0.606624 -0.395255  0.068472 -0.053527   24.79   \n",
              "284804 -0.037501  0.640134  0.265745 -0.087371  0.004455 -0.026561   67.88   \n",
              "284805 -0.163298  0.123205 -0.569159  0.546668  0.108821  0.104533   10.00   \n",
              "284806  0.376777  0.008797 -0.473649 -0.818267 -0.002415  0.013649  217.00   \n",
              "\n",
              "        Class  \n",
              "284802      0  \n",
              "284803      0  \n",
              "284804      0  \n",
              "284805      0  \n",
              "284806      0  \n",
              "\n",
              "[5 rows x 31 columns]"
            ],
            "text/html": [
              "\n",
              "  <div id=\"df-7c082f7d-c1fd-451d-acb5-8b21ad4eb499\" class=\"colab-df-container\">\n",
              "    <div>\n",
              "<style scoped>\n",
              "    .dataframe tbody tr th:only-of-type {\n",
              "        vertical-align: middle;\n",
              "    }\n",
              "\n",
              "    .dataframe tbody tr th {\n",
              "        vertical-align: top;\n",
              "    }\n",
              "\n",
              "    .dataframe thead th {\n",
              "        text-align: right;\n",
              "    }\n",
              "</style>\n",
              "<table border=\"1\" class=\"dataframe\">\n",
              "  <thead>\n",
              "    <tr style=\"text-align: right;\">\n",
              "      <th></th>\n",
              "      <th>Time</th>\n",
              "      <th>V1</th>\n",
              "      <th>V2</th>\n",
              "      <th>V3</th>\n",
              "      <th>V4</th>\n",
              "      <th>V5</th>\n",
              "      <th>V6</th>\n",
              "      <th>V7</th>\n",
              "      <th>V8</th>\n",
              "      <th>V9</th>\n",
              "      <th>...</th>\n",
              "      <th>V21</th>\n",
              "      <th>V22</th>\n",
              "      <th>V23</th>\n",
              "      <th>V24</th>\n",
              "      <th>V25</th>\n",
              "      <th>V26</th>\n",
              "      <th>V27</th>\n",
              "      <th>V28</th>\n",
              "      <th>Amount</th>\n",
              "      <th>Class</th>\n",
              "    </tr>\n",
              "  </thead>\n",
              "  <tbody>\n",
              "    <tr>\n",
              "      <th>284802</th>\n",
              "      <td>172786.0</td>\n",
              "      <td>-11.881118</td>\n",
              "      <td>10.071785</td>\n",
              "      <td>-9.834783</td>\n",
              "      <td>-2.066656</td>\n",
              "      <td>-5.364473</td>\n",
              "      <td>-2.606837</td>\n",
              "      <td>-4.918215</td>\n",
              "      <td>7.305334</td>\n",
              "      <td>1.914428</td>\n",
              "      <td>...</td>\n",
              "      <td>0.213454</td>\n",
              "      <td>0.111864</td>\n",
              "      <td>1.014480</td>\n",
              "      <td>-0.509348</td>\n",
              "      <td>1.436807</td>\n",
              "      <td>0.250034</td>\n",
              "      <td>0.943651</td>\n",
              "      <td>0.823731</td>\n",
              "      <td>0.77</td>\n",
              "      <td>0</td>\n",
              "    </tr>\n",
              "    <tr>\n",
              "      <th>284803</th>\n",
              "      <td>172787.0</td>\n",
              "      <td>-0.732789</td>\n",
              "      <td>-0.055080</td>\n",
              "      <td>2.035030</td>\n",
              "      <td>-0.738589</td>\n",
              "      <td>0.868229</td>\n",
              "      <td>1.058415</td>\n",
              "      <td>0.024330</td>\n",
              "      <td>0.294869</td>\n",
              "      <td>0.584800</td>\n",
              "      <td>...</td>\n",
              "      <td>0.214205</td>\n",
              "      <td>0.924384</td>\n",
              "      <td>0.012463</td>\n",
              "      <td>-1.016226</td>\n",
              "      <td>-0.606624</td>\n",
              "      <td>-0.395255</td>\n",
              "      <td>0.068472</td>\n",
              "      <td>-0.053527</td>\n",
              "      <td>24.79</td>\n",
              "      <td>0</td>\n",
              "    </tr>\n",
              "    <tr>\n",
              "      <th>284804</th>\n",
              "      <td>172788.0</td>\n",
              "      <td>1.919565</td>\n",
              "      <td>-0.301254</td>\n",
              "      <td>-3.249640</td>\n",
              "      <td>-0.557828</td>\n",
              "      <td>2.630515</td>\n",
              "      <td>3.031260</td>\n",
              "      <td>-0.296827</td>\n",
              "      <td>0.708417</td>\n",
              "      <td>0.432454</td>\n",
              "      <td>...</td>\n",
              "      <td>0.232045</td>\n",
              "      <td>0.578229</td>\n",
              "      <td>-0.037501</td>\n",
              "      <td>0.640134</td>\n",
              "      <td>0.265745</td>\n",
              "      <td>-0.087371</td>\n",
              "      <td>0.004455</td>\n",
              "      <td>-0.026561</td>\n",
              "      <td>67.88</td>\n",
              "      <td>0</td>\n",
              "    </tr>\n",
              "    <tr>\n",
              "      <th>284805</th>\n",
              "      <td>172788.0</td>\n",
              "      <td>-0.240440</td>\n",
              "      <td>0.530483</td>\n",
              "      <td>0.702510</td>\n",
              "      <td>0.689799</td>\n",
              "      <td>-0.377961</td>\n",
              "      <td>0.623708</td>\n",
              "      <td>-0.686180</td>\n",
              "      <td>0.679145</td>\n",
              "      <td>0.392087</td>\n",
              "      <td>...</td>\n",
              "      <td>0.265245</td>\n",
              "      <td>0.800049</td>\n",
              "      <td>-0.163298</td>\n",
              "      <td>0.123205</td>\n",
              "      <td>-0.569159</td>\n",
              "      <td>0.546668</td>\n",
              "      <td>0.108821</td>\n",
              "      <td>0.104533</td>\n",
              "      <td>10.00</td>\n",
              "      <td>0</td>\n",
              "    </tr>\n",
              "    <tr>\n",
              "      <th>284806</th>\n",
              "      <td>172792.0</td>\n",
              "      <td>-0.533413</td>\n",
              "      <td>-0.189733</td>\n",
              "      <td>0.703337</td>\n",
              "      <td>-0.506271</td>\n",
              "      <td>-0.012546</td>\n",
              "      <td>-0.649617</td>\n",
              "      <td>1.577006</td>\n",
              "      <td>-0.414650</td>\n",
              "      <td>0.486180</td>\n",
              "      <td>...</td>\n",
              "      <td>0.261057</td>\n",
              "      <td>0.643078</td>\n",
              "      <td>0.376777</td>\n",
              "      <td>0.008797</td>\n",
              "      <td>-0.473649</td>\n",
              "      <td>-0.818267</td>\n",
              "      <td>-0.002415</td>\n",
              "      <td>0.013649</td>\n",
              "      <td>217.00</td>\n",
              "      <td>0</td>\n",
              "    </tr>\n",
              "  </tbody>\n",
              "</table>\n",
              "<p>5 rows × 31 columns</p>\n",
              "</div>\n",
              "    <div class=\"colab-df-buttons\">\n",
              "\n",
              "  <div class=\"colab-df-container\">\n",
              "    <button class=\"colab-df-convert\" onclick=\"convertToInteractive('df-7c082f7d-c1fd-451d-acb5-8b21ad4eb499')\"\n",
              "            title=\"Convert this dataframe to an interactive table.\"\n",
              "            style=\"display:none;\">\n",
              "\n",
              "  <svg xmlns=\"http://www.w3.org/2000/svg\" height=\"24px\" viewBox=\"0 -960 960 960\">\n",
              "    <path d=\"M120-120v-720h720v720H120Zm60-500h600v-160H180v160Zm220 220h160v-160H400v160Zm0 220h160v-160H400v160ZM180-400h160v-160H180v160Zm440 0h160v-160H620v160ZM180-180h160v-160H180v160Zm440 0h160v-160H620v160Z\"/>\n",
              "  </svg>\n",
              "    </button>\n",
              "\n",
              "  <style>\n",
              "    .colab-df-container {\n",
              "      display:flex;\n",
              "      gap: 12px;\n",
              "    }\n",
              "\n",
              "    .colab-df-convert {\n",
              "      background-color: #E8F0FE;\n",
              "      border: none;\n",
              "      border-radius: 50%;\n",
              "      cursor: pointer;\n",
              "      display: none;\n",
              "      fill: #1967D2;\n",
              "      height: 32px;\n",
              "      padding: 0 0 0 0;\n",
              "      width: 32px;\n",
              "    }\n",
              "\n",
              "    .colab-df-convert:hover {\n",
              "      background-color: #E2EBFA;\n",
              "      box-shadow: 0px 1px 2px rgba(60, 64, 67, 0.3), 0px 1px 3px 1px rgba(60, 64, 67, 0.15);\n",
              "      fill: #174EA6;\n",
              "    }\n",
              "\n",
              "    .colab-df-buttons div {\n",
              "      margin-bottom: 4px;\n",
              "    }\n",
              "\n",
              "    [theme=dark] .colab-df-convert {\n",
              "      background-color: #3B4455;\n",
              "      fill: #D2E3FC;\n",
              "    }\n",
              "\n",
              "    [theme=dark] .colab-df-convert:hover {\n",
              "      background-color: #434B5C;\n",
              "      box-shadow: 0px 1px 3px 1px rgba(0, 0, 0, 0.15);\n",
              "      filter: drop-shadow(0px 1px 2px rgba(0, 0, 0, 0.3));\n",
              "      fill: #FFFFFF;\n",
              "    }\n",
              "  </style>\n",
              "\n",
              "    <script>\n",
              "      const buttonEl =\n",
              "        document.querySelector('#df-7c082f7d-c1fd-451d-acb5-8b21ad4eb499 button.colab-df-convert');\n",
              "      buttonEl.style.display =\n",
              "        google.colab.kernel.accessAllowed ? 'block' : 'none';\n",
              "\n",
              "      async function convertToInteractive(key) {\n",
              "        const element = document.querySelector('#df-7c082f7d-c1fd-451d-acb5-8b21ad4eb499');\n",
              "        const dataTable =\n",
              "          await google.colab.kernel.invokeFunction('convertToInteractive',\n",
              "                                                    [key], {});\n",
              "        if (!dataTable) return;\n",
              "\n",
              "        const docLinkHtml = 'Like what you see? Visit the ' +\n",
              "          '<a target=\"_blank\" href=https://colab.research.google.com/notebooks/data_table.ipynb>data table notebook</a>'\n",
              "          + ' to learn more about interactive tables.';\n",
              "        element.innerHTML = '';\n",
              "        dataTable['output_type'] = 'display_data';\n",
              "        await google.colab.output.renderOutput(dataTable, element);\n",
              "        const docLink = document.createElement('div');\n",
              "        docLink.innerHTML = docLinkHtml;\n",
              "        element.appendChild(docLink);\n",
              "      }\n",
              "    </script>\n",
              "  </div>\n",
              "\n",
              "\n",
              "    <div id=\"df-0a003242-6aa5-4244-aa15-0189e415e159\">\n",
              "      <button class=\"colab-df-quickchart\" onclick=\"quickchart('df-0a003242-6aa5-4244-aa15-0189e415e159')\"\n",
              "                title=\"Suggest charts\"\n",
              "                style=\"display:none;\">\n",
              "\n",
              "<svg xmlns=\"http://www.w3.org/2000/svg\" height=\"24px\"viewBox=\"0 0 24 24\"\n",
              "     width=\"24px\">\n",
              "    <g>\n",
              "        <path d=\"M19 3H5c-1.1 0-2 .9-2 2v14c0 1.1.9 2 2 2h14c1.1 0 2-.9 2-2V5c0-1.1-.9-2-2-2zM9 17H7v-7h2v7zm4 0h-2V7h2v10zm4 0h-2v-4h2v4z\"/>\n",
              "    </g>\n",
              "</svg>\n",
              "      </button>\n",
              "\n",
              "<style>\n",
              "  .colab-df-quickchart {\n",
              "      --bg-color: #E8F0FE;\n",
              "      --fill-color: #1967D2;\n",
              "      --hover-bg-color: #E2EBFA;\n",
              "      --hover-fill-color: #174EA6;\n",
              "      --disabled-fill-color: #AAA;\n",
              "      --disabled-bg-color: #DDD;\n",
              "  }\n",
              "\n",
              "  [theme=dark] .colab-df-quickchart {\n",
              "      --bg-color: #3B4455;\n",
              "      --fill-color: #D2E3FC;\n",
              "      --hover-bg-color: #434B5C;\n",
              "      --hover-fill-color: #FFFFFF;\n",
              "      --disabled-bg-color: #3B4455;\n",
              "      --disabled-fill-color: #666;\n",
              "  }\n",
              "\n",
              "  .colab-df-quickchart {\n",
              "    background-color: var(--bg-color);\n",
              "    border: none;\n",
              "    border-radius: 50%;\n",
              "    cursor: pointer;\n",
              "    display: none;\n",
              "    fill: var(--fill-color);\n",
              "    height: 32px;\n",
              "    padding: 0;\n",
              "    width: 32px;\n",
              "  }\n",
              "\n",
              "  .colab-df-quickchart:hover {\n",
              "    background-color: var(--hover-bg-color);\n",
              "    box-shadow: 0 1px 2px rgba(60, 64, 67, 0.3), 0 1px 3px 1px rgba(60, 64, 67, 0.15);\n",
              "    fill: var(--button-hover-fill-color);\n",
              "  }\n",
              "\n",
              "  .colab-df-quickchart-complete:disabled,\n",
              "  .colab-df-quickchart-complete:disabled:hover {\n",
              "    background-color: var(--disabled-bg-color);\n",
              "    fill: var(--disabled-fill-color);\n",
              "    box-shadow: none;\n",
              "  }\n",
              "\n",
              "  .colab-df-spinner {\n",
              "    border: 2px solid var(--fill-color);\n",
              "    border-color: transparent;\n",
              "    border-bottom-color: var(--fill-color);\n",
              "    animation:\n",
              "      spin 1s steps(1) infinite;\n",
              "  }\n",
              "\n",
              "  @keyframes spin {\n",
              "    0% {\n",
              "      border-color: transparent;\n",
              "      border-bottom-color: var(--fill-color);\n",
              "      border-left-color: var(--fill-color);\n",
              "    }\n",
              "    20% {\n",
              "      border-color: transparent;\n",
              "      border-left-color: var(--fill-color);\n",
              "      border-top-color: var(--fill-color);\n",
              "    }\n",
              "    30% {\n",
              "      border-color: transparent;\n",
              "      border-left-color: var(--fill-color);\n",
              "      border-top-color: var(--fill-color);\n",
              "      border-right-color: var(--fill-color);\n",
              "    }\n",
              "    40% {\n",
              "      border-color: transparent;\n",
              "      border-right-color: var(--fill-color);\n",
              "      border-top-color: var(--fill-color);\n",
              "    }\n",
              "    60% {\n",
              "      border-color: transparent;\n",
              "      border-right-color: var(--fill-color);\n",
              "    }\n",
              "    80% {\n",
              "      border-color: transparent;\n",
              "      border-right-color: var(--fill-color);\n",
              "      border-bottom-color: var(--fill-color);\n",
              "    }\n",
              "    90% {\n",
              "      border-color: transparent;\n",
              "      border-bottom-color: var(--fill-color);\n",
              "    }\n",
              "  }\n",
              "</style>\n",
              "\n",
              "      <script>\n",
              "        async function quickchart(key) {\n",
              "          const quickchartButtonEl =\n",
              "            document.querySelector('#' + key + ' button');\n",
              "          quickchartButtonEl.disabled = true;  // To prevent multiple clicks.\n",
              "          quickchartButtonEl.classList.add('colab-df-spinner');\n",
              "          try {\n",
              "            const charts = await google.colab.kernel.invokeFunction(\n",
              "                'suggestCharts', [key], {});\n",
              "          } catch (error) {\n",
              "            console.error('Error during call to suggestCharts:', error);\n",
              "          }\n",
              "          quickchartButtonEl.classList.remove('colab-df-spinner');\n",
              "          quickchartButtonEl.classList.add('colab-df-quickchart-complete');\n",
              "        }\n",
              "        (() => {\n",
              "          let quickchartButtonEl =\n",
              "            document.querySelector('#df-0a003242-6aa5-4244-aa15-0189e415e159 button');\n",
              "          quickchartButtonEl.style.display =\n",
              "            google.colab.kernel.accessAllowed ? 'block' : 'none';\n",
              "        })();\n",
              "      </script>\n",
              "    </div>\n",
              "\n",
              "    </div>\n",
              "  </div>\n"
            ],
            "application/vnd.google.colaboratory.intrinsic+json": {
              "type": "dataframe"
            }
          },
          "metadata": {},
          "execution_count": 41
        }
      ]
    },
    {
      "cell_type": "markdown",
      "source": [
        "# Pré processamento dos dados"
      ],
      "metadata": {
        "id": "SjeQ6i7xu0T6"
      },
      "id": "SjeQ6i7xu0T6"
    },
    {
      "cell_type": "code",
      "execution_count": 42,
      "id": "2c0be83a-5c4e-4492-a4e9-4bb1c9cb2921",
      "metadata": {
        "colab": {
          "base_uri": "https://localhost:8080/"
        },
        "id": "2c0be83a-5c4e-4492-a4e9-4bb1c9cb2921",
        "outputId": "add6f0d6-f2d7-4290-cfa7-63497817e2ab"
      },
      "outputs": [
        {
          "output_type": "stream",
          "name": "stdout",
          "text": [
            "Fraude: 492\n",
            "Normal: 284315\n"
          ]
        }
      ],
      "source": [
        "number_of_fraud = len(data[data.Class == 1])\n",
        "number_of_normal= len(data[data.Class == 0])\n",
        "\n",
        "print (\"Fraude:\", number_of_fraud)\n",
        "print (\"Normal:\",number_of_normal)"
      ]
    },
    {
      "cell_type": "code",
      "source": [
        "X = data.drop(\"Class\", axis=1)\n",
        "y = data[\"Class\"]\n",
        "X_train, X_test, y_train, y_test = train_test_split(X, y, test_size=0.3, stratify=y, random_state=42)"
      ],
      "metadata": {
        "id": "sscK35_m71nC"
      },
      "id": "sscK35_m71nC",
      "execution_count": 43,
      "outputs": []
    },
    {
      "cell_type": "code",
      "source": [
        "counter = Counter(y_train)\n",
        "print('Antes do SMOTE:', counter)"
      ],
      "metadata": {
        "colab": {
          "base_uri": "https://localhost:8080/"
        },
        "id": "8Cmpxlvt74Ub",
        "outputId": "a56f58b9-7578-443a-bd71-4c7b3b21d257"
      },
      "id": "8Cmpxlvt74Ub",
      "execution_count": 44,
      "outputs": [
        {
          "output_type": "stream",
          "name": "stdout",
          "text": [
            "Antes do SMOTE: Counter({0: 199020, 1: 344})\n"
          ]
        }
      ]
    },
    {
      "cell_type": "code",
      "source": [
        "smt = SMOTE(random_state=42)\n",
        "X_train_sm, y_train_sm = smt.fit_resample(X_train, y_train)"
      ],
      "metadata": {
        "id": "VZOD0stm77O7"
      },
      "id": "VZOD0stm77O7",
      "execution_count": 45,
      "outputs": []
    },
    {
      "cell_type": "code",
      "source": [
        "counter = Counter(y_train_sm)\n",
        "print('Depois do SMOTE:', counter)"
      ],
      "metadata": {
        "colab": {
          "base_uri": "https://localhost:8080/"
        },
        "id": "yDlOD9D378m6",
        "outputId": "7d25d765-39de-4770-8c70-e54d3cdf6498"
      },
      "id": "yDlOD9D378m6",
      "execution_count": 46,
      "outputs": [
        {
          "output_type": "stream",
          "name": "stdout",
          "text": [
            "Depois do SMOTE: Counter({0: 199020, 1: 199020})\n"
          ]
        }
      ]
    },
    {
      "cell_type": "markdown",
      "source": [
        "## **MODELO 1**"
      ],
      "metadata": {
        "id": "lc5oKPsiu9In"
      },
      "id": "lc5oKPsiu9In"
    },
    {
      "cell_type": "code",
      "execution_count": null,
      "id": "119eff53-a10b-4453-8e1a-5e8df48af2e3",
      "metadata": {
        "id": "119eff53-a10b-4453-8e1a-5e8df48af2e3"
      },
      "outputs": [],
      "source": [
        "logistic_regression = LogisticRegression(solver='saga', max_iter=10000) #Quanto maior o número de iterações, melhor o resultado\n",
        "logistic_regression.fit(X_train_sm,y_train_sm)\n",
        "y_pred_rl = logistic_regression.predict(X_train_sm)"
      ]
    },
    {
      "cell_type": "code",
      "execution_count": 71,
      "id": "3d47929c-6d4e-47f1-8a20-89fdcc0eb092",
      "metadata": {
        "scrolled": true,
        "colab": {
          "base_uri": "https://localhost:8080/"
        },
        "id": "3d47929c-6d4e-47f1-8a20-89fdcc0eb092",
        "outputId": "a785e226-d095-4362-b440-399909f7fa68"
      },
      "outputs": [
        {
          "output_type": "stream",
          "name": "stdout",
          "text": [
            "            Time        V1        V2        V3        V4        V5        V6  \\\n",
            "186882  127294.0 -2.537331  1.890864 -0.840555 -1.102759 -2.105725  0.367811   \n",
            "165754  117632.0 -0.250839  1.104108  0.206089  0.417324  1.204079 -0.350694   \n",
            "235285  148330.0  0.568980 -2.520416 -1.114138  1.670652 -1.128945  0.398822   \n",
            "101271   67778.0  1.328892  0.226908 -0.308968  0.381772  0.238490 -0.282946   \n",
            "5832      6308.0  1.124863 -0.165691  1.337053  1.030033 -0.891116  0.202926   \n",
            "...          ...       ...       ...       ...       ...       ...       ...   \n",
            "64725    51279.0 -1.808185  1.328808 -0.991449 -2.473986  2.185095  3.496806   \n",
            "16688    28048.0 -0.442905  0.716727  1.256775  0.860048  1.210872  1.066390   \n",
            "183868  125990.0  2.092418 -0.931315 -1.553089 -1.131369 -0.197801 -0.373117   \n",
            "45011    42168.0  1.293234  0.097565 -0.209304  0.329036  0.034958 -0.145507   \n",
            "150527   93609.0  2.214016 -0.584030 -1.238673 -0.702993 -0.184492 -0.646248   \n",
            "\n",
            "              V7        V8        V9  ...       V20       V21       V22  \\\n",
            "186882 -2.737844 -3.543314 -0.483147  ... -1.959611  4.328165 -2.167329   \n",
            "165754  1.369769 -0.133535 -0.957100  ... -0.128120  0.133048  0.499501   \n",
            "235285  0.190403  0.161493  0.840595  ...  1.039287  0.318037 -0.760732   \n",
            "101271  0.029460 -0.079962  0.227173  ... -0.050933 -0.379270 -1.148959   \n",
            "5832   -0.825094  0.163280  2.301808  ... -0.196966 -0.216512 -0.195607   \n",
            "...          ...       ...       ...  ...       ...       ...       ...   \n",
            "64725  -1.030373 -1.860286  0.182992  ...  0.745500 -1.441887 -0.020080   \n",
            "16688   0.888914 -0.176599 -0.172991  ...  0.310200 -0.154031  0.271637   \n",
            "183868 -0.390388 -0.119017 -0.702381  ...  0.120353 -0.008183 -0.274004   \n",
            "45011  -0.203271  0.153076  0.217831  ... -0.186409 -0.340111 -1.128741   \n",
            "150527 -0.425560 -0.352428  0.869265  ... -0.033153 -0.182835 -0.224863   \n",
            "\n",
            "             V23       V24       V25       V26       V27       V28  Amount  \n",
            "186882  1.022567 -0.241143 -1.094885 -0.475427 -0.177157 -0.082691   37.40  \n",
            "165754 -0.392572 -0.393364  0.233354 -0.490717  0.143897  0.136810    9.27  \n",
            "235285 -0.181332  0.595866 -0.760920 -1.048927 -0.096970  0.088686  700.00  \n",
            "101271 -0.047403 -1.074464  0.375683  0.182045 -0.031732  0.017501   14.99  \n",
            "5832    0.072785  0.045625  0.135192  0.308617  0.001142  0.017673   17.25  \n",
            "...          ...       ...       ...       ...       ...       ...     ...  \n",
            "64725   0.256883  1.014602 -0.108679  0.672870 -0.701644 -0.338981    0.92  \n",
            "16688  -0.262547 -1.125678  0.019374 -0.233577 -0.013664 -0.274549   13.74  \n",
            "183868  0.214650  0.257477 -0.193262 -0.458271 -0.056360 -0.053928   74.00  \n",
            "45011   0.000733 -0.956668  0.259784  0.158010 -0.044116  0.003539    1.98  \n",
            "150527  0.257899  0.558856 -0.060775 -0.391478 -0.057635 -0.059988   15.90  \n",
            "\n",
            "[85443 rows x 30 columns]\n"
          ]
        }
      ],
      "source": [
        "dft = pd.DataFrame(data = X_test)\n",
        "print(dft)\n",
        "resultado_rl = logistic_regression.predict(dft)"
      ]
    },
    {
      "cell_type": "code",
      "source": [
        "cf_matrix = confusion_matrix(y_train_sm, y_pred_rl)\n",
        "sn.heatmap(cf_matrix, cmap='coolwarm', annot=True, linewidth=1, fmt='d')\n",
        "plt.show()"
      ],
      "metadata": {
        "id": "FMBF8Q4Y76jk"
      },
      "id": "FMBF8Q4Y76jk",
      "execution_count": null,
      "outputs": []
    },
    {
      "cell_type": "code",
      "source": [
        "cf_matrix = confusion_matrix(y_train_sm, y_pred_rl)\n",
        "sn.heatmap(cf_matrix, cmap='coolwarm', annot=True, linewidth=1, fmt='d')\n",
        "plt.show()"
      ],
      "metadata": {
        "colab": {
          "base_uri": "https://localhost:8080/",
          "height": 430
        },
        "id": "zoYdlHGoAb5m",
        "outputId": "a0a5b7e2-fc09-424d-e908-9a12c0631937"
      },
      "id": "zoYdlHGoAb5m",
      "execution_count": 72,
      "outputs": [
        {
          "output_type": "display_data",
          "data": {
            "text/plain": [
              "<Figure size 640x480 with 2 Axes>"
            ],
            "image/png": "[encoded data removed]"
          },
          "metadata": {}
        }
      ]
    },
    {
      "cell_type": "code",
      "execution_count": 73,
      "id": "da0aed7e-eb82-4051-a60b-ec5644c95187",
      "metadata": {
        "colab": {
          "base_uri": "https://localhost:8080/"
        },
        "id": "da0aed7e-eb82-4051-a60b-ec5644c95187",
        "outputId": "9ef48d4b-805f-461d-a77e-58681d3703ad"
      },
      "outputs": [
        {
          "output_type": "stream",
          "name": "stdout",
          "text": [
            "Acurracy:  0.9282031956587278\n"
          ]
        }
      ],
      "source": [
        "print('Acurracy: ', accuracy_score(y_train_sm, y_pred_rl))\n",
        "plt.show()"
      ]
    },
    {
      "cell_type": "code",
      "execution_count": 74,
      "id": "c99a03dd-2817-47ff-9e57-fdec66d92ccc",
      "metadata": {
        "colab": {
          "base_uri": "https://localhost:8080/",
          "height": 430
        },
        "id": "c99a03dd-2817-47ff-9e57-fdec66d92ccc",
        "outputId": "d9c57bcb-f6df-4059-9e62-1b30fba686f9"
      },
      "outputs": [
        {
          "output_type": "display_data",
          "data": {
            "text/plain": [
              "<Figure size 640x480 with 2 Axes>"
            ],
            "image/png": "[encoded data removed]"
          },
          "metadata": {}
        }
      ],
      "source": [
        "cf_matrix = confusion_matrix(y_test, resultado_rl)\n",
        "sn.heatmap(cf_matrix, cmap='coolwarm', annot=True, linewidth=1, fmt='d')\n",
        "plt.show()"
      ]
    },
    {
      "cell_type": "code",
      "source": [
        "print('Acurracy: ', accuracy_score(y_test, resultado_rl))\n",
        "plt.show()"
      ],
      "metadata": {
        "colab": {
          "base_uri": "https://localhost:8080/"
        },
        "id": "iDR5TECDti_-",
        "outputId": "edbf3dfd-326f-4d4f-d5d3-d025375e0933"
      },
      "id": "iDR5TECDti_-",
      "execution_count": 76,
      "outputs": [
        {
          "output_type": "stream",
          "name": "stdout",
          "text": [
            "Acurracy:  0.9912222183209859\n"
          ]
        }
      ]
    },
    {
      "cell_type": "markdown",
      "source": [
        "## **MODELO 2**"
      ],
      "metadata": {
        "id": "lkUEZrsqu_A9"
      },
      "id": "lkUEZrsqu_A9"
    },
    {
      "cell_type": "code",
      "execution_count": 63,
      "metadata": {
        "id": "j7JfEvwEHfLL"
      },
      "outputs": [],
      "source": [
        "from cuml.linear_model import LogisticRegression as cuLogisticRegression\n",
        "\n",
        "logistic_regression = cuLogisticRegression(max_iter=200, solver='qn')  # qn é equivalente ao saga\n",
        "logistic_regression.fit(X_train_sm, y_train_sm)\n",
        "y_pred_curl = logistic_regression.predict(X_train_sm)"
      ],
      "id": "j7JfEvwEHfLL"
    },
    {
      "cell_type": "code",
      "source": [
        "dft = pd.DataFrame(data = X_test)\n",
        "print(dft)\n",
        "resultado_curl = logistic_regression.predict(dft)"
      ],
      "metadata": {
        "colab": {
          "base_uri": "https://localhost:8080/"
        },
        "id": "P6eXcyB2UMvn",
        "outputId": "cc03629a-4d08-46c0-efd4-b72948bd3d06"
      },
      "id": "P6eXcyB2UMvn",
      "execution_count": 64,
      "outputs": [
        {
          "output_type": "stream",
          "name": "stdout",
          "text": [
            "            Time        V1        V2        V3        V4        V5        V6  \\\n",
            "186882  127294.0 -2.537331  1.890864 -0.840555 -1.102759 -2.105725  0.367811   \n",
            "165754  117632.0 -0.250839  1.104108  0.206089  0.417324  1.204079 -0.350694   \n",
            "235285  148330.0  0.568980 -2.520416 -1.114138  1.670652 -1.128945  0.398822   \n",
            "101271   67778.0  1.328892  0.226908 -0.308968  0.381772  0.238490 -0.282946   \n",
            "5832      6308.0  1.124863 -0.165691  1.337053  1.030033 -0.891116  0.202926   \n",
            "...          ...       ...       ...       ...       ...       ...       ...   \n",
            "64725    51279.0 -1.808185  1.328808 -0.991449 -2.473986  2.185095  3.496806   \n",
            "16688    28048.0 -0.442905  0.716727  1.256775  0.860048  1.210872  1.066390   \n",
            "183868  125990.0  2.092418 -0.931315 -1.553089 -1.131369 -0.197801 -0.373117   \n",
            "45011    42168.0  1.293234  0.097565 -0.209304  0.329036  0.034958 -0.145507   \n",
            "150527   93609.0  2.214016 -0.584030 -1.238673 -0.702993 -0.184492 -0.646248   \n",
            "\n",
            "              V7        V8        V9  ...       V20       V21       V22  \\\n",
            "186882 -2.737844 -3.543314 -0.483147  ... -1.959611  4.328165 -2.167329   \n",
            "165754  1.369769 -0.133535 -0.957100  ... -0.128120  0.133048  0.499501   \n",
            "235285  0.190403  0.161493  0.840595  ...  1.039287  0.318037 -0.760732   \n",
            "101271  0.029460 -0.079962  0.227173  ... -0.050933 -0.379270 -1.148959   \n",
            "5832   -0.825094  0.163280  2.301808  ... -0.196966 -0.216512 -0.195607   \n",
            "...          ...       ...       ...  ...       ...       ...       ...   \n",
            "64725  -1.030373 -1.860286  0.182992  ...  0.745500 -1.441887 -0.020080   \n",
            "16688   0.888914 -0.176599 -0.172991  ...  0.310200 -0.154031  0.271637   \n",
            "183868 -0.390388 -0.119017 -0.702381  ...  0.120353 -0.008183 -0.274004   \n",
            "45011  -0.203271  0.153076  0.217831  ... -0.186409 -0.340111 -1.128741   \n",
            "150527 -0.425560 -0.352428  0.869265  ... -0.033153 -0.182835 -0.224863   \n",
            "\n",
            "             V23       V24       V25       V26       V27       V28  Amount  \n",
            "186882  1.022567 -0.241143 -1.094885 -0.475427 -0.177157 -0.082691   37.40  \n",
            "165754 -0.392572 -0.393364  0.233354 -0.490717  0.143897  0.136810    9.27  \n",
            "235285 -0.181332  0.595866 -0.760920 -1.048927 -0.096970  0.088686  700.00  \n",
            "101271 -0.047403 -1.074464  0.375683  0.182045 -0.031732  0.017501   14.99  \n",
            "5832    0.072785  0.045625  0.135192  0.308617  0.001142  0.017673   17.25  \n",
            "...          ...       ...       ...       ...       ...       ...     ...  \n",
            "64725   0.256883  1.014602 -0.108679  0.672870 -0.701644 -0.338981    0.92  \n",
            "16688  -0.262547 -1.125678  0.019374 -0.233577 -0.013664 -0.274549   13.74  \n",
            "183868  0.214650  0.257477 -0.193262 -0.458271 -0.056360 -0.053928   74.00  \n",
            "45011   0.000733 -0.956668  0.259784  0.158010 -0.044116  0.003539    1.98  \n",
            "150527  0.257899  0.558856 -0.060775 -0.391478 -0.057635 -0.059988   15.90  \n",
            "\n",
            "[85443 rows x 30 columns]\n"
          ]
        }
      ]
    },
    {
      "cell_type": "code",
      "source": [
        "print('Acurracy: ', accuracy_score(y_train_sm, y_pred_curl))\n",
        "plt.show()"
      ],
      "metadata": {
        "colab": {
          "base_uri": "https://localhost:8080/"
        },
        "id": "avwUXI3qK1Bz",
        "outputId": "a20194f3-7752-48a6-d4f5-362361a850b8"
      },
      "id": "avwUXI3qK1Bz",
      "execution_count": 65,
      "outputs": [
        {
          "output_type": "stream",
          "name": "stdout",
          "text": [
            "Acurracy:  0.9743317254547281\n"
          ]
        }
      ]
    },
    {
      "cell_type": "code",
      "source": [
        "cf_matrix = confusion_matrix(y_train_sm, y_pred_curl)\n",
        "sn.heatmap(cf_matrix, cmap='coolwarm', annot=True, linewidth=1, fmt='d')\n",
        "plt.show()"
      ],
      "metadata": {
        "colab": {
          "base_uri": "https://localhost:8080/",
          "height": 430
        },
        "id": "fJESw7NgULPm",
        "outputId": "71c69305-914e-458f-8ba8-bba5e752ea4e"
      },
      "id": "fJESw7NgULPm",
      "execution_count": 66,
      "outputs": [
        {
          "output_type": "display_data",
          "data": {
            "text/plain": [
              "<Figure size 640x480 with 2 Axes>"
            ],
            "image/png": "[encoded data removed]"
          },
          "metadata": {}
        }
      ]
    },
    {
      "cell_type": "code",
      "source": [
        "print('Acurracy: ', accuracy_score(y_test, resultado_curl))\n",
        "plt.show()"
      ],
      "metadata": {
        "colab": {
          "base_uri": "https://localhost:8080/"
        },
        "id": "WqBhn9IVUMSt",
        "outputId": "ff2fa829-e6d4-4145-f65c-e9b92fcabf7b"
      },
      "id": "WqBhn9IVUMSt",
      "execution_count": 67,
      "outputs": [
        {
          "output_type": "stream",
          "name": "stdout",
          "text": [
            "Acurracy:  0.9798930281006051\n"
          ]
        }
      ]
    },
    {
      "cell_type": "code",
      "source": [
        "cf_matrix = confusion_matrix(y_test, resultado_curl)\n",
        "sn.heatmap(cf_matrix, cmap='coolwarm', annot=True, linewidth=1, fmt='d')\n",
        "plt.show()"
      ],
      "metadata": {
        "colab": {
          "base_uri": "https://localhost:8080/",
          "height": 430
        },
        "id": "V-J3lmx5UMmc",
        "outputId": "8bbb7d8f-e338-4149-ca62-04cf4b4b56ea"
      },
      "id": "V-J3lmx5UMmc",
      "execution_count": 69,
      "outputs": [
        {
          "output_type": "display_data",
          "data": {
            "text/plain": [
              "<Figure size 640x480 with 2 Axes>"
            ],
            "image/png": "[encoded data removed]"
          },
          "metadata": {}
        }
      ]
    }
  ],
  "metadata": {
    "kernelspec": {
      "display_name": "Python 3",
      "name": "python3"
    },
    "language_info": {
      "codemirror_mode": {
        "name": "ipython",
        "version": 3
      },
      "file_extension": ".py",
      "mimetype": "text/x-python",
      "name": "python",
      "nbconvert_exporter": "python",
      "pygments_lexer": "ipython3",
      "version": "3.12.7"
    },
    "colab": {
      "provenance": [],
      "toc_visible": true,
      "gpuType": "T4",
      "include_colab_link": true
    },
    "accelerator": "GPU"
  },
  "nbformat": 4,
  "nbformat_minor": 5
}