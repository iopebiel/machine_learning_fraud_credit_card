{
  "cells": [
    {
      "cell_type": "markdown",
      "metadata": {
        "id": "view-in-github",
        "colab_type": "text"
      },
      "source": [
        "<a href=\"https://colab.research.google.com/github/iopebiel/modelo_fraudes_em_cartao/blob/main/regress%C3%A3o_log%C3%ADstica.ipynb\" target=\"_parent\"><img src=\"https://colab.research.google.com/assets/colab-badge.svg\" alt=\"Open In Colab\"/></a>"
      ]
    },
    {
      "cell_type": "code",
      "execution_count": 4,
      "metadata": {
        "colab": {
          "base_uri": "https://localhost:8080/"
        },
        "id": "6u0d7udHDdcH",
        "outputId": "80330391-3271-4e2b-dd97-f18cec4ddbe2"
      },
      "outputs": [
        {
          "output_type": "stream",
          "name": "stdout",
          "text": [
            "Requirement already satisfied: imblearn in /usr/local/lib/python3.11/dist-packages (0.0)\n",
            "Requirement already satisfied: imbalanced-learn in /usr/local/lib/python3.11/dist-packages (from imblearn) (0.13.0)\n",
            "Requirement already satisfied: numpy<3,>=1.24.3 in /usr/local/lib/python3.11/dist-packages (from imbalanced-learn->imblearn) (2.0.2)\n",
            "Requirement already satisfied: scipy<2,>=1.10.1 in /usr/local/lib/python3.11/dist-packages (from imbalanced-learn->imblearn) (1.15.2)\n",
            "Requirement already satisfied: scikit-learn<2,>=1.3.2 in /usr/local/lib/python3.11/dist-packages (from imbalanced-learn->imblearn) (1.6.1)\n",
            "Requirement already satisfied: sklearn-compat<1,>=0.1 in /usr/local/lib/python3.11/dist-packages (from imbalanced-learn->imblearn) (0.1.3)\n",
            "Requirement already satisfied: joblib<2,>=1.1.1 in /usr/local/lib/python3.11/dist-packages (from imbalanced-learn->imblearn) (1.4.2)\n",
            "Requirement already satisfied: threadpoolctl<4,>=2.0.0 in /usr/local/lib/python3.11/dist-packages (from imbalanced-learn->imblearn) (3.6.0)\n"
          ]
        }
      ],
      "source": [
        "!pip install imblearn\n",
        "import pandas as pd\n",
        "import seaborn as sn\n",
        "import kagglehub as kh\n",
        "import os\n",
        "from kagglehub import KaggleDatasetAdapter\n",
        "from sklearn.model_selection import train_test_split\n",
        "from collections import Counter\n",
        "from imblearn.over_sampling import SMOTE\n",
        "from cuml.linear_model import LogisticRegression as cuLogisticRegression\n",
        "from sklearn.linear_model import LogisticRegression\n",
        "from sklearn.metrics import confusion_matrix, accuracy_score, precision_score, recall_score, f1_score\n",
        "import matplotlib.pyplot as plt"
      ],
      "id": "6u0d7udHDdcH"
    },
    {
      "cell_type": "code",
      "source": [
        "path = kh.dataset_download(\"mlg-ulb/creditcardfraud\")\n",
        "\n",
        "print(\"Path to dataset files:\", path)\n",
        "os.listdir(path)"
      ],
      "metadata": {
        "colab": {
          "base_uri": "https://localhost:8080/"
        },
        "id": "-b0wCo2O7oFT",
        "outputId": "d7ccd6c9-43ff-4651-ebd6-d4b14c40ee6b"
      },
      "id": "-b0wCo2O7oFT",
      "execution_count": 5,
      "outputs": [
        {
          "output_type": "stream",
          "name": "stdout",
          "text": [
            "Path to dataset files: /kaggle/input/creditcardfraud\n"
          ]
        },
        {
          "output_type": "execute_result",
          "data": {
            "text/plain": [
              "['creditcard.csv']"
            ]
          },
          "metadata": {},
          "execution_count": 5
        }
      ]
    },
    {
      "cell_type": "code",
      "source": [
        "data = pd.read_csv(\"../kaggle/input/creditcardfraud/creditcard.csv\")\n",
        "data.tail()"
      ],
      "metadata": {
        "colab": {
          "base_uri": "https://localhost:8080/",
          "height": 255
        },
        "id": "jmeNj-g27uhL",
        "outputId": "9335b0c6-8c2f-425c-8959-ebb6f52bb61b"
      },
      "id": "jmeNj-g27uhL",
      "execution_count": 6,
      "outputs": [
        {
          "output_type": "execute_result",
          "data": {
            "text/plain": [
              "            Time         V1         V2        V3        V4        V5  \\\n",
              "284802  172786.0 -11.881118  10.071785 -9.834783 -2.066656 -5.364473   \n",
              "284803  172787.0  -0.732789  -0.055080  2.035030 -0.738589  0.868229   \n",
              "284804  172788.0   1.919565  -0.301254 -3.249640 -0.557828  2.630515   \n",
              "284805  172788.0  -0.240440   0.530483  0.702510  0.689799 -0.377961   \n",
              "284806  172792.0  -0.533413  -0.189733  0.703337 -0.506271 -0.012546   \n",
              "\n",
              "              V6        V7        V8        V9  ...       V21       V22  \\\n",
              "284802 -2.606837 -4.918215  7.305334  1.914428  ...  0.213454  0.111864   \n",
              "284803  1.058415  0.024330  0.294869  0.584800  ...  0.214205  0.924384   \n",
              "284804  3.031260 -0.296827  0.708417  0.432454  ...  0.232045  0.578229   \n",
              "284805  0.623708 -0.686180  0.679145  0.392087  ...  0.265245  0.800049   \n",
              "284806 -0.649617  1.577006 -0.414650  0.486180  ...  0.261057  0.643078   \n",
              "\n",
              "             V23       V24       V25       V26       V27       V28  Amount  \\\n",
              "284802  1.014480 -0.509348  1.436807  0.250034  0.943651  0.823731    0.77   \n",
              "284803  0.012463 -1.016226 -0.606624 -0.395255  0.068472 -0.053527   24.79   \n",
              "284804 -0.037501  0.640134  0.265745 -0.087371  0.004455 -0.026561   67.88   \n",
              "284805 -0.163298  0.123205 -0.569159  0.546668  0.108821  0.104533   10.00   \n",
              "284806  0.376777  0.008797 -0.473649 -0.818267 -0.002415  0.013649  217.00   \n",
              "\n",
              "        Class  \n",
              "284802      0  \n",
              "284803      0  \n",
              "284804      0  \n",
              "284805      0  \n",
              "284806      0  \n",
              "\n",
              "[5 rows x 31 columns]"
            ],
            "text/html": [
              "\n",
              "  <div id=\"df-5abb2d37-44ff-4ebb-a90f-7e389e3cad09\" class=\"colab-df-container\">\n",
              "    <div>\n",
              "<style scoped>\n",
              "    .dataframe tbody tr th:only-of-type {\n",
              "        vertical-align: middle;\n",
              "    }\n",
              "\n",
              "    .dataframe tbody tr th {\n",
              "        vertical-align: top;\n",
              "    }\n",
              "\n",
              "    .dataframe thead th {\n",
              "        text-align: right;\n",
              "    }\n",
              "</style>\n",
              "<table border=\"1\" class=\"dataframe\">\n",
              "  <thead>\n",
              "    <tr style=\"text-align: right;\">\n",
              "      <th></th>\n",
              "      <th>Time</th>\n",
              "      <th>V1</th>\n",
              "      <th>V2</th>\n",
              "      <th>V3</th>\n",
              "      <th>V4</th>\n",
              "      <th>V5</th>\n",
              "      <th>V6</th>\n",
              "      <th>V7</th>\n",
              "      <th>V8</th>\n",
              "      <th>V9</th>\n",
              "      <th>...</th>\n",
              "      <th>V21</th>\n",
              "      <th>V22</th>\n",
              "      <th>V23</th>\n",
              "      <th>V24</th>\n",
              "      <th>V25</th>\n",
              "      <th>V26</th>\n",
              "      <th>V27</th>\n",
              "      <th>V28</th>\n",
              "      <th>Amount</th>\n",
              "      <th>Class</th>\n",
              "    </tr>\n",
              "  </thead>\n",
              "  <tbody>\n",
              "    <tr>\n",
              "      <th>284802</th>\n",
              "      <td>172786.0</td>\n",
              "      <td>-11.881118</td>\n",
              "      <td>10.071785</td>\n",
              "      <td>-9.834783</td>\n",
              "      <td>-2.066656</td>\n",
              "      <td>-5.364473</td>\n",
              "      <td>-2.606837</td>\n",
              "      <td>-4.918215</td>\n",
              "      <td>7.305334</td>\n",
              "      <td>1.914428</td>\n",
              "      <td>...</td>\n",
              "      <td>0.213454</td>\n",
              "      <td>0.111864</td>\n",
              "      <td>1.014480</td>\n",
              "      <td>-0.509348</td>\n",
              "      <td>1.436807</td>\n",
              "      <td>0.250034</td>\n",
              "      <td>0.943651</td>\n",
              "      <td>0.823731</td>\n",
              "      <td>0.77</td>\n",
              "      <td>0</td>\n",
              "    </tr>\n",
              "    <tr>\n",
              "      <th>284803</th>\n",
              "      <td>172787.0</td>\n",
              "      <td>-0.732789</td>\n",
              "      <td>-0.055080</td>\n",
              "      <td>2.035030</td>\n",
              "      <td>-0.738589</td>\n",
              "      <td>0.868229</td>\n",
              "      <td>1.058415</td>\n",
              "      <td>0.024330</td>\n",
              "      <td>0.294869</td>\n",
              "      <td>0.584800</td>\n",
              "      <td>...</td>\n",
              "      <td>0.214205</td>\n",
              "      <td>0.924384</td>\n",
              "      <td>0.012463</td>\n",
              "      <td>-1.016226</td>\n",
              "      <td>-0.606624</td>\n",
              "      <td>-0.395255</td>\n",
              "      <td>0.068472</td>\n",
              "      <td>-0.053527</td>\n",
              "      <td>24.79</td>\n",
              "      <td>0</td>\n",
              "    </tr>\n",
              "    <tr>\n",
              "      <th>284804</th>\n",
              "      <td>172788.0</td>\n",
              "      <td>1.919565</td>\n",
              "      <td>-0.301254</td>\n",
              "      <td>-3.249640</td>\n",
              "      <td>-0.557828</td>\n",
              "      <td>2.630515</td>\n",
              "      <td>3.031260</td>\n",
              "      <td>-0.296827</td>\n",
              "      <td>0.708417</td>\n",
              "      <td>0.432454</td>\n",
              "      <td>...</td>\n",
              "      <td>0.232045</td>\n",
              "      <td>0.578229</td>\n",
              "      <td>-0.037501</td>\n",
              "      <td>0.640134</td>\n",
              "      <td>0.265745</td>\n",
              "      <td>-0.087371</td>\n",
              "      <td>0.004455</td>\n",
              "      <td>-0.026561</td>\n",
              "      <td>67.88</td>\n",
              "      <td>0</td>\n",
              "    </tr>\n",
              "    <tr>\n",
              "      <th>284805</th>\n",
              "      <td>172788.0</td>\n",
              "      <td>-0.240440</td>\n",
              "      <td>0.530483</td>\n",
              "      <td>0.702510</td>\n",
              "      <td>0.689799</td>\n",
              "      <td>-0.377961</td>\n",
              "      <td>0.623708</td>\n",
              "      <td>-0.686180</td>\n",
              "      <td>0.679145</td>\n",
              "      <td>0.392087</td>\n",
              "      <td>...</td>\n",
              "      <td>0.265245</td>\n",
              "      <td>0.800049</td>\n",
              "      <td>-0.163298</td>\n",
              "      <td>0.123205</td>\n",
              "      <td>-0.569159</td>\n",
              "      <td>0.546668</td>\n",
              "      <td>0.108821</td>\n",
              "      <td>0.104533</td>\n",
              "      <td>10.00</td>\n",
              "      <td>0</td>\n",
              "    </tr>\n",
              "    <tr>\n",
              "      <th>284806</th>\n",
              "      <td>172792.0</td>\n",
              "      <td>-0.533413</td>\n",
              "      <td>-0.189733</td>\n",
              "      <td>0.703337</td>\n",
              "      <td>-0.506271</td>\n",
              "      <td>-0.012546</td>\n",
              "      <td>-0.649617</td>\n",
              "      <td>1.577006</td>\n",
              "      <td>-0.414650</td>\n",
              "      <td>0.486180</td>\n",
              "      <td>...</td>\n",
              "      <td>0.261057</td>\n",
              "      <td>0.643078</td>\n",
              "      <td>0.376777</td>\n",
              "      <td>0.008797</td>\n",
              "      <td>-0.473649</td>\n",
              "      <td>-0.818267</td>\n",
              "      <td>-0.002415</td>\n",
              "      <td>0.013649</td>\n",
              "      <td>217.00</td>\n",
              "      <td>0</td>\n",
              "    </tr>\n",
              "  </tbody>\n",
              "</table>\n",
              "<p>5 rows × 31 columns</p>\n",
              "</div>\n",
              "    <div class=\"colab-df-buttons\">\n",
              "\n",
              "  <div class=\"colab-df-container\">\n",
              "    <button class=\"colab-df-convert\" onclick=\"convertToInteractive('df-5abb2d37-44ff-4ebb-a90f-7e389e3cad09')\"\n",
              "            title=\"Convert this dataframe to an interactive table.\"\n",
              "            style=\"display:none;\">\n",
              "\n",
              "  <svg xmlns=\"http://www.w3.org/2000/svg\" height=\"24px\" viewBox=\"0 -960 960 960\">\n",
              "    <path d=\"M120-120v-720h720v720H120Zm60-500h600v-160H180v160Zm220 220h160v-160H400v160Zm0 220h160v-160H400v160ZM180-400h160v-160H180v160Zm440 0h160v-160H620v160ZM180-180h160v-160H180v160Zm440 0h160v-160H620v160Z\"/>\n",
              "  </svg>\n",
              "    </button>\n",
              "\n",
              "  <style>\n",
              "    .colab-df-container {\n",
              "      display:flex;\n",
              "      gap: 12px;\n",
              "    }\n",
              "\n",
              "    .colab-df-convert {\n",
              "      background-color: #E8F0FE;\n",
              "      border: none;\n",
              "      border-radius: 50%;\n",
              "      cursor: pointer;\n",
              "      display: none;\n",
              "      fill: #1967D2;\n",
              "      height: 32px;\n",
              "      padding: 0 0 0 0;\n",
              "      width: 32px;\n",
              "    }\n",
              "\n",
              "    .colab-df-convert:hover {\n",
              "      background-color: #E2EBFA;\n",
              "      box-shadow: 0px 1px 2px rgba(60, 64, 67, 0.3), 0px 1px 3px 1px rgba(60, 64, 67, 0.15);\n",
              "      fill: #174EA6;\n",
              "    }\n",
              "\n",
              "    .colab-df-buttons div {\n",
              "      margin-bottom: 4px;\n",
              "    }\n",
              "\n",
              "    [theme=dark] .colab-df-convert {\n",
              "      background-color: #3B4455;\n",
              "      fill: #D2E3FC;\n",
              "    }\n",
              "\n",
              "    [theme=dark] .colab-df-convert:hover {\n",
              "      background-color: #434B5C;\n",
              "      box-shadow: 0px 1px 3px 1px rgba(0, 0, 0, 0.15);\n",
              "      filter: drop-shadow(0px 1px 2px rgba(0, 0, 0, 0.3));\n",
              "      fill: #FFFFFF;\n",
              "    }\n",
              "  </style>\n",
              "\n",
              "    <script>\n",
              "      const buttonEl =\n",
              "        document.querySelector('#df-5abb2d37-44ff-4ebb-a90f-7e389e3cad09 button.colab-df-convert');\n",
              "      buttonEl.style.display =\n",
              "        google.colab.kernel.accessAllowed ? 'block' : 'none';\n",
              "\n",
              "      async function convertToInteractive(key) {\n",
              "        const element = document.querySelector('#df-5abb2d37-44ff-4ebb-a90f-7e389e3cad09');\n",
              "        const dataTable =\n",
              "          await google.colab.kernel.invokeFunction('convertToInteractive',\n",
              "                                                    [key], {});\n",
              "        if (!dataTable) return;\n",
              "\n",
              "        const docLinkHtml = 'Like what you see? Visit the ' +\n",
              "          '<a target=\"_blank\" href=https://colab.research.google.com/notebooks/data_table.ipynb>data table notebook</a>'\n",
              "          + ' to learn more about interactive tables.';\n",
              "        element.innerHTML = '';\n",
              "        dataTable['output_type'] = 'display_data';\n",
              "        await google.colab.output.renderOutput(dataTable, element);\n",
              "        const docLink = document.createElement('div');\n",
              "        docLink.innerHTML = docLinkHtml;\n",
              "        element.appendChild(docLink);\n",
              "      }\n",
              "    </script>\n",
              "  </div>\n",
              "\n",
              "\n",
              "    <div id=\"df-b663e10d-2fec-4a4a-adab-f267d82897b4\">\n",
              "      <button class=\"colab-df-quickchart\" onclick=\"quickchart('df-b663e10d-2fec-4a4a-adab-f267d82897b4')\"\n",
              "                title=\"Suggest charts\"\n",
              "                style=\"display:none;\">\n",
              "\n",
              "<svg xmlns=\"http://www.w3.org/2000/svg\" height=\"24px\"viewBox=\"0 0 24 24\"\n",
              "     width=\"24px\">\n",
              "    <g>\n",
              "        <path d=\"M19 3H5c-1.1 0-2 .9-2 2v14c0 1.1.9 2 2 2h14c1.1 0 2-.9 2-2V5c0-1.1-.9-2-2-2zM9 17H7v-7h2v7zm4 0h-2V7h2v10zm4 0h-2v-4h2v4z\"/>\n",
              "    </g>\n",
              "</svg>\n",
              "      </button>\n",
              "\n",
              "<style>\n",
              "  .colab-df-quickchart {\n",
              "      --bg-color: #E8F0FE;\n",
              "      --fill-color: #1967D2;\n",
              "      --hover-bg-color: #E2EBFA;\n",
              "      --hover-fill-color: #174EA6;\n",
              "      --disabled-fill-color: #AAA;\n",
              "      --disabled-bg-color: #DDD;\n",
              "  }\n",
              "\n",
              "  [theme=dark] .colab-df-quickchart {\n",
              "      --bg-color: #3B4455;\n",
              "      --fill-color: #D2E3FC;\n",
              "      --hover-bg-color: #434B5C;\n",
              "      --hover-fill-color: #FFFFFF;\n",
              "      --disabled-bg-color: #3B4455;\n",
              "      --disabled-fill-color: #666;\n",
              "  }\n",
              "\n",
              "  .colab-df-quickchart {\n",
              "    background-color: var(--bg-color);\n",
              "    border: none;\n",
              "    border-radius: 50%;\n",
              "    cursor: pointer;\n",
              "    display: none;\n",
              "    fill: var(--fill-color);\n",
              "    height: 32px;\n",
              "    padding: 0;\n",
              "    width: 32px;\n",
              "  }\n",
              "\n",
              "  .colab-df-quickchart:hover {\n",
              "    background-color: var(--hover-bg-color);\n",
              "    box-shadow: 0 1px 2px rgba(60, 64, 67, 0.3), 0 1px 3px 1px rgba(60, 64, 67, 0.15);\n",
              "    fill: var(--button-hover-fill-color);\n",
              "  }\n",
              "\n",
              "  .colab-df-quickchart-complete:disabled,\n",
              "  .colab-df-quickchart-complete:disabled:hover {\n",
              "    background-color: var(--disabled-bg-color);\n",
              "    fill: var(--disabled-fill-color);\n",
              "    box-shadow: none;\n",
              "  }\n",
              "\n",
              "  .colab-df-spinner {\n",
              "    border: 2px solid var(--fill-color);\n",
              "    border-color: transparent;\n",
              "    border-bottom-color: var(--fill-color);\n",
              "    animation:\n",
              "      spin 1s steps(1) infinite;\n",
              "  }\n",
              "\n",
              "  @keyframes spin {\n",
              "    0% {\n",
              "      border-color: transparent;\n",
              "      border-bottom-color: var(--fill-color);\n",
              "      border-left-color: var(--fill-color);\n",
              "    }\n",
              "    20% {\n",
              "      border-color: transparent;\n",
              "      border-left-color: var(--fill-color);\n",
              "      border-top-color: var(--fill-color);\n",
              "    }\n",
              "    30% {\n",
              "      border-color: transparent;\n",
              "      border-left-color: var(--fill-color);\n",
              "      border-top-color: var(--fill-color);\n",
              "      border-right-color: var(--fill-color);\n",
              "    }\n",
              "    40% {\n",
              "      border-color: transparent;\n",
              "      border-right-color: var(--fill-color);\n",
              "      border-top-color: var(--fill-color);\n",
              "    }\n",
              "    60% {\n",
              "      border-color: transparent;\n",
              "      border-right-color: var(--fill-color);\n",
              "    }\n",
              "    80% {\n",
              "      border-color: transparent;\n",
              "      border-right-color: var(--fill-color);\n",
              "      border-bottom-color: var(--fill-color);\n",
              "    }\n",
              "    90% {\n",
              "      border-color: transparent;\n",
              "      border-bottom-color: var(--fill-color);\n",
              "    }\n",
              "  }\n",
              "</style>\n",
              "\n",
              "      <script>\n",
              "        async function quickchart(key) {\n",
              "          const quickchartButtonEl =\n",
              "            document.querySelector('#' + key + ' button');\n",
              "          quickchartButtonEl.disabled = true;  // To prevent multiple clicks.\n",
              "          quickchartButtonEl.classList.add('colab-df-spinner');\n",
              "          try {\n",
              "            const charts = await google.colab.kernel.invokeFunction(\n",
              "                'suggestCharts', [key], {});\n",
              "          } catch (error) {\n",
              "            console.error('Error during call to suggestCharts:', error);\n",
              "          }\n",
              "          quickchartButtonEl.classList.remove('colab-df-spinner');\n",
              "          quickchartButtonEl.classList.add('colab-df-quickchart-complete');\n",
              "        }\n",
              "        (() => {\n",
              "          let quickchartButtonEl =\n",
              "            document.querySelector('#df-b663e10d-2fec-4a4a-adab-f267d82897b4 button');\n",
              "          quickchartButtonEl.style.display =\n",
              "            google.colab.kernel.accessAllowed ? 'block' : 'none';\n",
              "        })();\n",
              "      </script>\n",
              "    </div>\n",
              "\n",
              "    </div>\n",
              "  </div>\n"
            ],
            "application/vnd.google.colaboratory.intrinsic+json": {
              "type": "dataframe"
            }
          },
          "metadata": {},
          "execution_count": 6
        }
      ]
    },
    {
      "cell_type": "markdown",
      "source": [
        "## Pré processamento dos dados"
      ],
      "metadata": {
        "id": "SjeQ6i7xu0T6"
      },
      "id": "SjeQ6i7xu0T6"
    },
    {
      "cell_type": "code",
      "execution_count": 7,
      "id": "2c0be83a-5c4e-4492-a4e9-4bb1c9cb2921",
      "metadata": {
        "colab": {
          "base_uri": "https://localhost:8080/"
        },
        "id": "2c0be83a-5c4e-4492-a4e9-4bb1c9cb2921",
        "outputId": "9d3a5f55-4126-4cb4-b685-ffac8f672758"
      },
      "outputs": [
        {
          "output_type": "stream",
          "name": "stdout",
          "text": [
            "Fraude: 492\n",
            "Normal: 284315\n"
          ]
        }
      ],
      "source": [
        "number_of_fraud = len(data[data.Class == 1])\n",
        "number_of_normal= len(data[data.Class == 0])\n",
        "\n",
        "print (\"Fraude:\", number_of_fraud)\n",
        "print (\"Normal:\",number_of_normal)"
      ]
    },
    {
      "cell_type": "code",
      "source": [
        "X = data.drop(\"Class\", axis=1)\n",
        "y = data[\"Class\"]\n",
        "X_train, X_test, y_train, y_test = train_test_split(X, y, test_size=0.3, stratify=y, random_state=42)"
      ],
      "metadata": {
        "id": "sscK35_m71nC"
      },
      "id": "sscK35_m71nC",
      "execution_count": 8,
      "outputs": []
    },
    {
      "cell_type": "code",
      "source": [
        "counter = Counter(y_train)\n",
        "print('Antes do SMOTE:', counter)"
      ],
      "metadata": {
        "colab": {
          "base_uri": "https://localhost:8080/"
        },
        "id": "8Cmpxlvt74Ub",
        "outputId": "28668c4f-59f2-46d6-819a-99f4e334c7c6"
      },
      "id": "8Cmpxlvt74Ub",
      "execution_count": 9,
      "outputs": [
        {
          "output_type": "stream",
          "name": "stdout",
          "text": [
            "Antes do SMOTE: Counter({0: 199020, 1: 344})\n"
          ]
        }
      ]
    },
    {
      "cell_type": "code",
      "source": [
        "smt = SMOTE(random_state=42)\n",
        "X_train_sm, y_train_sm = smt.fit_resample(X_train, y_train)"
      ],
      "metadata": {
        "id": "VZOD0stm77O7"
      },
      "id": "VZOD0stm77O7",
      "execution_count": 10,
      "outputs": []
    },
    {
      "cell_type": "code",
      "source": [
        "counter = Counter(y_train_sm)\n",
        "print('Depois do SMOTE:', counter)"
      ],
      "metadata": {
        "colab": {
          "base_uri": "https://localhost:8080/"
        },
        "id": "yDlOD9D378m6",
        "outputId": "55a57a95-08c1-4c8b-b007-734800528cde"
      },
      "id": "yDlOD9D378m6",
      "execution_count": 11,
      "outputs": [
        {
          "output_type": "stream",
          "name": "stdout",
          "text": [
            "Depois do SMOTE: Counter({0: 199020, 1: 199020})\n"
          ]
        }
      ]
    },
    {
      "cell_type": "markdown",
      "source": [
        "## **MODELO 1**"
      ],
      "metadata": {
        "id": "lc5oKPsiu9In"
      },
      "id": "lc5oKPsiu9In"
    },
    {
      "cell_type": "code",
      "execution_count": null,
      "id": "119eff53-a10b-4453-8e1a-5e8df48af2e3",
      "metadata": {
        "id": "119eff53-a10b-4453-8e1a-5e8df48af2e3"
      },
      "outputs": [],
      "source": [
        "logistic_regression = LogisticRegression(solver='saga', max_iter=10000) #Quanto maior o número de iterações, melhor o resultado\n",
        "logistic_regression.fit(X_train_sm,y_train_sm)\n",
        "y_pred_rl = logistic_regression.predict(X_train_sm)"
      ]
    },
    {
      "cell_type": "code",
      "execution_count": null,
      "id": "3d47929c-6d4e-47f1-8a20-89fdcc0eb092",
      "metadata": {
        "scrolled": true,
        "id": "3d47929c-6d4e-47f1-8a20-89fdcc0eb092"
      },
      "outputs": [],
      "source": [
        "dft = pd.DataFrame(data = X_test)\n",
        "print(dft)\n",
        "resultado_rl = logistic_regression.predict(dft)"
      ]
    },
    {
      "cell_type": "code",
      "source": [
        "cf_matrix = confusion_matrix(y_train_sm, y_pred_rl)\n",
        "sn.heatmap(cf_matrix, cmap='coolwarm', annot=True, linewidth=1, fmt='d')\n",
        "plt.xlabel('Expected')\n",
        "plt.ylabel('Predicted')\n",
        "plt.show()"
      ],
      "metadata": {
        "id": "zoYdlHGoAb5m",
        "colab": {
          "base_uri": "https://localhost:8080/",
          "height": 176
        },
        "outputId": "f034c318-5147-4434-952a-644d061a43c4"
      },
      "id": "zoYdlHGoAb5m",
      "execution_count": null,
      "outputs": [
        {
          "output_type": "error",
          "ename": "NameError",
          "evalue": "name 'y_pred_rl' is not defined",
          "traceback": [
            "\u001b[0;31m---------------------------------------------------------------------------\u001b[0m",
            "\u001b[0;31mNameError\u001b[0m                                 Traceback (most recent call last)",
            "\u001b[0;32m<ipython-input-17-29c284b2bf8d>\u001b[0m in \u001b[0;36m<cell line: 0>\u001b[0;34m()\u001b[0m\n\u001b[0;32m----> 1\u001b[0;31m \u001b[0mcf_matrix\u001b[0m \u001b[0;34m=\u001b[0m \u001b[0mconfusion_matrix\u001b[0m\u001b[0;34m(\u001b[0m\u001b[0my_train_sm\u001b[0m\u001b[0;34m,\u001b[0m \u001b[0my_pred_rl\u001b[0m\u001b[0;34m)\u001b[0m\u001b[0;34m\u001b[0m\u001b[0;34m\u001b[0m\u001b[0m\n\u001b[0m\u001b[1;32m      2\u001b[0m \u001b[0msn\u001b[0m\u001b[0;34m.\u001b[0m\u001b[0mheatmap\u001b[0m\u001b[0;34m(\u001b[0m\u001b[0mcf_matrix\u001b[0m\u001b[0;34m,\u001b[0m \u001b[0mcmap\u001b[0m\u001b[0;34m=\u001b[0m\u001b[0;34m'coolwarm'\u001b[0m\u001b[0;34m,\u001b[0m \u001b[0mannot\u001b[0m\u001b[0;34m=\u001b[0m\u001b[0;32mTrue\u001b[0m\u001b[0;34m,\u001b[0m \u001b[0mlinewidth\u001b[0m\u001b[0;34m=\u001b[0m\u001b[0;36m1\u001b[0m\u001b[0;34m,\u001b[0m \u001b[0mfmt\u001b[0m\u001b[0;34m=\u001b[0m\u001b[0;34m'd'\u001b[0m\u001b[0;34m)\u001b[0m\u001b[0;34m\u001b[0m\u001b[0;34m\u001b[0m\u001b[0m\n\u001b[1;32m      3\u001b[0m \u001b[0mplt\u001b[0m\u001b[0;34m.\u001b[0m\u001b[0mshow\u001b[0m\u001b[0;34m(\u001b[0m\u001b[0;34m)\u001b[0m\u001b[0;34m\u001b[0m\u001b[0;34m\u001b[0m\u001b[0m\n",
            "\u001b[0;31mNameError\u001b[0m: name 'y_pred_rl' is not defined"
          ]
        }
      ]
    },
    {
      "cell_type": "markdown",
      "source": [
        "### **Matriz de confusão**\n",
        "![download.png](data:image/png;base64,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)\n",
        "\n",
        "max_iter=6000"
      ],
      "metadata": {
        "id": "bs_MyAHF8pp2"
      },
      "id": "bs_MyAHF8pp2"
    },
    {
      "cell_type": "code",
      "execution_count": null,
      "id": "da0aed7e-eb82-4051-a60b-ec5644c95187",
      "metadata": {
        "colab": {
          "base_uri": "https://localhost:8080/",
          "height": 211
        },
        "id": "da0aed7e-eb82-4051-a60b-ec5644c95187",
        "outputId": "2dc6359b-03fd-4b17-b3e6-7daac8773fa1"
      },
      "outputs": [
        {
          "output_type": "error",
          "ename": "NameError",
          "evalue": "name 'y_pred_rl' is not defined",
          "traceback": [
            "\u001b[0;31m---------------------------------------------------------------------------\u001b[0m",
            "\u001b[0;31mNameError\u001b[0m                                 Traceback (most recent call last)",
            "\u001b[0;32m<ipython-input-16-40a3c9c74a2b>\u001b[0m in \u001b[0;36m<cell line: 0>\u001b[0;34m()\u001b[0m\n\u001b[1;32m      2\u001b[0m \u001b[0;32mfrom\u001b[0m \u001b[0msklearn\u001b[0m\u001b[0;34m.\u001b[0m\u001b[0mmetrics\u001b[0m \u001b[0;32mimport\u001b[0m \u001b[0mrecall_score\u001b[0m\u001b[0;34m\u001b[0m\u001b[0;34m\u001b[0m\u001b[0m\n\u001b[1;32m      3\u001b[0m \u001b[0;32mfrom\u001b[0m \u001b[0msklearn\u001b[0m\u001b[0;34m.\u001b[0m\u001b[0mmetrics\u001b[0m \u001b[0;32mimport\u001b[0m \u001b[0mf1_score\u001b[0m\u001b[0;34m\u001b[0m\u001b[0;34m\u001b[0m\u001b[0m\n\u001b[0;32m----> 4\u001b[0;31m \u001b[0mprint\u001b[0m\u001b[0;34m(\u001b[0m\u001b[0;34m'Acurracy: '\u001b[0m\u001b[0;34m,\u001b[0m \u001b[0maccuracy_score\u001b[0m\u001b[0;34m(\u001b[0m\u001b[0my_train_sm\u001b[0m\u001b[0;34m,\u001b[0m \u001b[0my_pred_rl\u001b[0m\u001b[0;34m)\u001b[0m\u001b[0;34m)\u001b[0m\u001b[0;34m\u001b[0m\u001b[0;34m\u001b[0m\u001b[0m\n\u001b[0m\u001b[1;32m      5\u001b[0m \u001b[0mplt\u001b[0m\u001b[0;34m.\u001b[0m\u001b[0mshow\u001b[0m\u001b[0;34m(\u001b[0m\u001b[0;34m)\u001b[0m\u001b[0;34m\u001b[0m\u001b[0;34m\u001b[0m\u001b[0m\n\u001b[1;32m      6\u001b[0m \u001b[0mprint\u001b[0m\u001b[0;34m(\u001b[0m\u001b[0;34m'Precisão:'\u001b[0m\u001b[0;34m,\u001b[0m \u001b[0mprecision_score\u001b[0m\u001b[0;34m(\u001b[0m\u001b[0my_train_sm\u001b[0m\u001b[0;34m,\u001b[0m \u001b[0my_pred_rl\u001b[0m\u001b[0;34m)\u001b[0m\u001b[0;34m)\u001b[0m\u001b[0;34m\u001b[0m\u001b[0;34m\u001b[0m\u001b[0m\n",
            "\u001b[0;31mNameError\u001b[0m: name 'y_pred_rl' is not defined"
          ]
        }
      ],
      "source": [
        "print('Acurracy: ', accuracy_score(y_train_sm, y_pred_rl))\n",
        "plt.show()\n",
        "print('Precisão:', precision_score(y_train_sm, y_pred_rl))\n",
        "plt.show()\n",
        "print('Recall: ', recall_score(y_train_sm, y_pred_rl))\n",
        "plt.show()\n",
        "print('F1 Score: ', f1_score(y_train_sm, y_pred_rl))\n",
        "plt.show()"
      ]
    },
    {
      "cell_type": "code",
      "execution_count": null,
      "id": "c99a03dd-2817-47ff-9e57-fdec66d92ccc",
      "metadata": {
        "colab": {
          "base_uri": "https://localhost:8080/",
          "height": 430
        },
        "id": "c99a03dd-2817-47ff-9e57-fdec66d92ccc",
        "outputId": "a5fd4c58-38fe-43ad-8f1a-10e84a64170e"
      },
      "outputs": [
        {
          "output_type": "display_data",
          "data": {
            "text/plain": [
              "<Figure size 640x480 with 2 Axes>"
            ],
            "image/png": "[encoded data removed]"
          },
          "metadata": {}
        }
      ],
      "source": [
        "cf_matrix = confusion_matrix(y_test, resultado_rl)\n",
        "sn.heatmap(cf_matrix, cmap='coolwarm', annot=True, linewidth=1, fmt='d')\n",
        "plt.xlabel('Expected')\n",
        "plt.ylabel('Predicted')\n",
        "plt.show()"
      ]
    },
    {
      "cell_type": "code",
      "source": [
        "print('Acurracy: ', accuracy_score(y_test, resultado_rl))\n",
        "plt.show()\n",
        "print('Precisão:', precision_score(y_test, resultado_rl))\n",
        "plt.show()\n",
        "print('Recall: ', recall_score(y_test, resultado_rl))\n",
        "plt.show()\n",
        "print('F1 Score: ', f1_score(y_test, resultado_rl))\n",
        "plt.show()"
      ],
      "metadata": {
        "colab": {
          "base_uri": "https://localhost:8080/"
        },
        "id": "iDR5TECDti_-",
        "outputId": "d57e5d5c-a62b-4a69-ec36-cb263a015559"
      },
      "id": "iDR5TECDti_-",
      "execution_count": null,
      "outputs": [
        {
          "output_type": "stream",
          "name": "stdout",
          "text": [
            "Acurracy:  0.9912222183209859\n",
            "Precisão: 0.9911420272482077\n"
          ]
        }
      ]
    },
    {
      "cell_type": "markdown",
      "source": [
        "## **MODELO 2**"
      ],
      "metadata": {
        "id": "lkUEZrsqu_A9"
      },
      "id": "lkUEZrsqu_A9"
    },
    {
      "cell_type": "code",
      "execution_count": 12,
      "metadata": {
        "id": "j7JfEvwEHfLL"
      },
      "outputs": [],
      "source": [
        "logistic_regression = cuLogisticRegression(max_iter=200, solver='qn')  # qn é equivalente ao saga\n",
        "logistic_regression.fit(X_train_sm, y_train_sm)\n",
        "y_pred_curl = logistic_regression.predict(X_train_sm)"
      ],
      "id": "j7JfEvwEHfLL"
    },
    {
      "cell_type": "code",
      "source": [
        "dft = pd.DataFrame(data = X_test)\n",
        "print(dft)\n",
        "resultado_curl = logistic_regression.predict(dft)"
      ],
      "metadata": {
        "id": "P6eXcyB2UMvn",
        "colab": {
          "base_uri": "https://localhost:8080/"
        },
        "outputId": "845f4cf4-3217-4343-c332-cf2cf5decdf4"
      },
      "id": "P6eXcyB2UMvn",
      "execution_count": 13,
      "outputs": [
        {
          "output_type": "stream",
          "name": "stdout",
          "text": [
            "            Time        V1        V2        V3        V4        V5        V6  \\\n",
            "186882  127294.0 -2.537331  1.890864 -0.840555 -1.102759 -2.105725  0.367811   \n",
            "165754  117632.0 -0.250839  1.104108  0.206089  0.417324  1.204079 -0.350694   \n",
            "235285  148330.0  0.568980 -2.520416 -1.114138  1.670652 -1.128945  0.398822   \n",
            "101271   67778.0  1.328892  0.226908 -0.308968  0.381772  0.238490 -0.282946   \n",
            "5832      6308.0  1.124863 -0.165691  1.337053  1.030033 -0.891116  0.202926   \n",
            "...          ...       ...       ...       ...       ...       ...       ...   \n",
            "64725    51279.0 -1.808185  1.328808 -0.991449 -2.473986  2.185095  3.496806   \n",
            "16688    28048.0 -0.442905  0.716727  1.256775  0.860048  1.210872  1.066390   \n",
            "183868  125990.0  2.092418 -0.931315 -1.553089 -1.131369 -0.197801 -0.373117   \n",
            "45011    42168.0  1.293234  0.097565 -0.209304  0.329036  0.034958 -0.145507   \n",
            "150527   93609.0  2.214016 -0.584030 -1.238673 -0.702993 -0.184492 -0.646248   \n",
            "\n",
            "              V7        V8        V9  ...       V20       V21       V22  \\\n",
            "186882 -2.737844 -3.543314 -0.483147  ... -1.959611  4.328165 -2.167329   \n",
            "165754  1.369769 -0.133535 -0.957100  ... -0.128120  0.133048  0.499501   \n",
            "235285  0.190403  0.161493  0.840595  ...  1.039287  0.318037 -0.760732   \n",
            "101271  0.029460 -0.079962  0.227173  ... -0.050933 -0.379270 -1.148959   \n",
            "5832   -0.825094  0.163280  2.301808  ... -0.196966 -0.216512 -0.195607   \n",
            "...          ...       ...       ...  ...       ...       ...       ...   \n",
            "64725  -1.030373 -1.860286  0.182992  ...  0.745500 -1.441887 -0.020080   \n",
            "16688   0.888914 -0.176599 -0.172991  ...  0.310200 -0.154031  0.271637   \n",
            "183868 -0.390388 -0.119017 -0.702381  ...  0.120353 -0.008183 -0.274004   \n",
            "45011  -0.203271  0.153076  0.217831  ... -0.186409 -0.340111 -1.128741   \n",
            "150527 -0.425560 -0.352428  0.869265  ... -0.033153 -0.182835 -0.224863   \n",
            "\n",
            "             V23       V24       V25       V26       V27       V28  Amount  \n",
            "186882  1.022567 -0.241143 -1.094885 -0.475427 -0.177157 -0.082691   37.40  \n",
            "165754 -0.392572 -0.393364  0.233354 -0.490717  0.143897  0.136810    9.27  \n",
            "235285 -0.181332  0.595866 -0.760920 -1.048927 -0.096970  0.088686  700.00  \n",
            "101271 -0.047403 -1.074464  0.375683  0.182045 -0.031732  0.017501   14.99  \n",
            "5832    0.072785  0.045625  0.135192  0.308617  0.001142  0.017673   17.25  \n",
            "...          ...       ...       ...       ...       ...       ...     ...  \n",
            "64725   0.256883  1.014602 -0.108679  0.672870 -0.701644 -0.338981    0.92  \n",
            "16688  -0.262547 -1.125678  0.019374 -0.233577 -0.013664 -0.274549   13.74  \n",
            "183868  0.214650  0.257477 -0.193262 -0.458271 -0.056360 -0.053928   74.00  \n",
            "45011   0.000733 -0.956668  0.259784  0.158010 -0.044116  0.003539    1.98  \n",
            "150527  0.257899  0.558856 -0.060775 -0.391478 -0.057635 -0.059988   15.90  \n",
            "\n",
            "[85443 rows x 30 columns]\n"
          ]
        }
      ]
    },
    {
      "cell_type": "code",
      "source": [
        "print('Acurracy: ', accuracy_score(y_train_sm, y_pred_curl))\n",
        "plt.show()\n",
        "print('Precisão:', precision_score(y_train_sm, y_pred_curl))\n",
        "plt.show()\n",
        "print('Recall: ', recall_score(y_train_sm, y_pred_curl))\n",
        "plt.show()\n",
        "print('F1 Score: ', f1_score(y_train_sm, y_pred_curl))\n",
        "plt.show()"
      ],
      "metadata": {
        "colab": {
          "base_uri": "https://localhost:8080/"
        },
        "id": "avwUXI3qK1Bz",
        "outputId": "d9128e4d-a652-40aa-88aa-974bab836ec6"
      },
      "id": "avwUXI3qK1Bz",
      "execution_count": 15,
      "outputs": [
        {
          "output_type": "stream",
          "name": "stdout",
          "text": [
            "Acurracy:  0.9743241885237665\n",
            "Precisão: 0.9799088986497478\n",
            "Recall:  0.9685056778213245\n",
            "F1 Score:  0.9741739191962074\n"
          ]
        }
      ]
    },
    {
      "cell_type": "code",
      "source": [
        "cf_matrix = confusion_matrix(y_train_sm, y_pred_curl)\n",
        "sn.heatmap(cf_matrix, cmap='coolwarm', annot=True, linewidth=1, fmt='d')\n",
        "plt.xlabel('Expected')\n",
        "plt.ylabel('Predicted')\n",
        "plt.show()"
      ],
      "metadata": {
        "colab": {
          "base_uri": "https://localhost:8080/",
          "height": 449
        },
        "id": "fJESw7NgULPm",
        "outputId": "bd369e1d-4353-4445-b5a0-9af717ad6389"
      },
      "id": "fJESw7NgULPm",
      "execution_count": 33,
      "outputs": [
        {
          "output_type": "display_data",
          "data": {
            "text/plain": [
              "<Figure size 640x480 with 2 Axes>"
            ],
            "image/png": "[encoded data removed]"
          },
          "metadata": {}
        }
      ]
    },
    {
      "cell_type": "code",
      "source": [
        "print('Acurracy: ', accuracy_score(y_test, resultado_curl))\n",
        "plt.show()\n",
        "print('Precisão:', precision_score(y_test, resultado_curl))\n",
        "plt.show()\n",
        "print('Recall: ', recall_score(y_test, resultado_curl))\n",
        "plt.show()\n",
        "print('F1 Score: ', f1_score(y_test, resultado_curl))\n",
        "plt.show()"
      ],
      "metadata": {
        "colab": {
          "base_uri": "https://localhost:8080/"
        },
        "id": "WqBhn9IVUMSt",
        "outputId": "8335ec1d-f100-4740-c56c-bb3108749daf"
      },
      "id": "WqBhn9IVUMSt",
      "execution_count": 17,
      "outputs": [
        {
          "output_type": "stream",
          "name": "stdout",
          "text": [
            "Acurracy:  0.9798813243916997\n",
            "Precisão: 0.06911684037301152\n",
            "Recall:  0.8513513513513513\n",
            "F1 Score:  0.1278538812785388\n"
          ]
        }
      ]
    },
    {
      "cell_type": "code",
      "source": [
        "cf_matrix = confusion_matrix(y_test, resultado_curl)\n",
        "sn.heatmap(cf_matrix, cmap='coolwarm', annot=True, linewidth=1, fmt='d')\n",
        "plt.xlabel('Expected')\n",
        "plt.ylabel('Predicted')\n",
        "plt.show()"
      ],
      "metadata": {
        "colab": {
          "base_uri": "https://localhost:8080/",
          "height": 449
        },
        "id": "V-J3lmx5UMmc",
        "outputId": "bcbd55d9-6ee8-4cac-d656-1a361c436679"
      },
      "id": "V-J3lmx5UMmc",
      "execution_count": 32,
      "outputs": [
        {
          "output_type": "display_data",
          "data": {
            "text/plain": [
              "<Figure size 640x480 with 2 Axes>"
            ],
            "image/png": "[encoded data removed]"
          },
          "metadata": {}
        }
      ]
    }
  ],
  "metadata": {
    "kernelspec": {
      "display_name": "Python 3",
      "name": "python3"
    },
    "language_info": {
      "codemirror_mode": {
        "name": "ipython",
        "version": 3
      },
      "file_extension": ".py",
      "mimetype": "text/x-python",
      "name": "python",
      "nbconvert_exporter": "python",
      "pygments_lexer": "ipython3",
      "version": "3.12.7"
    },
    "colab": {
      "provenance": [],
      "toc_visible": true,
      "gpuType": "T4",
      "include_colab_link": true
    },
    "accelerator": "GPU"
  },
  "nbformat": 4,
  "nbformat_minor": 5
}