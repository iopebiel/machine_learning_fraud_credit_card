{
  "cells": [
    {
      "cell_type": "markdown",
      "metadata": {
        "id": "8MR-oJbCf_Uc"
      },
      "source": [
        "(FeedForwardNeuralNetworks)=\n",
        "# Feed-forward neural network"
      ]
    },
    {
      "cell_type": "markdown",
      "metadata": {
        "id": "x7K7SaDpf_Ud"
      },
      "source": [
        "As neural networks are a pillar in both the early and the recent advances of artificial intelligence, their use for credit card fraud detection is not surprising. The first examples of simple feed-forward neural networks applied to fraud detection can bring us back to the early 90s {cite}`ghosh1994credit,aleskerov1997cardwatch`. Naturally, in recent FDS studies, neural networks are often found in experimental benchmarks, along with random forests, XGBoost, or logistic regression.\n",
        "\n",
        "At the core of a feed-forward neural network is the artificial neuron, a simple machine learning model that consists of a linear combination of input variables followed by the application of an activation function $\\sigma$ (sigmoid, ReLU, tanh, ...). More precisely, given a list of $n$ input variables $x_i$, the output $h$ of the artificial neuron is computed as follows:\n",
        "\n",
        "$h = \\sigma(\\sum_{i=1}^n w_i*x_i)$\n",
        "\n",
        "where $w_i$ are the weights of the model.\n",
        "\n",
        "A whole network is composed of a succession of layers containing neurons that take, as inputs, the output values of the previous layer.\n",
        "\n",
        "![A feed forward neural network architecture](https://github.com/Fraud-Detection-Handbook/fraud-detection-handbook/blob/main/Chapter_7_DeepLearning/images/neuralnetwork.png?raw=1)\n",
        "\n",
        "When applied to the fraud detection problem, the architecture is designed as follows:\n",
        "\n",
        "* At the beginning of the network, the neurons take as input the characteristics of a credit card transaction, i.e. the features that were defined in the previous chapters.\n",
        "* At the end, the network outputs a single neuron that aims at representing the probability for the input transaction to be a fraud."
      ]
    },
    {
      "cell_type": "markdown",
      "metadata": {
        "id": "LYZ1vxptf_Uf"
      },
      "source": [
        "The rest of the architecture (other layers), the neurons specificity (activation functions), and other hyperparameters (optimization, data processing, ...) are left to the practitioner's choice.\n",
        "\n",
        "The most popular training algorithm for feedforward architectures is backpropagation {cite}`hecht1992theory`. The idea is to iterate over all samples of the dataset and perform two key operations:\n",
        "* the forward pass: setting the sample's features values in the input neurons and computing all the layers to finally obtain a predicted output.\n",
        "* the backward pass: computing a cost function, i.e. a discrepancy between the prediction and the expected ground truth output, and trying to minimize it with an optimizer (e.g. gradient descent) by updating weights layer after layer, from output to input.\n",
        "\n",
        "This section covers the design of a feed-foward neural network for fraud detection. It describes how to:\n",
        "* Implement a first simple neural network and study the impact of several architectures and design choices.\n",
        "* Wrap it to make it compatible with the model selection methodology from Chapter 5 and run a grid-search to select its optimal parameters.\n",
        "* Store the important functions for a final comparison between deep learning techniques and other baselines at the end of the chapter."
      ]
    },
    {
      "cell_type": "markdown",
      "metadata": {
        "id": "GA6yqW-Bf_Ug"
      },
      "source": [
        "Let us first start by importing all the necessary libraries and functions and retrieving the simulated data."
      ]
    },
    {
      "cell_type": "code",
      "execution_count": 1,
      "metadata": {
        "scrolled": true,
        "tags": [
          "hide-cell"
        ],
        "colab": {
          "base_uri": "https://localhost:8080/"
        },
        "id": "CS9Rniocf_Uh",
        "outputId": "be4d27f2-5564-44d7-e7b6-fb1dcc239f6b"
      },
      "outputs": [
        {
          "output_type": "stream",
          "name": "stdout",
          "text": [
            "  % Total    % Received % Xferd  Average Speed   Time    Time     Time  Current\n",
            "                                 Dload  Upload   Total   Spent    Left  Speed\n",
            "100 61418  100 61418    0     0   148k      0 --:--:-- --:--:-- --:--:--  148k\n",
            "Cloning into 'simulated-data-transformed'...\n",
            "remote: Enumerating objects: 189, done.\u001b[K\n",
            "remote: Total 189 (delta 0), reused 0 (delta 0), pack-reused 189 (from 1)\u001b[K\n",
            "Receiving objects: 100% (189/189), 75.79 MiB | 11.38 MiB/s, done.\n",
            "Updating files: 100% (184/184), done.\n"
          ]
        }
      ],
      "source": [
        "# Initialization: Load shared functions and simulated data\n",
        "\n",
        "# Load shared functions\n",
        "!curl -O https://raw.githubusercontent.com/iopebiel/machine_learning_fraud_credit_card/refs/heads/neuralNetworkStudy/Chapter_References/shared_functions.py\n",
        "%run shared_functions.py\n",
        "\n",
        "# Get simulated data from Github repository\n",
        "if not os.path.exists(\"simulated-data-transformed\"):\n",
        "    !git clone https://github.com/Fraud-Detection-Handbook/simulated-data-transformed"
      ]
    },
    {
      "cell_type": "markdown",
      "metadata": {
        "id": "fyGJeJRsf_Uj"
      },
      "source": [
        "## Data Loading"
      ]
    },
    {
      "cell_type": "markdown",
      "metadata": {
        "id": "iv5l4-2kf_Uk"
      },
      "source": [
        "The experimental setup is the same as in Chapter 5. More precisely, at the end of the chapter, model selection will be based on a grid search with multiple validations. Each time, one week of data will be used for training a neural network and one week of data for testing the predictions.\n",
        "\n",
        "To implement the first base network and explore several architecture choices, let us start by selecting a training and validation period arbitrarily. The experiments will be based on the transformed simulated data (`simulated-data-transformed/data/`) and the same feature set as other models."
      ]
    },
    {
      "cell_type": "code",
      "execution_count": 2,
      "metadata": {
        "colab": {
          "base_uri": "https://localhost:8080/"
        },
        "id": "93aoanvXf_Ul",
        "outputId": "2395b457-6269-4a74-e608-0d830479aef9"
      },
      "outputs": [
        {
          "output_type": "stream",
          "name": "stdout",
          "text": [
            "Load  files\n",
            "CPU times: user 334 ms, sys: 319 ms, total: 654 ms\n",
            "Wall time: 674 ms\n",
            "919767 transactions loaded, containing 8195 fraudulent transactions\n"
          ]
        }
      ],
      "source": [
        "DIR_INPUT='simulated-data-transformed/data/'\n",
        "\n",
        "BEGIN_DATE = \"2018-06-11\"\n",
        "END_DATE = \"2018-09-14\"\n",
        "\n",
        "print(\"Load  files\")\n",
        "%time transactions_df=read_from_files(DIR_INPUT, BEGIN_DATE, END_DATE)\n",
        "print(\"{0} transactions loaded, containing {1} fraudulent transactions\".format(len(transactions_df),transactions_df.TX_FRAUD.sum()))\n",
        "\n",
        "output_feature=\"TX_FRAUD\"\n",
        "\n",
        "input_features=['TX_AMOUNT','TX_DURING_WEEKEND', 'TX_DURING_NIGHT', 'CUSTOMER_ID_NB_TX_1DAY_WINDOW',\n",
        "       'CUSTOMER_ID_AVG_AMOUNT_1DAY_WINDOW', 'CUSTOMER_ID_NB_TX_7DAY_WINDOW',\n",
        "       'CUSTOMER_ID_AVG_AMOUNT_7DAY_WINDOW', 'CUSTOMER_ID_NB_TX_30DAY_WINDOW',\n",
        "       'CUSTOMER_ID_AVG_AMOUNT_30DAY_WINDOW', 'TERMINAL_ID_NB_TX_1DAY_WINDOW',\n",
        "       'TERMINAL_ID_RISK_1DAY_WINDOW', 'TERMINAL_ID_NB_TX_7DAY_WINDOW',\n",
        "       'TERMINAL_ID_RISK_7DAY_WINDOW', 'TERMINAL_ID_NB_TX_30DAY_WINDOW',\n",
        "       'TERMINAL_ID_RISK_30DAY_WINDOW']"
      ]
    },
    {
      "cell_type": "code",
      "execution_count": 3,
      "metadata": {
        "id": "EXpWZQI-f_Up"
      },
      "outputs": [],
      "source": [
        "# Setting the starting day for the training period, and the deltas\n",
        "start_date_training = datetime.datetime.strptime(\"2018-07-25\", \"%Y-%m-%d\")\n",
        "delta_train=7\n",
        "delta_delay=7\n",
        "delta_test=7\n",
        "(train_df, test_df)=get_train_test_set(transactions_df,start_date_training,\n",
        "                                       delta_train=delta_train,delta_delay=delta_delay,delta_test=delta_test)\n",
        "# By default, scaling the input data\n",
        "(train_df, test_df)=scaleData(train_df,test_df,input_features)"
      ]
    },
    {
      "cell_type": "markdown",
      "metadata": {
        "id": "LdClr_0mf_Uq"
      },
      "source": [
        "## Overview of the neural network pipeline"
      ]
    },
    {
      "cell_type": "markdown",
      "metadata": {
        "id": "vWTB-Kqkf_Ur"
      },
      "source": [
        "The first step here is to implement a base neural network. There are several Python libraries that we can use (TensorFlow, PyTorch, Keras, MXNet, ...). In this book, the PyTorch library {cite}`paszke2017automatic` is used, but the models and benchmarks that will be developed could also be implemented with other libraries."
      ]
    },
    {
      "cell_type": "code",
      "execution_count": 4,
      "metadata": {
        "id": "8cayOQSif_Us"
      },
      "outputs": [],
      "source": [
        "import torch"
      ]
    },
    {
      "cell_type": "markdown",
      "metadata": {
        "id": "fKtWyoDOf_Us"
      },
      "source": [
        "If torch and cuda libraries are installed properly, the models developed in this chapter can be trained on the GPU. For that, let us create a \"DEVICE\" variable and set it to \"cuda\" if a cuda device is available and \"cpu\" otherwise. In the rest of the chapter, all the models and tensors will be sent to this device for computations."
      ]
    },
    {
      "cell_type": "code",
      "execution_count": 5,
      "metadata": {
        "colab": {
          "base_uri": "https://localhost:8080/"
        },
        "id": "NUqAMwNNf_Us",
        "outputId": "e84eda2b-1765-4bdc-9c52-8a9e664c0b42"
      },
      "outputs": [
        {
          "output_type": "stream",
          "name": "stdout",
          "text": [
            "Selected device is cuda\n"
          ]
        }
      ],
      "source": [
        "if torch.cuda.is_available():\n",
        "    DEVICE = \"cuda\"\n",
        "else:\n",
        "    DEVICE = \"cpu\"\n",
        "print(\"Selected device is\",DEVICE)"
      ]
    },
    {
      "cell_type": "markdown",
      "metadata": {
        "id": "KEMHSyuwf_Ut"
      },
      "source": [
        "To ensure reproducibility, a random seed will be fixed like in previous chapters. Additionally to setting the seed for `NumPy` and `random`, it is necessary to set it for `torch`:"
      ]
    },
    {
      "cell_type": "code",
      "execution_count": 6,
      "metadata": {
        "id": "VVHXYMN7f_Ut"
      },
      "outputs": [],
      "source": [
        "SEED = 42\n",
        "\n",
        "def seed_everything(seed):\n",
        "    random.seed(seed)\n",
        "    os.environ['PYTHONHASHSEED'] = str(seed)\n",
        "    np.random.seed(seed)\n",
        "    torch.manual_seed(seed)\n",
        "    torch.cuda.manual_seed(seed)\n",
        "    torch.backends.cudnn.deterministic = True\n",
        "    torch.backends.cudnn.benchmark = True\n",
        "\n",
        "seed_everything(SEED)"
      ]
    },
    {
      "cell_type": "markdown",
      "metadata": {
        "id": "c-ZbJne-f_Ut"
      },
      "source": [
        "The function `seed_everything` defined above will be run before each model initialization and training."
      ]
    },
    {
      "cell_type": "markdown",
      "metadata": {
        "id": "6dvgcyLvf_Uu"
      },
      "source": [
        "Before diving into the neural network implementation, let us summarize the main elements of a deep learning training/testing pipeline in Torch:\n",
        "* Datasets/Dataloaders: It is recommended to manipulate data with specific PyTorch classes. [Dataset](https://pytorch.org/docs/stable/data.html?highlight=dataset#torch.utils.data.Dataset) is the interface to access the data. Given a sample's index, it provides a well-formed input-output for the model. [Dataloader](https://pytorch.org/docs/stable/data.html?highlight=dataloader#torch.utils.data.DataLoader) takes the Dataset as input and provides an iterator for the training loop. It also allows to create batches, shuffle data, and parallelize data preparation.\n",
        "* Model/Module: Any model in PyTorch is a [torch.module](https://pytorch.org/docs/stable/generated/torch.nn.Module.html). It has an init function in which it instantiates all the necessary submodules (layers) and initializes their weights. It also has a forward function that defines all the operations of the forward pass.\n",
        "* The optimizer: The [optimizer](https://pytorch.org/docs/stable/optim.html) is the object that implements the optimization algorithm. It is called after the loss is computed to calculate the necessary model updates. The most basic one is SGD, but there are many others like RMSProp, Adagrad, Adam, ...\n",
        "* Training loop and evaluation: the training loop is the core of a model's training. It consists in performing several iterations (epochs), getting all the training batches from the loader, performing the forward pass, computing the loss, and calling the optimizer. After each epoch, an evaluation can be performed to track the model's evolution and possibly stop the process.\n",
        "\n",
        "The next subsections describe and implement in details each of these elements."
      ]
    },
    {
      "cell_type": "markdown",
      "metadata": {
        "id": "5oIvQmmHf_Uu"
      },
      "source": [
        "### Data management: Datasets and Dataloaders"
      ]
    },
    {
      "cell_type": "markdown",
      "metadata": {
        "id": "iG5ilRSjf_Uu"
      },
      "source": [
        "The first step is to convert our data into objects that PyTorch can use, like `FloatTensors`."
      ]
    },
    {
      "cell_type": "code",
      "execution_count": 7,
      "metadata": {
        "id": "0XlnWH3Ff_Uv"
      },
      "outputs": [],
      "source": [
        "x_train = torch.FloatTensor(train_df[input_features].values)\n",
        "x_test = torch.FloatTensor(test_df[input_features].values)\n",
        "y_train = torch.FloatTensor(train_df[output_feature].values)\n",
        "y_test = torch.FloatTensor(test_df[output_feature].values)"
      ]
    },
    {
      "cell_type": "markdown",
      "metadata": {
        "id": "k9vpepn8f_Uv"
      },
      "source": [
        "Next comes the definition of a custom `Dataset`. This dataset is initialized with `x_train`/`x_test` and `y_train`/`y_test` and returns the individual samples in the format required by our model, after sending them to the right device."
      ]
    },
    {
      "cell_type": "code",
      "execution_count": 8,
      "metadata": {
        "id": "fH8gJZ9Gf_Uv"
      },
      "outputs": [],
      "source": [
        "class FraudDataset(torch.utils.data.Dataset):\n",
        "\n",
        "    def __init__(self, x, y):\n",
        "        'Initialization'\n",
        "        self.x = x\n",
        "        self.y = y\n",
        "\n",
        "    def __len__(self):\n",
        "        'Returns the total number of samples'\n",
        "        return len(self.x)\n",
        "\n",
        "    def __getitem__(self, index):\n",
        "        'Generates one sample of data'\n",
        "        # Select sample index\n",
        "        if self.y is not None:\n",
        "            return self.x[index].to(DEVICE), self.y[index].to(DEVICE)\n",
        "        else:\n",
        "            return self.x[index].to(DEVICE)"
      ]
    },
    {
      "cell_type": "markdown",
      "metadata": {
        "id": "iInW4NLMf_Uw"
      },
      "source": [
        "Note: This first custom Dataset `FraudDataset` seems useless because its role is very limited (simply returning a row from x and y) and because the matrices x and y are already loaded in RAM. This example is provided for educational purposes. But the concept of Dataset has a high interest when sample preparation requires more preprocessing. For instance, it becomes very handy for sequence preparation when using recurrent models (like an LSTM). This will be covered more in-depth later in this chapter but for example, a Dataset for sequential models performs several operations before returning a sample: searching for the history of transactions of the same cardholder and appending it to the current transaction before returning the whole sequence. It avoids preparing all the sequences in advance, which would entail repeating several transactions' features in memory and consuming more RAM than necessary. Datasets objects are also useful when dealing with large image datasets in order to load the images on the fly."
      ]
    },
    {
      "cell_type": "markdown",
      "metadata": {
        "id": "BYKhfX7Yf_Uw"
      },
      "source": [
        "Now that `FraudDataset` is defined, one can choose the training/evaluation parameters and instantiate DataLoaders. For now, let us consider a batch size of 64: this means that at each optimization step, 64 samples will be requested to the Dataset, turned into a batch, and go through the forward pass in parallel. Then the aggregation (sum or average) of the gradient of their losses will be used for backpropagation.\n",
        "\n",
        "For the training DataLoader, the shuffle option will be set to `True` so that the order of the data seen by the model will not be the same from one epoch to another. This is recommended and known to be beneficial in Neural Network training {cite}`ruder2016overview`."
      ]
    },
    {
      "cell_type": "code",
      "execution_count": 9,
      "metadata": {
        "id": "wCrlcU2Vf_Uw"
      },
      "outputs": [],
      "source": [
        "train_loader_params = {'batch_size': 64,\n",
        "          'shuffle': True,\n",
        "          'num_workers': 0}\n",
        "test_loader_params = {'batch_size': 64,\n",
        "          'num_workers': 0}\n",
        "\n",
        "# Generators\n",
        "\n",
        "training_set = FraudDataset(x_train, y_train)\n",
        "\n",
        "testing_set = FraudDataset(x_test, y_test)\n",
        "\n",
        "\n",
        "training_generator = torch.utils.data.DataLoader(training_set, **train_loader_params)\n",
        "testing_generator = torch.utils.data.DataLoader(testing_set, **test_loader_params)"
      ]
    },
    {
      "cell_type": "markdown",
      "metadata": {
        "id": "x2oNdX_Yf_Ux"
      },
      "source": [
        "The `num_workers` parameter allows parallelizing batch preparation. It can be useful when the `Dataset` requires a lot of processing before returning a sample. Here we do not use multiprocessing so we set `num_workers` to 0."
      ]
    },
    {
      "cell_type": "markdown",
      "metadata": {
        "id": "yPh4IqN2f_Ux"
      },
      "source": [
        "### The model aka the module\n",
        "\n",
        "After defining the data pipeline, the next step is to design the module. Let us start with a first rather simple feed-forward neural network.\n",
        "\n",
        "As suggested in the introduction, the idea is to define several fully connected layers (`torch.nn.Linear`). A first layer `fc1` which takes as input as many neurons as there are features in the input x. It can be followed by a hidden layer with a chosen number of neurons (`hidden_size`). Finally comes the output layer which has a single output neuron to fit the label (`fraud` or `genuine`, represented by 1 and 0).\n",
        "\n",
        "In the past, the sigmoid activation function used to be the primary choice for all activation functions in all layers of a neural network. Today, the preferred choice is `ReLU` (or variants like `eLU`, `leaky ReLU`), at least for the intermediate neurons. It has empirically proven to be a better choice for optimization and speed {cite}`nair2010rectified`. For output neurons, the choice depends on the range or the expected distribution for the output value to be predicted.\n",
        "\n",
        "Below are plotted the output of several activation functions with respect to their input value to show how they behave and how they are distributed:"
      ]
    },
    {
      "cell_type": "code",
      "execution_count": 10,
      "metadata": {
        "tags": [
          "hide-cell"
        ],
        "id": "yWFqPOI2f_Ux"
      },
      "outputs": [],
      "source": [
        "%%capture\n",
        "\n",
        "fig_activation, axs = plt.subplots(3, 2,figsize=(11, 13))\n",
        "\n",
        "input_values = torch.arange(-5, 5, 0.05)\n",
        "\n",
        "#linear activation\n",
        "output_values = input_values\n",
        "axs[0, 0].plot(input_values, output_values)\n",
        "axs[0, 0].set_title('Linear')\n",
        "axs[0, 0].set_ylim([-5.1,5.1])\n",
        "\n",
        "#heavyside activation\n",
        "output_values = input_values>0\n",
        "axs[0, 1].plot(input_values, output_values)\n",
        "axs[0, 1].set_title('Heavyside (perceptron)')\n",
        "axs[0, 1].set_ylim([-0.1,1.1])\n",
        "\n",
        "#sigmoid activation\n",
        "activation = torch.nn.Sigmoid()\n",
        "output_values = activation(input_values)\n",
        "axs[1, 0].plot(input_values, output_values)\n",
        "axs[1, 0].set_title('Sigmoid')\n",
        "axs[1, 0].set_ylim([-1.1,1.1])\n",
        "\n",
        "#tanh activation\n",
        "activation = torch.nn.Tanh()\n",
        "output_values = activation(input_values)\n",
        "axs[1, 1].plot(input_values, output_values)\n",
        "axs[1, 1].set_title('Tanh')\n",
        "axs[1, 1].set_ylim([-1.1,1.1])\n",
        "\n",
        "#relu activation\n",
        "activation = torch.nn.ReLU()\n",
        "output_values = activation(input_values)\n",
        "axs[2, 0].plot(input_values, output_values)\n",
        "axs[2, 0].set_title('ReLU')\n",
        "axs[2, 0].set_ylim([-0.5,5.1])\n",
        "\n",
        "#leaky relu activation\n",
        "activation = torch.nn.LeakyReLU(negative_slope=0.05)\n",
        "output_values = activation(input_values)\n",
        "axs[2, 1].plot(input_values, output_values)\n",
        "axs[2, 1].set_title('Leaky ReLU')\n",
        "axs[2, 1].set_ylim([-0.5,5.1])"
      ]
    },
    {
      "cell_type": "code",
      "execution_count": 11,
      "metadata": {
        "colab": {
          "base_uri": "https://localhost:8080/",
          "height": 969
        },
        "id": "pVg-5itdf_Uy",
        "outputId": "ae030694-0eba-4755-bf6f-fb53a89e39a9"
      },
      "outputs": [
        {
          "output_type": "execute_result",
          "data": {
            "text/plain": [
              "<Figure size 1100x1300 with 6 Axes>"
            ],
            "image/png": "[encoded data removed]"
          },
          "metadata": {},
          "execution_count": 11
        }
      ],
      "source": [
        "fig_activation"
      ]
    },
    {
      "cell_type": "markdown",
      "metadata": {
        "id": "YgZ88TQGf_Uy"
      },
      "source": [
        "For our fraud detection neural network, the `ReLU` activation will be used for the hidden layer and a `Sigmoid` activation for the output layer. The first is the primary choice for intermediate layers in deep learning. The latter is the primary choice for the output neurons in binary classification problems because it outputs values between 0 and 1 that can be interpreted as probabilities.\n",
        "\n",
        "To implement this, let us create a new class `SimpleFraudMLP` that will inherit from a torch module. Its layers (`fc1`, `relu`, `fc2`, `sigmoid`) are initialized in the `__init__` function and will be used successively in the forward pass.  "
      ]
    },
    {
      "cell_type": "code",
      "execution_count": 12,
      "metadata": {
        "id": "Gl2RPV9Cf_Uy"
      },
      "outputs": [],
      "source": [
        "class SimpleFraudMLP(torch.nn.Module):\n",
        "\n",
        "        def __init__(self, input_size, hidden_size):\n",
        "            super(SimpleFraudMLP, self).__init__()\n",
        "            # parameters\n",
        "            self.input_size = input_size\n",
        "            self.hidden_size  = hidden_size\n",
        "\n",
        "            #input to hidden\n",
        "            self.fc1 = torch.nn.Linear(self.input_size, self.hidden_size)\n",
        "            self.relu = torch.nn.ReLU()\n",
        "            #hidden to output\n",
        "            self.fc2 = torch.nn.Linear(self.hidden_size, 1)\n",
        "            self.sigmoid = torch.nn.Sigmoid()\n",
        "\n",
        "        def forward(self, x):\n",
        "\n",
        "            hidden = self.fc1(x)\n",
        "            relu = self.relu(hidden)\n",
        "            output = self.fc2(relu)\n",
        "            output = self.sigmoid(output)\n",
        "\n",
        "            return output"
      ]
    },
    {
      "cell_type": "markdown",
      "metadata": {
        "id": "mpCVGtOSf_Uz"
      },
      "source": [
        "Once defined, instantiating the model with `1000` neurons in its hidden layer and sending it to the device can be done as follows:"
      ]
    },
    {
      "cell_type": "code",
      "execution_count": 13,
      "metadata": {
        "id": "WuD3S2axf_Uz"
      },
      "outputs": [],
      "source": [
        "model = SimpleFraudMLP(len(input_features), 1000).to(DEVICE)"
      ]
    },
    {
      "cell_type": "markdown",
      "metadata": {
        "id": "SVi5O_CWf_Uz"
      },
      "source": [
        "### The optimizer and the training loop\n",
        "\n",
        "Optimization is at the core of neural network training. The above neural network is designed to output a single value between 0 and 1. The goal is that this value gets as close to 1 (resp. 0) as possible for an input describing a fraudulent (resp. genuine) transaction.\n",
        "\n",
        "In practice, this goal is formulated with an optimization problem that aims at minimizing or maximizing some cost/loss function. The role of the loss function is precisely to measure the discrepancy between the predicted value and the expected value (0 or 1), also referred to as the ground truth. There are many loss functions (mean squared error, cross-entropy, KL-divergence, hinge loss, mean absolute error) available in PyTorch, and each serves a specific purpose. Here we only focus on binary cross-entropy because it is the most relevant loss function for binary classification problems like fraud detection. It is defined as follows:\n",
        "\n",
        "$BCE(y,p) = −(y*log(p)+(1−y)*log(1−p))$\n",
        "\n",
        "Where $y$ is the ground truth (in $\\{0,1\\}$) and $p$ the predicted output (in $]0,1[$)."
      ]
    },
    {
      "cell_type": "code",
      "execution_count": 14,
      "metadata": {
        "id": "2wqHggEsf_Uz"
      },
      "outputs": [],
      "source": [
        "criterion = torch.nn.BCELoss().to(DEVICE)"
      ]
    },
    {
      "cell_type": "markdown",
      "metadata": {
        "id": "7TNtrc2Tf_U0"
      },
      "source": [
        "Note: Pushing the criterion to the device is only required if this one stores/updates internal state variables or has parameters. It is unnecessary but not detrimental in the above case. We do it to show the most general implementation.\n",
        "\n",
        "Before even training the model, one can already measure its initial loss on the testing set. For this, the model has to be put in `eval` mode:"
      ]
    },
    {
      "cell_type": "code",
      "execution_count": 15,
      "metadata": {
        "colab": {
          "base_uri": "https://localhost:8080/"
        },
        "id": "_M6oCk8Mf_U0",
        "outputId": "c6dc9ebf-a77e-4b2a-9703-8864330e135e"
      },
      "outputs": [
        {
          "output_type": "execute_result",
          "data": {
            "text/plain": [
              "SimpleFraudMLP(\n",
              "  (fc1): Linear(in_features=15, out_features=1000, bias=True)\n",
              "  (relu): ReLU()\n",
              "  (fc2): Linear(in_features=1000, out_features=1, bias=True)\n",
              "  (sigmoid): Sigmoid()\n",
              ")"
            ]
          },
          "metadata": {},
          "execution_count": 15
        }
      ],
      "source": [
        "model.eval()"
      ]
    },
    {
      "cell_type": "markdown",
      "metadata": {
        "id": "QLOUNh6yf_U0"
      },
      "source": [
        "Then, the process consists in iterating over the testing generator, making predictions, and evaluating the chosen `criterion` (here `torch.nn.BCELoss`)"
      ]
    },
    {
      "cell_type": "code",
      "execution_count": 16,
      "metadata": {
        "colab": {
          "base_uri": "https://localhost:8080/"
        },
        "id": "S9yx3AL8f_VF",
        "outputId": "ebf022c5-58a4-4307-dc1f-b9b61a53661e"
      },
      "outputs": [
        {
          "output_type": "execute_result",
          "data": {
            "text/plain": [
              "np.float64(0.6754083208142729)"
            ]
          },
          "metadata": {},
          "execution_count": 16
        }
      ],
      "source": [
        "def evaluate_model(model,generator,criterion):\n",
        "    model.eval()\n",
        "    batch_losses = []\n",
        "    for x_batch, y_batch in generator:\n",
        "        # Forward pass\n",
        "        y_pred = model(x_batch)\n",
        "        # Compute Loss\n",
        "        loss = criterion(y_pred.squeeze(), y_batch)\n",
        "        batch_losses.append(loss.item())\n",
        "    mean_loss = np.mean(batch_losses)\n",
        "    return mean_loss\n",
        "\n",
        "evaluate_model(model,testing_generator,criterion)"
      ]
    },
    {
      "cell_type": "markdown",
      "metadata": {
        "id": "jDYlo8v6f_VF"
      },
      "source": [
        "Recall that the optimization problem is defined as follows: minimize the total/average binary cross-entropy of the model over all samples from the training dataset. Therefore, training the model consists in applying an optimization algorithm (backpropagation) to numerically solve the optimization problem.\n",
        "\n",
        "The optimization algorithm or `optimizer` can be the standard stochastic gradient descent with a constant learning rate (`torch.optim.SGD`) or with an adaptive learning rate (`torch.optim.Adagrad`, `torch.optim.Adam`, etc...). Several optimization hyperparameters (learning rate, momentum, batch size, ...) can be tuned. Note that choosing the right optimizer and hyperparameters will impact convergence speed and the quality of the reached optimum. Below is an illustration showing how fast different optimizers can reach the optimum (represented with a star) of a two dimensional optimization problem over the training process.\n",
        "\n",
        "![Optimizers convergence](https://ml-cheatsheet.readthedocs.io/en/latest/_images/optimizers.gif)\n",
        "\n",
        "Source: https://cs231n.github.io/neural-networks-3/\n",
        "\n",
        "\n",
        "Here, let us start with the arbitrary choice `SGD`, with a learning rate of `0.07`."
      ]
    },
    {
      "cell_type": "code",
      "execution_count": 17,
      "metadata": {
        "id": "gHOj79xuf_VG"
      },
      "outputs": [],
      "source": [
        "optimizer = torch.optim.SGD(model.parameters(), lr = 0.07)"
      ]
    },
    {
      "cell_type": "markdown",
      "metadata": {
        "id": "RPsNjyG_f_VG"
      },
      "source": [
        "And let us implement the training loop for our neural network. First, the model has to be set in training mode. Then several iterations can be performed over the training generator (each iteration is called an epoch). During each iteration, a succession of training batches are provided by the generator and a forward pass is performed to get the model's predictions. Then the criterion is computed between predictions and ground truth, and finally, the backward pass is carried out to update the model with the optimizer.\n",
        "Let us start by setting the number of epochs to `150` arbitrarily."
      ]
    },
    {
      "cell_type": "code",
      "execution_count": 18,
      "metadata": {
        "tags": [
          "output_scroll"
        ],
        "colab": {
          "base_uri": "https://localhost:8080/"
        },
        "id": "DN81MebOf_VG",
        "outputId": "b55f0c68-29b6-4987-b193-075bd408635d"
      },
      "outputs": [
        {
          "output_type": "stream",
          "name": "stdout",
          "text": [
            "Epoch 0: train loss: 0.03570016127763818\n",
            "test loss: 0.02235874969565384\n",
            "\n",
            "Epoch 1: train loss: 0.026285224176587078\n",
            "test loss: 0.021145284196830115\n",
            "\n",
            "Epoch 2: train loss: 0.02493548555289449\n",
            "test loss: 0.021621913426278647\n",
            "\n",
            "Epoch 3: train loss: 0.02415365147932506\n",
            "test loss: 0.020166814496815327\n",
            "\n",
            "Epoch 4: train loss: 0.02354303211439844\n",
            "test loss: 0.02073439405083505\n",
            "\n",
            "Epoch 5: train loss: 0.023116103907139682\n",
            "test loss: 0.020283860404915397\n",
            "\n",
            "Epoch 6: train loss: 0.022610568689788512\n",
            "test loss: 0.019814792545496986\n",
            "\n",
            "Epoch 7: train loss: 0.022428529615957933\n",
            "test loss: 0.021500718913017542\n",
            "\n",
            "Epoch 8: train loss: 0.021857454014926985\n",
            "test loss: 0.022040686135371468\n",
            "\n",
            "Epoch 9: train loss: 0.021729045113895114\n",
            "test loss: 0.02033687070966417\n",
            "\n",
            "Epoch 10: train loss: 0.021540807062302752\n",
            "test loss: 0.019787190139547203\n",
            "\n",
            "Epoch 11: train loss: 0.021363750429776143\n",
            "test loss: 0.01933969401907274\n",
            "\n",
            "Epoch 12: train loss: 0.021093989877060383\n",
            "test loss: 0.020803119637364465\n",
            "\n",
            "Epoch 13: train loss: 0.020856364880937492\n",
            "test loss: 0.019782864163183984\n",
            "\n",
            "Epoch 14: train loss: 0.020880066470790666\n",
            "test loss: 0.02022493444830404\n",
            "\n",
            "Epoch 15: train loss: 0.020645820294470516\n",
            "test loss: 0.020496649238506883\n",
            "\n",
            "Epoch 16: train loss: 0.02023364219924862\n",
            "test loss: 0.019807597353663928\n",
            "\n",
            "Epoch 17: train loss: 0.020311952206717325\n",
            "test loss: 0.019600149871256002\n",
            "\n",
            "Epoch 18: train loss: 0.02011192985976489\n",
            "test loss: 0.019799932703180555\n",
            "\n",
            "Epoch 19: train loss: 0.020167821159827338\n",
            "test loss: 0.01993846074071264\n",
            "\n",
            "Epoch 20: train loss: 0.019795199066509523\n",
            "test loss: 0.019779406046304692\n",
            "\n",
            "Epoch 21: train loss: 0.019609640046270062\n",
            "test loss: 0.01922609752762764\n",
            "\n",
            "Epoch 22: train loss: 0.01952000257411137\n",
            "test loss: 0.019298871825260043\n",
            "\n",
            "Epoch 23: train loss: 0.019431572759277645\n",
            "test loss: 0.019511431249233758\n",
            "\n",
            "Epoch 24: train loss: 0.019290699544770345\n",
            "test loss: 0.019078932968213638\n",
            "\n",
            "Epoch 25: train loss: 0.019198790891760593\n",
            "test loss: 0.01982570029657158\n",
            "\n",
            "Epoch 26: train loss: 0.019122127149910705\n",
            "test loss: 0.01954878765259564\n",
            "\n",
            "Epoch 27: train loss: 0.018945110743253054\n",
            "test loss: 0.019078383596323155\n",
            "\n",
            "Epoch 28: train loss: 0.01915220368565366\n",
            "test loss: 0.019717055109905082\n",
            "\n",
            "Epoch 29: train loss: 0.018901560421887745\n",
            "test loss: 0.01944197861515558\n",
            "\n",
            "Epoch 30: train loss: 0.018829680682509096\n",
            "test loss: 0.0192576359366307\n",
            "\n",
            "Epoch 31: train loss: 0.018956774492928853\n",
            "test loss: 0.019657760558680057\n",
            "\n",
            "Epoch 32: train loss: 0.01846252665939173\n",
            "test loss: 0.019069469205827607\n",
            "\n",
            "Epoch 33: train loss: 0.018668382447638278\n",
            "test loss: 0.019138087170481228\n",
            "\n",
            "Epoch 34: train loss: 0.01854528350342193\n",
            "test loss: 0.020353734596955983\n",
            "\n",
            "Epoch 35: train loss: 0.0183617239374912\n",
            "test loss: 0.01876162927859472\n",
            "\n",
            "Epoch 36: train loss: 0.01848512668848006\n",
            "test loss: 0.021435820046542917\n",
            "\n",
            "Epoch 37: train loss: 0.018229756794726347\n",
            "test loss: 0.019076057366449715\n",
            "\n",
            "Epoch 38: train loss: 0.01827189080318796\n",
            "test loss: 0.019353177437163138\n",
            "\n",
            "Epoch 39: train loss: 0.01793119369728666\n",
            "test loss: 0.018888620085683042\n",
            "\n",
            "Epoch 40: train loss: 0.017982217015013572\n",
            "test loss: 0.019799725560005754\n",
            "\n",
            "Epoch 41: train loss: 0.01815190301580243\n",
            "test loss: 0.018776699477774998\n",
            "\n",
            "Epoch 42: train loss: 0.01783200896747825\n",
            "test loss: 0.018804544972973486\n",
            "\n",
            "Epoch 43: train loss: 0.01789594388041436\n",
            "test loss: 0.018862285491019797\n",
            "\n",
            "Epoch 44: train loss: 0.017679288283413138\n",
            "test loss: 0.01931170365574047\n",
            "\n",
            "Epoch 45: train loss: 0.01763835008383297\n",
            "test loss: 0.019216973757339103\n",
            "\n",
            "Epoch 46: train loss: 0.017635733286936996\n",
            "test loss: 0.019386619793324764\n",
            "\n",
            "Epoch 47: train loss: 0.01769156201581314\n",
            "test loss: 0.018907279479388927\n",
            "\n",
            "Epoch 48: train loss: 0.017464118471238885\n",
            "test loss: 0.019305000397487636\n",
            "\n",
            "Epoch 49: train loss: 0.017259528708810805\n",
            "test loss: 0.021709634589747465\n",
            "\n",
            "Epoch 50: train loss: 0.017432642469584026\n",
            "test loss: 0.018883519409823465\n",
            "\n",
            "Epoch 51: train loss: 0.01743415611400424\n",
            "test loss: 0.01888030832989906\n",
            "\n",
            "Epoch 52: train loss: 0.01730393786255809\n",
            "test loss: 0.020289951717978368\n",
            "\n",
            "Epoch 53: train loss: 0.01709190350146406\n",
            "test loss: 0.019343478796578346\n",
            "\n",
            "Epoch 54: train loss: 0.01717747261412761\n",
            "test loss: 0.018809923432563186\n",
            "\n",
            "Epoch 55: train loss: 0.017083442247460296\n",
            "test loss: 0.019097869795605002\n",
            "\n",
            "Epoch 56: train loss: 0.01706762840509677\n",
            "test loss: 0.019414279472673747\n",
            "\n",
            "Epoch 57: train loss: 0.017223160701948303\n",
            "test loss: 0.019037943246970404\n",
            "\n",
            "Epoch 58: train loss: 0.01680435974538135\n",
            "test loss: 0.01924557501486473\n",
            "\n",
            "Epoch 59: train loss: 0.01667625896015039\n",
            "test loss: 0.02059749346023909\n",
            "\n",
            "Epoch 60: train loss: 0.016691103784414407\n",
            "test loss: 0.019103715135871804\n",
            "\n",
            "Epoch 61: train loss: 0.016902556599912674\n",
            "test loss: 0.01976350447087335\n",
            "\n",
            "Epoch 62: train loss: 0.016576359359960432\n",
            "test loss: 0.019093659681494988\n",
            "\n",
            "Epoch 63: train loss: 0.01659766865371825\n",
            "test loss: 0.018789603180596023\n",
            "\n",
            "Epoch 64: train loss: 0.01655998143917313\n",
            "test loss: 0.020426090717781845\n",
            "\n",
            "Epoch 65: train loss: 0.016518888045009315\n",
            "test loss: 0.01962036901316171\n",
            "\n",
            "Epoch 66: train loss: 0.016677345618424842\n",
            "test loss: 0.019229789756549754\n",
            "\n",
            "Epoch 67: train loss: 0.01660201355742271\n",
            "test loss: 0.01898788806622486\n",
            "\n",
            "Epoch 68: train loss: 0.016224836849219403\n",
            "test loss: 0.0187208357761751\n",
            "\n",
            "Epoch 69: train loss: 0.01635365683839503\n",
            "test loss: 0.018724264812353654\n",
            "\n",
            "Epoch 70: train loss: 0.016212342017871653\n",
            "test loss: 0.0206635370428861\n",
            "\n",
            "Epoch 71: train loss: 0.01623556497947647\n",
            "test loss: 0.018824117450480852\n",
            "\n",
            "Epoch 72: train loss: 0.016130332842993804\n",
            "test loss: 0.0190587459131053\n",
            "\n",
            "Epoch 73: train loss: 0.016308082222227863\n",
            "test loss: 0.0190865678527624\n",
            "\n",
            "Epoch 74: train loss: 0.016328629358830223\n",
            "test loss: 0.01914580179789614\n",
            "\n",
            "Epoch 75: train loss: 0.01598029334130666\n",
            "test loss: 0.020439624907520448\n",
            "\n",
            "Epoch 76: train loss: 0.015944270290156114\n",
            "test loss: 0.019353791031048253\n",
            "\n",
            "Epoch 77: train loss: 0.015715281629702742\n",
            "test loss: 0.022198225787634918\n",
            "\n",
            "Epoch 78: train loss: 0.015954734173416824\n",
            "test loss: 0.01906912208869072\n",
            "\n",
            "Epoch 79: train loss: 0.01566569133319198\n",
            "test loss: 0.018927811695703404\n",
            "\n",
            "Epoch 80: train loss: 0.015889474267864884\n",
            "test loss: 0.020252678778651757\n",
            "\n",
            "Epoch 81: train loss: 0.01600595534164157\n",
            "test loss: 0.020044608575288864\n",
            "\n",
            "Epoch 82: train loss: 0.015652828325207774\n",
            "test loss: 0.018726446514649667\n",
            "\n",
            "Epoch 83: train loss: 0.015547645183569875\n",
            "test loss: 0.021633522174833292\n",
            "\n",
            "Epoch 84: train loss: 0.01541394594619024\n",
            "test loss: 0.01891247523334143\n",
            "\n",
            "Epoch 85: train loss: 0.015428265066441684\n",
            "test loss: 0.019216523294768507\n",
            "\n",
            "Epoch 86: train loss: 0.01566434324370984\n",
            "test loss: 0.019408053992741408\n",
            "\n",
            "Epoch 87: train loss: 0.015595302423156557\n",
            "test loss: 0.0188437640103031\n",
            "\n",
            "Epoch 88: train loss: 0.01539500516767992\n",
            "test loss: 0.019127632195460195\n",
            "\n",
            "Epoch 89: train loss: 0.015598026243393813\n",
            "test loss: 0.019996679651358755\n",
            "\n",
            "Epoch 90: train loss: 0.015375105027615807\n",
            "test loss: 0.019496709798825864\n",
            "\n",
            "Epoch 91: train loss: 0.015370062026363592\n",
            "test loss: 0.01898608958278604\n",
            "\n",
            "Epoch 92: train loss: 0.01517074795089375\n",
            "test loss: 0.020577171953644453\n",
            "\n",
            "Epoch 93: train loss: 0.015248858300657973\n",
            "test loss: 0.01885481000179297\n",
            "\n",
            "Epoch 94: train loss: 0.015274494191672436\n",
            "test loss: 0.018744178922539198\n",
            "\n",
            "Epoch 95: train loss: 0.015270944968526996\n",
            "test loss: 0.01898135134587233\n",
            "\n",
            "Epoch 96: train loss: 0.015160337889006097\n",
            "test loss: 0.019773893631335592\n",
            "\n",
            "Epoch 97: train loss: 0.015274758160257841\n",
            "test loss: 0.01982740368294089\n",
            "\n",
            "Epoch 98: train loss: 0.015102703275037602\n",
            "test loss: 0.019412085622835046\n",
            "\n",
            "Epoch 99: train loss: 0.014864221122536762\n",
            "test loss: 0.01893901655676138\n",
            "\n",
            "Epoch 100: train loss: 0.01483279620848869\n",
            "test loss: 0.01909254909798188\n",
            "\n",
            "Epoch 101: train loss: 0.015058887228278885\n",
            "test loss: 0.02256503345133761\n",
            "\n",
            "Epoch 102: train loss: 0.015031825575501713\n",
            "test loss: 0.01943637386663908\n",
            "\n",
            "Epoch 103: train loss: 0.01492823374386324\n",
            "test loss: 0.019150871988499647\n",
            "\n",
            "Epoch 104: train loss: 0.014948622060004359\n",
            "test loss: 0.01956683252229185\n",
            "\n",
            "Epoch 105: train loss: 0.014869079903631226\n",
            "test loss: 0.01929639937710344\n",
            "\n",
            "Epoch 106: train loss: 0.014826530675888044\n",
            "test loss: 0.01903266089813248\n",
            "\n",
            "Epoch 107: train loss: 0.014699177383746487\n",
            "test loss: 0.019629043749075856\n",
            "\n",
            "Epoch 108: train loss: 0.014722327205791563\n",
            "test loss: 0.019548940066831916\n",
            "\n",
            "Epoch 109: train loss: 0.014712466775474239\n",
            "test loss: 0.020213285218525584\n",
            "\n",
            "Epoch 110: train loss: 0.014979391684334771\n",
            "test loss: 0.01881036851411986\n",
            "\n",
            "Epoch 111: train loss: 0.014739558617424904\n",
            "test loss: 0.018942077600018405\n",
            "\n",
            "Epoch 112: train loss: 0.014428770092965506\n",
            "test loss: 0.019504098216707857\n",
            "\n",
            "Epoch 113: train loss: 0.014491504780382369\n",
            "test loss: 0.01895678449004508\n",
            "\n",
            "Epoch 114: train loss: 0.014546155978634876\n",
            "test loss: 0.019753130511651645\n",
            "\n",
            "Epoch 115: train loss: 0.014545313551342762\n",
            "test loss: 0.0199134816054861\n",
            "\n",
            "Epoch 116: train loss: 0.014347194539574459\n",
            "test loss: 0.01986222092727885\n",
            "\n",
            "Epoch 117: train loss: 0.014374078310404477\n",
            "test loss: 0.021832018211627335\n",
            "\n",
            "Epoch 118: train loss: 0.014286217842258595\n",
            "test loss: 0.01919409444910381\n",
            "\n",
            "Epoch 119: train loss: 0.014204220637888669\n",
            "test loss: 0.02079661231306274\n",
            "\n",
            "Epoch 120: train loss: 0.01432597690549228\n",
            "test loss: 0.020752516110422822\n",
            "\n",
            "Epoch 121: train loss: 0.01427276432431116\n",
            "test loss: 0.021227703699072807\n",
            "\n",
            "Epoch 122: train loss: 0.014258418813891458\n",
            "test loss: 0.01922160223227109\n",
            "\n",
            "Epoch 123: train loss: 0.014372642433911485\n",
            "test loss: 0.020434820071170996\n",
            "\n",
            "Epoch 124: train loss: 0.01419381790922478\n",
            "test loss: 0.019405902094780453\n",
            "\n",
            "Epoch 125: train loss: 0.014031269937708485\n",
            "test loss: 0.01949051382659953\n",
            "\n",
            "Epoch 126: train loss: 0.014075768254847965\n",
            "test loss: 0.019914555053054648\n",
            "\n",
            "Epoch 127: train loss: 0.014064419945169392\n",
            "test loss: 0.020472996453040265\n",
            "\n",
            "Epoch 128: train loss: 0.01372631901647403\n",
            "test loss: 0.01977088923729485\n",
            "\n",
            "Epoch 129: train loss: 0.014001044447010527\n",
            "test loss: 0.019065216430613686\n",
            "\n",
            "Epoch 130: train loss: 0.013853885661846081\n",
            "test loss: 0.021838980243729406\n",
            "\n",
            "Epoch 131: train loss: 0.013968400706024885\n",
            "test loss: 0.020478457259282604\n",
            "\n",
            "Epoch 132: train loss: 0.014020607780933657\n",
            "test loss: 0.01955540343661845\n",
            "\n",
            "Epoch 133: train loss: 0.013780207114839585\n",
            "test loss: 0.01951544183358406\n",
            "\n",
            "Epoch 134: train loss: 0.013724680837123282\n",
            "test loss: 0.01954705378719995\n",
            "\n",
            "Epoch 135: train loss: 0.01375658193442104\n",
            "test loss: 0.019791715223009675\n",
            "\n",
            "Epoch 136: train loss: 0.013747831366798503\n",
            "test loss: 0.02012593237674615\n",
            "\n",
            "Epoch 137: train loss: 0.013404042605072752\n",
            "test loss: 0.019310315173902904\n",
            "\n",
            "Epoch 138: train loss: 0.013725471429524147\n",
            "test loss: 0.021196885496077896\n",
            "\n",
            "Epoch 139: train loss: 0.01376786183204314\n",
            "test loss: 0.019723936731605836\n",
            "\n",
            "Epoch 140: train loss: 0.01361238878034454\n",
            "test loss: 0.019774567791857295\n",
            "\n",
            "Epoch 141: train loss: 0.01369712175458021\n",
            "test loss: 0.02005813567653558\n",
            "\n",
            "Epoch 142: train loss: 0.01333379342942255\n",
            "test loss: 0.019965825889297403\n",
            "\n",
            "Epoch 143: train loss: 0.013480802405015039\n",
            "test loss: 0.02017668526144683\n",
            "\n",
            "Epoch 144: train loss: 0.013346392015455118\n",
            "test loss: 0.02032316603537334\n",
            "\n",
            "Epoch 145: train loss: 0.01360893692161319\n",
            "test loss: 0.019264137938765104\n",
            "\n",
            "Epoch 146: train loss: 0.013272864060417939\n",
            "test loss: 0.019328058730540224\n",
            "\n",
            "Epoch 147: train loss: 0.01329603516735973\n",
            "test loss: 0.022548705345086403\n",
            "\n",
            "Epoch 148: train loss: 0.01330698037696834\n",
            "test loss: 0.019708961947113388\n",
            "\n",
            "Epoch 149: train loss: 0.013065771093593376\n",
            "test loss: 0.01976154964558681\n",
            "\n"
          ]
        }
      ],
      "source": [
        "n_epochs = 150\n",
        "#Setting the model in training mode\n",
        "model.train()\n",
        "\n",
        "#Training loop\n",
        "start_time=time.time()\n",
        "epochs_train_losses = []\n",
        "epochs_test_losses = []\n",
        "for epoch in range(n_epochs):\n",
        "    model.train()\n",
        "    train_loss=[]\n",
        "    for x_batch, y_batch in training_generator:\n",
        "        # Removing previously computed gradients\n",
        "        optimizer.zero_grad()\n",
        "        # Performing the forward pass on the current batch\n",
        "        y_pred = model(x_batch)\n",
        "        # Computing the loss given the current predictions\n",
        "        loss = criterion(y_pred.squeeze(), y_batch)\n",
        "        # Computing the gradients over the backward pass\n",
        "        loss.backward()\n",
        "        # Performing an optimization step from the current gradients\n",
        "        optimizer.step()\n",
        "        # Storing the current step's loss for display purposes\n",
        "        train_loss.append(loss.item())\n",
        "\n",
        "    #showing last training loss after each epoch\n",
        "    epochs_train_losses.append(np.mean(train_loss))\n",
        "    print('Epoch {}: train loss: {}'.format(epoch, np.mean(train_loss)))\n",
        "\n",
        "    #evaluating the model on the test set after each epoch\n",
        "    val_loss = evaluate_model(model,testing_generator,criterion)\n",
        "    epochs_test_losses.append(val_loss)\n",
        "    print('test loss: {}'.format(val_loss))\n",
        "    print(\"\")\n",
        "\n",
        "training_execution_time=time.time()-start_time"
      ]
    },
    {
      "cell_type": "markdown",
      "metadata": {
        "id": "LwvdEQBvf_VH"
      },
      "source": [
        "After training the model, a good practice is to analyze the training logs."
      ]
    },
    {
      "cell_type": "code",
      "execution_count": 19,
      "metadata": {
        "colab": {
          "base_uri": "https://localhost:8080/",
          "height": 467
        },
        "id": "ZwFDIFBAf_VH",
        "outputId": "8fcac79c-a425-4527-e77a-e423c1c0dbdf"
      },
      "outputs": [
        {
          "output_type": "execute_result",
          "data": {
            "text/plain": [
              "<matplotlib.legend.Legend at 0x792122dafbc0>"
            ]
          },
          "metadata": {},
          "execution_count": 19
        },
        {
          "output_type": "display_data",
          "data": {
            "text/plain": [
              "<Figure size 640x480 with 1 Axes>"
            ],
            "image/png": "[encoded data removed]"
          },
          "metadata": {}
        }
      ],
      "source": [
        "ma_window = 10\n",
        "\n",
        "plt.plot(np.arange(len(epochs_train_losses)-ma_window + 1)+1, np.convolve(epochs_train_losses, np.ones(ma_window)/ma_window, mode='valid'))\n",
        "plt.plot(np.arange(len(epochs_test_losses)-ma_window + 1)+1, np.convolve(epochs_test_losses, np.ones(ma_window)/ma_window, mode='valid'))\n",
        "plt.xlabel('epoch')\n",
        "plt.ylabel('loss')\n",
        "plt.legend(['train','valid'])\n",
        "#plt.ylim([0.01,0.06])"
      ]
    },
    {
      "cell_type": "code",
      "execution_count": 20,
      "metadata": {
        "colab": {
          "base_uri": "https://localhost:8080/"
        },
        "id": "g7bgNPSlf_VJ",
        "outputId": "642e3026-8b93-499c-bebc-cabeca317606"
      },
      "outputs": [
        {
          "output_type": "stream",
          "name": "stdout",
          "text": [
            "1153.4706654548645\n"
          ]
        }
      ],
      "source": [
        "print(training_execution_time)"
      ]
    },
    {
      "cell_type": "markdown",
      "metadata": {
        "id": "Ei3NAdX3f_VK"
      },
      "source": [
        "One can note here how the training loss decreases epoch after epoch. This means that the optimization is going well: the chosen learning rate allows to update the model towards a better solution (lower loss) for the **training dataset**. However, neural networks are known to be very expressive models. In fact, the universal approximation theorem shows that, with enough neurons/layers, one can model any function with a neural network {cite}`cybenko1989approximation`. Therefore, it is expected for a complex neural network to be able to fit almost perfectly the training data. But the ultimate goal is to obtain a model that generalizes well on unseen data (like the validation set). Looking at the validation loss, one can see that it starts by decreasing (with oscillations) and it reaches an optimum around 0.019, and stops decreasing (or even starts increasing). This phenomenon is referred to as [overfitting](Model_Selection).\n",
        "\n",
        "Many aspects can be improved in the training. Although one cannot measure the performance on the final test set while training, one can rely on a validation set and try to stop training before overfitting (see [](Model_Selection)). One can also change the optimization algorithm and parameters to speed up training and reach a better optimum. This is investigated later, in the optimization paragraph."
      ]
    },
    {
      "cell_type": "markdown",
      "metadata": {
        "id": "UZB1KCNBf_VL"
      },
      "source": [
        "For now, let us consider this final fitted model and evaluate it the same way as the other models in previous chapters. For this, let us create a prediction DataFrame and call the `performance_assessment` function from the shared functions."
      ]
    },
    {
      "cell_type": "code",
      "execution_count": 21,
      "metadata": {
        "colab": {
          "base_uri": "https://localhost:8080/"
        },
        "id": "79F_W9XJf_VM",
        "outputId": "b843b043-dd75-4cbe-f67a-808475f2b172"
      },
      "outputs": [
        {
          "output_type": "stream",
          "name": "stdout",
          "text": [
            "Predictions took 0.020746707916259766 seconds.\n"
          ]
        }
      ],
      "source": [
        "start_time=time.time()\n",
        "predictions_test = model(x_test.to(DEVICE))\n",
        "prediction_execution_time = time.time()-start_time\n",
        "predictions_train = model(x_train.to(DEVICE))\n",
        "print(\"Predictions took\", prediction_execution_time,\"seconds.\")"
      ]
    },
    {
      "cell_type": "code",
      "execution_count": 22,
      "metadata": {
        "colab": {
          "base_uri": "https://localhost:8080/",
          "height": 81
        },
        "id": "qpKusZmwf_VN",
        "outputId": "131609b4-6da6-440f-bf27-11747d59909f"
      },
      "outputs": [
        {
          "output_type": "execute_result",
          "data": {
            "text/plain": [
              "   AUC ROC  Average precision  Card Precision@100\n",
              "0    0.857              0.636               0.269"
            ],
            "text/html": [
              "\n",
              "  <div id=\"df-c9e20e10-249f-453f-a78d-e5179208aa2d\" class=\"colab-df-container\">\n",
              "    <div>\n",
              "<style scoped>\n",
              "    .dataframe tbody tr th:only-of-type {\n",
              "        vertical-align: middle;\n",
              "    }\n",
              "\n",
              "    .dataframe tbody tr th {\n",
              "        vertical-align: top;\n",
              "    }\n",
              "\n",
              "    .dataframe thead th {\n",
              "        text-align: right;\n",
              "    }\n",
              "</style>\n",
              "<table border=\"1\" class=\"dataframe\">\n",
              "  <thead>\n",
              "    <tr style=\"text-align: right;\">\n",
              "      <th></th>\n",
              "      <th>AUC ROC</th>\n",
              "      <th>Average precision</th>\n",
              "      <th>Card Precision@100</th>\n",
              "    </tr>\n",
              "  </thead>\n",
              "  <tbody>\n",
              "    <tr>\n",
              "      <th>0</th>\n",
              "      <td>0.857</td>\n",
              "      <td>0.636</td>\n",
              "      <td>0.269</td>\n",
              "    </tr>\n",
              "  </tbody>\n",
              "</table>\n",
              "</div>\n",
              "    <div class=\"colab-df-buttons\">\n",
              "\n",
              "  <div class=\"colab-df-container\">\n",
              "    <button class=\"colab-df-convert\" onclick=\"convertToInteractive('df-c9e20e10-249f-453f-a78d-e5179208aa2d')\"\n",
              "            title=\"Convert this dataframe to an interactive table.\"\n",
              "            style=\"display:none;\">\n",
              "\n",
              "  <svg xmlns=\"http://www.w3.org/2000/svg\" height=\"24px\" viewBox=\"0 -960 960 960\">\n",
              "    <path d=\"M120-120v-720h720v720H120Zm60-500h600v-160H180v160Zm220 220h160v-160H400v160Zm0 220h160v-160H400v160ZM180-400h160v-160H180v160Zm440 0h160v-160H620v160ZM180-180h160v-160H180v160Zm440 0h160v-160H620v160Z\"/>\n",
              "  </svg>\n",
              "    </button>\n",
              "\n",
              "  <style>\n",
              "    .colab-df-container {\n",
              "      display:flex;\n",
              "      gap: 12px;\n",
              "    }\n",
              "\n",
              "    .colab-df-convert {\n",
              "      background-color: #E8F0FE;\n",
              "      border: none;\n",
              "      border-radius: 50%;\n",
              "      cursor: pointer;\n",
              "      display: none;\n",
              "      fill: #1967D2;\n",
              "      height: 32px;\n",
              "      padding: 0 0 0 0;\n",
              "      width: 32px;\n",
              "    }\n",
              "\n",
              "    .colab-df-convert:hover {\n",
              "      background-color: #E2EBFA;\n",
              "      box-shadow: 0px 1px 2px rgba(60, 64, 67, 0.3), 0px 1px 3px 1px rgba(60, 64, 67, 0.15);\n",
              "      fill: #174EA6;\n",
              "    }\n",
              "\n",
              "    .colab-df-buttons div {\n",
              "      margin-bottom: 4px;\n",
              "    }\n",
              "\n",
              "    [theme=dark] .colab-df-convert {\n",
              "      background-color: #3B4455;\n",
              "      fill: #D2E3FC;\n",
              "    }\n",
              "\n",
              "    [theme=dark] .colab-df-convert:hover {\n",
              "      background-color: #434B5C;\n",
              "      box-shadow: 0px 1px 3px 1px rgba(0, 0, 0, 0.15);\n",
              "      filter: drop-shadow(0px 1px 2px rgba(0, 0, 0, 0.3));\n",
              "      fill: #FFFFFF;\n",
              "    }\n",
              "  </style>\n",
              "\n",
              "    <script>\n",
              "      const buttonEl =\n",
              "        document.querySelector('#df-c9e20e10-249f-453f-a78d-e5179208aa2d button.colab-df-convert');\n",
              "      buttonEl.style.display =\n",
              "        google.colab.kernel.accessAllowed ? 'block' : 'none';\n",
              "\n",
              "      async function convertToInteractive(key) {\n",
              "        const element = document.querySelector('#df-c9e20e10-249f-453f-a78d-e5179208aa2d');\n",
              "        const dataTable =\n",
              "          await google.colab.kernel.invokeFunction('convertToInteractive',\n",
              "                                                    [key], {});\n",
              "        if (!dataTable) return;\n",
              "\n",
              "        const docLinkHtml = 'Like what you see? Visit the ' +\n",
              "          '<a target=\"_blank\" href=https://colab.research.google.com/notebooks/data_table.ipynb>data table notebook</a>'\n",
              "          + ' to learn more about interactive tables.';\n",
              "        element.innerHTML = '';\n",
              "        dataTable['output_type'] = 'display_data';\n",
              "        await google.colab.output.renderOutput(dataTable, element);\n",
              "        const docLink = document.createElement('div');\n",
              "        docLink.innerHTML = docLinkHtml;\n",
              "        element.appendChild(docLink);\n",
              "      }\n",
              "    </script>\n",
              "  </div>\n",
              "\n",
              "\n",
              "    </div>\n",
              "  </div>\n"
            ],
            "application/vnd.google.colaboratory.intrinsic+json": {
              "type": "dataframe",
              "summary": "{\n  \"name\": \"performance_assessment(predictions_df, top_k_list=[100])\",\n  \"rows\": 1,\n  \"fields\": [\n    {\n      \"column\": \"AUC ROC\",\n      \"properties\": {\n        \"dtype\": \"number\",\n        \"std\": null,\n        \"min\": 0.857,\n        \"max\": 0.857,\n        \"num_unique_values\": 1,\n        \"samples\": [\n          0.857\n        ],\n        \"semantic_type\": \"\",\n        \"description\": \"\"\n      }\n    },\n    {\n      \"column\": \"Average precision\",\n      \"properties\": {\n        \"dtype\": \"number\",\n        \"std\": null,\n        \"min\": 0.636,\n        \"max\": 0.636,\n        \"num_unique_values\": 1,\n        \"samples\": [\n          0.636\n        ],\n        \"semantic_type\": \"\",\n        \"description\": \"\"\n      }\n    },\n    {\n      \"column\": \"Card Precision@100\",\n      \"properties\": {\n        \"dtype\": \"number\",\n        \"std\": null,\n        \"min\": 0.269,\n        \"max\": 0.269,\n        \"num_unique_values\": 1,\n        \"samples\": [\n          0.269\n        ],\n        \"semantic_type\": \"\",\n        \"description\": \"\"\n      }\n    }\n  ]\n}"
            }
          },
          "metadata": {},
          "execution_count": 22
        }
      ],
      "source": [
        "predictions_df=test_df\n",
        "predictions_df['predictions']=predictions_test.detach().cpu().numpy()\n",
        "\n",
        "performance_assessment(predictions_df, top_k_list=[100])"
      ]
    },
    {
      "cell_type": "markdown",
      "metadata": {
        "id": "x1Way4Xvf_VO"
      },
      "source": [
        "This first shot feed-forward network already obtains a decent performance on the test set (refer to [Chapter 3.4](Baseline_FDS_Performances_Simulation) for comparison). But several elements can be modified to improve the AUC ROC, reduce the training time, etc."
      ]
    },
    {
      "cell_type": "markdown",
      "metadata": {
        "id": "VQCjDfaBf_VO"
      },
      "source": [
        "As stated above, for the first model, optimization was not carried out properly because the validation performance is not exploited during the training process. To avoid overfitting in practice, it is necessary to take it into account (See Chapter 5, [](Hold_Out_Validation))."
      ]
    },
    {
      "cell_type": "code",
      "execution_count": 23,
      "metadata": {
        "id": "RVYw6rKif_VO"
      },
      "outputs": [],
      "source": [
        "delta_valid = delta_test\n",
        "\n",
        "start_date_training_with_valid = start_date_training+datetime.timedelta(days=-(delta_delay+delta_valid))\n",
        "\n",
        "(train_df, valid_df)=get_train_test_set(transactions_df,start_date_training_with_valid,\n",
        "                                       delta_train=delta_train,delta_delay=delta_delay,delta_test=delta_test)\n",
        "\n",
        "# By default, scales input data\n",
        "(train_df, valid_df)=scaleData(train_df, valid_df, input_features)"
      ]
    },
    {
      "cell_type": "markdown",
      "metadata": {
        "id": "-GOWi0VGf_VP"
      },
      "source": [
        "Let us implement an early stopping strategy. The idea is to detect overfitting, i.e. when validation error starts increasing, and stop the training process. Sometimes, the validation error might increase at a given epoch, but then decrease again. For that reason, it is important to also consider a patience parameter, i.e. a number of iterations for which the training process waits in order to make sure that the error is definitely increasing."
      ]
    },
    {
      "cell_type": "code",
      "execution_count": 24,
      "metadata": {
        "id": "G666hqi1f_VP"
      },
      "outputs": [],
      "source": [
        "class EarlyStopping:\n",
        "\n",
        "    def __init__(self, patience=2, verbose=False):\n",
        "        self.patience = patience\n",
        "        self.verbose = verbose\n",
        "        self.counter = 0\n",
        "        self.best_score = np.Inf\n",
        "\n",
        "    def continue_training(self,current_score):\n",
        "        if self.best_score > current_score:\n",
        "            self.best_score = current_score\n",
        "            self.counter = 0\n",
        "            if self.verbose:\n",
        "                print(\"New best score:\", current_score)\n",
        "        else:\n",
        "            self.counter+=1\n",
        "            if self.verbose:\n",
        "                print(self.counter, \" iterations since best score.\")\n",
        "\n",
        "        return self.counter <= self.patience"
      ]
    },
    {
      "cell_type": "code",
      "execution_count": 25,
      "metadata": {
        "id": "IDBOT7Aef_VP"
      },
      "outputs": [],
      "source": [
        "seed_everything(SEED)\n",
        "\n",
        "model = SimpleFraudMLP(len(input_features), 1000).to(DEVICE)\n",
        "\n",
        "def prepare_generators(train_df,valid_df,batch_size=64):\n",
        "    x_train = torch.FloatTensor(train_df[input_features].values)\n",
        "    x_valid = torch.FloatTensor(valid_df[input_features].values)\n",
        "    y_train = torch.FloatTensor(train_df[output_feature].values)\n",
        "    y_valid = torch.FloatTensor(valid_df[output_feature].values)\n",
        "    train_loader_params = {'batch_size': batch_size,\n",
        "              'shuffle': True,\n",
        "              'num_workers': 0}\n",
        "    valid_loader_params = {'batch_size': batch_size,\n",
        "              'num_workers': 0}\n",
        "    # Generators\n",
        "\n",
        "    training_set = FraudDataset(x_train, y_train)\n",
        "    valid_set = FraudDataset(x_valid, y_valid)\n",
        "\n",
        "    training_generator = torch.utils.data.DataLoader(training_set, **train_loader_params)\n",
        "    valid_generator = torch.utils.data.DataLoader(valid_set, **valid_loader_params)\n",
        "\n",
        "    return training_generator,valid_generator\n",
        "\n",
        "training_generator,valid_generator = prepare_generators(train_df,valid_df,batch_size=64)\n",
        "\n",
        "criterion = torch.nn.BCELoss().to(DEVICE)\n",
        "optimizer = torch.optim.SGD(model.parameters(), lr = 0.0005)"
      ]
    },
    {
      "cell_type": "markdown",
      "metadata": {
        "id": "NTbm_0MJf_VQ"
      },
      "source": [
        "The training loop can now be adapted to integrate early stopping:"
      ]
    },
    {
      "cell_type": "code",
      "source": [
        "np.Inf = np.inf"
      ],
      "metadata": {
        "id": "MaaM1E4Frmp1"
      },
      "execution_count": 27,
      "outputs": []
    },
    {
      "cell_type": "code",
      "execution_count": 28,
      "metadata": {
        "tags": [
          "output_scroll"
        ],
        "colab": {
          "base_uri": "https://localhost:8080/"
        },
        "id": "6xdzGpCJf_VQ",
        "outputId": "891c7488-54bf-4ad9-b109-cfb747fe3933"
      },
      "outputs": [
        {
          "output_type": "stream",
          "name": "stdout",
          "text": [
            "\n",
            "Epoch 0: train loss: 0.1909453292941785\n",
            "valid loss: 0.0936319917928977\n",
            "New best score: 0.0936319917928977\n",
            "\n",
            "Epoch 1: train loss: 0.09756324266441466\n",
            "valid loss: 0.06975944509190288\n",
            "New best score: 0.06975944509190288\n",
            "\n",
            "Epoch 2: train loss: 0.07713193199054176\n",
            "valid loss: 0.057125550174647995\n",
            "New best score: 0.057125550174647995\n",
            "\n",
            "Epoch 3: train loss: 0.06579174230989945\n",
            "valid loss: 0.05029815402635134\n",
            "New best score: 0.05029815402635134\n",
            "\n",
            "Epoch 4: train loss: 0.060373777058865895\n",
            "valid loss: 0.046286136683463396\n",
            "New best score: 0.046286136683463396\n",
            "\n",
            "Epoch 5: train loss: 0.05693923273652678\n",
            "valid loss: 0.04364783453241072\n",
            "New best score: 0.04364783453241072\n",
            "\n",
            "Epoch 6: train loss: 0.054466319798418886\n",
            "valid loss: 0.04166071956844929\n",
            "New best score: 0.04166071956844929\n",
            "\n",
            "Epoch 7: train loss: 0.052478762761107425\n",
            "valid loss: 0.04006742282969053\n",
            "New best score: 0.04006742282969053\n",
            "\n",
            "Epoch 8: train loss: 0.050844424802197384\n",
            "valid loss: 0.038856804452307235\n",
            "New best score: 0.038856804452307235\n",
            "\n",
            "Epoch 9: train loss: 0.04933213234396498\n",
            "valid loss: 0.03774035437327754\n",
            "New best score: 0.03774035437327754\n",
            "\n",
            "Epoch 10: train loss: 0.04801075405888188\n",
            "valid loss: 0.036796967315747116\n",
            "New best score: 0.036796967315747116\n",
            "\n",
            "Epoch 11: train loss: 0.04682407798031862\n",
            "valid loss: 0.035916659270560806\n",
            "New best score: 0.035916659270560806\n",
            "\n",
            "Epoch 12: train loss: 0.04571960161103516\n",
            "valid loss: 0.03514220929842015\n",
            "New best score: 0.03514220929842015\n",
            "\n",
            "Epoch 13: train loss: 0.0447309328497781\n",
            "valid loss: 0.034494941255148966\n",
            "New best score: 0.034494941255148966\n",
            "\n",
            "Epoch 14: train loss: 0.04377479936810029\n",
            "valid loss: 0.03382268215076682\n",
            "New best score: 0.03382268215076682\n",
            "\n",
            "Epoch 15: train loss: 0.04290615511972664\n",
            "valid loss: 0.03326653995006625\n",
            "New best score: 0.03326653995006625\n",
            "\n",
            "Epoch 16: train loss: 0.0420960366617297\n",
            "valid loss: 0.03273379225385645\n",
            "New best score: 0.03273379225385645\n",
            "\n",
            "Epoch 17: train loss: 0.04134067718160426\n",
            "valid loss: 0.032227614490427284\n",
            "New best score: 0.032227614490427284\n",
            "\n",
            "Epoch 18: train loss: 0.04066945758539592\n",
            "valid loss: 0.031771802071665155\n",
            "New best score: 0.031771802071665155\n",
            "\n",
            "Epoch 19: train loss: 0.03998037099519506\n",
            "valid loss: 0.03132869875608165\n",
            "New best score: 0.03132869875608165\n",
            "\n",
            "Epoch 20: train loss: 0.03936898153378534\n",
            "valid loss: 0.03092572511239944\n",
            "New best score: 0.03092572511239944\n",
            "\n",
            "Epoch 21: train loss: 0.038811857180837295\n",
            "valid loss: 0.03057120640207428\n",
            "New best score: 0.03057120640207428\n",
            "\n",
            "Epoch 22: train loss: 0.03830142732910869\n",
            "valid loss: 0.030212066136809483\n",
            "New best score: 0.030212066136809483\n",
            "\n",
            "Epoch 23: train loss: 0.03780327719123411\n",
            "valid loss: 0.02984268020207439\n",
            "New best score: 0.02984268020207439\n",
            "\n",
            "Epoch 24: train loss: 0.037363506887859554\n",
            "valid loss: 0.029539039035841742\n",
            "New best score: 0.029539039035841742\n",
            "\n",
            "Epoch 25: train loss: 0.03695125184217771\n",
            "valid loss: 0.029248034638032074\n",
            "New best score: 0.029248034638032074\n",
            "\n",
            "Epoch 26: train loss: 0.03657286730105232\n",
            "valid loss: 0.02896783128737019\n",
            "New best score: 0.02896783128737019\n",
            "\n",
            "Epoch 27: train loss: 0.036217811347802754\n",
            "valid loss: 0.028707567643109565\n",
            "New best score: 0.028707567643109565\n",
            "\n",
            "Epoch 28: train loss: 0.03588858304142838\n",
            "valid loss: 0.02842576314893658\n",
            "New best score: 0.02842576314893658\n",
            "\n",
            "Epoch 29: train loss: 0.035587298938911945\n",
            "valid loss: 0.028231198585444622\n",
            "New best score: 0.028231198585444622\n",
            "\n",
            "Epoch 30: train loss: 0.03533714132456476\n",
            "valid loss: 0.027996696051352663\n",
            "New best score: 0.027996696051352663\n",
            "\n",
            "Epoch 31: train loss: 0.035061347528038474\n",
            "valid loss: 0.027787810030184646\n",
            "New best score: 0.027787810030184646\n",
            "\n",
            "Epoch 32: train loss: 0.03479003745939647\n",
            "valid loss: 0.02757403323772908\n",
            "New best score: 0.02757403323772908\n",
            "\n",
            "Epoch 33: train loss: 0.03455540939567194\n",
            "valid loss: 0.027386828228485226\n",
            "New best score: 0.027386828228485226\n",
            "\n",
            "Epoch 34: train loss: 0.03436212993563504\n",
            "valid loss: 0.02724730758596965\n",
            "New best score: 0.02724730758596965\n",
            "\n",
            "Epoch 35: train loss: 0.03413129782208008\n",
            "valid loss: 0.027072332073206622\n",
            "New best score: 0.027072332073206622\n",
            "\n",
            "Epoch 36: train loss: 0.033930751492392205\n",
            "valid loss: 0.026900195745659657\n",
            "New best score: 0.026900195745659657\n",
            "\n",
            "Epoch 37: train loss: 0.03373889823089822\n",
            "valid loss: 0.02681164004040953\n",
            "New best score: 0.02681164004040953\n",
            "\n",
            "Epoch 38: train loss: 0.03357142105878439\n",
            "valid loss: 0.0266448490499758\n",
            "New best score: 0.0266448490499758\n",
            "\n",
            "Epoch 39: train loss: 0.03339881744337256\n",
            "valid loss: 0.026537465490909712\n",
            "New best score: 0.026537465490909712\n",
            "\n",
            "Epoch 40: train loss: 0.0332365363229059\n",
            "valid loss: 0.02642419223973904\n",
            "New best score: 0.02642419223973904\n",
            "\n",
            "Epoch 41: train loss: 0.03308881320554343\n",
            "valid loss: 0.026273956394606765\n",
            "New best score: 0.026273956394606765\n",
            "\n",
            "Epoch 42: train loss: 0.03293655283017223\n",
            "valid loss: 0.026182965333751643\n",
            "New best score: 0.026182965333751643\n",
            "\n",
            "Epoch 43: train loss: 0.0327972848392154\n",
            "valid loss: 0.026070798352828932\n",
            "New best score: 0.026070798352828932\n",
            "\n",
            "Epoch 44: train loss: 0.03266550435989127\n",
            "valid loss: 0.025953394952713628\n",
            "New best score: 0.025953394952713628\n",
            "\n",
            "Epoch 45: train loss: 0.03253353820770025\n",
            "valid loss: 0.02586427663804078\n",
            "New best score: 0.02586427663804078\n",
            "\n",
            "Epoch 46: train loss: 0.03241302260023187\n",
            "valid loss: 0.025792027219030702\n",
            "New best score: 0.025792027219030702\n",
            "\n",
            "Epoch 47: train loss: 0.03228948354484232\n",
            "valid loss: 0.025678559868530335\n",
            "New best score: 0.025678559868530335\n",
            "\n",
            "Epoch 48: train loss: 0.03217228414022487\n",
            "valid loss: 0.025581837216483765\n",
            "New best score: 0.025581837216483765\n",
            "\n",
            "Epoch 49: train loss: 0.03206106469019122\n",
            "valid loss: 0.025493345681903628\n",
            "New best score: 0.025493345681903628\n",
            "\n",
            "Epoch 50: train loss: 0.0319542250343123\n",
            "valid loss: 0.025412814797518033\n",
            "New best score: 0.025412814797518033\n",
            "\n",
            "Epoch 51: train loss: 0.031849484047523025\n",
            "valid loss: 0.025347255614631976\n",
            "New best score: 0.025347255614631976\n",
            "\n",
            "Epoch 52: train loss: 0.031786948273289616\n",
            "valid loss: 0.025255875760190637\n",
            "New best score: 0.025255875760190637\n",
            "\n",
            "Epoch 53: train loss: 0.03168228219386126\n",
            "valid loss: 0.025205543364494876\n",
            "New best score: 0.025205543364494876\n",
            "\n",
            "Epoch 54: train loss: 0.03156295926871053\n",
            "valid loss: 0.02511551378783388\n",
            "New best score: 0.02511551378783388\n",
            "\n",
            "Epoch 55: train loss: 0.03148019196907233\n",
            "valid loss: 0.025058098088013507\n",
            "New best score: 0.025058098088013507\n",
            "\n",
            "Epoch 56: train loss: 0.03142182333136679\n",
            "valid loss: 0.02500995700832843\n",
            "New best score: 0.02500995700832843\n",
            "\n",
            "Epoch 57: train loss: 0.031290654872097146\n",
            "valid loss: 0.024941710910958346\n",
            "New best score: 0.024941710910958346\n",
            "\n",
            "Epoch 58: train loss: 0.03120659312178126\n",
            "valid loss: 0.024854172372813923\n",
            "New best score: 0.024854172372813923\n",
            "\n",
            "Epoch 59: train loss: 0.031125759046585308\n",
            "valid loss: 0.02479666217123387\n",
            "New best score: 0.02479666217123387\n",
            "\n",
            "Epoch 60: train loss: 0.031047250749187162\n",
            "valid loss: 0.02473914779295198\n",
            "New best score: 0.02473914779295198\n",
            "\n",
            "Epoch 61: train loss: 0.030971015870293342\n",
            "valid loss: 0.02468684563219873\n",
            "New best score: 0.02468684563219873\n",
            "\n",
            "Epoch 62: train loss: 0.03089598822140315\n",
            "valid loss: 0.02466017225747063\n",
            "New best score: 0.02466017225747063\n",
            "\n",
            "Epoch 63: train loss: 0.030850627772549228\n",
            "valid loss: 0.024619013810011206\n",
            "New best score: 0.024619013810011206\n",
            "\n",
            "Epoch 64: train loss: 0.030782780968397143\n",
            "valid loss: 0.024546958932072902\n",
            "New best score: 0.024546958932072902\n",
            "\n",
            "Epoch 65: train loss: 0.03068416126038573\n",
            "valid loss: 0.024497584019446635\n",
            "New best score: 0.024497584019446635\n",
            "\n",
            "Epoch 66: train loss: 0.03061067381825647\n",
            "valid loss: 0.024420173625497383\n",
            "New best score: 0.024420173625497383\n",
            "\n",
            "Epoch 67: train loss: 0.030551618609726997\n",
            "valid loss: 0.024400618767284388\n",
            "New best score: 0.024400618767284388\n",
            "\n",
            "Epoch 68: train loss: 0.03051347846573087\n",
            "valid loss: 0.024362873976358054\n",
            "New best score: 0.024362873976358054\n",
            "\n",
            "Epoch 69: train loss: 0.030420117544537377\n",
            "valid loss: 0.024296730337918945\n",
            "New best score: 0.024296730337918945\n",
            "\n",
            "Epoch 70: train loss: 0.030402589791025218\n",
            "valid loss: 0.024269087658177226\n",
            "New best score: 0.024269087658177226\n",
            "\n",
            "Epoch 71: train loss: 0.030311322871401522\n",
            "valid loss: 0.02422615810668941\n",
            "New best score: 0.02422615810668941\n",
            "\n",
            "Epoch 72: train loss: 0.030242186806291114\n",
            "valid loss: 0.024170251472858215\n",
            "New best score: 0.024170251472858215\n",
            "\n",
            "Epoch 73: train loss: 0.030186914653877014\n",
            "valid loss: 0.024147748564181677\n",
            "New best score: 0.024147748564181677\n",
            "\n",
            "Epoch 74: train loss: 0.03012948329840924\n",
            "valid loss: 0.02412401575294878\n",
            "New best score: 0.02412401575294878\n",
            "\n",
            "Epoch 75: train loss: 0.030075406402360158\n",
            "valid loss: 0.024066191372242782\n",
            "New best score: 0.024066191372242782\n",
            "\n",
            "Epoch 76: train loss: 0.03002225948844005\n",
            "valid loss: 0.02404336860286367\n",
            "New best score: 0.02404336860286367\n",
            "\n",
            "Epoch 77: train loss: 0.029971457118779264\n",
            "valid loss: 0.024010276003318325\n",
            "New best score: 0.024010276003318325\n",
            "\n",
            "Epoch 78: train loss: 0.029917152272403796\n",
            "valid loss: 0.02394399638160493\n",
            "New best score: 0.02394399638160493\n",
            "\n",
            "Epoch 79: train loss: 0.029870490561351607\n",
            "valid loss: 0.023916417641738238\n",
            "New best score: 0.023916417641738238\n",
            "\n",
            "Epoch 80: train loss: 0.02981895512663519\n",
            "valid loss: 0.023909771456917535\n",
            "New best score: 0.023909771456917535\n",
            "\n",
            "Epoch 81: train loss: 0.02977280175054257\n",
            "valid loss: 0.023866438756243943\n",
            "New best score: 0.023866438756243943\n",
            "\n",
            "Epoch 82: train loss: 0.02972328020206316\n",
            "valid loss: 0.02384387067279936\n",
            "New best score: 0.02384387067279936\n",
            "\n",
            "Epoch 83: train loss: 0.029679559870359504\n",
            "valid loss: 0.02380388421668096\n",
            "New best score: 0.02380388421668096\n",
            "\n",
            "Epoch 84: train loss: 0.029658718251429114\n",
            "valid loss: 0.0237494408611025\n",
            "New best score: 0.0237494408611025\n",
            "\n",
            "Epoch 85: train loss: 0.029589174570200563\n",
            "valid loss: 0.023744254125424667\n",
            "New best score: 0.023744254125424667\n",
            "\n",
            "Epoch 86: train loss: 0.029546269202510512\n",
            "valid loss: 0.023701159143311487\n",
            "New best score: 0.023701159143311487\n",
            "\n",
            "Epoch 87: train loss: 0.029504896204804655\n",
            "valid loss: 0.023691351150920806\n",
            "New best score: 0.023691351150920806\n",
            "\n",
            "Epoch 88: train loss: 0.02945969572017436\n",
            "valid loss: 0.023641909531933444\n",
            "New best score: 0.023641909531933444\n",
            "\n",
            "Epoch 89: train loss: 0.029419359031630177\n",
            "valid loss: 0.023633196891687525\n",
            "New best score: 0.023633196891687525\n",
            "\n",
            "Epoch 90: train loss: 0.029414015511374913\n",
            "valid loss: 0.023599710749319748\n",
            "New best score: 0.023599710749319748\n",
            "\n",
            "Epoch 91: train loss: 0.029339052763247567\n",
            "valid loss: 0.023573860143123022\n",
            "New best score: 0.023573860143123022\n",
            "\n",
            "Epoch 92: train loss: 0.02930003567888129\n",
            "valid loss: 0.023549705263624182\n",
            "New best score: 0.023549705263624182\n",
            "\n",
            "Epoch 93: train loss: 0.02926524077901834\n",
            "valid loss: 0.023522354509233612\n",
            "New best score: 0.023522354509233612\n",
            "\n",
            "Epoch 94: train loss: 0.029224756892537253\n",
            "valid loss: 0.02347121606733589\n",
            "New best score: 0.02347121606733589\n",
            "\n",
            "Epoch 95: train loss: 0.029219079410112384\n",
            "valid loss: 0.023451568744058817\n",
            "New best score: 0.023451568744058817\n",
            "\n",
            "Epoch 96: train loss: 0.02915180831823505\n",
            "valid loss: 0.02344139741703135\n",
            "New best score: 0.02344139741703135\n",
            "\n",
            "Epoch 97: train loss: 0.02911395833753655\n",
            "valid loss: 0.023427086538009224\n",
            "New best score: 0.023427086538009224\n",
            "\n",
            "Epoch 98: train loss: 0.029078541315974486\n",
            "valid loss: 0.023384541284567753\n",
            "New best score: 0.023384541284567753\n",
            "\n",
            "Epoch 99: train loss: 0.029044054681212635\n",
            "valid loss: 0.023373129777355842\n",
            "New best score: 0.023373129777355842\n",
            "\n",
            "Epoch 100: train loss: 0.029015878442920615\n",
            "valid loss: 0.023344364532529086\n",
            "New best score: 0.023344364532529086\n",
            "\n",
            "Epoch 101: train loss: 0.02900512028355543\n",
            "valid loss: 0.023322706036727692\n",
            "New best score: 0.023322706036727692\n",
            "\n",
            "Epoch 102: train loss: 0.028943348047368044\n",
            "valid loss: 0.023298316433404884\n",
            "New best score: 0.023298316433404884\n",
            "\n",
            "Epoch 103: train loss: 0.02891120362700093\n",
            "valid loss: 0.02327675092201985\n",
            "New best score: 0.02327675092201985\n",
            "\n",
            "Epoch 104: train loss: 0.02887758106682414\n",
            "valid loss: 0.02327146548676035\n",
            "New best score: 0.02327146548676035\n",
            "\n",
            "Epoch 105: train loss: 0.02884834793055284\n",
            "valid loss: 0.0232509844073812\n",
            "New best score: 0.0232509844073812\n",
            "\n",
            "Epoch 106: train loss: 0.028816263561126335\n",
            "valid loss: 0.023220622146888917\n",
            "New best score: 0.023220622146888917\n",
            "\n",
            "Epoch 107: train loss: 0.028819601404094217\n",
            "valid loss: 0.023212433317574402\n",
            "New best score: 0.023212433317574402\n",
            "\n",
            "Epoch 108: train loss: 0.02875230162018059\n",
            "valid loss: 0.023167910031170223\n",
            "New best score: 0.023167910031170223\n",
            "\n",
            "Epoch 109: train loss: 0.028724223742373715\n",
            "valid loss: 0.02314641455142591\n",
            "New best score: 0.02314641455142591\n",
            "\n",
            "Epoch 110: train loss: 0.028695565846705913\n",
            "valid loss: 0.0231500262827129\n",
            "1  iterations since best score.\n",
            "\n",
            "Epoch 111: train loss: 0.028661473478808513\n",
            "valid loss: 0.02310514089707387\n",
            "New best score: 0.02310514089707387\n",
            "\n",
            "Epoch 112: train loss: 0.02866324730641271\n",
            "valid loss: 0.02310376037802812\n",
            "New best score: 0.02310376037802812\n",
            "\n",
            "Epoch 113: train loss: 0.028605209954882513\n",
            "valid loss: 0.023108920705367308\n",
            "1  iterations since best score.\n",
            "\n",
            "Epoch 114: train loss: 0.02857750784280758\n",
            "valid loss: 0.02305060486192179\n",
            "New best score: 0.02305060486192179\n",
            "\n",
            "Epoch 115: train loss: 0.02855812699821587\n",
            "valid loss: 0.023039490143295194\n",
            "New best score: 0.023039490143295194\n",
            "\n",
            "Epoch 116: train loss: 0.028532021703691814\n",
            "valid loss: 0.0230046807633092\n",
            "New best score: 0.0230046807633092\n",
            "\n",
            "Epoch 117: train loss: 0.02850005758706352\n",
            "valid loss: 0.022993201895774713\n",
            "New best score: 0.022993201895774713\n",
            "\n",
            "Epoch 118: train loss: 0.028473236627233913\n",
            "valid loss: 0.02299142276786797\n",
            "New best score: 0.02299142276786797\n",
            "\n",
            "Epoch 119: train loss: 0.02847517806218392\n",
            "valid loss: 0.022980852398380148\n",
            "New best score: 0.022980852398380148\n",
            "\n",
            "Epoch 120: train loss: 0.02842112327925861\n",
            "valid loss: 0.022962102283535353\n",
            "New best score: 0.022962102283535353\n",
            "\n",
            "Epoch 121: train loss: 0.028395735466608823\n",
            "valid loss: 0.022944880611532943\n",
            "New best score: 0.022944880611532943\n",
            "\n",
            "Epoch 122: train loss: 0.028369063178939214\n",
            "valid loss: 0.022936114907783807\n",
            "New best score: 0.022936114907783807\n",
            "\n",
            "Epoch 123: train loss: 0.0283439361657698\n",
            "valid loss: 0.022947911378199775\n",
            "1  iterations since best score.\n",
            "\n",
            "Epoch 124: train loss: 0.02832192075162784\n",
            "valid loss: 0.0229146814197709\n",
            "New best score: 0.0229146814197709\n",
            "\n",
            "Epoch 125: train loss: 0.028294059276326167\n",
            "valid loss: 0.022907830196651605\n",
            "New best score: 0.022907830196651605\n",
            "\n",
            "Epoch 126: train loss: 0.02827445255039548\n",
            "valid loss: 0.02287623230189777\n",
            "New best score: 0.02287623230189777\n",
            "\n",
            "Epoch 127: train loss: 0.028247995498629348\n",
            "valid loss: 0.02285433188920505\n",
            "New best score: 0.02285433188920505\n",
            "\n",
            "Epoch 128: train loss: 0.02821967506003931\n",
            "valid loss: 0.022812987341102764\n",
            "New best score: 0.022812987341102764\n",
            "\n",
            "Epoch 129: train loss: 0.028200366983259628\n",
            "valid loss: 0.022825595314863844\n",
            "1  iterations since best score.\n",
            "\n",
            "Epoch 130: train loss: 0.028199317011435517\n",
            "valid loss: 0.022812158279782516\n",
            "New best score: 0.022812158279782516\n",
            "\n",
            "Epoch 131: train loss: 0.02816828881166911\n",
            "valid loss: 0.02279558895903899\n",
            "New best score: 0.02279558895903899\n",
            "\n",
            "Epoch 132: train loss: 0.028135342368086798\n",
            "valid loss: 0.022771188255419822\n",
            "New best score: 0.022771188255419822\n",
            "\n",
            "Epoch 133: train loss: 0.028110219022333908\n",
            "valid loss: 0.022771075690582475\n",
            "New best score: 0.022771075690582475\n",
            "\n",
            "Epoch 134: train loss: 0.02808805577052725\n",
            "valid loss: 0.022756602781789145\n",
            "New best score: 0.022756602781789145\n",
            "\n",
            "Epoch 135: train loss: 0.02806496554892154\n",
            "valid loss: 0.02275203895409047\n",
            "New best score: 0.02275203895409047\n",
            "\n",
            "Epoch 136: train loss: 0.028045664148326842\n",
            "valid loss: 0.02271651958670121\n",
            "New best score: 0.02271651958670121\n",
            "\n",
            "Epoch 137: train loss: 0.028023307409358298\n",
            "valid loss: 0.022720496709677365\n",
            "1  iterations since best score.\n",
            "\n",
            "Epoch 138: train loss: 0.02800398318000836\n",
            "valid loss: 0.02269993373701766\n",
            "New best score: 0.02269993373701766\n",
            "\n",
            "Epoch 139: train loss: 0.027981189646300492\n",
            "valid loss: 0.022669551344435723\n",
            "New best score: 0.022669551344435723\n",
            "\n",
            "Epoch 140: train loss: 0.0279897741383978\n",
            "valid loss: 0.02266451197605112\n",
            "New best score: 0.02266451197605112\n",
            "\n",
            "Epoch 141: train loss: 0.027937547713527047\n",
            "valid loss: 0.02266878599830257\n",
            "1  iterations since best score.\n",
            "\n",
            "Epoch 142: train loss: 0.02791996895808399\n",
            "valid loss: 0.02264698962299306\n",
            "New best score: 0.02264698962299306\n",
            "\n",
            "Epoch 143: train loss: 0.027921524904062883\n",
            "valid loss: 0.02262176036239281\n",
            "New best score: 0.02262176036239281\n",
            "\n",
            "Epoch 144: train loss: 0.027918902698131437\n",
            "valid loss: 0.022610246118595773\n",
            "New best score: 0.022610246118595773\n",
            "\n",
            "Epoch 145: train loss: 0.027864598770390832\n",
            "valid loss: 0.02260223438077774\n",
            "New best score: 0.02260223438077774\n",
            "\n",
            "Epoch 146: train loss: 0.027840775645553466\n",
            "valid loss: 0.022583765292265377\n",
            "New best score: 0.022583765292265377\n",
            "\n",
            "Epoch 147: train loss: 0.02782915137622712\n",
            "valid loss: 0.022590949854309685\n",
            "1  iterations since best score.\n",
            "\n",
            "Epoch 148: train loss: 0.027800326755788553\n",
            "valid loss: 0.022557134212814068\n",
            "New best score: 0.022557134212814068\n",
            "\n",
            "Epoch 149: train loss: 0.02778188294880662\n",
            "valid loss: 0.02255472146341058\n",
            "New best score: 0.02255472146341058\n",
            "\n",
            "Epoch 150: train loss: 0.027762084457236227\n",
            "valid loss: 0.022544778715768227\n",
            "New best score: 0.022544778715768227\n",
            "\n",
            "Epoch 151: train loss: 0.027745425378606366\n",
            "valid loss: 0.022546226581650192\n",
            "1  iterations since best score.\n",
            "\n",
            "Epoch 152: train loss: 0.027726586375440725\n",
            "valid loss: 0.022518783219698104\n",
            "New best score: 0.022518783219698104\n",
            "\n",
            "Epoch 153: train loss: 0.02770836997143283\n",
            "valid loss: 0.022511777911548975\n",
            "New best score: 0.022511777911548975\n",
            "\n",
            "Epoch 154: train loss: 0.027684761892183263\n",
            "valid loss: 0.022528743806493577\n",
            "1  iterations since best score.\n",
            "\n",
            "Epoch 155: train loss: 0.02767932015345619\n",
            "valid loss: 0.022480235654667346\n",
            "New best score: 0.022480235654667346\n",
            "\n",
            "Epoch 156: train loss: 0.027658464158680396\n",
            "valid loss: 0.022468880787898934\n",
            "New best score: 0.022468880787898934\n",
            "\n",
            "Epoch 157: train loss: 0.02763515638622026\n",
            "valid loss: 0.02245914628220305\n",
            "New best score: 0.02245914628220305\n",
            "\n",
            "Epoch 158: train loss: 0.027619728344861226\n",
            "valid loss: 0.022461440432765854\n",
            "1  iterations since best score.\n",
            "\n",
            "Epoch 159: train loss: 0.027598312554879195\n",
            "valid loss: 0.02242528834008698\n",
            "New best score: 0.02242528834008698\n",
            "\n",
            "Epoch 160: train loss: 0.027582467709940432\n",
            "valid loss: 0.022433934666603154\n",
            "1  iterations since best score.\n",
            "\n",
            "Epoch 161: train loss: 0.027563636722069868\n",
            "valid loss: 0.022439968952135556\n",
            "2  iterations since best score.\n",
            "\n",
            "Epoch 162: train loss: 0.027572554786801765\n",
            "valid loss: 0.022396947112433164\n",
            "New best score: 0.022396947112433164\n",
            "\n",
            "Epoch 163: train loss: 0.027565714026388157\n",
            "valid loss: 0.022401131406080365\n",
            "1  iterations since best score.\n",
            "\n",
            "Epoch 164: train loss: 0.02751640456815003\n",
            "valid loss: 0.022379313743434073\n",
            "New best score: 0.022379313743434073\n",
            "\n",
            "Epoch 165: train loss: 0.02750866345030186\n",
            "valid loss: 0.022381737167677267\n",
            "1  iterations since best score.\n",
            "\n",
            "Epoch 166: train loss: 0.02748193039294389\n",
            "valid loss: 0.02237216109954472\n",
            "New best score: 0.02237216109954472\n",
            "\n",
            "Epoch 167: train loss: 0.02746443509437628\n",
            "valid loss: 0.022362899344383937\n",
            "New best score: 0.022362899344383937\n",
            "\n",
            "Epoch 168: train loss: 0.02744985975384762\n",
            "valid loss: 0.022340794798505842\n",
            "New best score: 0.022340794798505842\n",
            "\n",
            "Epoch 169: train loss: 0.027431515679404453\n",
            "valid loss: 0.022327414890140538\n",
            "New best score: 0.022327414890140538\n",
            "\n",
            "Epoch 170: train loss: 0.02741520817972093\n",
            "valid loss: 0.022332262714988872\n",
            "1  iterations since best score.\n",
            "\n",
            "Epoch 171: train loss: 0.02741375524082344\n",
            "valid loss: 0.022314519366717647\n",
            "New best score: 0.022314519366717647\n",
            "\n",
            "Epoch 172: train loss: 0.027416718914930353\n",
            "valid loss: 0.02229604098584523\n",
            "New best score: 0.02229604098584523\n",
            "\n",
            "Epoch 173: train loss: 0.027368070906514292\n",
            "valid loss: 0.02229671479467445\n",
            "1  iterations since best score.\n",
            "\n",
            "Epoch 174: train loss: 0.027351140595765974\n",
            "valid loss: 0.022280268594011908\n",
            "New best score: 0.022280268594011908\n",
            "\n",
            "Epoch 175: train loss: 0.027337438237263926\n",
            "valid loss: 0.022276707139385284\n",
            "New best score: 0.022276707139385284\n",
            "\n",
            "Epoch 176: train loss: 0.02732273480471181\n",
            "valid loss: 0.02226728175161152\n",
            "New best score: 0.02226728175161152\n",
            "\n",
            "Epoch 177: train loss: 0.027339471347833027\n",
            "valid loss: 0.022262210485683193\n",
            "New best score: 0.022262210485683193\n",
            "\n",
            "Epoch 178: train loss: 0.02728992176997203\n",
            "valid loss: 0.022242656890099327\n",
            "New best score: 0.022242656890099327\n",
            "\n",
            "Epoch 179: train loss: 0.02727717279463679\n",
            "valid loss: 0.022234820565615928\n",
            "New best score: 0.022234820565615928\n",
            "\n",
            "Epoch 180: train loss: 0.02725611984895375\n",
            "valid loss: 0.02220251973046631\n",
            "New best score: 0.02220251973046631\n",
            "\n",
            "Epoch 181: train loss: 0.02724492877216949\n",
            "valid loss: 0.02221604603001736\n",
            "1  iterations since best score.\n",
            "\n",
            "Epoch 182: train loss: 0.02722840628276862\n",
            "valid loss: 0.02219262407644769\n",
            "New best score: 0.02219262407644769\n",
            "\n",
            "Epoch 183: train loss: 0.027215742933462385\n",
            "valid loss: 0.022185659200675743\n",
            "New best score: 0.022185659200675743\n",
            "\n",
            "Epoch 184: train loss: 0.027200879418268\n",
            "valid loss: 0.02217249724087738\n",
            "New best score: 0.02217249724087738\n",
            "\n",
            "Epoch 185: train loss: 0.027185468024745172\n",
            "valid loss: 0.022170468411902018\n",
            "New best score: 0.022170468411902018\n",
            "\n",
            "Epoch 186: train loss: 0.027168686184489005\n",
            "valid loss: 0.022177058281224283\n",
            "1  iterations since best score.\n",
            "\n",
            "Epoch 187: train loss: 0.02718507460217004\n",
            "valid loss: 0.022162173221223668\n",
            "New best score: 0.022162173221223668\n",
            "\n",
            "Epoch 188: train loss: 0.02714508362394895\n",
            "valid loss: 0.02215754663536091\n",
            "New best score: 0.02215754663536091\n",
            "\n",
            "Epoch 189: train loss: 0.027125925097007297\n",
            "valid loss: 0.022162889556888023\n",
            "1  iterations since best score.\n",
            "\n",
            "Epoch 190: train loss: 0.02711234975941871\n",
            "valid loss: 0.02213358555263916\n",
            "New best score: 0.02213358555263916\n",
            "\n",
            "Epoch 191: train loss: 0.027098939306882654\n",
            "valid loss: 0.022126424758659443\n",
            "New best score: 0.022126424758659443\n",
            "\n",
            "Epoch 192: train loss: 0.027083905643461196\n",
            "valid loss: 0.022120582487159333\n",
            "New best score: 0.022120582487159333\n",
            "\n",
            "Epoch 193: train loss: 0.02707231266314545\n",
            "valid loss: 0.022103153286206594\n",
            "New best score: 0.022103153286206594\n",
            "\n",
            "Epoch 194: train loss: 0.027056646834921812\n",
            "valid loss: 0.02210493890487187\n",
            "1  iterations since best score.\n",
            "\n",
            "Epoch 195: train loss: 0.027048062440542146\n",
            "valid loss: 0.02209873254629758\n",
            "New best score: 0.02209873254629758\n",
            "\n",
            "Epoch 196: train loss: 0.027029640464660627\n",
            "valid loss: 0.02208431834466959\n",
            "New best score: 0.02208431834466959\n",
            "\n",
            "Epoch 197: train loss: 0.02701611754802335\n",
            "valid loss: 0.022075209869173624\n",
            "New best score: 0.022075209869173624\n",
            "\n",
            "Epoch 198: train loss: 0.026998164923772588\n",
            "valid loss: 0.022047285173760086\n",
            "New best score: 0.022047285173760086\n",
            "\n",
            "Epoch 199: train loss: 0.026989538451820526\n",
            "valid loss: 0.02205482066069511\n",
            "1  iterations since best score.\n",
            "\n",
            "Epoch 200: train loss: 0.026974614173615526\n",
            "valid loss: 0.022044633544950943\n",
            "New best score: 0.022044633544950943\n",
            "\n",
            "Epoch 201: train loss: 0.026961927059779647\n",
            "valid loss: 0.022038327695425252\n",
            "New best score: 0.022038327695425252\n",
            "\n",
            "Epoch 202: train loss: 0.026946965430508837\n",
            "valid loss: 0.02202037673397753\n",
            "New best score: 0.02202037673397753\n",
            "\n",
            "Epoch 203: train loss: 0.02693202153287194\n",
            "valid loss: 0.02200198609717801\n",
            "New best score: 0.02200198609717801\n",
            "\n",
            "Epoch 204: train loss: 0.026922010380354484\n",
            "valid loss: 0.022015671340158322\n",
            "1  iterations since best score.\n",
            "\n",
            "Epoch 205: train loss: 0.026903756733237628\n",
            "valid loss: 0.021983484512887123\n",
            "New best score: 0.021983484512887123\n",
            "\n",
            "Epoch 206: train loss: 0.026894212994692458\n",
            "valid loss: 0.022006114057514594\n",
            "1  iterations since best score.\n",
            "\n",
            "Epoch 207: train loss: 0.026882295248349754\n",
            "valid loss: 0.02199386700102296\n",
            "2  iterations since best score.\n",
            "\n",
            "Epoch 208: train loss: 0.026868062932355895\n",
            "valid loss: 0.021992168629979665\n",
            "3  iterations since best score.\n",
            "Early stopping\n"
          ]
        }
      ],
      "source": [
        "def training_loop(model,training_generator,valid_generator,optimizer,criterion,max_epochs=100,apply_early_stopping=True,patience=2,verbose=False):\n",
        "    #Setting the model in training mode\n",
        "    model.train()\n",
        "\n",
        "    if apply_early_stopping:\n",
        "        early_stopping = EarlyStopping(verbose=verbose,patience=patience)\n",
        "\n",
        "    all_train_losses = []\n",
        "    all_valid_losses = []\n",
        "\n",
        "    #Training loop\n",
        "    start_time=time.time()\n",
        "    for epoch in range(max_epochs):\n",
        "        model.train()\n",
        "        train_loss=[]\n",
        "        for x_batch, y_batch in training_generator:\n",
        "            optimizer.zero_grad()\n",
        "            y_pred = model(x_batch)\n",
        "            loss = criterion(y_pred.squeeze(), y_batch)\n",
        "            loss.backward()\n",
        "            optimizer.step()\n",
        "            train_loss.append(loss.item())\n",
        "\n",
        "        #showing last training loss after each epoch\n",
        "        all_train_losses.append(np.mean(train_loss))\n",
        "        if verbose:\n",
        "            print('')\n",
        "            print('Epoch {}: train loss: {}'.format(epoch, np.mean(train_loss)))\n",
        "        #evaluating the model on the test set after each epoch\n",
        "        valid_loss = evaluate_model(model,valid_generator,criterion)\n",
        "        all_valid_losses.append(valid_loss)\n",
        "        if verbose:\n",
        "            print('valid loss: {}'.format(valid_loss))\n",
        "        if apply_early_stopping:\n",
        "            if not early_stopping.continue_training(valid_loss):\n",
        "                if verbose:\n",
        "                    print(\"Early stopping\")\n",
        "                break\n",
        "\n",
        "    training_execution_time=time.time()-start_time\n",
        "    return model,training_execution_time,all_train_losses,all_valid_losses\n",
        "\n",
        "model,training_execution_time,train_losses,valid_losses = training_loop(model,training_generator,valid_generator,optimizer,criterion,max_epochs=500,verbose=True)"
      ]
    },
    {
      "cell_type": "markdown",
      "metadata": {
        "id": "9ZC8cGWmf_VQ"
      },
      "source": [
        "After 251 epochs, the model stops learning because the validation performance has not improved for three iterations. Here the optimal model (from epoch 248) is not saved, but this could be implemented by simply adding `torch.save(model.state_dict(), checkpoint_path)` in the `EarlyStopping` class whenever a new best performance is reached. This allows reloading the saved best checkpoint at the end of the training."
      ]
    },
    {
      "cell_type": "markdown",
      "metadata": {
        "id": "K0puXiKVf_VR"
      },
      "source": [
        "Now that a clean optimization process is defined, one can consider several solutions to speed up and improve convergence towards a decent extremum. The most natural way to do so is to play with the optimizer hyperparameters like the learning rate and the batch size. With a large learning rate, gradient descent is fast at the beginning, but then the optimizer struggles to find the minimum. Adaptive learning rate techniques like Adam/RMSProp take into account the steepness by normalizing the learning rate with respect to the gradient norm. Below are the formulas to update on a model parameter $w_t$ with Adam.\n",
        "\n",
        "$w_{t+1} = w_t - \\frac{\\eta}{\\sqrt{\\hat{v_t}+\\epsilon}}*\\hat{m_t}$\n",
        "\n",
        "Where:\n",
        "\n",
        "$m_t = \\beta_1 * m_{t-1} + (1-\\beta_1)*\\nabla w_t$\n",
        "\n",
        "$v_t = \\beta_2 * v_{t-1} + (1-\\beta_2)*(\\nabla w_t)^2$\n",
        "\n",
        "$\\hat{m_t}=\\frac{m_t}{1-\\beta_1^t}$\n",
        "\n",
        "$\\hat{v_t}=\\frac{v_t}{1-\\beta_2^t}$\n",
        "\n",
        "The difference with SGD is that here the learning rate is normalized using the \"gradient norm\" ($\\approx \\hat{m_t}$). To be more precise, the approach does not use the \"raw\" gradient $\\nabla w_t$ and gradient norm $\\nabla w_t^2$ but a momentum instead (convex combination between previous values and the current value), respectively $m_t$ and $v_t$. It also applies a decay over the iterations.\n",
        "\n",
        "Let us try Adam with an initial learning rate of `0.0005` to see the difference with regular SGD."
      ]
    },
    {
      "cell_type": "code",
      "execution_count": 29,
      "metadata": {
        "tags": [
          "output_scroll"
        ],
        "colab": {
          "base_uri": "https://localhost:8080/"
        },
        "id": "RF6-r29cf_VR",
        "outputId": "12ce7800-c59a-43db-8157-c9ca857759f8"
      },
      "outputs": [
        {
          "output_type": "stream",
          "name": "stdout",
          "text": [
            "\n",
            "Epoch 0: train loss: 0.045495369648792375\n",
            "valid loss: 0.022971049722925317\n",
            "New best score: 0.022971049722925317\n",
            "\n",
            "Epoch 1: train loss: 0.026674137918419254\n",
            "valid loss: 0.02075348825911518\n",
            "New best score: 0.02075348825911518\n",
            "\n",
            "Epoch 2: train loss: 0.02477492432541394\n",
            "valid loss: 0.0221220176168234\n",
            "1  iterations since best score.\n",
            "\n",
            "Epoch 3: train loss: 0.023550382167560335\n",
            "valid loss: 0.021128113266548825\n",
            "2  iterations since best score.\n",
            "\n",
            "Epoch 4: train loss: 0.022702606752257524\n",
            "valid loss: 0.01978815727551656\n",
            "New best score: 0.01978815727551656\n",
            "\n",
            "Epoch 5: train loss: 0.02225647951878276\n",
            "valid loss: 0.019103687776690297\n",
            "New best score: 0.019103687776690297\n",
            "\n",
            "Epoch 6: train loss: 0.021778541016432475\n",
            "valid loss: 0.019239709430369116\n",
            "1  iterations since best score.\n",
            "\n",
            "Epoch 7: train loss: 0.021253987976610766\n",
            "valid loss: 0.01938857374130112\n",
            "2  iterations since best score.\n",
            "\n",
            "Epoch 8: train loss: 0.020835513501792226\n",
            "valid loss: 0.018436272283049067\n",
            "New best score: 0.018436272283049067\n",
            "\n",
            "Epoch 9: train loss: 0.020572694835171147\n",
            "valid loss: 0.018183279248168233\n",
            "New best score: 0.018183279248168233\n",
            "\n",
            "Epoch 10: train loss: 0.020247016205358005\n",
            "valid loss: 0.0183627677846018\n",
            "1  iterations since best score.\n",
            "\n",
            "Epoch 11: train loss: 0.02004488016830189\n",
            "valid loss: 0.018201695743673404\n",
            "2  iterations since best score.\n",
            "\n",
            "Epoch 12: train loss: 0.01974770938832915\n",
            "valid loss: 0.01798238993623635\n",
            "New best score: 0.01798238993623635\n",
            "\n",
            "Epoch 13: train loss: 0.01966681163567724\n",
            "valid loss: 0.01953509679010718\n",
            "1  iterations since best score.\n",
            "\n",
            "Epoch 14: train loss: 0.01915717007533111\n",
            "valid loss: 0.01863292527939778\n",
            "2  iterations since best score.\n",
            "\n",
            "Epoch 15: train loss: 0.01906825226804386\n",
            "valid loss: 0.017777875843623277\n",
            "New best score: 0.017777875843623277\n",
            "\n",
            "Epoch 16: train loss: 0.018809903930693716\n",
            "valid loss: 0.019534434249517736\n",
            "1  iterations since best score.\n",
            "\n",
            "Epoch 17: train loss: 0.018633608751036368\n",
            "valid loss: 0.01734763130792442\n",
            "New best score: 0.01734763130792442\n",
            "\n",
            "Epoch 18: train loss: 0.01845495874450825\n",
            "valid loss: 0.018639460174606024\n",
            "1  iterations since best score.\n",
            "\n",
            "Epoch 19: train loss: 0.018130703444590873\n",
            "valid loss: 0.017789174852411826\n",
            "2  iterations since best score.\n",
            "\n",
            "Epoch 20: train loss: 0.017934728001636573\n",
            "valid loss: 0.01877947729564389\n",
            "3  iterations since best score.\n",
            "Early stopping\n"
          ]
        }
      ],
      "source": [
        "seed_everything(SEED)\n",
        "model = SimpleFraudMLP(len(input_features), 1000).to(DEVICE)\n",
        "optimizer = torch.optim.Adam(model.parameters(), lr = 0.0005)\n",
        "model,training_execution_time,train_losses_adam,valid_losses_adam = training_loop(model,training_generator,valid_generator,optimizer,criterion,verbose=True)"
      ]
    },
    {
      "cell_type": "code",
      "execution_count": 30,
      "metadata": {
        "colab": {
          "base_uri": "https://localhost:8080/",
          "height": 490
        },
        "id": "-rz8498Df_VR",
        "outputId": "5d138479-52ff-4deb-e4b5-d841ac59e5ec"
      },
      "outputs": [
        {
          "output_type": "execute_result",
          "data": {
            "text/plain": [
              "(0.01, 0.06)"
            ]
          },
          "metadata": {},
          "execution_count": 30
        },
        {
          "output_type": "display_data",
          "data": {
            "text/plain": [
              "<Figure size 640x480 with 2 Axes>"
            ],
            "image/png": "[encoded data removed]"
          },
          "metadata": {}
        }
      ],
      "source": [
        "plt.subplot(1, 2, 1)\n",
        "plt.plot(np.arange(len(train_losses))+1, train_losses)\n",
        "plt.plot(np.arange(len(valid_losses))+1, valid_losses)\n",
        "plt.title(\"SGD\")\n",
        "plt.xlabel('epoch')\n",
        "plt.ylabel('loss')\n",
        "plt.legend(['train','valid'])\n",
        "plt.ylim([0.01,0.06])\n",
        "\n",
        "plt.subplot(1, 2, 2)\n",
        "plt.plot(np.arange(len(train_losses_adam))+1, train_losses_adam)\n",
        "plt.plot(np.arange(len(valid_losses_adam))+1, valid_losses_adam)\n",
        "plt.title(\"ADAM\")\n",
        "plt.xlabel('epoch')\n",
        "plt.ylabel('loss')\n",
        "plt.legend(['train','valid'])\n",
        "plt.ylim([0.01,0.06])\n"
      ]
    },
    {
      "cell_type": "markdown",
      "metadata": {
        "id": "z3wmrJbjf_VR"
      },
      "source": [
        "The optimization is much faster with Adam (10 times fewer epochs) and it reaches a better optimum. Of course, increasing patience or changing the learning rate with SGD would probably help improve both speed and optimum. Nevertheless, Adam will be retained for the rest of the chapter as it usually allows very decent performance **without significant tuning**. To build the final neural network later, the tuning will mostly be made using batch size and initial learning rate."
      ]
    },
    {
      "cell_type": "markdown",
      "metadata": {
        "id": "Ej-tTooYf_VR"
      },
      "source": [
        "Here are only mentioned the optimizer's choice and some hyperparameters tuning for the optimization process. But keep in mind that neural network optimization is a very wide and active area of research/engineering. For instance, with Deep Networks, one can apply batch normalization after each layer to standardize the distribution and speed up convergence. One can also reduce the learning rate when validation loss reaches a plateau (`torch.optim.ReduceLROnPlateau`). For a full guide on Deep Learning optimization, we recommend {cite}`ruder2016overview,le2011optimization`."
      ]
    },
    {
      "cell_type": "markdown",
      "metadata": {
        "id": "blG8c2kIf_VS"
      },
      "source": [
        "## Regularization"
      ]
    },
    {
      "cell_type": "markdown",
      "metadata": {
        "id": "O95eVI4Xf_VS"
      },
      "source": [
        "A classical way to improve generalization and reach a better validation performance is to regularize the model. Roughly speaking, regularization consists in limiting the model expressiveness in order to reduce overfitting.\n",
        "\n",
        "The most common technique to regularize a machine learning model is to restrict its parameter space, for instance, its norm, by adding a term in the optimization problem. Additionally, to minimize the discrepancy between ground truth and prediction, integrating an L1 norm (resp. L2 norm) term in the loss will entail parameter sparsity (resp. will limit parameters amplitude). The initial solution space is generally full of equivalent solutions (e.g. with linear activations, dividing all input weights of a neuron by 2 and multiplying all of its output weights by 2 leads to an equivalent model), so the restrictions entailed by regularization not only limits overfitting but also reduces the search and can help with optimization. Finally, selecting a solution with minimal norm follows the principle of \"All things being equal, the simplest solution tends to be the best one\", a scientific principle often referred to as the [Occam's razor](https://en.wikipedia.org/wiki/Occam's_razor).\n",
        "\n",
        "In contrast to adding loss terms, there is a regularization technique specifically designed for Neural Networks called dropout. Dropout consists in randomly dropping some neurons from the network at each training step. More precisely, one fixes a dropout parameter p∈[0,1], and, for each mini-batch, for each neuron, performs a coin toss (Bernoulli) with probability p. If positive, one temporarily sets the neuron's weights to zero (so that the dropped neuron is not considered during the forward and backward passes). It is equivalent to training a random sub-network at each mini-batch (Figure 5), and it can be proven that this has an L2-regularization effect on specific architectures {cite}`srivastava2014dropout`.\n",
        "\n",
        "![alt text](https://github.com/Fraud-Detection-Handbook/fraud-detection-handbook/blob/main/Chapter_7_DeepLearning/images/dropout.png?raw=1)\n",
        "Image source: {cite}`srivastava2014dropout`\n",
        "\n",
        "To implement it, let us define a new model with an additional `torch.nn.Dropout` layer."
      ]
    },
    {
      "cell_type": "code",
      "execution_count": 31,
      "metadata": {
        "id": "moOOCSCpf_VS"
      },
      "outputs": [],
      "source": [
        "class SimpleFraudMLPWithDropout(torch.nn.Module):\n",
        "\n",
        "        def __init__(self, input_size, hidden_size,p):\n",
        "            super(SimpleFraudMLPWithDropout, self).__init__()\n",
        "            # parameters\n",
        "            self.input_size = input_size\n",
        "            self.hidden_size  = hidden_size\n",
        "            self.p = p\n",
        "\n",
        "            #input to hidden\n",
        "            self.fc1 = torch.nn.Linear(self.input_size, self.hidden_size)\n",
        "            self.relu = torch.nn.ReLU()\n",
        "            #hidden to output\n",
        "            self.fc2 = torch.nn.Linear(self.hidden_size, 1)\n",
        "            self.sigmoid = torch.nn.Sigmoid()\n",
        "\n",
        "            self.dropout = torch.nn.Dropout(self.p)\n",
        "\n",
        "        def forward(self, x):\n",
        "\n",
        "            hidden = self.fc1(x)\n",
        "            hidden = self.relu(hidden)\n",
        "\n",
        "            hidden = self.dropout(hidden)\n",
        "\n",
        "            output = self.fc2(hidden)\n",
        "            output = self.sigmoid(output)\n",
        "\n",
        "            return output"
      ]
    },
    {
      "cell_type": "markdown",
      "metadata": {
        "id": "jKutNh1Jf_VS"
      },
      "source": [
        "Note that setting the model in training/evaluation mode with the methods `model.eval()` and `model.train()` take all its significance here. In particular, the dropout layer in the forward pass is only applied when the model is in training mode."
      ]
    },
    {
      "cell_type": "code",
      "execution_count": 32,
      "metadata": {
        "id": "MmypLvi2f_VS"
      },
      "outputs": [],
      "source": [
        "seed_everything(SEED)\n",
        "model = SimpleFraudMLPWithDropout(len(input_features), 1000,0.2).to(DEVICE)\n",
        "optimizer = torch.optim.Adam(model.parameters(), lr = 0.0005)\n",
        "model,training_execution_time,train_losses_dropout,valid_losses_dropout = training_loop(model,training_generator,valid_generator,optimizer,criterion,verbose=False)"
      ]
    },
    {
      "cell_type": "code",
      "execution_count": 33,
      "metadata": {
        "colab": {
          "base_uri": "https://localhost:8080/",
          "height": 490
        },
        "id": "rE6aekAcf_VS",
        "outputId": "5655d116-916f-47ea-e01d-fc4ac39e37ce"
      },
      "outputs": [
        {
          "output_type": "execute_result",
          "data": {
            "text/plain": [
              "<matplotlib.legend.Legend at 0x792122094740>"
            ]
          },
          "metadata": {},
          "execution_count": 33
        },
        {
          "output_type": "display_data",
          "data": {
            "text/plain": [
              "<Figure size 640x480 with 1 Axes>"
            ],
            "image/png": "[encoded data removed]"
          },
          "metadata": {}
        }
      ],
      "source": [
        "plt.plot(np.arange(len(train_losses_adam))+1, train_losses_adam)\n",
        "plt.plot(np.arange(len(valid_losses_adam))+1, valid_losses_adam)\n",
        "plt.plot(np.arange(len(train_losses_dropout))+1, train_losses_dropout)\n",
        "plt.plot(np.arange(len(valid_losses_dropout))+1, valid_losses_dropout)\n",
        "plt.title(\"Dropout effect\")\n",
        "plt.xlabel('epoch')\n",
        "plt.ylabel('loss')\n",
        "plt.legend(['train w/o dropout','valid w/o dropout','train w/ dropout','valid w/ dropout'])"
      ]
    },
    {
      "cell_type": "markdown",
      "metadata": {
        "id": "l9CswcY9f_VT"
      },
      "source": [
        "It is generally reported that a small dropout value can lead to better generalization results than no dropout, but it can sometimes be the opposite if the training data are very rich, if the training distribution is close to the valid/test distribution, and if the model is already not too expressive. So, the best practice is to consider dropout as a hyperparameter (that could be set to 0) and tune it with a hyperparameter search.\n",
        "\n",
        "In addition to the L2-regularization effect, dropout can be seen as a very powerful mechanism that mimics ensembling strategies like bagging (the model can be seen as an ensemble of submodels trained on different subsets of data) {cite}`goodfellow2016deep`."
      ]
    },
    {
      "cell_type": "markdown",
      "metadata": {
        "id": "UaJOFRyzf_VT"
      },
      "source": [
        "## Scaling the inputs"
      ]
    },
    {
      "cell_type": "markdown",
      "metadata": {
        "id": "JPZgjxVef_VT"
      },
      "source": [
        "XGBoost and random forests learn splits on single features and therefore are robust to the scale and distribution of the values. On the contrary, in a neural network, each neuron of the first layer learns a linear combination of all the features. Therefore, it is easier to train the neurons when all features have the same range and are normally distributed. The first property can be easily implemented by applying min-max or standard scaling on the features. As for the second property, it depends on the original distribution of the features. Some of them are not normally distributed and have non-linear scales (e.g. amount): increasing the amount by 5 dollars should not have the same effect if the starting point is 5 dollars or if the starting point is 100 dollars. It turns out that applying the log function on such features can make their distribution slightly more normal which makes it easier for feed-forward neural networks to learn from them."
      ]
    },
    {
      "cell_type": "code",
      "execution_count": 34,
      "metadata": {
        "id": "B6B7V2HVf_VT"
      },
      "outputs": [],
      "source": [
        "(train_df, valid_df)=get_train_test_set(transactions_df,start_date_training_with_valid,\n",
        "                                       delta_train=delta_train,delta_delay=delta_delay,delta_test=delta_test)"
      ]
    },
    {
      "cell_type": "markdown",
      "metadata": {
        "id": "2VysVDDwf_VT"
      },
      "source": [
        "For instance here is how the original amounts look like:"
      ]
    },
    {
      "cell_type": "code",
      "execution_count": 35,
      "metadata": {
        "colab": {
          "base_uri": "https://localhost:8080/",
          "height": 430
        },
        "id": "NzItaJphf_VT",
        "outputId": "eaec089c-c8c4-4f29-aa89-3a80d4a5bf6c"
      },
      "outputs": [
        {
          "output_type": "display_data",
          "data": {
            "text/plain": [
              "<Figure size 640x480 with 1 Axes>"
            ],
            "image/png": "[encoded data removed]"
          },
          "metadata": {}
        }
      ],
      "source": [
        "_ = plt.hist(train_df['TX_AMOUNT'].values,bins=20)"
      ]
    },
    {
      "cell_type": "markdown",
      "metadata": {
        "id": "dGvqvCbIf_VT"
      },
      "source": [
        "And now let us apply the log function to it. To obtain a positive log for the feature that is in [0,+∞[, an idea is to add 1 and then apply the log function (which is equivalent to applying the `log1p` function in `numpy`). This leads to a preprocessed feature that belongs to [0,+∞[ and it can then be standardized. Here is how the amounts are distributed after all these steps:"
      ]
    },
    {
      "cell_type": "code",
      "execution_count": 36,
      "metadata": {
        "colab": {
          "base_uri": "https://localhost:8080/",
          "height": 430
        },
        "id": "5hsPWXUyf_VU",
        "outputId": "41d9b16f-9e26-4b08-b022-d89aa368343c"
      },
      "outputs": [
        {
          "output_type": "display_data",
          "data": {
            "text/plain": [
              "<Figure size 640x480 with 1 Axes>"
            ],
            "image/png": "[encoded data removed]"
          },
          "metadata": {}
        }
      ],
      "source": [
        "_ = plt.hist(sklearn.preprocessing.StandardScaler().fit_transform(np.log1p(train_df['TX_AMOUNT'].values).reshape(-1, 1)),bins=20)"
      ]
    },
    {
      "cell_type": "markdown",
      "metadata": {
        "id": "Fs2TwKK6f_VU"
      },
      "source": [
        "Note that here, our artificial data were generated with Gaussians so the `np.log1p` is not very useful in practice. But keep in mind that on real-world data, the original scale of features like amount is far from normally distributed and this operation turns out to be quite often useful.\n",
        "\n",
        "Let us forget about the log for now and just analyze the impact of scaling the features on our Neural Network's training. More precisely, let us see the difference between no scaling at all and standard scaling. A smaller learning rate of `0.0001` will be chosen here for the experiment without scaling to avoid divergence."
      ]
    },
    {
      "cell_type": "code",
      "execution_count": 37,
      "metadata": {
        "id": "wN7S1_uDf_VU"
      },
      "outputs": [],
      "source": [
        "#we did not call the function scaleData this time\n",
        "seed_everything(SEED)\n",
        "training_generator,valid_generator = prepare_generators(train_df,valid_df,batch_size=64)\n",
        "\n",
        "model = SimpleFraudMLPWithDropout(len(input_features), 1000,0.2).to(DEVICE)\n",
        "optimizer = torch.optim.Adam(model.parameters(), lr = 0.0001)\n",
        "model,training_execution_time,train_losses_without_scaling,valid_losses_without_scaling = training_loop(model,training_generator,valid_generator,optimizer,criterion,verbose=False)"
      ]
    },
    {
      "cell_type": "code",
      "execution_count": 38,
      "metadata": {
        "colab": {
          "base_uri": "https://localhost:8080/",
          "height": 490
        },
        "id": "FzWCpbgof_VU",
        "outputId": "2671f7dc-9002-4af2-926f-b5f84953c144"
      },
      "outputs": [
        {
          "output_type": "execute_result",
          "data": {
            "text/plain": [
              "<matplotlib.legend.Legend at 0x792121e504d0>"
            ]
          },
          "metadata": {},
          "execution_count": 38
        },
        {
          "output_type": "display_data",
          "data": {
            "text/plain": [
              "<Figure size 640x480 with 1 Axes>"
            ],
            "image/png": "[encoded data removed]"
          },
          "metadata": {}
        }
      ],
      "source": [
        "plt.plot(np.arange(len(train_losses_without_scaling))+1, train_losses_without_scaling)\n",
        "plt.plot(np.arange(len(valid_losses_without_scaling))+1, valid_losses_without_scaling)\n",
        "plt.plot(np.arange(len(train_losses_dropout))+1, train_losses_dropout)\n",
        "plt.plot(np.arange(len(valid_losses_dropout))+1, valid_losses_dropout)\n",
        "plt.title('Scaling effect')\n",
        "plt.xlabel('epoch')\n",
        "plt.ylabel('loss')\n",
        "plt.legend(['train w/o scaling','valid w/o scaling','train w/ scaling','valid w/ scaling'])"
      ]
    },
    {
      "cell_type": "markdown",
      "metadata": {
        "id": "-PIs1jqEf_VV"
      },
      "source": [
        "The train/valid losses are smoother and reach much better levels faster when the data is normalized with standard scaling."
      ]
    },
    {
      "cell_type": "code",
      "execution_count": 39,
      "metadata": {
        "id": "GqmFmvB5f_VV"
      },
      "outputs": [],
      "source": [
        "# Let us rescale data for the next parts\n",
        "(train_df, valid_df)=scaleData(train_df, valid_df,input_features)"
      ]
    },
    {
      "cell_type": "markdown",
      "metadata": {
        "id": "_eQTsAMpf_VV"
      },
      "source": [
        "## Embeddings"
      ]
    },
    {
      "cell_type": "markdown",
      "metadata": {
        "id": "YO-ccyuSf_VW"
      },
      "source": [
        "Properly taking into account categorical variables is maybe one of the main advantages of neural networks. In the first chapters, [feature transformation techniques](Baseline_Feature_Transformation) were applied to categorical features like day, Customer ID, Terminal ID, in order to make them binary or to extract numerical features from them.\n",
        "\n",
        "In real-world data, categorical features are frequent (Country, Merchant Type, hour, type of payment, ...). But most machine learning algorithms require features to be numerical. Take the example of linear regression: it is basically a weighted sum of the features' values. For numerical features, it makes sense to consider that their impact is proportional to their value (e.g. the smaller the delay between two transactions, the higher the fraud risk), but it does not make sense for a nominal feature like a Country that can take the values \"USA\", \"France\", \"Belgium\". For the latter, a transformation is necessary. The most common choices are:\n",
        "\n",
        "* One-hot encoding: a binary feature is defined for each modality (e.g. \"country_is_USA\", \"country_is_France\" and \"country_is_Belgium\").\n",
        "* Frequency-based encoding: The frequency (or another statistic) of each modality is computed and the index of the modality is replaced with the value of the statistic.\n",
        "* Label-correlation encoding: It is close to frequency encoding but here a statistic correlated with the label is computed. For instance, each modality can be replaced with its proportion of fraud in the training data.\n",
        "\n",
        "With neural networks, one can make use of embedding layers to encode categorical variables. More precisely, the idea is to let the neural network itself learn a representation of each modality of the categorical variable in a continuous vector space of dimension k, chosen by the practitioner. These representations can be learned end-to-end to make the feed-forward network optimal for the fraud detection task. They can also be learned with a different objective like predicting the sequences of countries visited by cardholders (unsupervised pre-training) and then later used for fraud detection, either with a neural network classifier or any other classifier (XGBoost, random forest, etc.).\n",
        "\n",
        "![Embedding layer illustration](https://github.com/Fraud-Detection-Handbook/fraud-detection-handbook/blob/main/Chapter_7_DeepLearning/images/embedding.png?raw=1)\n",
        "\n",
        "Note that learning an embedding of dimension $k$ for a categorical feature is computationally equivalent to learning a classical fully connected layer that takes as input the one-hot encoding of the feature and outputs $k$ neurons.\n",
        "\n",
        "To test embedding layers, let us try to add extra categorical inputs in $x$ and let the model learn embedding for them. Our last neural network was trained on the following features:"
      ]
    },
    {
      "cell_type": "code",
      "execution_count": 40,
      "metadata": {
        "colab": {
          "base_uri": "https://localhost:8080/"
        },
        "id": "IitWTdsrf_VW",
        "outputId": "7c0731c3-2b06-446f-e18b-689564dd4bf7"
      },
      "outputs": [
        {
          "output_type": "execute_result",
          "data": {
            "text/plain": [
              "['TX_AMOUNT',\n",
              " 'TX_DURING_WEEKEND',\n",
              " 'TX_DURING_NIGHT',\n",
              " 'CUSTOMER_ID_NB_TX_1DAY_WINDOW',\n",
              " 'CUSTOMER_ID_AVG_AMOUNT_1DAY_WINDOW',\n",
              " 'CUSTOMER_ID_NB_TX_7DAY_WINDOW',\n",
              " 'CUSTOMER_ID_AVG_AMOUNT_7DAY_WINDOW',\n",
              " 'CUSTOMER_ID_NB_TX_30DAY_WINDOW',\n",
              " 'CUSTOMER_ID_AVG_AMOUNT_30DAY_WINDOW',\n",
              " 'TERMINAL_ID_NB_TX_1DAY_WINDOW',\n",
              " 'TERMINAL_ID_RISK_1DAY_WINDOW',\n",
              " 'TERMINAL_ID_NB_TX_7DAY_WINDOW',\n",
              " 'TERMINAL_ID_RISK_7DAY_WINDOW',\n",
              " 'TERMINAL_ID_NB_TX_30DAY_WINDOW',\n",
              " 'TERMINAL_ID_RISK_30DAY_WINDOW']"
            ]
          },
          "metadata": {},
          "execution_count": 40
        }
      ],
      "source": [
        "input_features"
      ]
    },
    {
      "cell_type": "markdown",
      "metadata": {
        "id": "iOrF21wTf_VW"
      },
      "source": [
        "Let us add, for example, the raw terminal id and the day of the week as categorical input features:"
      ]
    },
    {
      "cell_type": "code",
      "execution_count": 41,
      "metadata": {
        "id": "xq29s1L0f_VX"
      },
      "outputs": [],
      "source": [
        "def weekday(tx_datetime):\n",
        "\n",
        "    # Transform date into weekday (0 is Monday, 6 is Sunday)\n",
        "    weekday = tx_datetime.weekday()\n",
        "\n",
        "    return int(weekday)"
      ]
    },
    {
      "cell_type": "code",
      "execution_count": 42,
      "metadata": {
        "id": "ndza2lRAf_VX"
      },
      "outputs": [],
      "source": [
        "train_df['TX_WEEKDAY'] = train_df.TX_DATETIME.apply(weekday)\n",
        "valid_df['TX_WEEKDAY'] = valid_df.TX_DATETIME.apply(weekday)\n",
        "input_categorical_features = ['TX_WEEKDAY','TERMINAL_ID']\n"
      ]
    },
    {
      "cell_type": "markdown",
      "metadata": {
        "id": "wyUr9KHAf_VX"
      },
      "source": [
        "Let us now define a new neural network model with two embedding layers. `TX_WEEKDAY` and `TERMINAL_ID` will both go through one of them, and each will be turned into a vector. Then they will be concatenated with the numerical features and the whole will go through a network similar to our previous architecture."
      ]
    },
    {
      "cell_type": "code",
      "execution_count": 43,
      "metadata": {
        "id": "8_DKVkDLf_VX"
      },
      "outputs": [],
      "source": [
        "class FraudMLPWithEmbedding(torch.nn.Module):\n",
        "\n",
        "        def __init__(self, categorical_inputs_modalities,numerical_inputs_size,embedding_sizes, hidden_size,p):\n",
        "            super(FraudMLPWithEmbedding, self).__init__()\n",
        "            # parameters\n",
        "            self.categorical_inputs_modalities = categorical_inputs_modalities\n",
        "            self.numerical_inputs_size = numerical_inputs_size\n",
        "            self.embedding_sizes = embedding_sizes\n",
        "            self.hidden_size  = hidden_size\n",
        "            self.p = p\n",
        "\n",
        "            assert len(categorical_inputs_modalities)==len(embedding_sizes), 'categorical_inputs_modalities and embedding_sizes must have the same length'\n",
        "\n",
        "            #embedding layers\n",
        "            self.emb = []\n",
        "            for i in range(len(categorical_inputs_modalities)):\n",
        "                self.emb.append(torch.nn.Embedding(int(categorical_inputs_modalities[i]), int(embedding_sizes[i])).to(DEVICE))\n",
        "\n",
        "\n",
        "            #contenated inputs to hidden\n",
        "            self.fc1 = torch.nn.Linear(self.numerical_inputs_size+int(np.sum(embedding_sizes)), self.hidden_size)\n",
        "            self.relu = torch.nn.ReLU()\n",
        "            #hidden to output\n",
        "            self.fc2 = torch.nn.Linear(self.hidden_size, 1)\n",
        "            self.sigmoid = torch.nn.Sigmoid()\n",
        "\n",
        "            self.dropout = torch.nn.Dropout(self.p)\n",
        "\n",
        "        def forward(self, x):\n",
        "            #we assume that x start with numerical features then categorical features\n",
        "            inputs = [x[:,:self.numerical_inputs_size]]\n",
        "            for i in range(len(self.categorical_inputs_modalities)):\n",
        "                inputs.append(self.emb[i](x[:,self.numerical_inputs_size+i].to(torch.int64)))\n",
        "\n",
        "            x = torch.cat(inputs,axis=1)\n",
        "\n",
        "\n",
        "            hidden = self.fc1(x)\n",
        "            hidden = self.relu(hidden)\n",
        "\n",
        "            hidden = self.dropout(hidden)\n",
        "\n",
        "            output = self.fc2(hidden)\n",
        "            output = self.sigmoid(output)\n",
        "\n",
        "            return output"
      ]
    },
    {
      "cell_type": "code",
      "execution_count": 44,
      "metadata": {
        "id": "Bf28B0hlf_VY"
      },
      "outputs": [],
      "source": [
        "def prepare_generators_with_categorical_features(train_df,valid_df,input_categorical_features,batch_size=64):\n",
        "    x_train = torch.FloatTensor(train_df[input_features].values)\n",
        "    x_valid = torch.FloatTensor(valid_df[input_features].values)\n",
        "    y_train = torch.FloatTensor(train_df[output_feature].values)\n",
        "    y_valid = torch.FloatTensor(valid_df[output_feature].values)\n",
        "\n",
        "    #categorical variables : encoding valid according to train\n",
        "    encoder = sklearn.preprocessing.OrdinalEncoder(handle_unknown='use_encoded_value',unknown_value=-1)\n",
        "    x_train_cat = encoder.fit_transform(train_df[input_categorical_features].values) + 1\n",
        "    categorical_inputs_modalities = np.max(x_train_cat,axis=0)+1\n",
        "\n",
        "    x_train_cat = torch.IntTensor(x_train_cat)\n",
        "    x_valid_cat = torch.IntTensor(encoder.transform(valid_df[input_categorical_features].values) + 1)\n",
        "\n",
        "    x_train = torch.cat([x_train,x_train_cat],axis=1)\n",
        "    x_valid = torch.cat([x_valid,x_valid_cat],axis=1)\n",
        "\n",
        "    train_loader_params = {'batch_size': batch_size,\n",
        "              'shuffle': True,\n",
        "              'num_workers': 0}\n",
        "    valid_loader_params = {'batch_size': batch_size,\n",
        "              'num_workers': 0}\n",
        "\n",
        "    # Generators\n",
        "    training_set = FraudDataset(x_train, y_train)\n",
        "    valid_set = FraudDataset(x_valid, y_valid)\n",
        "\n",
        "    training_generator = torch.utils.data.DataLoader(training_set, **train_loader_params)\n",
        "    valid_generator = torch.utils.data.DataLoader(valid_set, **valid_loader_params)\n",
        "\n",
        "    return training_generator,valid_generator, categorical_inputs_modalities"
      ]
    },
    {
      "cell_type": "markdown",
      "metadata": {
        "id": "5MMoWll8f_VY"
      },
      "source": [
        "Now let us train this new model with an embedding dimension of 10 for each categorical feature."
      ]
    },
    {
      "cell_type": "code",
      "execution_count": 45,
      "metadata": {
        "id": "ZllIH6vNf_VY"
      },
      "outputs": [],
      "source": [
        "seed_everything(SEED)\n",
        "training_generator,valid_generator,categorical_inputs_modalities = prepare_generators_with_categorical_features(train_df,valid_df,input_categorical_features,batch_size=64)\n",
        "\n",
        "embedding_sizes = [10]*len(categorical_inputs_modalities)\n",
        "\n",
        "model = FraudMLPWithEmbedding(categorical_inputs_modalities,len(input_features),embedding_sizes, 1000,0.2).to(DEVICE)\n",
        "optimizer = torch.optim.Adam(model.parameters(), lr = 0.0001)\n",
        "model,training_execution_time,train_losses_embedding,valid_losses_embedding = training_loop(model,training_generator,valid_generator,optimizer,criterion,verbose=False)"
      ]
    },
    {
      "cell_type": "code",
      "execution_count": 46,
      "metadata": {
        "colab": {
          "base_uri": "https://localhost:8080/",
          "height": 490
        },
        "id": "HAzcXWM1f_VY",
        "outputId": "8ed09298-1455-4106-e4f8-58c2376d2df8"
      },
      "outputs": [
        {
          "output_type": "execute_result",
          "data": {
            "text/plain": [
              "<matplotlib.legend.Legend at 0x7921220a7ce0>"
            ]
          },
          "metadata": {},
          "execution_count": 46
        },
        {
          "output_type": "display_data",
          "data": {
            "text/plain": [
              "<Figure size 640x480 with 1 Axes>"
            ],
            "image/png": "[encoded data removed]"
          },
          "metadata": {}
        }
      ],
      "source": [
        "plt.plot(np.arange(len(train_losses_embedding))+1, train_losses_embedding)\n",
        "plt.plot(np.arange(len(valid_losses_embedding))+1, valid_losses_embedding)\n",
        "plt.plot(np.arange(len(train_losses_dropout))+1, train_losses_dropout)\n",
        "plt.plot(np.arange(len(valid_losses_dropout))+1, valid_losses_dropout)\n",
        "plt.title('Use of categorical features')\n",
        "plt.xlabel('epoch')\n",
        "plt.ylabel('loss')\n",
        "plt.legend(['train w/ cat','valid w/ cat','train w/o cat','valid w/o cat'])"
      ]
    },
    {
      "cell_type": "markdown",
      "metadata": {
        "id": "tlja1k0hf_VZ"
      },
      "source": [
        "The performance here is not necessarily better with the categorical features (they do not add value compared to the engineered features, at least for the fraud patterns in our categorical data). This implementation is shown for educational purposes. Keep in mind that embedding layers are often a valuable solution in practice when training with a lot of data because it is a step forward in automation (instead of expert feature engineering, one can leave the representation choice to the model).\n",
        "\n",
        "Embedding can also be interesting for interpretability. Indeed, at the end of training, one can extract `model.emb[i].weight`. Each row of this matrix represents the embedding vector of a given modality for the `i-th` categorical feature. This can be used to compute similarities between modalities. One can also reduce these vectors' dimensionality with TSNE or PCA and visualize all modalities on a 2D plane."
      ]
    },
    {
      "cell_type": "markdown",
      "metadata": {
        "id": "c5fCHFVQf_VZ"
      },
      "source": [
        "## Ensemble"
      ]
    },
    {
      "cell_type": "markdown",
      "metadata": {
        "id": "TxvNfJvCf_VZ"
      },
      "source": [
        "To go further and improve the results, ensembling is a common strategy with neural networks in general and for fraud detection.\n",
        "\n",
        "The idea is to simply train the architecture several times and average the predictions of all the obtained models at inference {cite}`zhou2021ensemble`. Layer initialization and the random batch order are generally enough to ensure diversity between each submodel and make the ensemble better than each individual. To go further, one can also train each individual on a different train/valid split {cite}`breiman1996bagging`.\n",
        "\n",
        "Ensembling is also very useful for fraud detection, in particular, because of concept drift. Indeed, in fraud detection, the fraudsters' techniques are varied and change over time. A single model can struggle to both learn and remember all the different patterns for the target class. In this context, it is expected that an ensemble of models, efficiently built, can cope with the issue. The intuition is that the different components of the ensemble can be specialized for different tasks. For example, a component could be specialized for the recent patterns and another for the old patterns {cite}`lebichot2021incremental`. Similarly, a component could be specialized for the easiest and generic fraudsters’ strategies and another for advanced concepts."
      ]
    },
    {
      "cell_type": "markdown",
      "metadata": {
        "id": "YR4Sv_rIf_Va"
      },
      "source": [
        "(Model_Selection_FFNN)=\n",
        "## Prequential grid search"
      ]
    },
    {
      "cell_type": "markdown",
      "metadata": {
        "id": "6xFEJFnYf_Va"
      },
      "source": [
        "The above sections have shown many design choices for the neural network. Let us now follow the prequential methodology from Chapter 5 and perform a grid search to see the impact of some hyperparameters on the performance and be able to compare the results with other baselines from previous chapters.\n",
        "\n",
        "Let us consider the following ranges:\n",
        "* Batch size : [64,128,256]\n",
        "* Initial learning rate: [0.0001, 0.0002, 0.001]\n",
        "* Dropout rate : [0, 0.2, 0.4]\n",
        "* Hidden layer dimension : [500]\n",
        "* Number of hidden layers : [1,2]\n",
        "\n",
        "To use the same procedure as in previous chapters (with GridSearchCV), we have to make the neural network compatible with `sklearn` functions. We will resort to the library `skorch`, which provides an `sklearn` wrapper for `PyTorch` modules. Also, early stopping won't be used, but instead the number of epochs ([10,20,40]) will be another parameter to search."
      ]
    },
    {
      "cell_type": "code",
      "execution_count": 47,
      "metadata": {
        "tags": [
          "hide-output"
        ],
        "colab": {
          "base_uri": "https://localhost:8080/"
        },
        "id": "flLE1aYyf_Va",
        "outputId": "eaf94271-a5e1-4385-aaf2-e79997e01eaf"
      },
      "outputs": [
        {
          "output_type": "stream",
          "name": "stdout",
          "text": [
            "Collecting skorch\n",
            "  Downloading skorch-1.2.0-py3-none-any.whl.metadata (11 kB)\n",
            "Requirement already satisfied: numpy>=1.13.3 in /usr/local/lib/python3.12/dist-packages (from skorch) (2.0.2)\n",
            "Requirement already satisfied: scikit-learn>=0.22.0 in /usr/local/lib/python3.12/dist-packages (from skorch) (1.6.1)\n",
            "Requirement already satisfied: scipy>=1.1.0 in /usr/local/lib/python3.12/dist-packages (from skorch) (1.16.1)\n",
            "Requirement already satisfied: tabulate>=0.7.7 in /usr/local/lib/python3.12/dist-packages (from skorch) (0.9.0)\n",
            "Requirement already satisfied: tqdm>=4.14.0 in /usr/local/lib/python3.12/dist-packages (from skorch) (4.67.1)\n",
            "Requirement already satisfied: joblib>=1.2.0 in /usr/local/lib/python3.12/dist-packages (from scikit-learn>=0.22.0->skorch) (1.5.2)\n",
            "Requirement already satisfied: threadpoolctl>=3.1.0 in /usr/local/lib/python3.12/dist-packages (from scikit-learn>=0.22.0->skorch) (3.6.0)\n",
            "Downloading skorch-1.2.0-py3-none-any.whl (263 kB)\n",
            "\u001b[?25l   \u001b[90m━━━━━━━━━━━━━━━━━━━━━━━━━━━━━━━━━━━━━━━━\u001b[0m \u001b[32m0.0/263.1 kB\u001b[0m \u001b[31m?\u001b[0m eta \u001b[36m-:--:--\u001b[0m\r\u001b[2K   \u001b[90m━━━━━━━━━━━━━━━━━━━━━━━━━━━━━━━━━━━━━━━━\u001b[0m \u001b[32m263.1/263.1 kB\u001b[0m \u001b[31m21.2 MB/s\u001b[0m eta \u001b[36m0:00:00\u001b[0m\n",
            "\u001b[?25hInstalling collected packages: skorch\n",
            "Successfully installed skorch-1.2.0\n"
          ]
        }
      ],
      "source": [
        "!pip install skorch"
      ]
    },
    {
      "cell_type": "code",
      "execution_count": 48,
      "metadata": {
        "id": "BxuxWdNnf_Vb"
      },
      "outputs": [],
      "source": [
        "from skorch import NeuralNetClassifier"
      ]
    },
    {
      "cell_type": "markdown",
      "metadata": {
        "id": "x5lejIYbf_Vb"
      },
      "source": [
        "In order to make this work, several aspects of our previous Python classes have to be adapted. First, `sklearn`'s classifiers have two output probabilities (one for each class) that are complementary. Therefore, the output of `fc2` has to be changed to 2, and the activation to `softmax` (similar to the sigmoid activation but with a global normalization). Second, the dataset has to expect arrays instead of tensors, so the conversion will be done within the dataset."
      ]
    },
    {
      "cell_type": "code",
      "execution_count": 49,
      "metadata": {
        "id": "v3l9sWYZf_Vb"
      },
      "outputs": [],
      "source": [
        "class FraudMLP(torch.nn.Module):\n",
        "\n",
        "        def __init__(self, hidden_size=100,num_layers=1,p=0, input_size=len(input_features)):\n",
        "            super(FraudMLP, self).__init__()\n",
        "            # parameters\n",
        "            self.input_size = input_size\n",
        "            self.hidden_size  = hidden_size\n",
        "            self.p = p\n",
        "\n",
        "            #input to hidden\n",
        "            self.fc1 = torch.nn.Linear(self.input_size, self.hidden_size)\n",
        "            self.relu = torch.nn.ReLU()\n",
        "\n",
        "            self.fc_hidden=[]\n",
        "            for i in range(num_layers-1):\n",
        "                self.fc_hidden.append(torch.nn.Linear(self.hidden_size, self.hidden_size))\n",
        "                self.fc_hidden.append(torch.nn.ReLU())\n",
        "\n",
        "            #hidden to output\n",
        "            self.fc2 = torch.nn.Linear(self.hidden_size, 2)\n",
        "            self.softmax = torch.nn.Softmax()\n",
        "\n",
        "            self.dropout = torch.nn.Dropout(self.p)\n",
        "\n",
        "        def forward(self, x):\n",
        "\n",
        "            hidden = self.fc1(x)\n",
        "            hidden = self.relu(hidden)\n",
        "            hidden = self.dropout(hidden)\n",
        "\n",
        "            for layer in self.fc_hidden:\n",
        "                hidden=layer(hidden)\n",
        "                hidden = self.dropout(hidden)\n",
        "\n",
        "            output = self.fc2(hidden)\n",
        "            output = self.softmax(output)\n",
        "\n",
        "            return output"
      ]
    },
    {
      "cell_type": "code",
      "execution_count": 50,
      "metadata": {
        "id": "esoqcQSAf_Vb"
      },
      "outputs": [],
      "source": [
        "class FraudDatasetForPipe(torch.utils.data.Dataset):\n",
        "\n",
        "    def __init__(self, x, y):\n",
        "        'Initialization'\n",
        "        self.x = torch.FloatTensor(x)\n",
        "        self.y = None\n",
        "        if y is not None:\n",
        "            self.y = torch.LongTensor(y.values)\n",
        "\n",
        "\n",
        "    def __len__(self):\n",
        "        'Returns the total number of samples'\n",
        "        return len(self.x)\n",
        "\n",
        "    def __getitem__(self, index):\n",
        "        'Generates one sample of data'\n",
        "        # Select sample index\n",
        "        if self.y is not None:\n",
        "            return self.x[index], self.y[index]\n",
        "        else:\n",
        "            return self.x[index], -1"
      ]
    },
    {
      "cell_type": "markdown",
      "metadata": {
        "id": "DWIXnMw3f_Vc"
      },
      "source": [
        "Now that the module and Dataset are adapted, one can obtain an \"sklearn-like\" model using the `NeuralNetClassifier` wrapper from `skorch`. Note that we can set the device directly as a parameter in that class."
      ]
    },
    {
      "cell_type": "code",
      "execution_count": 51,
      "metadata": {
        "colab": {
          "base_uri": "https://localhost:8080/",
          "height": 115
        },
        "id": "UM8JupKcf_Vc",
        "outputId": "35feaf2a-1a20-4a20-cc98-a2922e49229b"
      },
      "outputs": [
        {
          "output_type": "execute_result",
          "data": {
            "text/plain": [
              "<class 'skorch.classifier.NeuralNetClassifier'>[uninitialized](\n",
              "  module=<class '__main__.FraudMLP'>,\n",
              ")"
            ],
            "text/html": [
              "<style>#sk-container-id-1 {\n",
              "  /* Definition of color scheme common for light and dark mode */\n",
              "  --sklearn-color-text: #000;\n",
              "  --sklearn-color-text-muted: #666;\n",
              "  --sklearn-color-line: gray;\n",
              "  /* Definition of color scheme for unfitted estimators */\n",
              "  --sklearn-color-unfitted-level-0: #fff5e6;\n",
              "  --sklearn-color-unfitted-level-1: #f6e4d2;\n",
              "  --sklearn-color-unfitted-level-2: #ffe0b3;\n",
              "  --sklearn-color-unfitted-level-3: chocolate;\n",
              "  /* Definition of color scheme for fitted estimators */\n",
              "  --sklearn-color-fitted-level-0: #f0f8ff;\n",
              "  --sklearn-color-fitted-level-1: #d4ebff;\n",
              "  --sklearn-color-fitted-level-2: #b3dbfd;\n",
              "  --sklearn-color-fitted-level-3: cornflowerblue;\n",
              "\n",
              "  /* Specific color for light theme */\n",
              "  --sklearn-color-text-on-default-background: var(--sg-text-color, var(--theme-code-foreground, var(--jp-content-font-color1, black)));\n",
              "  --sklearn-color-background: var(--sg-background-color, var(--theme-background, var(--jp-layout-color0, white)));\n",
              "  --sklearn-color-border-box: var(--sg-text-color, var(--theme-code-foreground, var(--jp-content-font-color1, black)));\n",
              "  --sklearn-color-icon: #696969;\n",
              "\n",
              "  @media (prefers-color-scheme: dark) {\n",
              "    /* Redefinition of color scheme for dark theme */\n",
              "    --sklearn-color-text-on-default-background: var(--sg-text-color, var(--theme-code-foreground, var(--jp-content-font-color1, white)));\n",
              "    --sklearn-color-background: var(--sg-background-color, var(--theme-background, var(--jp-layout-color0, #111)));\n",
              "    --sklearn-color-border-box: var(--sg-text-color, var(--theme-code-foreground, var(--jp-content-font-color1, white)));\n",
              "    --sklearn-color-icon: #878787;\n",
              "  }\n",
              "}\n",
              "\n",
              "#sk-container-id-1 {\n",
              "  color: var(--sklearn-color-text);\n",
              "}\n",
              "\n",
              "#sk-container-id-1 pre {\n",
              "  padding: 0;\n",
              "}\n",
              "\n",
              "#sk-container-id-1 input.sk-hidden--visually {\n",
              "  border: 0;\n",
              "  clip: rect(1px 1px 1px 1px);\n",
              "  clip: rect(1px, 1px, 1px, 1px);\n",
              "  height: 1px;\n",
              "  margin: -1px;\n",
              "  overflow: hidden;\n",
              "  padding: 0;\n",
              "  position: absolute;\n",
              "  width: 1px;\n",
              "}\n",
              "\n",
              "#sk-container-id-1 div.sk-dashed-wrapped {\n",
              "  border: 1px dashed var(--sklearn-color-line);\n",
              "  margin: 0 0.4em 0.5em 0.4em;\n",
              "  box-sizing: border-box;\n",
              "  padding-bottom: 0.4em;\n",
              "  background-color: var(--sklearn-color-background);\n",
              "}\n",
              "\n",
              "#sk-container-id-1 div.sk-container {\n",
              "  /* jupyter's `normalize.less` sets `[hidden] { display: none; }`\n",
              "     but bootstrap.min.css set `[hidden] { display: none !important; }`\n",
              "     so we also need the `!important` here to be able to override the\n",
              "     default hidden behavior on the sphinx rendered scikit-learn.org.\n",
              "     See: https://github.com/scikit-learn/scikit-learn/issues/21755 */\n",
              "  display: inline-block !important;\n",
              "  position: relative;\n",
              "}\n",
              "\n",
              "#sk-container-id-1 div.sk-text-repr-fallback {\n",
              "  display: none;\n",
              "}\n",
              "\n",
              "div.sk-parallel-item,\n",
              "div.sk-serial,\n",
              "div.sk-item {\n",
              "  /* draw centered vertical line to link estimators */\n",
              "  background-image: linear-gradient(var(--sklearn-color-text-on-default-background), var(--sklearn-color-text-on-default-background));\n",
              "  background-size: 2px 100%;\n",
              "  background-repeat: no-repeat;\n",
              "  background-position: center center;\n",
              "}\n",
              "\n",
              "/* Parallel-specific style estimator block */\n",
              "\n",
              "#sk-container-id-1 div.sk-parallel-item::after {\n",
              "  content: \"\";\n",
              "  width: 100%;\n",
              "  border-bottom: 2px solid var(--sklearn-color-text-on-default-background);\n",
              "  flex-grow: 1;\n",
              "}\n",
              "\n",
              "#sk-container-id-1 div.sk-parallel {\n",
              "  display: flex;\n",
              "  align-items: stretch;\n",
              "  justify-content: center;\n",
              "  background-color: var(--sklearn-color-background);\n",
              "  position: relative;\n",
              "}\n",
              "\n",
              "#sk-container-id-1 div.sk-parallel-item {\n",
              "  display: flex;\n",
              "  flex-direction: column;\n",
              "}\n",
              "\n",
              "#sk-container-id-1 div.sk-parallel-item:first-child::after {\n",
              "  align-self: flex-end;\n",
              "  width: 50%;\n",
              "}\n",
              "\n",
              "#sk-container-id-1 div.sk-parallel-item:last-child::after {\n",
              "  align-self: flex-start;\n",
              "  width: 50%;\n",
              "}\n",
              "\n",
              "#sk-container-id-1 div.sk-parallel-item:only-child::after {\n",
              "  width: 0;\n",
              "}\n",
              "\n",
              "/* Serial-specific style estimator block */\n",
              "\n",
              "#sk-container-id-1 div.sk-serial {\n",
              "  display: flex;\n",
              "  flex-direction: column;\n",
              "  align-items: center;\n",
              "  background-color: var(--sklearn-color-background);\n",
              "  padding-right: 1em;\n",
              "  padding-left: 1em;\n",
              "}\n",
              "\n",
              "\n",
              "/* Toggleable style: style used for estimator/Pipeline/ColumnTransformer box that is\n",
              "clickable and can be expanded/collapsed.\n",
              "- Pipeline and ColumnTransformer use this feature and define the default style\n",
              "- Estimators will overwrite some part of the style using the `sk-estimator` class\n",
              "*/\n",
              "\n",
              "/* Pipeline and ColumnTransformer style (default) */\n",
              "\n",
              "#sk-container-id-1 div.sk-toggleable {\n",
              "  /* Default theme specific background. It is overwritten whether we have a\n",
              "  specific estimator or a Pipeline/ColumnTransformer */\n",
              "  background-color: var(--sklearn-color-background);\n",
              "}\n",
              "\n",
              "/* Toggleable label */\n",
              "#sk-container-id-1 label.sk-toggleable__label {\n",
              "  cursor: pointer;\n",
              "  display: flex;\n",
              "  width: 100%;\n",
              "  margin-bottom: 0;\n",
              "  padding: 0.5em;\n",
              "  box-sizing: border-box;\n",
              "  text-align: center;\n",
              "  align-items: start;\n",
              "  justify-content: space-between;\n",
              "  gap: 0.5em;\n",
              "}\n",
              "\n",
              "#sk-container-id-1 label.sk-toggleable__label .caption {\n",
              "  font-size: 0.6rem;\n",
              "  font-weight: lighter;\n",
              "  color: var(--sklearn-color-text-muted);\n",
              "}\n",
              "\n",
              "#sk-container-id-1 label.sk-toggleable__label-arrow:before {\n",
              "  /* Arrow on the left of the label */\n",
              "  content: \"▸\";\n",
              "  float: left;\n",
              "  margin-right: 0.25em;\n",
              "  color: var(--sklearn-color-icon);\n",
              "}\n",
              "\n",
              "#sk-container-id-1 label.sk-toggleable__label-arrow:hover:before {\n",
              "  color: var(--sklearn-color-text);\n",
              "}\n",
              "\n",
              "/* Toggleable content - dropdown */\n",
              "\n",
              "#sk-container-id-1 div.sk-toggleable__content {\n",
              "  max-height: 0;\n",
              "  max-width: 0;\n",
              "  overflow: hidden;\n",
              "  text-align: left;\n",
              "  /* unfitted */\n",
              "  background-color: var(--sklearn-color-unfitted-level-0);\n",
              "}\n",
              "\n",
              "#sk-container-id-1 div.sk-toggleable__content.fitted {\n",
              "  /* fitted */\n",
              "  background-color: var(--sklearn-color-fitted-level-0);\n",
              "}\n",
              "\n",
              "#sk-container-id-1 div.sk-toggleable__content pre {\n",
              "  margin: 0.2em;\n",
              "  border-radius: 0.25em;\n",
              "  color: var(--sklearn-color-text);\n",
              "  /* unfitted */\n",
              "  background-color: var(--sklearn-color-unfitted-level-0);\n",
              "}\n",
              "\n",
              "#sk-container-id-1 div.sk-toggleable__content.fitted pre {\n",
              "  /* unfitted */\n",
              "  background-color: var(--sklearn-color-fitted-level-0);\n",
              "}\n",
              "\n",
              "#sk-container-id-1 input.sk-toggleable__control:checked~div.sk-toggleable__content {\n",
              "  /* Expand drop-down */\n",
              "  max-height: 200px;\n",
              "  max-width: 100%;\n",
              "  overflow: auto;\n",
              "}\n",
              "\n",
              "#sk-container-id-1 input.sk-toggleable__control:checked~label.sk-toggleable__label-arrow:before {\n",
              "  content: \"▾\";\n",
              "}\n",
              "\n",
              "/* Pipeline/ColumnTransformer-specific style */\n",
              "\n",
              "#sk-container-id-1 div.sk-label input.sk-toggleable__control:checked~label.sk-toggleable__label {\n",
              "  color: var(--sklearn-color-text);\n",
              "  background-color: var(--sklearn-color-unfitted-level-2);\n",
              "}\n",
              "\n",
              "#sk-container-id-1 div.sk-label.fitted input.sk-toggleable__control:checked~label.sk-toggleable__label {\n",
              "  background-color: var(--sklearn-color-fitted-level-2);\n",
              "}\n",
              "\n",
              "/* Estimator-specific style */\n",
              "\n",
              "/* Colorize estimator box */\n",
              "#sk-container-id-1 div.sk-estimator input.sk-toggleable__control:checked~label.sk-toggleable__label {\n",
              "  /* unfitted */\n",
              "  background-color: var(--sklearn-color-unfitted-level-2);\n",
              "}\n",
              "\n",
              "#sk-container-id-1 div.sk-estimator.fitted input.sk-toggleable__control:checked~label.sk-toggleable__label {\n",
              "  /* fitted */\n",
              "  background-color: var(--sklearn-color-fitted-level-2);\n",
              "}\n",
              "\n",
              "#sk-container-id-1 div.sk-label label.sk-toggleable__label,\n",
              "#sk-container-id-1 div.sk-label label {\n",
              "  /* The background is the default theme color */\n",
              "  color: var(--sklearn-color-text-on-default-background);\n",
              "}\n",
              "\n",
              "/* On hover, darken the color of the background */\n",
              "#sk-container-id-1 div.sk-label:hover label.sk-toggleable__label {\n",
              "  color: var(--sklearn-color-text);\n",
              "  background-color: var(--sklearn-color-unfitted-level-2);\n",
              "}\n",
              "\n",
              "/* Label box, darken color on hover, fitted */\n",
              "#sk-container-id-1 div.sk-label.fitted:hover label.sk-toggleable__label.fitted {\n",
              "  color: var(--sklearn-color-text);\n",
              "  background-color: var(--sklearn-color-fitted-level-2);\n",
              "}\n",
              "\n",
              "/* Estimator label */\n",
              "\n",
              "#sk-container-id-1 div.sk-label label {\n",
              "  font-family: monospace;\n",
              "  font-weight: bold;\n",
              "  display: inline-block;\n",
              "  line-height: 1.2em;\n",
              "}\n",
              "\n",
              "#sk-container-id-1 div.sk-label-container {\n",
              "  text-align: center;\n",
              "}\n",
              "\n",
              "/* Estimator-specific */\n",
              "#sk-container-id-1 div.sk-estimator {\n",
              "  font-family: monospace;\n",
              "  border: 1px dotted var(--sklearn-color-border-box);\n",
              "  border-radius: 0.25em;\n",
              "  box-sizing: border-box;\n",
              "  margin-bottom: 0.5em;\n",
              "  /* unfitted */\n",
              "  background-color: var(--sklearn-color-unfitted-level-0);\n",
              "}\n",
              "\n",
              "#sk-container-id-1 div.sk-estimator.fitted {\n",
              "  /* fitted */\n",
              "  background-color: var(--sklearn-color-fitted-level-0);\n",
              "}\n",
              "\n",
              "/* on hover */\n",
              "#sk-container-id-1 div.sk-estimator:hover {\n",
              "  /* unfitted */\n",
              "  background-color: var(--sklearn-color-unfitted-level-2);\n",
              "}\n",
              "\n",
              "#sk-container-id-1 div.sk-estimator.fitted:hover {\n",
              "  /* fitted */\n",
              "  background-color: var(--sklearn-color-fitted-level-2);\n",
              "}\n",
              "\n",
              "/* Specification for estimator info (e.g. \"i\" and \"?\") */\n",
              "\n",
              "/* Common style for \"i\" and \"?\" */\n",
              "\n",
              ".sk-estimator-doc-link,\n",
              "a:link.sk-estimator-doc-link,\n",
              "a:visited.sk-estimator-doc-link {\n",
              "  float: right;\n",
              "  font-size: smaller;\n",
              "  line-height: 1em;\n",
              "  font-family: monospace;\n",
              "  background-color: var(--sklearn-color-background);\n",
              "  border-radius: 1em;\n",
              "  height: 1em;\n",
              "  width: 1em;\n",
              "  text-decoration: none !important;\n",
              "  margin-left: 0.5em;\n",
              "  text-align: center;\n",
              "  /* unfitted */\n",
              "  border: var(--sklearn-color-unfitted-level-1) 1pt solid;\n",
              "  color: var(--sklearn-color-unfitted-level-1);\n",
              "}\n",
              "\n",
              ".sk-estimator-doc-link.fitted,\n",
              "a:link.sk-estimator-doc-link.fitted,\n",
              "a:visited.sk-estimator-doc-link.fitted {\n",
              "  /* fitted */\n",
              "  border: var(--sklearn-color-fitted-level-1) 1pt solid;\n",
              "  color: var(--sklearn-color-fitted-level-1);\n",
              "}\n",
              "\n",
              "/* On hover */\n",
              "div.sk-estimator:hover .sk-estimator-doc-link:hover,\n",
              ".sk-estimator-doc-link:hover,\n",
              "div.sk-label-container:hover .sk-estimator-doc-link:hover,\n",
              ".sk-estimator-doc-link:hover {\n",
              "  /* unfitted */\n",
              "  background-color: var(--sklearn-color-unfitted-level-3);\n",
              "  color: var(--sklearn-color-background);\n",
              "  text-decoration: none;\n",
              "}\n",
              "\n",
              "div.sk-estimator.fitted:hover .sk-estimator-doc-link.fitted:hover,\n",
              ".sk-estimator-doc-link.fitted:hover,\n",
              "div.sk-label-container:hover .sk-estimator-doc-link.fitted:hover,\n",
              ".sk-estimator-doc-link.fitted:hover {\n",
              "  /* fitted */\n",
              "  background-color: var(--sklearn-color-fitted-level-3);\n",
              "  color: var(--sklearn-color-background);\n",
              "  text-decoration: none;\n",
              "}\n",
              "\n",
              "/* Span, style for the box shown on hovering the info icon */\n",
              ".sk-estimator-doc-link span {\n",
              "  display: none;\n",
              "  z-index: 9999;\n",
              "  position: relative;\n",
              "  font-weight: normal;\n",
              "  right: .2ex;\n",
              "  padding: .5ex;\n",
              "  margin: .5ex;\n",
              "  width: min-content;\n",
              "  min-width: 20ex;\n",
              "  max-width: 50ex;\n",
              "  color: var(--sklearn-color-text);\n",
              "  box-shadow: 2pt 2pt 4pt #999;\n",
              "  /* unfitted */\n",
              "  background: var(--sklearn-color-unfitted-level-0);\n",
              "  border: .5pt solid var(--sklearn-color-unfitted-level-3);\n",
              "}\n",
              "\n",
              ".sk-estimator-doc-link.fitted span {\n",
              "  /* fitted */\n",
              "  background: var(--sklearn-color-fitted-level-0);\n",
              "  border: var(--sklearn-color-fitted-level-3);\n",
              "}\n",
              "\n",
              ".sk-estimator-doc-link:hover span {\n",
              "  display: block;\n",
              "}\n",
              "\n",
              "/* \"?\"-specific style due to the `<a>` HTML tag */\n",
              "\n",
              "#sk-container-id-1 a.estimator_doc_link {\n",
              "  float: right;\n",
              "  font-size: 1rem;\n",
              "  line-height: 1em;\n",
              "  font-family: monospace;\n",
              "  background-color: var(--sklearn-color-background);\n",
              "  border-radius: 1rem;\n",
              "  height: 1rem;\n",
              "  width: 1rem;\n",
              "  text-decoration: none;\n",
              "  /* unfitted */\n",
              "  color: var(--sklearn-color-unfitted-level-1);\n",
              "  border: var(--sklearn-color-unfitted-level-1) 1pt solid;\n",
              "}\n",
              "\n",
              "#sk-container-id-1 a.estimator_doc_link.fitted {\n",
              "  /* fitted */\n",
              "  border: var(--sklearn-color-fitted-level-1) 1pt solid;\n",
              "  color: var(--sklearn-color-fitted-level-1);\n",
              "}\n",
              "\n",
              "/* On hover */\n",
              "#sk-container-id-1 a.estimator_doc_link:hover {\n",
              "  /* unfitted */\n",
              "  background-color: var(--sklearn-color-unfitted-level-3);\n",
              "  color: var(--sklearn-color-background);\n",
              "  text-decoration: none;\n",
              "}\n",
              "\n",
              "#sk-container-id-1 a.estimator_doc_link.fitted:hover {\n",
              "  /* fitted */\n",
              "  background-color: var(--sklearn-color-fitted-level-3);\n",
              "}\n",
              "</style><div id=\"sk-container-id-1\" class=\"sk-top-container\"><div class=\"sk-text-repr-fallback\"><pre>&lt;class &#x27;skorch.classifier.NeuralNetClassifier&#x27;&gt;[uninitialized](\n",
              "  module=&lt;class &#x27;__main__.FraudMLP&#x27;&gt;,\n",
              ")</pre><b>In a Jupyter environment, please rerun this cell to show the HTML representation or trust the notebook. <br />On GitHub, the HTML representation is unable to render, please try loading this page with nbviewer.org.</b></div><div class=\"sk-container\" hidden><div class=\"sk-item\"><div class=\"sk-estimator fitted sk-toggleable\"><input class=\"sk-toggleable__control sk-hidden--visually\" id=\"sk-estimator-id-1\" type=\"checkbox\" checked><label for=\"sk-estimator-id-1\" class=\"sk-toggleable__label fitted sk-toggleable__label-arrow\"><div><div>NeuralNetClassifier</div></div><div><span class=\"sk-estimator-doc-link fitted\">i<span>Fitted</span></span></div></label><div class=\"sk-toggleable__content fitted\"><pre>&lt;class &#x27;skorch.classifier.NeuralNetClassifier&#x27;&gt;[uninitialized](\n",
              "  module=&lt;class &#x27;__main__.FraudMLP&#x27;&gt;,\n",
              ")</pre></div> </div></div></div></div>"
            ]
          },
          "metadata": {},
          "execution_count": 51
        }
      ],
      "source": [
        "net = NeuralNetClassifier(\n",
        "    FraudMLP,\n",
        "    max_epochs=2,\n",
        "    lr=0.001,\n",
        "    optimizer=torch.optim.Adam,\n",
        "    batch_size=64,\n",
        "    dataset=FraudDatasetForPipe,\n",
        "    iterator_train__shuffle=True\n",
        ")\n",
        "net.set_params(train_split=False, verbose=0)"
      ]
    },
    {
      "cell_type": "markdown",
      "metadata": {
        "id": "2Nh5wML0f_Vc"
      },
      "source": [
        "To test it, let us perform a first small grid search by playing on the number of epochs and number of layers."
      ]
    },
    {
      "cell_type": "code",
      "execution_count": 52,
      "metadata": {
        "id": "nYwUk5pzf_Vc"
      },
      "outputs": [],
      "source": [
        "# Testing the wrapper\n",
        "\n",
        "#X=train_df[input_features].values\n",
        "#y=train_df[output_feature]\n",
        "#\n",
        "#net.fit(X, y)\n",
        "#net.predict_proba(X)"
      ]
    },
    {
      "cell_type": "code",
      "execution_count": 53,
      "metadata": {
        "id": "HHZf70vRf_Vc"
      },
      "outputs": [],
      "source": [
        "# Only keep columns that are needed as argument to custom scoring function\n",
        "# to reduce serialization time of transaction dataset\n",
        "transactions_df_scorer=transactions_df[['CUSTOMER_ID', 'TX_FRAUD','TX_TIME_DAYS']]\n",
        "\n",
        "# Make scorer using card_precision_top_k_custom\n",
        "card_precision_top_100 = sklearn.metrics.make_scorer(card_precision_top_k_custom,\n",
        "                                                     needs_proba=True,\n",
        "                                                     top_k=100,\n",
        "                                                     transactions_df=transactions_df_scorer)\n",
        "\n",
        "n_folds=4\n",
        "start_date_training_for_valid = start_date_training+datetime.timedelta(days=-(delta_delay+delta_valid))\n",
        "start_date_training_for_test = start_date_training+datetime.timedelta(days=(n_folds-1)*delta_test)\n",
        "delta_assessment = delta_valid"
      ]
    },
    {
      "cell_type": "code",
      "execution_count": 54,
      "metadata": {
        "colab": {
          "base_uri": "https://localhost:8080/"
        },
        "id": "SnWFUwIOf_Vd",
        "outputId": "819f71a8-e4a7-434e-de7d-c278fb7cd60a"
      },
      "outputs": [
        {
          "output_type": "stream",
          "name": "stdout",
          "text": [
            "Fitting 4 folds for each of 4 candidates, totalling 16 fits\n",
            "Validation: Total execution time: 374.03s\n"
          ]
        }
      ],
      "source": [
        "seed_everything(SEED)\n",
        "start_time=time.time()\n",
        "\n",
        "parameters = {\n",
        "    'clf__lr': [0.001 ],\n",
        "    'clf__batch_size': [64],\n",
        "    'clf__max_epochs': [10, 20],\n",
        "    'clf__module__hidden_size': [100],\n",
        "    'clf__module__num_layers': [1,2],\n",
        "    'clf__module__p': [0],\n",
        "}\n",
        "\n",
        "scoring = {'roc_auc':'roc_auc',\n",
        "           'average_precision': 'average_precision',\n",
        "           'card_precision@100': card_precision_top_100,\n",
        "           }\n",
        "\n",
        "\n",
        "performance_metrics_list_grid=['roc_auc', 'average_precision', 'card_precision@100']\n",
        "performance_metrics_list=['AUC ROC', 'Average precision', 'Card Precision@100']\n",
        "\n",
        "performances_df_validation=prequential_grid_search(\n",
        "    transactions_df, net,\n",
        "    input_features, output_feature,\n",
        "    parameters, scoring,\n",
        "    start_date_training=start_date_training_with_valid,\n",
        "    n_folds=n_folds,\n",
        "    expe_type='Validation',\n",
        "    delta_train=delta_train,\n",
        "    delta_delay=delta_delay,\n",
        "    delta_assessment=delta_valid,\n",
        "    performance_metrics_list_grid=performance_metrics_list_grid,\n",
        "    performance_metrics_list=performance_metrics_list)\n",
        "\n",
        "print(\"Validation: Total execution time: \"+str(round(time.time()-start_time,2))+\"s\")"
      ]
    },
    {
      "cell_type": "code",
      "execution_count": 55,
      "metadata": {
        "colab": {
          "base_uri": "https://localhost:8080/",
          "height": 385
        },
        "id": "FH3IKXogf_Vd",
        "outputId": "b183ec6f-113f-42e7-d9fe-9f88bd7f6671"
      },
      "outputs": [
        {
          "output_type": "execute_result",
          "data": {
            "text/plain": [
              "   AUC ROC Validation  AUC ROC Validation Std  Average precision Validation  \\\n",
              "0            0.873091                0.009375                      0.657204   \n",
              "1            0.878011                0.012666                      0.673254   \n",
              "2            0.875736                0.011886                      0.678359   \n",
              "3            0.876993                0.011311                      0.680761   \n",
              "\n",
              "   Average precision Validation Std  Card Precision@100 Validation  \\\n",
              "0                          0.014481                       0.233214   \n",
              "1                          0.014390                       0.228571   \n",
              "2                          0.011796                       0.230714   \n",
              "3                          0.013062                       0.240000   \n",
              "\n",
              "   Card Precision@100 Validation Std  \\\n",
              "0                           0.024503   \n",
              "1                           0.013286   \n",
              "2                           0.011180   \n",
              "3                           0.017232   \n",
              "\n",
              "                                          Parameters  Execution time  \n",
              "0  {'clf__batch_size': 64, 'clf__lr': 0.001, 'clf...       29.429622  \n",
              "1  {'clf__batch_size': 64, 'clf__lr': 0.001, 'clf...       30.724433  \n",
              "2  {'clf__batch_size': 64, 'clf__lr': 0.001, 'clf...       54.278128  \n",
              "3  {'clf__batch_size': 64, 'clf__lr': 0.001, 'clf...       60.915174  "
            ],
            "text/html": [
              "\n",
              "  <div id=\"df-733d53fd-81cb-46ed-a56a-1eb5a37e83b4\" class=\"colab-df-container\">\n",
              "    <div>\n",
              "<style scoped>\n",
              "    .dataframe tbody tr th:only-of-type {\n",
              "        vertical-align: middle;\n",
              "    }\n",
              "\n",
              "    .dataframe tbody tr th {\n",
              "        vertical-align: top;\n",
              "    }\n",
              "\n",
              "    .dataframe thead th {\n",
              "        text-align: right;\n",
              "    }\n",
              "</style>\n",
              "<table border=\"1\" class=\"dataframe\">\n",
              "  <thead>\n",
              "    <tr style=\"text-align: right;\">\n",
              "      <th></th>\n",
              "      <th>AUC ROC Validation</th>\n",
              "      <th>AUC ROC Validation Std</th>\n",
              "      <th>Average precision Validation</th>\n",
              "      <th>Average precision Validation Std</th>\n",
              "      <th>Card Precision@100 Validation</th>\n",
              "      <th>Card Precision@100 Validation Std</th>\n",
              "      <th>Parameters</th>\n",
              "      <th>Execution time</th>\n",
              "    </tr>\n",
              "  </thead>\n",
              "  <tbody>\n",
              "    <tr>\n",
              "      <th>0</th>\n",
              "      <td>0.873091</td>\n",
              "      <td>0.009375</td>\n",
              "      <td>0.657204</td>\n",
              "      <td>0.014481</td>\n",
              "      <td>0.233214</td>\n",
              "      <td>0.024503</td>\n",
              "      <td>{'clf__batch_size': 64, 'clf__lr': 0.001, 'clf...</td>\n",
              "      <td>29.429622</td>\n",
              "    </tr>\n",
              "    <tr>\n",
              "      <th>1</th>\n",
              "      <td>0.878011</td>\n",
              "      <td>0.012666</td>\n",
              "      <td>0.673254</td>\n",
              "      <td>0.014390</td>\n",
              "      <td>0.228571</td>\n",
              "      <td>0.013286</td>\n",
              "      <td>{'clf__batch_size': 64, 'clf__lr': 0.001, 'clf...</td>\n",
              "      <td>30.724433</td>\n",
              "    </tr>\n",
              "    <tr>\n",
              "      <th>2</th>\n",
              "      <td>0.875736</td>\n",
              "      <td>0.011886</td>\n",
              "      <td>0.678359</td>\n",
              "      <td>0.011796</td>\n",
              "      <td>0.230714</td>\n",
              "      <td>0.011180</td>\n",
              "      <td>{'clf__batch_size': 64, 'clf__lr': 0.001, 'clf...</td>\n",
              "      <td>54.278128</td>\n",
              "    </tr>\n",
              "    <tr>\n",
              "      <th>3</th>\n",
              "      <td>0.876993</td>\n",
              "      <td>0.011311</td>\n",
              "      <td>0.680761</td>\n",
              "      <td>0.013062</td>\n",
              "      <td>0.240000</td>\n",
              "      <td>0.017232</td>\n",
              "      <td>{'clf__batch_size': 64, 'clf__lr': 0.001, 'clf...</td>\n",
              "      <td>60.915174</td>\n",
              "    </tr>\n",
              "  </tbody>\n",
              "</table>\n",
              "</div>\n",
              "    <div class=\"colab-df-buttons\">\n",
              "\n",
              "  <div class=\"colab-df-container\">\n",
              "    <button class=\"colab-df-convert\" onclick=\"convertToInteractive('df-733d53fd-81cb-46ed-a56a-1eb5a37e83b4')\"\n",
              "            title=\"Convert this dataframe to an interactive table.\"\n",
              "            style=\"display:none;\">\n",
              "\n",
              "  <svg xmlns=\"http://www.w3.org/2000/svg\" height=\"24px\" viewBox=\"0 -960 960 960\">\n",
              "    <path d=\"M120-120v-720h720v720H120Zm60-500h600v-160H180v160Zm220 220h160v-160H400v160Zm0 220h160v-160H400v160ZM180-400h160v-160H180v160Zm440 0h160v-160H620v160ZM180-180h160v-160H180v160Zm440 0h160v-160H620v160Z\"/>\n",
              "  </svg>\n",
              "    </button>\n",
              "\n",
              "  <style>\n",
              "    .colab-df-container {\n",
              "      display:flex;\n",
              "      gap: 12px;\n",
              "    }\n",
              "\n",
              "    .colab-df-convert {\n",
              "      background-color: #E8F0FE;\n",
              "      border: none;\n",
              "      border-radius: 50%;\n",
              "      cursor: pointer;\n",
              "      display: none;\n",
              "      fill: #1967D2;\n",
              "      height: 32px;\n",
              "      padding: 0 0 0 0;\n",
              "      width: 32px;\n",
              "    }\n",
              "\n",
              "    .colab-df-convert:hover {\n",
              "      background-color: #E2EBFA;\n",
              "      box-shadow: 0px 1px 2px rgba(60, 64, 67, 0.3), 0px 1px 3px 1px rgba(60, 64, 67, 0.15);\n",
              "      fill: #174EA6;\n",
              "    }\n",
              "\n",
              "    .colab-df-buttons div {\n",
              "      margin-bottom: 4px;\n",
              "    }\n",
              "\n",
              "    [theme=dark] .colab-df-convert {\n",
              "      background-color: #3B4455;\n",
              "      fill: #D2E3FC;\n",
              "    }\n",
              "\n",
              "    [theme=dark] .colab-df-convert:hover {\n",
              "      background-color: #434B5C;\n",
              "      box-shadow: 0px 1px 3px 1px rgba(0, 0, 0, 0.15);\n",
              "      filter: drop-shadow(0px 1px 2px rgba(0, 0, 0, 0.3));\n",
              "      fill: #FFFFFF;\n",
              "    }\n",
              "  </style>\n",
              "\n",
              "    <script>\n",
              "      const buttonEl =\n",
              "        document.querySelector('#df-733d53fd-81cb-46ed-a56a-1eb5a37e83b4 button.colab-df-convert');\n",
              "      buttonEl.style.display =\n",
              "        google.colab.kernel.accessAllowed ? 'block' : 'none';\n",
              "\n",
              "      async function convertToInteractive(key) {\n",
              "        const element = document.querySelector('#df-733d53fd-81cb-46ed-a56a-1eb5a37e83b4');\n",
              "        const dataTable =\n",
              "          await google.colab.kernel.invokeFunction('convertToInteractive',\n",
              "                                                    [key], {});\n",
              "        if (!dataTable) return;\n",
              "\n",
              "        const docLinkHtml = 'Like what you see? Visit the ' +\n",
              "          '<a target=\"_blank\" href=https://colab.research.google.com/notebooks/data_table.ipynb>data table notebook</a>'\n",
              "          + ' to learn more about interactive tables.';\n",
              "        element.innerHTML = '';\n",
              "        dataTable['output_type'] = 'display_data';\n",
              "        await google.colab.output.renderOutput(dataTable, element);\n",
              "        const docLink = document.createElement('div');\n",
              "        docLink.innerHTML = docLinkHtml;\n",
              "        element.appendChild(docLink);\n",
              "      }\n",
              "    </script>\n",
              "  </div>\n",
              "\n",
              "\n",
              "    <div id=\"df-992fbe50-38a1-4073-b400-cce12586aabe\">\n",
              "      <button class=\"colab-df-quickchart\" onclick=\"quickchart('df-992fbe50-38a1-4073-b400-cce12586aabe')\"\n",
              "                title=\"Suggest charts\"\n",
              "                style=\"display:none;\">\n",
              "\n",
              "<svg xmlns=\"http://www.w3.org/2000/svg\" height=\"24px\"viewBox=\"0 0 24 24\"\n",
              "     width=\"24px\">\n",
              "    <g>\n",
              "        <path d=\"M19 3H5c-1.1 0-2 .9-2 2v14c0 1.1.9 2 2 2h14c1.1 0 2-.9 2-2V5c0-1.1-.9-2-2-2zM9 17H7v-7h2v7zm4 0h-2V7h2v10zm4 0h-2v-4h2v4z\"/>\n",
              "    </g>\n",
              "</svg>\n",
              "      </button>\n",
              "\n",
              "<style>\n",
              "  .colab-df-quickchart {\n",
              "      --bg-color: #E8F0FE;\n",
              "      --fill-color: #1967D2;\n",
              "      --hover-bg-color: #E2EBFA;\n",
              "      --hover-fill-color: #174EA6;\n",
              "      --disabled-fill-color: #AAA;\n",
              "      --disabled-bg-color: #DDD;\n",
              "  }\n",
              "\n",
              "  [theme=dark] .colab-df-quickchart {\n",
              "      --bg-color: #3B4455;\n",
              "      --fill-color: #D2E3FC;\n",
              "      --hover-bg-color: #434B5C;\n",
              "      --hover-fill-color: #FFFFFF;\n",
              "      --disabled-bg-color: #3B4455;\n",
              "      --disabled-fill-color: #666;\n",
              "  }\n",
              "\n",
              "  .colab-df-quickchart {\n",
              "    background-color: var(--bg-color);\n",
              "    border: none;\n",
              "    border-radius: 50%;\n",
              "    cursor: pointer;\n",
              "    display: none;\n",
              "    fill: var(--fill-color);\n",
              "    height: 32px;\n",
              "    padding: 0;\n",
              "    width: 32px;\n",
              "  }\n",
              "\n",
              "  .colab-df-quickchart:hover {\n",
              "    background-color: var(--hover-bg-color);\n",
              "    box-shadow: 0 1px 2px rgba(60, 64, 67, 0.3), 0 1px 3px 1px rgba(60, 64, 67, 0.15);\n",
              "    fill: var(--button-hover-fill-color);\n",
              "  }\n",
              "\n",
              "  .colab-df-quickchart-complete:disabled,\n",
              "  .colab-df-quickchart-complete:disabled:hover {\n",
              "    background-color: var(--disabled-bg-color);\n",
              "    fill: var(--disabled-fill-color);\n",
              "    box-shadow: none;\n",
              "  }\n",
              "\n",
              "  .colab-df-spinner {\n",
              "    border: 2px solid var(--fill-color);\n",
              "    border-color: transparent;\n",
              "    border-bottom-color: var(--fill-color);\n",
              "    animation:\n",
              "      spin 1s steps(1) infinite;\n",
              "  }\n",
              "\n",
              "  @keyframes spin {\n",
              "    0% {\n",
              "      border-color: transparent;\n",
              "      border-bottom-color: var(--fill-color);\n",
              "      border-left-color: var(--fill-color);\n",
              "    }\n",
              "    20% {\n",
              "      border-color: transparent;\n",
              "      border-left-color: var(--fill-color);\n",
              "      border-top-color: var(--fill-color);\n",
              "    }\n",
              "    30% {\n",
              "      border-color: transparent;\n",
              "      border-left-color: var(--fill-color);\n",
              "      border-top-color: var(--fill-color);\n",
              "      border-right-color: var(--fill-color);\n",
              "    }\n",
              "    40% {\n",
              "      border-color: transparent;\n",
              "      border-right-color: var(--fill-color);\n",
              "      border-top-color: var(--fill-color);\n",
              "    }\n",
              "    60% {\n",
              "      border-color: transparent;\n",
              "      border-right-color: var(--fill-color);\n",
              "    }\n",
              "    80% {\n",
              "      border-color: transparent;\n",
              "      border-right-color: var(--fill-color);\n",
              "      border-bottom-color: var(--fill-color);\n",
              "    }\n",
              "    90% {\n",
              "      border-color: transparent;\n",
              "      border-bottom-color: var(--fill-color);\n",
              "    }\n",
              "  }\n",
              "</style>\n",
              "\n",
              "      <script>\n",
              "        async function quickchart(key) {\n",
              "          const quickchartButtonEl =\n",
              "            document.querySelector('#' + key + ' button');\n",
              "          quickchartButtonEl.disabled = true;  // To prevent multiple clicks.\n",
              "          quickchartButtonEl.classList.add('colab-df-spinner');\n",
              "          try {\n",
              "            const charts = await google.colab.kernel.invokeFunction(\n",
              "                'suggestCharts', [key], {});\n",
              "          } catch (error) {\n",
              "            console.error('Error during call to suggestCharts:', error);\n",
              "          }\n",
              "          quickchartButtonEl.classList.remove('colab-df-spinner');\n",
              "          quickchartButtonEl.classList.add('colab-df-quickchart-complete');\n",
              "        }\n",
              "        (() => {\n",
              "          let quickchartButtonEl =\n",
              "            document.querySelector('#df-992fbe50-38a1-4073-b400-cce12586aabe button');\n",
              "          quickchartButtonEl.style.display =\n",
              "            google.colab.kernel.accessAllowed ? 'block' : 'none';\n",
              "        })();\n",
              "      </script>\n",
              "    </div>\n",
              "\n",
              "  <div id=\"id_34871923-821d-42cd-b7b8-32e332825235\">\n",
              "    <style>\n",
              "      .colab-df-generate {\n",
              "        background-color: #E8F0FE;\n",
              "        border: none;\n",
              "        border-radius: 50%;\n",
              "        cursor: pointer;\n",
              "        display: none;\n",
              "        fill: #1967D2;\n",
              "        height: 32px;\n",
              "        padding: 0 0 0 0;\n",
              "        width: 32px;\n",
              "      }\n",
              "\n",
              "      .colab-df-generate:hover {\n",
              "        background-color: #E2EBFA;\n",
              "        box-shadow: 0px 1px 2px rgba(60, 64, 67, 0.3), 0px 1px 3px 1px rgba(60, 64, 67, 0.15);\n",
              "        fill: #174EA6;\n",
              "      }\n",
              "\n",
              "      [theme=dark] .colab-df-generate {\n",
              "        background-color: #3B4455;\n",
              "        fill: #D2E3FC;\n",
              "      }\n",
              "\n",
              "      [theme=dark] .colab-df-generate:hover {\n",
              "        background-color: #434B5C;\n",
              "        box-shadow: 0px 1px 3px 1px rgba(0, 0, 0, 0.15);\n",
              "        filter: drop-shadow(0px 1px 2px rgba(0, 0, 0, 0.3));\n",
              "        fill: #FFFFFF;\n",
              "      }\n",
              "    </style>\n",
              "    <button class=\"colab-df-generate\" onclick=\"generateWithVariable('performances_df_validation')\"\n",
              "            title=\"Generate code using this dataframe.\"\n",
              "            style=\"display:none;\">\n",
              "\n",
              "  <svg xmlns=\"http://www.w3.org/2000/svg\" height=\"24px\"viewBox=\"0 0 24 24\"\n",
              "       width=\"24px\">\n",
              "    <path d=\"M7,19H8.4L18.45,9,17,7.55,7,17.6ZM5,21V16.75L18.45,3.32a2,2,0,0,1,2.83,0l1.4,1.43a1.91,1.91,0,0,1,.58,1.4,1.91,1.91,0,0,1-.58,1.4L9.25,21ZM18.45,9,17,7.55Zm-12,3A5.31,5.31,0,0,0,4.9,8.1,5.31,5.31,0,0,0,1,6.5,5.31,5.31,0,0,0,4.9,4.9,5.31,5.31,0,0,0,6.5,1,5.31,5.31,0,0,0,8.1,4.9,5.31,5.31,0,0,0,12,6.5,5.46,5.46,0,0,0,6.5,12Z\"/>\n",
              "  </svg>\n",
              "    </button>\n",
              "    <script>\n",
              "      (() => {\n",
              "      const buttonEl =\n",
              "        document.querySelector('#id_34871923-821d-42cd-b7b8-32e332825235 button.colab-df-generate');\n",
              "      buttonEl.style.display =\n",
              "        google.colab.kernel.accessAllowed ? 'block' : 'none';\n",
              "\n",
              "      buttonEl.onclick = () => {\n",
              "        google.colab.notebook.generateWithVariable('performances_df_validation');\n",
              "      }\n",
              "      })();\n",
              "    </script>\n",
              "  </div>\n",
              "\n",
              "    </div>\n",
              "  </div>\n"
            ],
            "application/vnd.google.colaboratory.intrinsic+json": {
              "type": "dataframe",
              "variable_name": "performances_df_validation",
              "summary": "{\n  \"name\": \"performances_df_validation\",\n  \"rows\": 4,\n  \"fields\": [\n    {\n      \"column\": \"AUC ROC Validation\",\n      \"properties\": {\n        \"dtype\": \"number\",\n        \"std\": 0.002125710961765579,\n        \"min\": 0.873090547382074,\n        \"max\": 0.8780107994236426,\n        \"num_unique_values\": 4,\n        \"samples\": [\n          0.8780107994236426,\n          0.8769926027957624,\n          0.873090547382074\n        ],\n        \"semantic_type\": \"\",\n        \"description\": \"\"\n      }\n    },\n    {\n      \"column\": \"AUC ROC Validation Std\",\n      \"properties\": {\n        \"dtype\": \"number\",\n        \"std\": 0.0014042221543340285,\n        \"min\": 0.009374852400713448,\n        \"max\": 0.012666245213244866,\n        \"num_unique_values\": 4,\n        \"samples\": [\n          0.012666245213244866,\n          0.011310708592639263,\n          0.009374852400713448\n        ],\n        \"semantic_type\": \"\",\n        \"description\": \"\"\n      }\n    },\n    {\n      \"column\": \"Average precision Validation\",\n      \"properties\": {\n        \"dtype\": \"number\",\n        \"std\": 0.010599986043263135,\n        \"min\": 0.6572037880856625,\n        \"max\": 0.6807612838237277,\n        \"num_unique_values\": 4,\n        \"samples\": [\n          0.6732542490955632,\n          0.6807612838237277,\n          0.6572037880856625\n        ],\n        \"semantic_type\": \"\",\n        \"description\": \"\"\n      }\n    },\n    {\n      \"column\": \"Average precision Validation Std\",\n      \"properties\": {\n        \"dtype\": \"number\",\n        \"std\": 0.0012688142712523646,\n        \"min\": 0.011796434236478333,\n        \"max\": 0.01448088706152828,\n        \"num_unique_values\": 4,\n        \"samples\": [\n          0.014389852577845638,\n          0.01306193476717993,\n          0.01448088706152828\n        ],\n        \"semantic_type\": \"\",\n        \"description\": \"\"\n      }\n    },\n    {\n      \"column\": \"Card Precision@100 Validation\",\n      \"properties\": {\n        \"dtype\": \"number\",\n        \"std\": 0.004960515869047769,\n        \"min\": 0.2285714285714286,\n        \"max\": 0.24,\n        \"num_unique_values\": 4,\n        \"samples\": [\n          0.2285714285714286,\n          0.24,\n          0.2332142857142857\n        ],\n        \"semantic_type\": \"\",\n        \"description\": \"\"\n      }\n    },\n    {\n      \"column\": \"Card Precision@100 Validation Std\",\n      \"properties\": {\n        \"dtype\": \"number\",\n        \"std\": 0.005864990757911035,\n        \"min\": 0.011180339887498933,\n        \"max\": 0.024502707055777017,\n        \"num_unique_values\": 4,\n        \"samples\": [\n          0.013286482312670182,\n          0.017231911545449733,\n          0.024502707055777017\n        ],\n        \"semantic_type\": \"\",\n        \"description\": \"\"\n      }\n    },\n    {\n      \"column\": \"Parameters\",\n      \"properties\": {\n        \"dtype\": \"object\",\n        \"semantic_type\": \"\",\n        \"description\": \"\"\n      }\n    },\n    {\n      \"column\": \"Execution time\",\n      \"properties\": {\n        \"dtype\": \"number\",\n        \"std\": 16.126511521021065,\n        \"min\": 29.429621815681458,\n        \"max\": 60.91517400741577,\n        \"num_unique_values\": 4,\n        \"samples\": [\n          30.724433422088623,\n          60.91517400741577,\n          29.429621815681458\n        ],\n        \"semantic_type\": \"\",\n        \"description\": \"\"\n      }\n    }\n  ]\n}"
            }
          },
          "metadata": {},
          "execution_count": 55
        }
      ],
      "source": [
        "performances_df_validation"
      ]
    },
    {
      "cell_type": "markdown",
      "metadata": {
        "id": "R-wnBBopf_Vd"
      },
      "source": [
        "Validation seems to be running smoothly and the results already look promising.\n",
        "\n",
        "Let us now perform a proper model selection using the protocol from Chapter 5.3, [](Model_Selection)."
      ]
    },
    {
      "cell_type": "code",
      "execution_count": null,
      "metadata": {
        "colab": {
          "base_uri": "https://localhost:8080/"
        },
        "id": "4WQG_2bPf_Vd",
        "outputId": "72bba616-7608-40fe-f5df-3d46ea8736ae"
      },
      "outputs": [
        {
          "metadata": {
            "tags": null
          },
          "name": "stdout",
          "output_type": "stream",
          "text": [
            "Fitting 4 folds for each of 162 candidates, totalling 648 fits\n"
          ]
        }
      ],
      "source": [
        "seed_everything(SEED)\n",
        "\n",
        "\n",
        "parameters = {\n",
        "    'clf__lr': [0.001 , 0.0001, 0.0002],\n",
        "    'clf__batch_size': [64,128,256],\n",
        "    'clf__max_epochs': [10,20,40],\n",
        "    'clf__module__hidden_size': [500],\n",
        "    'clf__module__num_layers': [1,2],\n",
        "    'clf__module__p': [0,0.2,0.4],\n",
        "    'clf__module__input_size': [int(len(input_features))],\n",
        "}\n",
        "\n",
        "start_time=time.time()\n",
        "\n",
        "performances_df=model_selection_wrapper(transactions_df, net,\n",
        "                                        input_features, output_feature,\n",
        "                                        parameters, scoring,\n",
        "                                        start_date_training_for_valid,\n",
        "                                        start_date_training_for_test,\n",
        "                                        n_folds=n_folds,\n",
        "                                        delta_train=delta_train,\n",
        "                                        delta_delay=delta_delay,\n",
        "                                        delta_assessment=delta_assessment,\n",
        "                                        performance_metrics_list_grid=performance_metrics_list_grid,\n",
        "                                        performance_metrics_list=performance_metrics_list,\n",
        "                                        n_jobs=10)\n",
        "\n",
        "\n",
        "execution_time_nn = time.time()-start_time\n",
        "\n",
        "parameters_dict=dict(performances_df['Parameters'])\n",
        "performances_df['Parameters summary']=[str(parameters_dict[i]['clf__lr'])+\n",
        "                                   '/'+\n",
        "                                   str(parameters_dict[i]['clf__batch_size'])+\n",
        "                                   '/'+\n",
        "                                   str(parameters_dict[i]['clf__max_epochs'])+\n",
        "                                   '/'+\n",
        "                                   str(parameters_dict[i]['clf__module__p'])+\n",
        "                                   '/'+\n",
        "                                   str(parameters_dict[i]['clf__module__num_layers'])\n",
        "                                   for i in range(len(parameters_dict))]\n",
        "\n",
        "performances_df_nn=performances_df"
      ]
    },
    {
      "cell_type": "code",
      "execution_count": null,
      "metadata": {
        "id": "AGD_nGeJf_Ve"
      },
      "outputs": [],
      "source": [
        "performances_df_nn"
      ]
    },
    {
      "cell_type": "code",
      "execution_count": null,
      "metadata": {
        "id": "H_bLZ8Pif_Ve"
      },
      "outputs": [],
      "source": [
        "execution_time_nn"
      ]
    },
    {
      "cell_type": "markdown",
      "metadata": {
        "id": "yuHePUWhf_Vf"
      },
      "source": [
        "Since the number of parameters to tune is large here, and the training (with 20-40 epochs) is rather slow, the execution of the grid-search can take a long time (7350 seconds here). Indeed, it requires training 162 neural networks for each train/valid split of the prequential validation. To speed up the process, it would be beneficial to adopt the random search as suggested at the end of Section 5.3 or to use a hyperparameter tuning method more adapted to neural networks."
      ]
    },
    {
      "cell_type": "code",
      "execution_count": null,
      "metadata": {
        "id": "8_aNeAmWf_Vf"
      },
      "outputs": [],
      "source": [
        "summary_performances_nn=get_summary_performances(performances_df_nn, parameter_column_name=\"Parameters summary\")\n",
        "summary_performances_nn"
      ]
    },
    {
      "cell_type": "markdown",
      "metadata": {
        "id": "j2RoluqEf_Vg"
      },
      "source": [
        "The optimal sets of hyperparameters strongly depend on the metric. The majority slightly favors the largest learning rate `0.001` and 2 hidden layers. Let us consider these values and visualize the impact of the others (batch size, number of epochs, and dropout)."
      ]
    },
    {
      "cell_type": "code",
      "execution_count": null,
      "metadata": {
        "id": "uRRlWOrDf_Vg"
      },
      "outputs": [],
      "source": [
        "parameters_dict=dict(performances_df_nn['Parameters'])\n",
        "performances_df_nn['Parameters summary']=[\n",
        "                                   str(parameters_dict[i]['clf__batch_size'])+\n",
        "                                   '/'+\n",
        "                                   str(parameters_dict[i]['clf__max_epochs'])+\n",
        "                                   '/'+\n",
        "                                   str(parameters_dict[i]['clf__module__p'])\n",
        "\n",
        "                                   for i in range(len(parameters_dict))]"
      ]
    },
    {
      "cell_type": "code",
      "execution_count": null,
      "metadata": {
        "id": "F1nH8q15f_Vh"
      },
      "outputs": [],
      "source": [
        "performances_df_nn_subset = performances_df_nn[performances_df_nn['Parameters'].apply(lambda x:x['clf__lr']== 0.001 and x['clf__module__hidden_size']==500 and x['clf__module__num_layers']==2 and x['clf__module__p']==0.2 and x['clf__max_epochs']==20).values]\n",
        "summary_performances_nn_subset=get_summary_performances(performances_df_nn_subset, parameter_column_name=\"Parameters summary\")\n",
        "indexes_summary = summary_performances_nn_subset.index.values\n",
        "indexes_summary[0] = 'Best estimated parameters'\n",
        "summary_performances_nn_subset.rename(index = dict(zip(np.arange(len(indexes_summary)),indexes_summary)))\n",
        "get_performances_plots(performances_df_nn_subset,\n",
        "                       performance_metrics_list=['AUC ROC', 'Average precision', 'Card Precision@100'],\n",
        "                       expe_type_list=['Test','Validation'], expe_type_color_list=['#008000','#FF0000'],\n",
        "                       parameter_name=\"batch size\",\n",
        "                       summary_performances=summary_performances_nn_subset)"
      ]
    },
    {
      "cell_type": "markdown",
      "metadata": {
        "id": "B32qSZw_f_Vh"
      },
      "source": [
        "First, if we fix the number of epochs to 20, the dropout level to 0.2, the lower batch size leads to better results for average precision and card precision on the test set, whereas there is a sweet spot according to AUC-ROC. In fact, the optimal batch size is strongly connected to other optimizer parameters. Often, a larger batch size requires a larger number of epochs. To verify that, let us visualize the same plots but with the number of epochs to 40."
      ]
    },
    {
      "cell_type": "code",
      "execution_count": null,
      "metadata": {
        "id": "NN6gUpu-f_Vh"
      },
      "outputs": [],
      "source": [
        "performances_df_nn_subset = performances_df_nn[performances_df_nn['Parameters'].apply(lambda x:x['clf__lr']== 0.001 and x['clf__module__hidden_size']==500 and x['clf__module__num_layers']==2 and x['clf__module__p']==0.2 and x['clf__max_epochs']==40).values]\n",
        "summary_performances_nn_subset=get_summary_performances(performances_df_nn_subset, parameter_column_name=\"Parameters summary\")\n",
        "indexes_summary = summary_performances_nn_subset.index.values\n",
        "indexes_summary[0] = 'Best estimated parameters'\n",
        "summary_performances_nn_subset.rename(index = dict(zip(np.arange(len(indexes_summary)),indexes_summary)))\n",
        "get_performances_plots(performances_df_nn_subset,\n",
        "                       performance_metrics_list=['AUC ROC', 'Average precision', 'Card Precision@100'],\n",
        "                       expe_type_list=['Test','Validation'], expe_type_color_list=['#008000','#FF0000'],\n",
        "                       parameter_name=\"batch size\",\n",
        "                       summary_performances=summary_performances_nn_subset)"
      ]
    },
    {
      "cell_type": "markdown",
      "metadata": {
        "id": "ecxsbpJ1f_Vh"
      },
      "source": [
        "With this higher number of epochs, the optimal batch size is now globally higher. Let us now do the contrary, i.e. fix the batch size to some value (e.g. 64) and visualize the impact of the number of epochs."
      ]
    },
    {
      "cell_type": "code",
      "execution_count": null,
      "metadata": {
        "id": "ULXDDVEnf_Vh"
      },
      "outputs": [],
      "source": [
        "performances_df_nn_subset = performances_df_nn[performances_df_nn['Parameters'].apply(lambda x:x['clf__lr']== 0.001 and x['clf__module__hidden_size']==500 and x['clf__module__num_layers']==2 and x['clf__module__p']==0.2 and x['clf__batch_size']==64).values]\n",
        "summary_performances_nn_subset=get_summary_performances(performances_df_nn_subset, parameter_column_name=\"Parameters summary\")\n",
        "indexes_summary = summary_performances_nn_subset.index.values\n",
        "indexes_summary[0] = 'Best estimated parameters'\n",
        "summary_performances_nn_subset.rename(index = dict(zip(np.arange(len(indexes_summary)),indexes_summary)))\n",
        "get_performances_plots(performances_df_nn_subset,\n",
        "                       performance_metrics_list=['AUC ROC', 'Average precision', 'Card Precision@100'],\n",
        "                       expe_type_list=['Test','Validation'], expe_type_color_list=['#008000','#FF0000'],\n",
        "                       parameter_name=\"Epochs\",\n",
        "                       summary_performances=summary_performances_nn_subset)"
      ]
    },
    {
      "cell_type": "markdown",
      "metadata": {
        "id": "yM9Mdkg9f_Vi"
      },
      "source": [
        "The optimal number of epochs also depends on the metric and has a sweet spot strongly connected to the choice of other hyperparameters."
      ]
    },
    {
      "cell_type": "code",
      "execution_count": null,
      "metadata": {
        "id": "Cg3EWDLrf_Vi"
      },
      "outputs": [],
      "source": [
        "performances_df_nn_subset = performances_df_nn[performances_df_nn['Parameters'].apply(lambda x:x['clf__lr']== 0.001 and x['clf__module__hidden_size']==500 and x['clf__module__num_layers']==2 and x['clf__max_epochs']==20 and x['clf__batch_size']==64).values]\n",
        "summary_performances_nn_subset=get_summary_performances(performances_df_nn_subset, parameter_column_name=\"Parameters summary\")\n",
        "indexes_summary = summary_performances_nn_subset.index.values\n",
        "indexes_summary[0] = 'Best estimated parameters'\n",
        "summary_performances_nn_subset.rename(index = dict(zip(np.arange(len(indexes_summary)),indexes_summary)))\n",
        "get_performances_plots(performances_df_nn_subset,\n",
        "                       performance_metrics_list=['AUC ROC', 'Average precision', 'Card Precision@100'],\n",
        "                       expe_type_list=['Test','Validation'], expe_type_color_list=['#008000','#FF0000'],\n",
        "                       parameter_name=\"Dropout\",\n",
        "                       summary_performances=summary_performances_nn_subset)\n",
        "\n",
        "parameters_dict=dict(performances_df_nn['Parameters'])\n",
        "performances_df_nn['Parameters summary']=[str(parameters_dict[i]['clf__lr'])+\n",
        "                                   '/'+\n",
        "                                   str(parameters_dict[i]['clf__batch_size'])+\n",
        "                                   '/'+\n",
        "                                   str(parameters_dict[i]['clf__max_epochs'])+\n",
        "                                   '/'+\n",
        "                                   str(parameters_dict[i]['clf__module__p'])+\n",
        "                                   '/'+\n",
        "                                   str(parameters_dict[i]['clf__module__num_layers'])\n",
        "                                   for i in range(len(parameters_dict))]"
      ]
    },
    {
      "cell_type": "markdown",
      "metadata": {
        "id": "2nJYekIyf_Vi"
      },
      "source": [
        "As for the dropout, it helps generalize and improve the valid/test metrics. However, when the dropout value is too high (0.4), it can deteriorate the results, e.g. by limiting the fitting power or by requiring a larger number of epochs."
      ]
    },
    {
      "cell_type": "markdown",
      "metadata": {
        "id": "HFrSRtIPf_Vi"
      },
      "source": [
        "## Saving of results\n",
        "\n",
        "Let us save the performance results and execution times of the neural network models in a Python pickle format."
      ]
    },
    {
      "cell_type": "code",
      "execution_count": null,
      "metadata": {
        "id": "S-E7_vTNf_Vj"
      },
      "outputs": [],
      "source": [
        "performances_df_dictionary={\n",
        "    \"Neural Network\": performances_df_nn\n",
        "}\n",
        "\n",
        "execution_times=[execution_time_nn]\n",
        "\n",
        "filehandler = open('performances_model_selection_nn.pkl', 'wb')\n",
        "pickle.dump((performances_df_dictionary, execution_times), filehandler)\n",
        "filehandler.close()"
      ]
    },
    {
      "cell_type": "markdown",
      "metadata": {
        "id": "E2GfoGtmf_Vj"
      },
      "source": [
        "## Benchmark summary\n",
        "\n",
        "Let us finally retrieve the performance results obtained in [Chapter 5](Model_Selection_Comparison_Performances) with decision tree, logistic regression, random forest and XGBoost, and compare them with those obtained with a feed-forward neural network. The results can be retrieved by loading the `performances_model_selection.pkl` and `performances_model_selection_nn.pkl` pickle files, and summarized with the `get_summary_performances` function."
      ]
    },
    {
      "cell_type": "code",
      "execution_count": null,
      "metadata": {
        "tags": [
          "hide-cell"
        ],
        "id": "92J4loa1f_Vj"
      },
      "outputs": [],
      "source": [
        "# Load performance results for decision tree, logistic regression, random forest and XGBoost\n",
        "filehandler = open('../Chapter_5_ModelValidationAndSelection/performances_model_selection.pkl', 'rb')\n",
        "(performances_df_dictionary, execution_times) = pickle.load(filehandler)\n",
        "\n",
        "# Load performance results for feed-forward neural network\n",
        "filehandler = open('performances_model_selection_nn.pkl', 'rb')\n",
        "(performances_df_dictionary_nn, execution_times_nn) = pickle.load(filehandler)\n"
      ]
    },
    {
      "cell_type": "code",
      "execution_count": null,
      "metadata": {
        "tags": [
          "hide-cell"
        ],
        "id": "LiCAztPZf_Vj"
      },
      "outputs": [],
      "source": [
        "performances_df_dt=performances_df_dictionary['Decision Tree']\n",
        "summary_performances_dt=get_summary_performances(performances_df_dt, parameter_column_name=\"Parameters summary\")\n",
        "\n",
        "performances_df_lr=performances_df_dictionary['Logistic Regression']\n",
        "summary_performances_lr=get_summary_performances(performances_df_lr, parameter_column_name=\"Parameters summary\")\n",
        "\n",
        "performances_df_rf=performances_df_dictionary['Random Forest']\n",
        "summary_performances_rf=get_summary_performances(performances_df_rf, parameter_column_name=\"Parameters summary\")\n",
        "\n",
        "performances_df_xgboost=performances_df_dictionary['XGBoost']\n",
        "summary_performances_xgboost=get_summary_performances(performances_df_xgboost, parameter_column_name=\"Parameters summary\")\n",
        "\n",
        "performances_df_nn=performances_df_dictionary_nn['Neural Network']\n",
        "summary_performances_nn=get_summary_performances(performances_df_nn, parameter_column_name=\"Parameters summary\")\n",
        "\n",
        "summary_test_performances = pd.concat([summary_performances_dt.iloc[2,:],\n",
        "                                       summary_performances_lr.iloc[2,:],\n",
        "                                       summary_performances_rf.iloc[2,:],\n",
        "                                       summary_performances_xgboost.iloc[2,:],\n",
        "                                       summary_performances_nn.iloc[2,:],\n",
        "                                      ],axis=1)\n",
        "\n",
        "summary_test_performances.columns=['Decision Tree', 'Logistic Regression', 'Random Forest', 'XGBoost', 'Neural Network']\n"
      ]
    },
    {
      "cell_type": "markdown",
      "metadata": {
        "id": "dM3IJFBff_Vj"
      },
      "source": [
        "The results are summarized in a `summary_test_performances` table. Rows provide the average performance results on the test sets in terms of AUC ROC, Average Precision and CP@100."
      ]
    },
    {
      "cell_type": "code",
      "execution_count": null,
      "metadata": {
        "id": "Jfq66x_-f_Vj"
      },
      "outputs": [],
      "source": [
        "summary_test_performances"
      ]
    },
    {
      "cell_type": "markdown",
      "metadata": {
        "id": "NgLbbhxtf_Vk"
      },
      "source": [
        "Overall, it appears that our simple feed-forward neural network is a good competitor in terms of predictive performance for the fraud detection problem, providing the best performances in terms of AUC ROC and CP@100, and competitive performances in terms of Average Precision. Moreover, it benefits from many advantages (e.g. its ability for incremental learning), as mentioned in the previous section."
      ]
    },
    {
      "cell_type": "markdown",
      "metadata": {
        "id": "XxnDRr70f_Vk"
      },
      "source": [
        "## Conclusion"
      ]
    },
    {
      "cell_type": "markdown",
      "metadata": {
        "id": "984vDYf9f_Vk"
      },
      "source": [
        "This section gave an overview of how to design a feed-forward neural network for fraud detection. Comparatively to classical machine learning models, neural networks have an infinite set of hyperparameters. This modularity in the design has a lot of advantages in terms of expressivity but it comes at the cost of a time-consuming hyper optimization of the architecture, the activations, the loss, the optimizers, the preprocessing, etc. Nevertheless, there are many ways to automate hyper optimization and architecture design, for instance with AutoML including Neural Architecture Search (or NAS) {cite}`elsken2019neural`.\n",
        "\n",
        "Here only the top of the iceberg is covered. There are many other aspects to consider even with such a simple neural network. Many of them can be found in good practice guides and generally also apply to fraud detection. Some are even specific to problems like the latter. An important one is to manage imbalance (refer to Chapter 6 for more details): it can be done with neural networks by replacing binary cross-entropy with a weighted BCE (putting more importance on the loss terms associated with fraud samples) or with focal loss, a variant of cross-entropy specifically designed to automatically focus on under-represented samples. Another way is to implement a custom Dataloader with a [balanced sampler](https://github.com/ufoym/imbalanced-dataset-sampler).\n",
        "\n",
        "The rest of the chapter rather focuses on different types of neural network models like autoencoders or sequential models and the way they can be used in a fraud detection context."
      ]
    },
    {
      "cell_type": "code",
      "execution_count": null,
      "metadata": {
        "id": "7XQg3RQwf_Vk"
      },
      "outputs": [],
      "source": []
    }
  ],
  "metadata": {
    "celltoolbar": "Tags",
    "kernelspec": {
      "display_name": "Python 3",
      "name": "python3"
    },
    "language_info": {
      "codemirror_mode": {
        "name": "ipython",
        "version": 3
      },
      "file_extension": ".py",
      "mimetype": "text/x-python",
      "name": "python",
      "nbconvert_exporter": "python",
      "pygments_lexer": "ipython3",
      "version": "3.8.10"
    },
    "colab": {
      "provenance": []
    }
  },
  "nbformat": 4,
  "nbformat_minor": 0
}