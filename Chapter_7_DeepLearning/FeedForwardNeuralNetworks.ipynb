{
  "cells": [
    {
      "cell_type": "markdown",
      "metadata": {
        "id": "daDYiBkoSib0"
      },
      "source": [
        "(FeedForwardNeuralNetworks)=\n",
        "# Feed-forward neural network"
      ]
    },
    {
      "cell_type": "markdown",
      "metadata": {
        "id": "HWGvIlQrSib1"
      },
      "source": [
        "As neural networks are a pillar in both the early and the recent advances of artificial intelligence, their use for credit card fraud detection is not surprising. The first examples of simple feed-forward neural networks applied to fraud detection can bring us back to the early 90s {cite}`ghosh1994credit,aleskerov1997cardwatch`. Naturally, in recent FDS studies, neural networks are often found in experimental benchmarks, along with random forests, XGBoost, or logistic regression.\n",
        "\n",
        "At the core of a feed-forward neural network is the artificial neuron, a simple machine learning model that consists of a linear combination of input variables followed by the application of an activation function $\\sigma$ (sigmoid, ReLU, tanh, ...). More precisely, given a list of $n$ input variables $x_i$, the output $h$ of the artificial neuron is computed as follows:\n",
        "\n",
        "$h = \\sigma(\\sum_{i=1}^n w_i*x_i)$\n",
        "\n",
        "where $w_i$ are the weights of the model.\n",
        "\n",
        "A whole network is composed of a succession of layers containing neurons that take, as inputs, the output values of the previous layer.\n",
        "\n",
        "![A feed forward neural network architecture](https://github.com/Fraud-Detection-Handbook/fraud-detection-handbook/blob/main/Chapter_7_DeepLearning/images/neuralnetwork.png?raw=1)\n",
        "\n",
        "When applied to the fraud detection problem, the architecture is designed as follows:\n",
        "\n",
        "* At the beginning of the network, the neurons take as input the characteristics of a credit card transaction, i.e. the features that were defined in the previous chapters.\n",
        "* At the end, the network outputs a single neuron that aims at representing the probability for the input transaction to be a fraud."
      ]
    },
    {
      "cell_type": "markdown",
      "metadata": {
        "id": "CkVoNl0tSib2"
      },
      "source": [
        "The rest of the architecture (other layers), the neurons specificity (activation functions), and other hyperparameters (optimization, data processing, ...) are left to the practitioner's choice.\n",
        "\n",
        "The most popular training algorithm for feedforward architectures is backpropagation {cite}`hecht1992theory`. The idea is to iterate over all samples of the dataset and perform two key operations:\n",
        "* the forward pass: setting the sample's features values in the input neurons and computing all the layers to finally obtain a predicted output.\n",
        "* the backward pass: computing a cost function, i.e. a discrepancy between the prediction and the expected ground truth output, and trying to minimize it with an optimizer (e.g. gradient descent) by updating weights layer after layer, from output to input.\n",
        "\n",
        "This section covers the design of a feed-foward neural network for fraud detection. It describes how to:\n",
        "* Implement a first simple neural network and study the impact of several architectures and design choices.\n",
        "* Wrap it to make it compatible with the model selection methodology from Chapter 5 and run a grid-search to select its optimal parameters.\n",
        "* Store the important functions for a final comparison between deep learning techniques and other baselines at the end of the chapter."
      ]
    },
    {
      "cell_type": "markdown",
      "metadata": {
        "id": "AYmimLlOSib2"
      },
      "source": [
        "Let us first start by importing all the necessary libraries and functions and retrieving the simulated data."
      ]
    },
    {
      "cell_type": "code",
      "execution_count": 27,
      "metadata": {
        "scrolled": true,
        "tags": [
          "hide-cell"
        ],
        "id": "-o9vNSEFSib2",
        "outputId": "49927e21-2fd0-440f-ce75-0239752e1a1e",
        "colab": {
          "base_uri": "https://localhost:8080/",
          "height": 90
        }
      },
      "outputs": [
        {
          "output_type": "stream",
          "name": "stdout",
          "text": [
            "  % Total    % Received % Xferd  Average Speed   Time    Time     Time  Current\n",
            "                                 Dload  Upload   Total   Spent    Left  Speed\n",
            "100 63257  100 63257    0     0   262k      0 --:--:-- --:--:-- --:--:--  262k\n"
          ]
        },
        {
          "output_type": "display_data",
          "data": {
            "text/plain": [
              "<Figure size 640x480 with 0 Axes>"
            ]
          },
          "metadata": {}
        }
      ],
      "source": [
        "# Initialization: Load shared functions and simulated data\n",
        "\n",
        "# Load shared functions\n",
        "!curl -O https://raw.githubusercontent.com/Fraud-Detection-Handbook/fraud-detection-handbook/main/Chapter_References/shared_functions.py\n",
        "%run shared_functions.py\n",
        "\n",
        "# Get simulated data from Github repository\n",
        "if not os.path.exists(\"simulated-data-transformed\"):\n",
        "    !git clone https://github.com/Fraud-Detection-Handbook/simulated-data-transformed"
      ]
    },
    {
      "cell_type": "markdown",
      "metadata": {
        "id": "ldi74k48Sib3"
      },
      "source": [
        "## Data Loading"
      ]
    },
    {
      "cell_type": "markdown",
      "metadata": {
        "id": "EoYcLL2CSib4"
      },
      "source": [
        "The experimental setup is the same as in Chapter 5. More precisely, at the end of the chapter, model selection will be based on a grid search with multiple validations. Each time, one week of data will be used for training a neural network and one week of data for testing the predictions.\n",
        "\n",
        "To implement the first base network and explore several architecture choices, let us start by selecting a training and validation period arbitrarily. The experiments will be based on the transformed simulated data (`simulated-data-transformed/data/`) and the same feature set as other models."
      ]
    },
    {
      "cell_type": "code",
      "execution_count": 28,
      "metadata": {
        "id": "IVC783U2Sib4",
        "outputId": "d04660e8-eb7a-4a5c-f8f2-269b862117b6",
        "colab": {
          "base_uri": "https://localhost:8080/"
        }
      },
      "outputs": [
        {
          "output_type": "stream",
          "name": "stdout",
          "text": [
            "Load  files\n",
            "CPU times: user 459 ms, sys: 740 ms, total: 1.2 s\n",
            "Wall time: 1.21 s\n",
            "919767 transactions loaded, containing 8195 fraudulent transactions\n"
          ]
        }
      ],
      "source": [
        "DIR_INPUT='simulated-data-transformed/data/'\n",
        "\n",
        "BEGIN_DATE = \"2018-06-11\"\n",
        "END_DATE = \"2018-09-14\"\n",
        "\n",
        "print(\"Load  files\")\n",
        "%time transactions_df=read_from_files(DIR_INPUT, BEGIN_DATE, END_DATE)\n",
        "print(\"{0} transactions loaded, containing {1} fraudulent transactions\".format(len(transactions_df),transactions_df.TX_FRAUD.sum()))\n",
        "\n",
        "output_feature=\"TX_FRAUD\"\n",
        "\n",
        "input_features=['TX_AMOUNT','TX_DURING_WEEKEND', 'TX_DURING_NIGHT', 'CUSTOMER_ID_NB_TX_1DAY_WINDOW',\n",
        "       'CUSTOMER_ID_AVG_AMOUNT_1DAY_WINDOW', 'CUSTOMER_ID_NB_TX_7DAY_WINDOW',\n",
        "       'CUSTOMER_ID_AVG_AMOUNT_7DAY_WINDOW', 'CUSTOMER_ID_NB_TX_30DAY_WINDOW',\n",
        "       'CUSTOMER_ID_AVG_AMOUNT_30DAY_WINDOW', 'TERMINAL_ID_NB_TX_1DAY_WINDOW',\n",
        "       'TERMINAL_ID_RISK_1DAY_WINDOW', 'TERMINAL_ID_NB_TX_7DAY_WINDOW',\n",
        "       'TERMINAL_ID_RISK_7DAY_WINDOW', 'TERMINAL_ID_NB_TX_30DAY_WINDOW',\n",
        "       'TERMINAL_ID_RISK_30DAY_WINDOW']"
      ]
    },
    {
      "cell_type": "code",
      "execution_count": 29,
      "metadata": {
        "id": "9mMCmroBSib4"
      },
      "outputs": [],
      "source": [
        "# Setting the starting day for the training period, and the deltas\n",
        "start_date_training = datetime.datetime.strptime(\"2018-07-25\", \"%Y-%m-%d\")\n",
        "delta_train=7\n",
        "delta_delay=7\n",
        "delta_test=7\n",
        "(train_df, test_df)=get_train_test_set(transactions_df,start_date_training,\n",
        "                                       delta_train=delta_train,delta_delay=delta_delay,delta_test=delta_test)\n",
        "# By default, scaling the input data\n",
        "(train_df, test_df)=scaleData(train_df,test_df,input_features)"
      ]
    },
    {
      "cell_type": "markdown",
      "metadata": {
        "id": "F9jrR_bISib4"
      },
      "source": [
        "## Overview of the neural network pipeline"
      ]
    },
    {
      "cell_type": "markdown",
      "metadata": {
        "id": "3Li5f5UKSib5"
      },
      "source": [
        "The first step here is to implement a base neural network. There are several Python libraries that we can use (TensorFlow, PyTorch, Keras, MXNet, ...). In this book, the PyTorch library {cite}`paszke2017automatic` is used, but the models and benchmarks that will be developed could also be implemented with other libraries."
      ]
    },
    {
      "cell_type": "code",
      "execution_count": 30,
      "metadata": {
        "id": "h3_5H9U4Sib5"
      },
      "outputs": [],
      "source": [
        "import torch"
      ]
    },
    {
      "cell_type": "markdown",
      "metadata": {
        "id": "xygEgOMQSib5"
      },
      "source": [
        "If torch and cuda libraries are installed properly, the models developed in this chapter can be trained on the GPU. For that, let us create a \"DEVICE\" variable and set it to \"cuda\" if a cuda device is available and \"cpu\" otherwise. In the rest of the chapter, all the models and tensors will be sent to this device for computations."
      ]
    },
    {
      "cell_type": "code",
      "execution_count": 31,
      "metadata": {
        "id": "sd8IQ6qqSib5",
        "outputId": "a55f32b6-70a1-4c3b-e749-b44382462cdf",
        "colab": {
          "base_uri": "https://localhost:8080/"
        }
      },
      "outputs": [
        {
          "output_type": "stream",
          "name": "stdout",
          "text": [
            "Selected device is cpu\n"
          ]
        }
      ],
      "source": [
        "if torch.cuda.is_available():\n",
        "    DEVICE = \"cuda\"\n",
        "else:\n",
        "    DEVICE = \"cpu\"\n",
        "print(\"Selected device is\",DEVICE)"
      ]
    },
    {
      "cell_type": "markdown",
      "metadata": {
        "id": "qR3bfpvoSib5"
      },
      "source": [
        "To ensure reproducibility, a random seed will be fixed like in previous chapters. Additionally to setting the seed for `NumPy` and `random`, it is necessary to set it for `torch`:"
      ]
    },
    {
      "cell_type": "code",
      "execution_count": 32,
      "metadata": {
        "id": "WIunEA22Sib5"
      },
      "outputs": [],
      "source": [
        "SEED = 42\n",
        "\n",
        "def seed_everything(seed):\n",
        "    random.seed(seed)\n",
        "    os.environ['PYTHONHASHSEED'] = str(seed)\n",
        "    np.random.seed(seed)\n",
        "    torch.manual_seed(seed)\n",
        "    torch.cuda.manual_seed(seed)\n",
        "    torch.backends.cudnn.deterministic = True\n",
        "    torch.backends.cudnn.benchmark = True\n",
        "\n",
        "seed_everything(SEED)"
      ]
    },
    {
      "cell_type": "markdown",
      "metadata": {
        "id": "Ss_M0EL1Sib6"
      },
      "source": [
        "The function `seed_everything` defined above will be run before each model initialization and training."
      ]
    },
    {
      "cell_type": "markdown",
      "metadata": {
        "id": "tFNBe0oYSib6"
      },
      "source": [
        "Before diving into the neural network implementation, let us summarize the main elements of a deep learning training/testing pipeline in Torch:\n",
        "* Datasets/Dataloaders: It is recommended to manipulate data with specific PyTorch classes. [Dataset](https://pytorch.org/docs/stable/data.html?highlight=dataset#torch.utils.data.Dataset) is the interface to access the data. Given a sample's index, it provides a well-formed input-output for the model. [Dataloader](https://pytorch.org/docs/stable/data.html?highlight=dataloader#torch.utils.data.DataLoader) takes the Dataset as input and provides an iterator for the training loop. It also allows to create batches, shuffle data, and parallelize data preparation.\n",
        "* Model/Module: Any model in PyTorch is a [torch.module](https://pytorch.org/docs/stable/generated/torch.nn.Module.html). It has an init function in which it instantiates all the necessary submodules (layers) and initializes their weights. It also has a forward function that defines all the operations of the forward pass.\n",
        "* The optimizer: The [optimizer](https://pytorch.org/docs/stable/optim.html) is the object that implements the optimization algorithm. It is called after the loss is computed to calculate the necessary model updates. The most basic one is SGD, but there are many others like RMSProp, Adagrad, Adam, ...\n",
        "* Training loop and evaluation: the training loop is the core of a model's training. It consists in performing several iterations (epochs), getting all the training batches from the loader, performing the forward pass, computing the loss, and calling the optimizer. After each epoch, an evaluation can be performed to track the model's evolution and possibly stop the process.\n",
        "\n",
        "The next subsections describe and implement in details each of these elements."
      ]
    },
    {
      "cell_type": "markdown",
      "metadata": {
        "id": "J2HPvQ_QSib6"
      },
      "source": [
        "### Data management: Datasets and Dataloaders"
      ]
    },
    {
      "cell_type": "markdown",
      "metadata": {
        "id": "ocDnLNv4Sib6"
      },
      "source": [
        "The first step is to convert our data into objects that PyTorch can use, like `FloatTensors`."
      ]
    },
    {
      "cell_type": "code",
      "execution_count": 33,
      "metadata": {
        "id": "QQNllE1CSib6"
      },
      "outputs": [],
      "source": [
        "x_train = torch.FloatTensor(train_df[input_features].values)\n",
        "x_test = torch.FloatTensor(test_df[input_features].values)\n",
        "y_train = torch.FloatTensor(train_df[output_feature].values)\n",
        "y_test = torch.FloatTensor(test_df[output_feature].values)"
      ]
    },
    {
      "cell_type": "markdown",
      "metadata": {
        "id": "lyYiVd2kSib6"
      },
      "source": [
        "Next comes the definition of a custom `Dataset`. This dataset is initialized with `x_train`/`x_test` and `y_train`/`y_test` and returns the individual samples in the format required by our model, after sending them to the right device."
      ]
    },
    {
      "cell_type": "code",
      "execution_count": 34,
      "metadata": {
        "id": "Crtl9E0eSib7"
      },
      "outputs": [],
      "source": [
        "class FraudDataset(torch.utils.data.Dataset):\n",
        "\n",
        "    def __init__(self, x, y):\n",
        "        'Initialization'\n",
        "        self.x = x\n",
        "        self.y = y\n",
        "\n",
        "    def __len__(self):\n",
        "        'Returns the total number of samples'\n",
        "        return len(self.x)\n",
        "\n",
        "    def __getitem__(self, index):\n",
        "        'Generates one sample of data'\n",
        "        # Select sample index\n",
        "        if self.y is not None:\n",
        "            return self.x[index].to(DEVICE), self.y[index].to(DEVICE)\n",
        "        else:\n",
        "            return self.x[index].to(DEVICE)"
      ]
    },
    {
      "cell_type": "markdown",
      "metadata": {
        "id": "81ouH6lsSib7"
      },
      "source": [
        "Note: This first custom Dataset `FraudDataset` seems useless because its role is very limited (simply returning a row from x and y) and because the matrices x and y are already loaded in RAM. This example is provided for educational purposes. But the concept of Dataset has a high interest when sample preparation requires more preprocessing. For instance, it becomes very handy for sequence preparation when using recurrent models (like an LSTM). This will be covered more in-depth later in this chapter but for example, a Dataset for sequential models performs several operations before returning a sample: searching for the history of transactions of the same cardholder and appending it to the current transaction before returning the whole sequence. It avoids preparing all the sequences in advance, which would entail repeating several transactions' features in memory and consuming more RAM than necessary. Datasets objects are also useful when dealing with large image datasets in order to load the images on the fly."
      ]
    },
    {
      "cell_type": "markdown",
      "metadata": {
        "id": "APjxCUXpSib7"
      },
      "source": [
        "Now that `FraudDataset` is defined, one can choose the training/evaluation parameters and instantiate DataLoaders. For now, let us consider a batch size of 64: this means that at each optimization step, 64 samples will be requested to the Dataset, turned into a batch, and go through the forward pass in parallel. Then the aggregation (sum or average) of the gradient of their losses will be used for backpropagation.\n",
        "\n",
        "For the training DataLoader, the shuffle option will be set to `True` so that the order of the data seen by the model will not be the same from one epoch to another. This is recommended and known to be beneficial in Neural Network training {cite}`ruder2016overview`."
      ]
    },
    {
      "cell_type": "code",
      "execution_count": 35,
      "metadata": {
        "id": "SZJAB5_MSib7"
      },
      "outputs": [],
      "source": [
        "train_loader_params = {'batch_size': 64,\n",
        "          'shuffle': True,\n",
        "          'num_workers': 0}\n",
        "test_loader_params = {'batch_size': 64,\n",
        "          'num_workers': 0}\n",
        "\n",
        "# Generators\n",
        "\n",
        "training_set = FraudDataset(x_train, y_train)\n",
        "\n",
        "testing_set = FraudDataset(x_test, y_test)\n",
        "\n",
        "\n",
        "training_generator = torch.utils.data.DataLoader(training_set, **train_loader_params)\n",
        "testing_generator = torch.utils.data.DataLoader(testing_set, **test_loader_params)"
      ]
    },
    {
      "cell_type": "markdown",
      "metadata": {
        "id": "O74wY0HUSib7"
      },
      "source": [
        "The `num_workers` parameter allows parallelizing batch preparation. It can be useful when the `Dataset` requires a lot of processing before returning a sample. Here we do not use multiprocessing so we set `num_workers` to 0."
      ]
    },
    {
      "cell_type": "markdown",
      "metadata": {
        "id": "w_09uTPUSib7"
      },
      "source": [
        "### The model aka the module\n",
        "\n",
        "After defining the data pipeline, the next step is to design the module. Let us start with a first rather simple feed-forward neural network.\n",
        "\n",
        "As suggested in the introduction, the idea is to define several fully connected layers (`torch.nn.Linear`). A first layer `fc1` which takes as input as many neurons as there are features in the input x. It can be followed by a hidden layer with a chosen number of neurons (`hidden_size`). Finally comes the output layer which has a single output neuron to fit the label (`fraud` or `genuine`, represented by 1 and 0).\n",
        "\n",
        "In the past, the sigmoid activation function used to be the primary choice for all activation functions in all layers of a neural network. Today, the preferred choice is `ReLU` (or variants like `eLU`, `leaky ReLU`), at least for the intermediate neurons. It has empirically proven to be a better choice for optimization and speed {cite}`nair2010rectified`. For output neurons, the choice depends on the range or the expected distribution for the output value to be predicted.\n",
        "\n",
        "Below are plotted the output of several activation functions with respect to their input value to show how they behave and how they are distributed:"
      ]
    },
    {
      "cell_type": "code",
      "execution_count": 36,
      "metadata": {
        "tags": [
          "hide-cell"
        ],
        "id": "Ax740RY3Sib8"
      },
      "outputs": [],
      "source": [
        "%%capture\n",
        "\n",
        "fig_activation, axs = plt.subplots(3, 2,figsize=(11, 13))\n",
        "\n",
        "input_values = torch.arange(-5, 5, 0.05)\n",
        "\n",
        "#linear activation\n",
        "output_values = input_values\n",
        "axs[0, 0].plot(input_values, output_values)\n",
        "axs[0, 0].set_title('Linear')\n",
        "axs[0, 0].set_ylim([-5.1,5.1])\n",
        "\n",
        "#heavyside activation\n",
        "output_values = input_values>0\n",
        "axs[0, 1].plot(input_values, output_values)\n",
        "axs[0, 1].set_title('Heavyside (perceptron)')\n",
        "axs[0, 1].set_ylim([-0.1,1.1])\n",
        "\n",
        "#sigmoid activation\n",
        "activation = torch.nn.Sigmoid()\n",
        "output_values = activation(input_values)\n",
        "axs[1, 0].plot(input_values, output_values)\n",
        "axs[1, 0].set_title('Sigmoid')\n",
        "axs[1, 0].set_ylim([-1.1,1.1])\n",
        "\n",
        "#tanh activation\n",
        "activation = torch.nn.Tanh()\n",
        "output_values = activation(input_values)\n",
        "axs[1, 1].plot(input_values, output_values)\n",
        "axs[1, 1].set_title('Tanh')\n",
        "axs[1, 1].set_ylim([-1.1,1.1])\n",
        "\n",
        "#relu activation\n",
        "activation = torch.nn.ReLU()\n",
        "output_values = activation(input_values)\n",
        "axs[2, 0].plot(input_values, output_values)\n",
        "axs[2, 0].set_title('ReLU')\n",
        "axs[2, 0].set_ylim([-0.5,5.1])\n",
        "\n",
        "#leaky relu activation\n",
        "activation = torch.nn.LeakyReLU(negative_slope=0.05)\n",
        "output_values = activation(input_values)\n",
        "axs[2, 1].plot(input_values, output_values)\n",
        "axs[2, 1].set_title('Leaky ReLU')\n",
        "axs[2, 1].set_ylim([-0.5,5.1])"
      ]
    },
    {
      "cell_type": "code",
      "execution_count": 37,
      "metadata": {
        "id": "ATLSwzKtSib8",
        "outputId": "e5920a5d-5b58-49aa-d9ec-34d7f3eb63d5",
        "colab": {
          "base_uri": "https://localhost:8080/",
          "height": 1000
        }
      },
      "outputs": [
        {
          "output_type": "execute_result",
          "data": {
            "text/plain": [
              "<Figure size 1100x1300 with 6 Axes>"
            ],
            "image/png": "[encoded data removed]"
          },
          "metadata": {},
          "execution_count": 37
        }
      ],
      "source": [
        "fig_activation"
      ]
    },
    {
      "cell_type": "markdown",
      "metadata": {
        "id": "-QWrGZo_Sib8"
      },
      "source": [
        "For our fraud detection neural network, the `ReLU` activation will be used for the hidden layer and a `Sigmoid` activation for the output layer. The first is the primary choice for intermediate layers in deep learning. The latter is the primary choice for the output neurons in binary classification problems because it outputs values between 0 and 1 that can be interpreted as probabilities.\n",
        "\n",
        "To implement this, let us create a new class `SimpleFraudMLP` that will inherit from a torch module. Its layers (`fc1`, `relu`, `fc2`, `sigmoid`) are initialized in the `__init__` function and will be used successively in the forward pass.  "
      ]
    },
    {
      "cell_type": "code",
      "execution_count": 38,
      "metadata": {
        "id": "BrSUWM3jSib8"
      },
      "outputs": [],
      "source": [
        "class SimpleFraudMLP(torch.nn.Module):\n",
        "\n",
        "        def __init__(self, input_size, hidden_size):\n",
        "            super(SimpleFraudMLP, self).__init__()\n",
        "            # parameters\n",
        "            self.input_size = input_size\n",
        "            self.hidden_size  = hidden_size\n",
        "\n",
        "            #input to hidden\n",
        "            self.fc1 = torch.nn.Linear(self.input_size, self.hidden_size)\n",
        "            self.relu = torch.nn.ReLU()\n",
        "            #hidden to output\n",
        "            self.fc2 = torch.nn.Linear(self.hidden_size, 1)\n",
        "            self.sigmoid = torch.nn.Sigmoid()\n",
        "\n",
        "        def forward(self, x):\n",
        "\n",
        "            hidden = self.fc1(x)\n",
        "            relu = self.relu(hidden)\n",
        "            output = self.fc2(relu)\n",
        "            output = self.sigmoid(output)\n",
        "\n",
        "            return output"
      ]
    },
    {
      "cell_type": "markdown",
      "metadata": {
        "id": "o-lygPjCSib9"
      },
      "source": [
        "Once defined, instantiating the model with `1000` neurons in its hidden layer and sending it to the device can be done as follows:"
      ]
    },
    {
      "cell_type": "code",
      "execution_count": 39,
      "metadata": {
        "id": "nlbmm46xSib9"
      },
      "outputs": [],
      "source": [
        "model = SimpleFraudMLP(len(input_features), 1000).to(DEVICE)"
      ]
    },
    {
      "cell_type": "markdown",
      "metadata": {
        "id": "AmWiEwLQSib9"
      },
      "source": [
        "### The optimizer and the training loop\n",
        "\n",
        "Optimization is at the core of neural network training. The above neural network is designed to output a single value between 0 and 1. The goal is that this value gets as close to 1 (resp. 0) as possible for an input describing a fraudulent (resp. genuine) transaction.\n",
        "\n",
        "In practice, this goal is formulated with an optimization problem that aims at minimizing or maximizing some cost/loss function. The role of the loss function is precisely to measure the discrepancy between the predicted value and the expected value (0 or 1), also referred to as the ground truth. There are many loss functions (mean squared error, cross-entropy, KL-divergence, hinge loss, mean absolute error) available in PyTorch, and each serves a specific purpose. Here we only focus on binary cross-entropy because it is the most relevant loss function for binary classification problems like fraud detection. It is defined as follows:\n",
        "\n",
        "$BCE(y,p) = −(y*log(p)+(1−y)*log(1−p))$\n",
        "\n",
        "Where $y$ is the ground truth (in $\\{0,1\\}$) and $p$ the predicted output (in $]0,1[$)."
      ]
    },
    {
      "cell_type": "code",
      "execution_count": 40,
      "metadata": {
        "id": "WrsxkRBRSib9"
      },
      "outputs": [],
      "source": [
        "criterion = torch.nn.BCELoss().to(DEVICE)"
      ]
    },
    {
      "cell_type": "markdown",
      "metadata": {
        "id": "VswO7YFkSib9"
      },
      "source": [
        "Note: Pushing the criterion to the device is only required if this one stores/updates internal state variables or has parameters. It is unnecessary but not detrimental in the above case. We do it to show the most general implementation.\n",
        "\n",
        "Before even training the model, one can already measure its initial loss on the testing set. For this, the model has to be put in `eval` mode:"
      ]
    },
    {
      "cell_type": "code",
      "execution_count": 41,
      "metadata": {
        "id": "DpMY2tWLSib-",
        "outputId": "9f3f58fe-02b3-4c0d-d271-efd0f750e77b",
        "colab": {
          "base_uri": "https://localhost:8080/"
        }
      },
      "outputs": [
        {
          "output_type": "execute_result",
          "data": {
            "text/plain": [
              "SimpleFraudMLP(\n",
              "  (fc1): Linear(in_features=15, out_features=1000, bias=True)\n",
              "  (relu): ReLU()\n",
              "  (fc2): Linear(in_features=1000, out_features=1, bias=True)\n",
              "  (sigmoid): Sigmoid()\n",
              ")"
            ]
          },
          "metadata": {},
          "execution_count": 41
        }
      ],
      "source": [
        "model.eval()"
      ]
    },
    {
      "cell_type": "markdown",
      "metadata": {
        "id": "wl0nGDY6Sib-"
      },
      "source": [
        "Then, the process consists in iterating over the testing generator, making predictions, and evaluating the chosen `criterion` (here `torch.nn.BCELoss`)"
      ]
    },
    {
      "cell_type": "code",
      "execution_count": 42,
      "metadata": {
        "id": "A6RgWR7eSicE",
        "outputId": "cad35c95-ce4c-43ac-90dc-af0b20dcac51",
        "colab": {
          "base_uri": "https://localhost:8080/"
        }
      },
      "outputs": [
        {
          "output_type": "execute_result",
          "data": {
            "text/plain": [
              "np.float64(0.6754083204871344)"
            ]
          },
          "metadata": {},
          "execution_count": 42
        }
      ],
      "source": [
        "def evaluate_model(model,generator,criterion):\n",
        "    model.eval()\n",
        "    batch_losses = []\n",
        "    for x_batch, y_batch in generator:\n",
        "        # Forward pass\n",
        "        y_pred = model(x_batch)\n",
        "        # Compute Loss\n",
        "        loss = criterion(y_pred.squeeze(), y_batch)\n",
        "        batch_losses.append(loss.item())\n",
        "    mean_loss = np.mean(batch_losses)\n",
        "    return mean_loss\n",
        "\n",
        "evaluate_model(model,testing_generator,criterion)"
      ]
    },
    {
      "cell_type": "markdown",
      "metadata": {
        "id": "Zawr-i42SicE"
      },
      "source": [
        "Recall that the optimization problem is defined as follows: minimize the total/average binary cross-entropy of the model over all samples from the training dataset. Therefore, training the model consists in applying an optimization algorithm (backpropagation) to numerically solve the optimization problem.\n",
        "\n",
        "The optimization algorithm or `optimizer` can be the standard stochastic gradient descent with a constant learning rate (`torch.optim.SGD`) or with an adaptive learning rate (`torch.optim.Adagrad`, `torch.optim.Adam`, etc...). Several optimization hyperparameters (learning rate, momentum, batch size, ...) can be tuned. Note that choosing the right optimizer and hyperparameters will impact convergence speed and the quality of the reached optimum. Below is an illustration showing how fast different optimizers can reach the optimum (represented with a star) of a two dimensional optimization problem over the training process.\n",
        "\n",
        "![Optimizers convergence](https://ml-cheatsheet.readthedocs.io/en/latest/_images/optimizers.gif)\n",
        "\n",
        "Source: https://cs231n.github.io/neural-networks-3/\n",
        "\n",
        "\n",
        "Here, let us start with the arbitrary choice `SGD`, with a learning rate of `0.07`."
      ]
    },
    {
      "cell_type": "code",
      "execution_count": 43,
      "metadata": {
        "id": "adp0tWBqSicF"
      },
      "outputs": [],
      "source": [
        "optimizer = torch.optim.SGD(model.parameters(), lr = 0.07)"
      ]
    },
    {
      "cell_type": "markdown",
      "metadata": {
        "id": "CvA4P71-SicF"
      },
      "source": [
        "And let us implement the training loop for our neural network. First, the model has to be set in training mode. Then several iterations can be performed over the training generator (each iteration is called an epoch). During each iteration, a succession of training batches are provided by the generator and a forward pass is performed to get the model's predictions. Then the criterion is computed between predictions and ground truth, and finally, the backward pass is carried out to update the model with the optimizer.\n",
        "Let us start by setting the number of epochs to `150` arbitrarily."
      ]
    },
    {
      "cell_type": "code",
      "execution_count": 44,
      "metadata": {
        "tags": [
          "output_scroll"
        ],
        "id": "kuO5JvvfSicF",
        "outputId": "ae1a387c-970c-47c0-ef04-92380f21ca4a",
        "colab": {
          "base_uri": "https://localhost:8080/"
        }
      },
      "outputs": [
        {
          "output_type": "stream",
          "name": "stdout",
          "text": [
            "Epoch 0: train loss: 0.03570016137555553\n",
            "test loss: 0.022358749608757663\n",
            "\n",
            "Epoch 1: train loss: 0.026285224329887558\n",
            "test loss: 0.021145284218298584\n",
            "\n",
            "Epoch 2: train loss: 0.024935485474915055\n",
            "test loss: 0.021621913086105667\n",
            "\n",
            "Epoch 3: train loss: 0.024153651457171812\n",
            "test loss: 0.020166814625626132\n",
            "\n",
            "Epoch 4: train loss: 0.023543032519470593\n",
            "test loss: 0.020734394968995408\n",
            "\n",
            "Epoch 5: train loss: 0.02311610374420254\n",
            "test loss: 0.02028386041309386\n",
            "\n",
            "Epoch 6: train loss: 0.022610568783829055\n",
            "test loss: 0.01981479125151065\n",
            "\n",
            "Epoch 7: train loss: 0.022428529804371312\n",
            "test loss: 0.021500718789318276\n",
            "\n",
            "Epoch 8: train loss: 0.021857453960651526\n",
            "test loss: 0.02204068632897104\n",
            "\n",
            "Epoch 9: train loss: 0.021729045080776006\n",
            "test loss: 0.02033687148125112\n",
            "\n",
            "Epoch 10: train loss: 0.021540807152798772\n",
            "test loss: 0.019787190465152295\n",
            "\n",
            "Epoch 11: train loss: 0.021363750270272753\n",
            "test loss: 0.019339693427028626\n",
            "\n",
            "Epoch 12: train loss: 0.0210939898025147\n",
            "test loss: 0.02080311853506088\n",
            "\n",
            "Epoch 13: train loss: 0.02085636487506688\n",
            "test loss: 0.019782864145165807\n",
            "\n",
            "Epoch 14: train loss: 0.020880066195979614\n",
            "test loss: 0.020224935343718047\n",
            "\n",
            "Epoch 15: train loss: 0.020645820632972156\n",
            "test loss: 0.020496649869207014\n",
            "\n",
            "Epoch 16: train loss: 0.02023364249820671\n",
            "test loss: 0.01980759760131804\n",
            "\n",
            "Epoch 17: train loss: 0.02031195261256484\n",
            "test loss: 0.019600149428213278\n",
            "\n",
            "Epoch 18: train loss: 0.020111929943947233\n",
            "test loss: 0.019799932609511586\n",
            "\n",
            "Epoch 19: train loss: 0.020167819589162007\n",
            "test loss: 0.019938460030336377\n",
            "\n",
            "Epoch 20: train loss: 0.019795198477343873\n",
            "test loss: 0.019779405926822445\n",
            "\n",
            "Epoch 21: train loss: 0.019609639655597522\n",
            "test loss: 0.019226097782437907\n",
            "\n",
            "Epoch 22: train loss: 0.019520003592053147\n",
            "test loss: 0.01929887225603507\n",
            "\n",
            "Epoch 23: train loss: 0.019431573206773266\n",
            "test loss: 0.01951143010130968\n",
            "\n",
            "Epoch 24: train loss: 0.019290698740718183\n",
            "test loss: 0.019078932857165436\n",
            "\n",
            "Epoch 25: train loss: 0.019198790811898132\n",
            "test loss: 0.019825699238738396\n",
            "\n",
            "Epoch 26: train loss: 0.019122126387174355\n",
            "test loss: 0.019548790505729437\n",
            "\n",
            "Epoch 27: train loss: 0.018945109760202646\n",
            "test loss: 0.019078385019823133\n",
            "\n",
            "Epoch 28: train loss: 0.01915220365884823\n",
            "test loss: 0.019717056331115864\n",
            "\n",
            "Epoch 29: train loss: 0.0189015601989153\n",
            "test loss: 0.019441977430939568\n",
            "\n",
            "Epoch 30: train loss: 0.018829706190645758\n",
            "test loss: 0.019257669992648826\n",
            "\n",
            "Epoch 31: train loss: 0.018956754743861482\n",
            "test loss: 0.01965782113969285\n",
            "\n",
            "Epoch 32: train loss: 0.018462524862541727\n",
            "test loss: 0.019069533146463914\n",
            "\n",
            "Epoch 33: train loss: 0.018668370656793196\n",
            "test loss: 0.01913813660648405\n",
            "\n",
            "Epoch 34: train loss: 0.018545270848821682\n",
            "test loss: 0.020353760063861887\n",
            "\n",
            "Epoch 35: train loss: 0.018361727839232123\n",
            "test loss: 0.018761695151457012\n",
            "\n",
            "Epoch 36: train loss: 0.01848513220231289\n",
            "test loss: 0.02143582784183299\n",
            "\n",
            "Epoch 37: train loss: 0.018229767303895222\n",
            "test loss: 0.01907617697431159\n",
            "\n",
            "Epoch 38: train loss: 0.01827195404262701\n",
            "test loss: 0.01935312366222965\n",
            "\n",
            "Epoch 39: train loss: 0.017931321349179286\n",
            "test loss: 0.018888660441801916\n",
            "\n",
            "Epoch 40: train loss: 0.017982205851326965\n",
            "test loss: 0.019799777296201544\n",
            "\n",
            "Epoch 41: train loss: 0.01815191367672106\n",
            "test loss: 0.01877681614841824\n",
            "\n",
            "Epoch 42: train loss: 0.017831453912515727\n",
            "test loss: 0.018801403441428055\n",
            "\n",
            "Epoch 43: train loss: 0.01789577419040627\n",
            "test loss: 0.018858346624034596\n",
            "\n",
            "Epoch 44: train loss: 0.017676574996602565\n",
            "test loss: 0.01931135151031786\n",
            "\n",
            "Epoch 45: train loss: 0.01764077641396428\n",
            "test loss: 0.019221714956997194\n",
            "\n",
            "Epoch 46: train loss: 0.017635688530064083\n",
            "test loss: 0.01939078892959291\n",
            "\n",
            "Epoch 47: train loss: 0.01769008582655507\n",
            "test loss: 0.018905086456501546\n",
            "\n",
            "Epoch 48: train loss: 0.017463369147128094\n",
            "test loss: 0.019304276286071304\n",
            "\n",
            "Epoch 49: train loss: 0.017257000186186387\n",
            "test loss: 0.021661384812283763\n",
            "\n",
            "Epoch 50: train loss: 0.017443513717802752\n",
            "test loss: 0.018891750604831014\n",
            "\n",
            "Epoch 51: train loss: 0.017433907666760225\n",
            "test loss: 0.0188809099910859\n",
            "\n",
            "Epoch 52: train loss: 0.01730555268784331\n",
            "test loss: 0.020306955376336082\n",
            "\n",
            "Epoch 53: train loss: 0.01709191381269366\n",
            "test loss: 0.019342431007822083\n",
            "\n",
            "Epoch 54: train loss: 0.017176942953877117\n",
            "test loss: 0.01880719979451719\n",
            "\n",
            "Epoch 55: train loss: 0.01708236274158371\n",
            "test loss: 0.01909088509398309\n",
            "\n",
            "Epoch 56: train loss: 0.017065197820544817\n",
            "test loss: 0.019404272944870907\n",
            "\n",
            "Epoch 57: train loss: 0.01722299860906455\n",
            "test loss: 0.019037709866548683\n",
            "\n",
            "Epoch 58: train loss: 0.01680060623439169\n",
            "test loss: 0.019233257852432867\n",
            "\n",
            "Epoch 59: train loss: 0.01667314796946893\n",
            "test loss: 0.020605814133998993\n",
            "\n",
            "Epoch 60: train loss: 0.016683011225931573\n",
            "test loss: 0.019108420339874047\n",
            "\n",
            "Epoch 61: train loss: 0.016899536121423957\n",
            "test loss: 0.019762522940517276\n",
            "\n",
            "Epoch 62: train loss: 0.016569684663557977\n",
            "test loss: 0.019100499394254934\n",
            "\n",
            "Epoch 63: train loss: 0.01659946706596599\n",
            "test loss: 0.018780583275872325\n",
            "\n",
            "Epoch 64: train loss: 0.016557775501633235\n",
            "test loss: 0.020430169687284366\n",
            "\n",
            "Epoch 65: train loss: 0.016514507721029362\n",
            "test loss: 0.019628039343971615\n",
            "\n",
            "Epoch 66: train loss: 0.016675136926793073\n",
            "test loss: 0.019219879865476148\n",
            "\n",
            "Epoch 67: train loss: 0.016603924192600733\n",
            "test loss: 0.018982724530436302\n",
            "\n",
            "Epoch 68: train loss: 0.01622691119036998\n",
            "test loss: 0.018730780506418642\n",
            "\n",
            "Epoch 69: train loss: 0.01634663637801934\n",
            "test loss: 0.018739556934918113\n",
            "\n",
            "Epoch 70: train loss: 0.016209060234005708\n",
            "test loss: 0.020631396164210322\n",
            "\n",
            "Epoch 71: train loss: 0.016236250048310988\n",
            "test loss: 0.01883546047911465\n",
            "\n",
            "Epoch 72: train loss: 0.01613545367265161\n",
            "test loss: 0.01903301944895356\n",
            "\n",
            "Epoch 73: train loss: 0.016295586387116416\n",
            "test loss: 0.0190696681408277\n",
            "\n",
            "Epoch 74: train loss: 0.016328849885116493\n",
            "test loss: 0.019135493196676866\n",
            "\n",
            "Epoch 75: train loss: 0.015960101025590194\n",
            "test loss: 0.02036812751077046\n",
            "\n",
            "Epoch 76: train loss: 0.01593573449711651\n",
            "test loss: 0.019320120218571053\n",
            "\n",
            "Epoch 77: train loss: 0.015694105623845545\n",
            "test loss: 0.022159672038822995\n",
            "\n",
            "Epoch 78: train loss: 0.015950603808917028\n",
            "test loss: 0.01902895361725875\n",
            "\n",
            "Epoch 79: train loss: 0.0156684516093691\n",
            "test loss: 0.018923161893893384\n",
            "\n",
            "Epoch 80: train loss: 0.015892931635776885\n",
            "test loss: 0.020223025504295722\n",
            "\n",
            "Epoch 81: train loss: 0.015995438591480525\n",
            "test loss: 0.020021353423381766\n",
            "\n",
            "Epoch 82: train loss: 0.01565890476011452\n",
            "test loss: 0.018700836782607443\n",
            "\n",
            "Epoch 83: train loss: 0.01553386387031536\n",
            "test loss: 0.021674708492706838\n",
            "\n",
            "Epoch 84: train loss: 0.015415899444969157\n",
            "test loss: 0.018909090277421953\n",
            "\n",
            "Epoch 85: train loss: 0.015432045423181162\n",
            "test loss: 0.019178513712446492\n",
            "\n",
            "Epoch 86: train loss: 0.015671157688066383\n",
            "test loss: 0.019436127492331447\n",
            "\n",
            "Epoch 87: train loss: 0.015615158717344728\n",
            "test loss: 0.018840458049719008\n",
            "\n",
            "Epoch 88: train loss: 0.015401202848701287\n",
            "test loss: 0.019137566054033363\n",
            "\n",
            "Epoch 89: train loss: 0.015604519760559581\n",
            "test loss: 0.02000654088881462\n",
            "\n",
            "Epoch 90: train loss: 0.015384336749677032\n",
            "test loss: 0.019523052936246052\n",
            "\n",
            "Epoch 91: train loss: 0.01536928971980802\n",
            "test loss: 0.018969856908921362\n",
            "\n",
            "Epoch 92: train loss: 0.015171536273583522\n",
            "test loss: 0.020579423989260284\n",
            "\n",
            "Epoch 93: train loss: 0.015254498613585358\n",
            "test loss: 0.018849793303774263\n",
            "\n",
            "Epoch 94: train loss: 0.015270545344412518\n",
            "test loss: 0.018756690113212297\n",
            "\n",
            "Epoch 95: train loss: 0.01527951780766901\n",
            "test loss: 0.018990256297909403\n",
            "\n",
            "Epoch 96: train loss: 0.0151628872382319\n",
            "test loss: 0.019824184383740152\n",
            "\n",
            "Epoch 97: train loss: 0.015264414402545048\n",
            "test loss: 0.0198336585176803\n",
            "\n",
            "Epoch 98: train loss: 0.01510209279752059\n",
            "test loss: 0.019413182509210192\n",
            "\n",
            "Epoch 99: train loss: 0.014870663405385854\n",
            "test loss: 0.01893289191249664\n",
            "\n",
            "Epoch 100: train loss: 0.014825790982015988\n",
            "test loss: 0.019049964158061757\n",
            "\n",
            "Epoch 101: train loss: 0.015073172194313002\n",
            "test loss: 0.022518386150266603\n",
            "\n",
            "Epoch 102: train loss: 0.015057201405874606\n",
            "test loss: 0.019411447972701258\n",
            "\n",
            "Epoch 103: train loss: 0.014925869374485468\n",
            "test loss: 0.019166397875043\n",
            "\n",
            "Epoch 104: train loss: 0.014963846380328787\n",
            "test loss: 0.019541426361703956\n",
            "\n",
            "Epoch 105: train loss: 0.014867832086121684\n",
            "test loss: 0.01926399184897328\n",
            "\n",
            "Epoch 106: train loss: 0.014825654579756284\n",
            "test loss: 0.019021051151996926\n",
            "\n",
            "Epoch 107: train loss: 0.014693839996003082\n",
            "test loss: 0.01960125390669478\n",
            "\n",
            "Epoch 108: train loss: 0.014712239546722579\n",
            "test loss: 0.01952749007163875\n",
            "\n",
            "Epoch 109: train loss: 0.014706141446935515\n",
            "test loss: 0.02009889421017578\n",
            "\n",
            "Epoch 110: train loss: 0.014968722721306584\n",
            "test loss: 0.01881189574669606\n",
            "\n",
            "Epoch 111: train loss: 0.01473888346466141\n",
            "test loss: 0.018926832245488506\n",
            "\n",
            "Epoch 112: train loss: 0.014409275330436087\n",
            "test loss: 0.01950251203012202\n",
            "\n",
            "Epoch 113: train loss: 0.014485454602835152\n",
            "test loss: 0.018955052942061863\n",
            "\n",
            "Epoch 114: train loss: 0.014557803126776877\n",
            "test loss: 0.01976511220346255\n",
            "\n",
            "Epoch 115: train loss: 0.01454322270447119\n",
            "test loss: 0.019886670170278255\n",
            "\n",
            "Epoch 116: train loss: 0.014343697013859357\n",
            "test loss: 0.019825567551061733\n",
            "\n",
            "Epoch 117: train loss: 0.014369244076438747\n",
            "test loss: 0.02181421438884808\n",
            "\n",
            "Epoch 118: train loss: 0.014287435136025206\n",
            "test loss: 0.019202784552671062\n",
            "\n",
            "Epoch 119: train loss: 0.014209185624814156\n",
            "test loss: 0.02074328989081742\n",
            "\n",
            "Epoch 120: train loss: 0.014320018416198394\n",
            "test loss: 0.020682014098218935\n",
            "\n",
            "Epoch 121: train loss: 0.014269174116437229\n",
            "test loss: 0.02110669413394536\n",
            "\n",
            "Epoch 122: train loss: 0.01424028901408757\n",
            "test loss: 0.01919446794558843\n",
            "\n",
            "Epoch 123: train loss: 0.014361943315271975\n",
            "test loss: 0.02041108065018222\n",
            "\n",
            "Epoch 124: train loss: 0.014196819372195572\n",
            "test loss: 0.019342327580252318\n",
            "\n",
            "Epoch 125: train loss: 0.014032563229634663\n",
            "test loss: 0.019483003783203064\n",
            "\n",
            "Epoch 126: train loss: 0.014083791536577649\n",
            "test loss: 0.019874884694303912\n",
            "\n",
            "Epoch 127: train loss: 0.01406485725107375\n",
            "test loss: 0.020373446126910628\n",
            "\n",
            "Epoch 128: train loss: 0.013728526169119614\n",
            "test loss: 0.019714518156446748\n",
            "\n",
            "Epoch 129: train loss: 0.013989630697078412\n",
            "test loss: 0.019061432609828618\n",
            "\n",
            "Epoch 130: train loss: 0.013864209090907137\n",
            "test loss: 0.02132734991190904\n",
            "\n",
            "Epoch 131: train loss: 0.0139236072733308\n",
            "test loss: 0.0205294615369286\n",
            "\n",
            "Epoch 132: train loss: 0.01401691988354671\n",
            "test loss: 0.019626755429545274\n",
            "\n",
            "Epoch 133: train loss: 0.013767811927973665\n",
            "test loss: 0.019554730754769403\n",
            "\n",
            "Epoch 134: train loss: 0.013735403721934126\n",
            "test loss: 0.019546815208246283\n",
            "\n",
            "Epoch 135: train loss: 0.013771526201683088\n",
            "test loss: 0.01967759694994563\n",
            "\n",
            "Epoch 136: train loss: 0.013739380777700956\n",
            "test loss: 0.020091620331999932\n",
            "\n",
            "Epoch 137: train loss: 0.013382291120951543\n",
            "test loss: 0.019353259387767274\n",
            "\n",
            "Epoch 138: train loss: 0.013701135008312323\n",
            "test loss: 0.021326347837123904\n",
            "\n",
            "Epoch 139: train loss: 0.013761266556920237\n",
            "test loss: 0.019729413038593\n",
            "\n",
            "Epoch 140: train loss: 0.013597067186268194\n",
            "test loss: 0.019728648193985884\n",
            "\n",
            "Epoch 141: train loss: 0.013689779480108433\n",
            "test loss: 0.020061695102506914\n",
            "\n",
            "Epoch 142: train loss: 0.013307002553533316\n",
            "test loss: 0.019907011832473502\n",
            "\n",
            "Epoch 143: train loss: 0.013463312662798082\n",
            "test loss: 0.02004251137339284\n",
            "\n",
            "Epoch 144: train loss: 0.013345711576095742\n",
            "test loss: 0.020338037239301245\n",
            "\n",
            "Epoch 145: train loss: 0.013615028714591887\n",
            "test loss: 0.019243701100590947\n",
            "\n",
            "Epoch 146: train loss: 0.013275409723952374\n",
            "test loss: 0.019271057953178353\n",
            "\n",
            "Epoch 147: train loss: 0.013296323824910045\n",
            "test loss: 0.022489843309559714\n",
            "\n",
            "Epoch 148: train loss: 0.013354880857287147\n",
            "test loss: 0.01982731110375205\n",
            "\n",
            "Epoch 149: train loss: 0.01306374960643887\n",
            "test loss: 0.019742784025487476\n",
            "\n"
          ]
        }
      ],
      "source": [
        "n_epochs = 150\n",
        "#Setting the model in training mode\n",
        "model.train()\n",
        "\n",
        "#Training loop\n",
        "start_time=time.time()\n",
        "epochs_train_losses = []\n",
        "epochs_test_losses = []\n",
        "for epoch in range(n_epochs):\n",
        "    model.train()\n",
        "    train_loss=[]\n",
        "    for x_batch, y_batch in training_generator:\n",
        "        # Removing previously computed gradients\n",
        "        optimizer.zero_grad()\n",
        "        # Performing the forward pass on the current batch\n",
        "        y_pred = model(x_batch)\n",
        "        # Computing the loss given the current predictions\n",
        "        loss = criterion(y_pred.squeeze(), y_batch)\n",
        "        # Computing the gradients over the backward pass\n",
        "        loss.backward()\n",
        "        # Performing an optimization step from the current gradients\n",
        "        optimizer.step()\n",
        "        # Storing the current step's loss for display purposes\n",
        "        train_loss.append(loss.item())\n",
        "\n",
        "    #showing last training loss after each epoch\n",
        "    epochs_train_losses.append(np.mean(train_loss))\n",
        "    print('Epoch {}: train loss: {}'.format(epoch, np.mean(train_loss)))\n",
        "\n",
        "    #evaluating the model on the test set after each epoch\n",
        "    val_loss = evaluate_model(model,testing_generator,criterion)\n",
        "    epochs_test_losses.append(val_loss)\n",
        "    print('test loss: {}'.format(val_loss))\n",
        "    print(\"\")\n",
        "\n",
        "training_execution_time=time.time()-start_time"
      ]
    },
    {
      "cell_type": "markdown",
      "metadata": {
        "id": "N-bMfDF5SicF"
      },
      "source": [
        "After training the model, a good practice is to analyze the training logs."
      ]
    },
    {
      "cell_type": "code",
      "execution_count": 45,
      "metadata": {
        "id": "Try859okSicG",
        "outputId": "8064e4c5-f362-4e39-ab00-2c48101daa4c",
        "colab": {
          "base_uri": "https://localhost:8080/",
          "height": 467
        }
      },
      "outputs": [
        {
          "output_type": "execute_result",
          "data": {
            "text/plain": [
              "<matplotlib.legend.Legend at 0x7c3b147d2720>"
            ]
          },
          "metadata": {},
          "execution_count": 45
        },
        {
          "output_type": "display_data",
          "data": {
            "text/plain": [
              "<Figure size 640x480 with 1 Axes>"
            ],
            "image/png": "[encoded data removed]"
          },
          "metadata": {}
        }
      ],
      "source": [
        "ma_window = 10\n",
        "\n",
        "plt.plot(np.arange(len(epochs_train_losses)-ma_window + 1)+1, np.convolve(epochs_train_losses, np.ones(ma_window)/ma_window, mode='valid'))\n",
        "plt.plot(np.arange(len(epochs_test_losses)-ma_window + 1)+1, np.convolve(epochs_test_losses, np.ones(ma_window)/ma_window, mode='valid'))\n",
        "plt.xlabel('epoch')\n",
        "plt.ylabel('loss')\n",
        "plt.legend(['train','valid'])\n",
        "#plt.ylim([0.01,0.06])"
      ]
    },
    {
      "cell_type": "code",
      "execution_count": 46,
      "metadata": {
        "id": "WAwu1WxdSicG",
        "outputId": "cb89879a-eb6d-4781-91f1-7c5f76e8e211",
        "colab": {
          "base_uri": "https://localhost:8080/"
        }
      },
      "outputs": [
        {
          "output_type": "stream",
          "name": "stdout",
          "text": [
            "487.23249435424805\n"
          ]
        }
      ],
      "source": [
        "print(training_execution_time)"
      ]
    },
    {
      "cell_type": "markdown",
      "metadata": {
        "id": "TbW8XPokSicG"
      },
      "source": [
        "One can note here how the training loss decreases epoch after epoch. This means that the optimization is going well: the chosen learning rate allows to update the model towards a better solution (lower loss) for the **training dataset**. However, neural networks are known to be very expressive models. In fact, the universal approximation theorem shows that, with enough neurons/layers, one can model any function with a neural network {cite}`cybenko1989approximation`. Therefore, it is expected for a complex neural network to be able to fit almost perfectly the training data. But the ultimate goal is to obtain a model that generalizes well on unseen data (like the validation set). Looking at the validation loss, one can see that it starts by decreasing (with oscillations) and it reaches an optimum around 0.019, and stops decreasing (or even starts increasing). This phenomenon is referred to as [overfitting](Model_Selection).\n",
        "\n",
        "Many aspects can be improved in the training. Although one cannot measure the performance on the final test set while training, one can rely on a validation set and try to stop training before overfitting (see [](Model_Selection)). One can also change the optimization algorithm and parameters to speed up training and reach a better optimum. This is investigated later, in the optimization paragraph."
      ]
    },
    {
      "cell_type": "markdown",
      "metadata": {
        "id": "E27eugJ2SicG"
      },
      "source": [
        "For now, let us consider this final fitted model and evaluate it the same way as the other models in previous chapters. For this, let us create a prediction DataFrame and call the `performance_assessment` function from the shared functions."
      ]
    },
    {
      "cell_type": "code",
      "execution_count": 47,
      "metadata": {
        "id": "iumk3XUlSicG",
        "outputId": "67d5d592-1417-4270-fa97-4029dd5a35e0",
        "colab": {
          "base_uri": "https://localhost:8080/"
        }
      },
      "outputs": [
        {
          "output_type": "stream",
          "name": "stdout",
          "text": [
            "Predictions took 1.0292742252349854 seconds.\n"
          ]
        }
      ],
      "source": [
        "start_time=time.time()\n",
        "predictions_test = model(x_test.to(DEVICE))\n",
        "prediction_execution_time = time.time()-start_time\n",
        "predictions_train = model(x_train.to(DEVICE))\n",
        "print(\"Predictions took\", prediction_execution_time,\"seconds.\")"
      ]
    },
    {
      "cell_type": "code",
      "execution_count": 48,
      "metadata": {
        "id": "BIr2lmi1SicG",
        "outputId": "74481b05-5e6f-4ef2-b09c-c9b70a47a805",
        "colab": {
          "base_uri": "https://localhost:8080/",
          "height": 81
        }
      },
      "outputs": [
        {
          "output_type": "execute_result",
          "data": {
            "text/plain": [
              "   AUC ROC  Average precision  Card Precision@100\n",
              "0    0.857              0.636               0.269"
            ],
            "text/html": [
              "\n",
              "  <div id=\"df-331e1e4d-289a-416d-8497-2270f8c37c2c\" class=\"colab-df-container\">\n",
              "    <div>\n",
              "<style scoped>\n",
              "    .dataframe tbody tr th:only-of-type {\n",
              "        vertical-align: middle;\n",
              "    }\n",
              "\n",
              "    .dataframe tbody tr th {\n",
              "        vertical-align: top;\n",
              "    }\n",
              "\n",
              "    .dataframe thead th {\n",
              "        text-align: right;\n",
              "    }\n",
              "</style>\n",
              "<table border=\"1\" class=\"dataframe\">\n",
              "  <thead>\n",
              "    <tr style=\"text-align: right;\">\n",
              "      <th></th>\n",
              "      <th>AUC ROC</th>\n",
              "      <th>Average precision</th>\n",
              "      <th>Card Precision@100</th>\n",
              "    </tr>\n",
              "  </thead>\n",
              "  <tbody>\n",
              "    <tr>\n",
              "      <th>0</th>\n",
              "      <td>0.857</td>\n",
              "      <td>0.636</td>\n",
              "      <td>0.269</td>\n",
              "    </tr>\n",
              "  </tbody>\n",
              "</table>\n",
              "</div>\n",
              "    <div class=\"colab-df-buttons\">\n",
              "\n",
              "  <div class=\"colab-df-container\">\n",
              "    <button class=\"colab-df-convert\" onclick=\"convertToInteractive('df-331e1e4d-289a-416d-8497-2270f8c37c2c')\"\n",
              "            title=\"Convert this dataframe to an interactive table.\"\n",
              "            style=\"display:none;\">\n",
              "\n",
              "  <svg xmlns=\"http://www.w3.org/2000/svg\" height=\"24px\" viewBox=\"0 -960 960 960\">\n",
              "    <path d=\"M120-120v-720h720v720H120Zm60-500h600v-160H180v160Zm220 220h160v-160H400v160Zm0 220h160v-160H400v160ZM180-400h160v-160H180v160Zm440 0h160v-160H620v160ZM180-180h160v-160H180v160Zm440 0h160v-160H620v160Z\"/>\n",
              "  </svg>\n",
              "    </button>\n",
              "\n",
              "  <style>\n",
              "    .colab-df-container {\n",
              "      display:flex;\n",
              "      gap: 12px;\n",
              "    }\n",
              "\n",
              "    .colab-df-convert {\n",
              "      background-color: #E8F0FE;\n",
              "      border: none;\n",
              "      border-radius: 50%;\n",
              "      cursor: pointer;\n",
              "      display: none;\n",
              "      fill: #1967D2;\n",
              "      height: 32px;\n",
              "      padding: 0 0 0 0;\n",
              "      width: 32px;\n",
              "    }\n",
              "\n",
              "    .colab-df-convert:hover {\n",
              "      background-color: #E2EBFA;\n",
              "      box-shadow: 0px 1px 2px rgba(60, 64, 67, 0.3), 0px 1px 3px 1px rgba(60, 64, 67, 0.15);\n",
              "      fill: #174EA6;\n",
              "    }\n",
              "\n",
              "    .colab-df-buttons div {\n",
              "      margin-bottom: 4px;\n",
              "    }\n",
              "\n",
              "    [theme=dark] .colab-df-convert {\n",
              "      background-color: #3B4455;\n",
              "      fill: #D2E3FC;\n",
              "    }\n",
              "\n",
              "    [theme=dark] .colab-df-convert:hover {\n",
              "      background-color: #434B5C;\n",
              "      box-shadow: 0px 1px 3px 1px rgba(0, 0, 0, 0.15);\n",
              "      filter: drop-shadow(0px 1px 2px rgba(0, 0, 0, 0.3));\n",
              "      fill: #FFFFFF;\n",
              "    }\n",
              "  </style>\n",
              "\n",
              "    <script>\n",
              "      const buttonEl =\n",
              "        document.querySelector('#df-331e1e4d-289a-416d-8497-2270f8c37c2c button.colab-df-convert');\n",
              "      buttonEl.style.display =\n",
              "        google.colab.kernel.accessAllowed ? 'block' : 'none';\n",
              "\n",
              "      async function convertToInteractive(key) {\n",
              "        const element = document.querySelector('#df-331e1e4d-289a-416d-8497-2270f8c37c2c');\n",
              "        const dataTable =\n",
              "          await google.colab.kernel.invokeFunction('convertToInteractive',\n",
              "                                                    [key], {});\n",
              "        if (!dataTable) return;\n",
              "\n",
              "        const docLinkHtml = 'Like what you see? Visit the ' +\n",
              "          '<a target=\"_blank\" href=https://colab.research.google.com/notebooks/data_table.ipynb>data table notebook</a>'\n",
              "          + ' to learn more about interactive tables.';\n",
              "        element.innerHTML = '';\n",
              "        dataTable['output_type'] = 'display_data';\n",
              "        await google.colab.output.renderOutput(dataTable, element);\n",
              "        const docLink = document.createElement('div');\n",
              "        docLink.innerHTML = docLinkHtml;\n",
              "        element.appendChild(docLink);\n",
              "      }\n",
              "    </script>\n",
              "  </div>\n",
              "\n",
              "\n",
              "    </div>\n",
              "  </div>\n"
            ],
            "application/vnd.google.colaboratory.intrinsic+json": {
              "type": "dataframe",
              "summary": "{\n  \"name\": \"performance_assessment(predictions_df, top_k_list=[100])\",\n  \"rows\": 1,\n  \"fields\": [\n    {\n      \"column\": \"AUC ROC\",\n      \"properties\": {\n        \"dtype\": \"number\",\n        \"std\": null,\n        \"min\": 0.857,\n        \"max\": 0.857,\n        \"num_unique_values\": 1,\n        \"samples\": [\n          0.857\n        ],\n        \"semantic_type\": \"\",\n        \"description\": \"\"\n      }\n    },\n    {\n      \"column\": \"Average precision\",\n      \"properties\": {\n        \"dtype\": \"number\",\n        \"std\": null,\n        \"min\": 0.636,\n        \"max\": 0.636,\n        \"num_unique_values\": 1,\n        \"samples\": [\n          0.636\n        ],\n        \"semantic_type\": \"\",\n        \"description\": \"\"\n      }\n    },\n    {\n      \"column\": \"Card Precision@100\",\n      \"properties\": {\n        \"dtype\": \"number\",\n        \"std\": null,\n        \"min\": 0.269,\n        \"max\": 0.269,\n        \"num_unique_values\": 1,\n        \"samples\": [\n          0.269\n        ],\n        \"semantic_type\": \"\",\n        \"description\": \"\"\n      }\n    }\n  ]\n}"
            }
          },
          "metadata": {},
          "execution_count": 48
        }
      ],
      "source": [
        "predictions_df=test_df\n",
        "predictions_df['predictions']=predictions_test.detach().cpu().numpy()\n",
        "\n",
        "performance_assessment(predictions_df, top_k_list=[100])"
      ]
    },
    {
      "cell_type": "markdown",
      "metadata": {
        "id": "b-rhKMkCSicH"
      },
      "source": [
        "This first shot feed-forward network already obtains a decent performance on the test set (refer to [Chapter 3.4](Baseline_FDS_Performances_Simulation) for comparison). But several elements can be modified to improve the AUC ROC, reduce the training time, etc."
      ]
    },
    {
      "cell_type": "markdown",
      "metadata": {
        "id": "GQI-R4EFSicH"
      },
      "source": [
        "As stated above, for the first model, optimization was not carried out properly because the validation performance is not exploited during the training process. To avoid overfitting in practice, it is necessary to take it into account (See Chapter 5, [](Hold_Out_Validation))."
      ]
    },
    {
      "cell_type": "code",
      "execution_count": 49,
      "metadata": {
        "id": "H3E_-FmGSicH"
      },
      "outputs": [],
      "source": [
        "delta_valid = delta_test\n",
        "\n",
        "start_date_training_with_valid = start_date_training+datetime.timedelta(days=-(delta_delay+delta_valid))\n",
        "\n",
        "(train_df, valid_df)=get_train_test_set(transactions_df,start_date_training_with_valid,\n",
        "                                       delta_train=delta_train,delta_delay=delta_delay,delta_test=delta_test)\n",
        "\n",
        "# By default, scales input data\n",
        "(train_df, valid_df)=scaleData(train_df, valid_df, input_features)"
      ]
    },
    {
      "cell_type": "markdown",
      "metadata": {
        "id": "yl0OwaUoSicH"
      },
      "source": [
        "Let us implement an early stopping strategy. The idea is to detect overfitting, i.e. when validation error starts increasing, and stop the training process. Sometimes, the validation error might increase at a given epoch, but then decrease again. For that reason, it is important to also consider a patience parameter, i.e. a number of iterations for which the training process waits in order to make sure that the error is definitely increasing."
      ]
    },
    {
      "cell_type": "code",
      "execution_count": 50,
      "metadata": {
        "id": "XuUbTE-sSicH"
      },
      "outputs": [],
      "source": [
        "class EarlyStopping:\n",
        "\n",
        "    def __init__(self, patience=2, verbose=False):\n",
        "        self.patience = patience\n",
        "        self.verbose = verbose\n",
        "        self.counter = 0\n",
        "        self.best_score = np.inf\n",
        "\n",
        "    def continue_training(self,current_score):\n",
        "        if self.best_score > current_score:\n",
        "            self.best_score = current_score\n",
        "            self.counter = 0\n",
        "            if self.verbose:\n",
        "                print(\"New best score:\", current_score)\n",
        "        else:\n",
        "            self.counter+=1\n",
        "            if self.verbose:\n",
        "                print(self.counter, \" iterations since best score.\")\n",
        "\n",
        "        return self.counter <= self.patience"
      ]
    },
    {
      "cell_type": "code",
      "execution_count": 51,
      "metadata": {
        "id": "VnX8dV8eSicH"
      },
      "outputs": [],
      "source": [
        "seed_everything(SEED)\n",
        "\n",
        "model = SimpleFraudMLP(len(input_features), 1000).to(DEVICE)\n",
        "\n",
        "def prepare_generators(train_df,valid_df,batch_size=64):\n",
        "    x_train = torch.FloatTensor(train_df[input_features].values)\n",
        "    x_valid = torch.FloatTensor(valid_df[input_features].values)\n",
        "    y_train = torch.FloatTensor(train_df[output_feature].values)\n",
        "    y_valid = torch.FloatTensor(valid_df[output_feature].values)\n",
        "    train_loader_params = {'batch_size': batch_size,\n",
        "              'shuffle': True,\n",
        "              'num_workers': 0}\n",
        "    valid_loader_params = {'batch_size': batch_size,\n",
        "              'num_workers': 0}\n",
        "    # Generators\n",
        "\n",
        "    training_set = FraudDataset(x_train, y_train)\n",
        "    valid_set = FraudDataset(x_valid, y_valid)\n",
        "\n",
        "    training_generator = torch.utils.data.DataLoader(training_set, **train_loader_params)\n",
        "    valid_generator = torch.utils.data.DataLoader(valid_set, **valid_loader_params)\n",
        "\n",
        "    return training_generator,valid_generator\n",
        "\n",
        "training_generator,valid_generator = prepare_generators(train_df,valid_df,batch_size=64)\n",
        "\n",
        "criterion = torch.nn.BCELoss().to(DEVICE)\n",
        "optimizer = torch.optim.SGD(model.parameters(), lr = 0.0005)"
      ]
    },
    {
      "cell_type": "markdown",
      "metadata": {
        "id": "HExNgYfQSicH"
      },
      "source": [
        "The training loop can now be adapted to integrate early stopping:"
      ]
    },
    {
      "cell_type": "code",
      "execution_count": 52,
      "metadata": {
        "tags": [
          "output_scroll"
        ],
        "id": "z1eX6wONSicH",
        "outputId": "2f34ac24-cc66-4e14-ebad-ff9c6dd52bf6",
        "colab": {
          "base_uri": "https://localhost:8080/"
        }
      },
      "outputs": [
        {
          "output_type": "stream",
          "name": "stdout",
          "text": [
            "\n",
            "Epoch 0: train loss: 0.19094532902706876\n",
            "valid loss: 0.09363199265195372\n",
            "New best score: 0.09363199265195372\n",
            "\n",
            "Epoch 1: train loss: 0.09756324271071368\n",
            "valid loss: 0.06975944483540748\n",
            "New best score: 0.06975944483540748\n",
            "\n",
            "Epoch 2: train loss: 0.07713193162371107\n",
            "valid loss: 0.057125549956830474\n",
            "New best score: 0.057125549956830474\n",
            "\n",
            "Epoch 3: train loss: 0.06579174247728821\n",
            "valid loss: 0.05029815405281515\n",
            "New best score: 0.05029815405281515\n",
            "\n",
            "Epoch 4: train loss: 0.06037377726365002\n",
            "valid loss: 0.04628613654707299\n",
            "New best score: 0.04628613654707299\n",
            "\n",
            "Epoch 5: train loss: 0.05693923209546344\n",
            "valid loss: 0.043647834346146205\n",
            "New best score: 0.043647834346146205\n",
            "\n",
            "Epoch 6: train loss: 0.054466319754790965\n",
            "valid loss: 0.041660719363863674\n",
            "New best score: 0.041660719363863674\n",
            "\n",
            "Epoch 7: train loss: 0.052478762063951044\n",
            "valid loss: 0.0400674227085677\n",
            "New best score: 0.0400674227085677\n",
            "\n",
            "Epoch 8: train loss: 0.050844424592071065\n",
            "valid loss: 0.03885680468742802\n",
            "New best score: 0.03885680468742802\n",
            "\n",
            "Epoch 9: train loss: 0.0493321320367888\n",
            "valid loss: 0.03774035450457875\n",
            "New best score: 0.03774035450457875\n",
            "\n",
            "Epoch 10: train loss: 0.048010754121207484\n",
            "valid loss: 0.03679696718648157\n",
            "New best score: 0.03679696718648157\n",
            "\n",
            "Epoch 11: train loss: 0.046824077456783554\n",
            "valid loss: 0.03591665905885032\n",
            "New best score: 0.03591665905885032\n",
            "\n",
            "Epoch 12: train loss: 0.04571960133947361\n",
            "valid loss: 0.03514220895642629\n",
            "New best score: 0.03514220895642629\n",
            "\n",
            "Epoch 13: train loss: 0.04473093227816329\n",
            "valid loss: 0.034494941077027164\n",
            "New best score: 0.034494941077027164\n",
            "\n",
            "Epoch 14: train loss: 0.0437747991624258\n",
            "valid loss: 0.0338226818097908\n",
            "New best score: 0.0338226818097908\n",
            "\n",
            "Epoch 15: train loss: 0.042906155102809686\n",
            "valid loss: 0.03326653973835576\n",
            "New best score: 0.03326653973835576\n",
            "\n",
            "Epoch 16: train loss: 0.042096036805078584\n",
            "valid loss: 0.032733792088966554\n",
            "New best score: 0.032733792088966554\n",
            "\n",
            "Epoch 17: train loss: 0.041340677014215496\n",
            "valid loss: 0.03222761422171782\n",
            "New best score: 0.03222761422171782\n",
            "\n",
            "Epoch 18: train loss: 0.04066945744827959\n",
            "valid loss: 0.03177180163195876\n",
            "New best score: 0.03177180163195876\n",
            "\n",
            "Epoch 19: train loss: 0.039980370717400945\n",
            "valid loss: 0.031328698760661924\n",
            "New best score: 0.031328698760661924\n",
            "\n",
            "Epoch 20: train loss: 0.03936898095682833\n",
            "valid loss: 0.03092572465895222\n",
            "New best score: 0.03092572465895222\n",
            "\n",
            "Epoch 21: train loss: 0.03881185705351499\n",
            "valid loss: 0.030571206461108936\n",
            "New best score: 0.030571206461108936\n",
            "\n",
            "Epoch 22: train loss: 0.038301427309520644\n",
            "valid loss: 0.030212066225361465\n",
            "New best score: 0.030212066225361465\n",
            "\n",
            "Epoch 23: train loss: 0.03780327680258946\n",
            "valid loss: 0.029842680067719656\n",
            "New best score: 0.029842680067719656\n",
            "\n",
            "Epoch 24: train loss: 0.03736350699381308\n",
            "valid loss: 0.029539039079608812\n",
            "New best score: 0.029539039079608812\n",
            "\n",
            "Epoch 25: train loss: 0.036951251677460044\n",
            "valid loss: 0.02924803433980528\n",
            "New best score: 0.02924803433980528\n",
            "\n",
            "Epoch 26: train loss: 0.03657286716393599\n",
            "valid loss: 0.02896783129703966\n",
            "New best score: 0.02896783129703966\n",
            "\n",
            "Epoch 27: train loss: 0.03621781105887907\n",
            "valid loss: 0.028707566389132067\n",
            "New best score: 0.028707566389132067\n",
            "\n",
            "Epoch 28: train loss: 0.03588858276407945\n",
            "valid loss: 0.028425763198810686\n",
            "New best score: 0.028425763198810686\n",
            "\n",
            "Epoch 29: train loss: 0.03558729843362938\n",
            "valid loss: 0.028231198372716298\n",
            "New best score: 0.028231198372716298\n",
            "\n",
            "Epoch 30: train loss: 0.035337141157176\n",
            "valid loss: 0.027996696195376865\n",
            "New best score: 0.027996696195376865\n",
            "\n",
            "Epoch 31: train loss: 0.03506134718391211\n",
            "valid loss: 0.027787810110084996\n",
            "New best score: 0.027787810110084996\n",
            "\n",
            "Epoch 32: train loss: 0.03479003766685169\n",
            "valid loss: 0.02757403338022652\n",
            "New best score: 0.02757403338022652\n",
            "\n",
            "Epoch 33: train loss: 0.03455540943039621\n",
            "valid loss: 0.027386828203039254\n",
            "New best score: 0.027386828203039254\n",
            "\n",
            "Epoch 34: train loss: 0.03436213013196068\n",
            "valid loss: 0.027247307709128154\n",
            "New best score: 0.027247307709128154\n",
            "\n",
            "Epoch 35: train loss: 0.03413129780471795\n",
            "valid loss: 0.027072331879817235\n",
            "New best score: 0.027072331879817235\n",
            "\n",
            "Epoch 36: train loss: 0.03393075139044533\n",
            "valid loss: 0.026900195927852817\n",
            "New best score: 0.026900195927852817\n",
            "\n",
            "Epoch 37: train loss: 0.03373889805772208\n",
            "valid loss: 0.0268116401966478\n",
            "New best score: 0.0268116401966478\n",
            "\n",
            "Epoch 38: train loss: 0.033571421366405764\n",
            "valid loss: 0.02664484862197455\n",
            "New best score: 0.02664484862197455\n",
            "\n",
            "Epoch 39: train loss: 0.033398817422003776\n",
            "valid loss: 0.026537465106166613\n",
            "New best score: 0.026537465106166613\n",
            "\n",
            "Epoch 40: train loss: 0.03323653604333106\n",
            "valid loss: 0.02642419197764553\n",
            "New best score: 0.02642419197764553\n",
            "\n",
            "Epoch 41: train loss: 0.033088812975829066\n",
            "valid loss: 0.026273956476033873\n",
            "New best score: 0.026273956476033873\n",
            "\n",
            "Epoch 42: train loss: 0.032936552841746985\n",
            "valid loss: 0.026182965596862992\n",
            "New best score: 0.026182965596862992\n",
            "\n",
            "Epoch 43: train loss: 0.03279728485969381\n",
            "valid loss: 0.026070798396087082\n",
            "New best score: 0.026070798396087082\n",
            "\n",
            "Epoch 44: train loss: 0.032665504260615486\n",
            "valid loss: 0.025953395217860657\n",
            "New best score: 0.025953395217860657\n",
            "\n",
            "Epoch 45: train loss: 0.03253353828560725\n",
            "valid loss: 0.02586427662786239\n",
            "New best score: 0.02586427662786239\n",
            "\n",
            "Epoch 46: train loss: 0.03241302265454418\n",
            "valid loss: 0.025792027213432586\n",
            "New best score: 0.025792027213432586\n",
            "\n",
            "Epoch 47: train loss: 0.032289483600935365\n",
            "valid loss: 0.025678560148944946\n",
            "New best score: 0.025678560148944946\n",
            "\n",
            "Epoch 48: train loss: 0.03217228405564012\n",
            "valid loss: 0.025581837207832133\n",
            "New best score: 0.025581837207832133\n",
            "\n",
            "Epoch 49: train loss: 0.03206106487672285\n",
            "valid loss: 0.025493346122627863\n",
            "New best score: 0.025493346122627863\n",
            "\n",
            "Epoch 50: train loss: 0.03195422513759472\n",
            "valid loss: 0.025412814686573595\n",
            "New best score: 0.025412814686573595\n",
            "\n",
            "Epoch 51: train loss: 0.03184948407512436\n",
            "valid loss: 0.02534725564771174\n",
            "New best score: 0.02534725564771174\n",
            "\n",
            "Epoch 52: train loss: 0.031786948214525476\n",
            "valid loss: 0.025255875948490828\n",
            "New best score: 0.025255875948490828\n",
            "\n",
            "Epoch 53: train loss: 0.03168228240443276\n",
            "valid loss: 0.025205543373655426\n",
            "New best score: 0.025205543373655426\n",
            "\n",
            "Epoch 54: train loss: 0.03156295901629184\n",
            "valid loss: 0.025115513695719464\n",
            "New best score: 0.025115513695719464\n",
            "\n",
            "Epoch 55: train loss: 0.03148019212399597\n",
            "valid loss: 0.02505809835723189\n",
            "New best score: 0.02505809835723189\n",
            "\n",
            "Epoch 56: train loss: 0.03142182333715417\n",
            "valid loss: 0.025009956938097547\n",
            "New best score: 0.025009956938097547\n",
            "\n",
            "Epoch 57: train loss: 0.03129065452129304\n",
            "valid loss: 0.024941711056509306\n",
            "New best score: 0.024941711056509306\n",
            "\n",
            "Epoch 58: train loss: 0.031206593082159985\n",
            "valid loss: 0.02485417223998595\n",
            "New best score: 0.02485417223998595\n",
            "\n",
            "Epoch 59: train loss: 0.031125759180585355\n",
            "valid loss: 0.024796662158001966\n",
            "New best score: 0.024796662158001966\n",
            "\n",
            "Epoch 60: train loss: 0.03104725074072869\n",
            "valid loss: 0.02473914775630978\n",
            "New best score: 0.02473914775630978\n",
            "\n",
            "Epoch 61: train loss: 0.030971015901456143\n",
            "valid loss: 0.0246868456576447\n",
            "New best score: 0.0246868456576447\n",
            "\n",
            "Epoch 62: train loss: 0.03089598825746296\n",
            "valid loss: 0.024660172305309057\n",
            "New best score: 0.024660172305309057\n",
            "\n",
            "Epoch 63: train loss: 0.030850627905658908\n",
            "valid loss: 0.02461901358812233\n",
            "New best score: 0.02461901358812233\n",
            "\n",
            "Epoch 64: train loss: 0.03078278082682899\n",
            "valid loss: 0.024546959007901898\n",
            "New best score: 0.024546959007901898\n",
            "\n",
            "Epoch 65: train loss: 0.030684161168232874\n",
            "valid loss: 0.0244975839609209\n",
            "New best score: 0.0244975839609209\n",
            "\n",
            "Epoch 66: train loss: 0.03061067409360208\n",
            "valid loss: 0.024420173487071293\n",
            "New best score: 0.024420173487071293\n",
            "\n",
            "Epoch 67: train loss: 0.030551618444564152\n",
            "valid loss: 0.02440061875430694\n",
            "New best score: 0.02440061875430694\n",
            "\n",
            "Epoch 68: train loss: 0.03051347884814296\n",
            "valid loss: 0.024362873967706426\n",
            "New best score: 0.024362873967706426\n",
            "\n",
            "Epoch 69: train loss: 0.030420117581487556\n",
            "valid loss: 0.024296730521129944\n",
            "New best score: 0.024296730521129944\n",
            "\n",
            "Epoch 70: train loss: 0.030402589872938868\n",
            "valid loss: 0.02426908767598941\n",
            "New best score: 0.02426908767598941\n",
            "\n",
            "Epoch 71: train loss: 0.030311323080860063\n",
            "valid loss: 0.02422615805070827\n",
            "New best score: 0.02422615805070827\n",
            "\n",
            "Epoch 72: train loss: 0.030242186939400794\n",
            "valid loss: 0.02417025147565727\n",
            "New best score: 0.02417025147565727\n",
            "\n",
            "Epoch 73: train loss: 0.030186914650538143\n",
            "valid loss: 0.024147748594716842\n",
            "New best score: 0.024147748594716842\n",
            "\n",
            "Epoch 74: train loss: 0.030129483071588564\n",
            "valid loss: 0.02412401578704638\n",
            "New best score: 0.02412401578704638\n",
            "\n",
            "Epoch 75: train loss: 0.03007540619201125\n",
            "valid loss: 0.024066191714491106\n",
            "New best score: 0.024066191714491106\n",
            "\n",
            "Epoch 76: train loss: 0.030022259679423506\n",
            "valid loss: 0.024043368516601826\n",
            "New best score: 0.024043368516601826\n",
            "\n",
            "Epoch 77: train loss: 0.02997145685478582\n",
            "valid loss: 0.024010276118588577\n",
            "New best score: 0.024010276118588577\n",
            "\n",
            "Epoch 78: train loss: 0.029917152208742644\n",
            "valid loss: 0.023943996371426544\n",
            "New best score: 0.023943996371426544\n",
            "\n",
            "Epoch 79: train loss: 0.029870490359461172\n",
            "valid loss: 0.023916417422902878\n",
            "New best score: 0.023916417422902878\n",
            "\n",
            "Epoch 80: train loss: 0.02981895510393086\n",
            "valid loss: 0.023909771299152508\n",
            "New best score: 0.023909771299152508\n",
            "\n",
            "Epoch 81: train loss: 0.029772801752768484\n",
            "valid loss: 0.02386643884072457\n",
            "New best score: 0.02386643884072457\n",
            "\n",
            "Epoch 82: train loss: 0.02972328005515281\n",
            "valid loss: 0.023843870890362422\n",
            "New best score: 0.023843870890362422\n",
            "\n",
            "Epoch 83: train loss: 0.029679560071582164\n",
            "valid loss: 0.023803884254849916\n",
            "New best score: 0.023803884254849916\n",
            "\n",
            "Epoch 84: train loss: 0.02965871815593739\n",
            "valid loss: 0.023749441045331336\n",
            "New best score: 0.023749441045331336\n",
            "\n",
            "Epoch 85: train loss: 0.029589174686615885\n",
            "valid loss: 0.023744253780631747\n",
            "New best score: 0.023744253780631747\n",
            "\n",
            "Epoch 86: train loss: 0.02954626917134771\n",
            "valid loss: 0.023701159035420565\n",
            "New best score: 0.023701159035420565\n",
            "\n",
            "Epoch 87: train loss: 0.029504896116213264\n",
            "valid loss: 0.02369135128654784\n",
            "New best score: 0.02369135128654784\n",
            "\n",
            "Epoch 88: train loss: 0.029459695604871994\n",
            "valid loss: 0.023641909397833172\n",
            "New best score: 0.023641909397833172\n",
            "\n",
            "Epoch 89: train loss: 0.029419359143816264\n",
            "valid loss: 0.023633196865987093\n",
            "New best score: 0.023633196865987093\n",
            "\n",
            "Epoch 90: train loss: 0.02941401547509251\n",
            "valid loss: 0.02359971089283503\n",
            "New best score: 0.02359971089283503\n",
            "\n",
            "Epoch 91: train loss: 0.029339052803091435\n",
            "valid loss: 0.023573860576467924\n",
            "New best score: 0.023573860576467924\n",
            "\n",
            "Epoch 92: train loss: 0.029300035506150336\n",
            "valid loss: 0.023549705356756438\n",
            "New best score: 0.023549705356756438\n",
            "\n",
            "Epoch 93: train loss: 0.02926524074807813\n",
            "valid loss: 0.023522354465212083\n",
            "New best score: 0.023522354465212083\n",
            "\n",
            "Epoch 94: train loss: 0.02922475699559709\n",
            "valid loss: 0.02347121608336685\n",
            "New best score: 0.02347121608336685\n",
            "\n",
            "Epoch 95: train loss: 0.02921907940788647\n",
            "valid loss: 0.023451568708434456\n",
            "New best score: 0.023451568708434456\n",
            "\n",
            "Epoch 96: train loss: 0.029151808389686902\n",
            "valid loss: 0.02344139727097147\n",
            "New best score: 0.02344139727097147\n",
            "\n",
            "Epoch 97: train loss: 0.029113958225795645\n",
            "valid loss: 0.02342708653164773\n",
            "New best score: 0.02342708653164773\n",
            "\n",
            "Epoch 98: train loss: 0.029078541368506065\n",
            "valid loss: 0.023384541373883114\n",
            "New best score: 0.023384541373883114\n",
            "\n",
            "Epoch 99: train loss: 0.02904405452829232\n",
            "valid loss: 0.023373129830283463\n",
            "New best score: 0.023373129830283463\n",
            "\n",
            "Epoch 100: train loss: 0.029015878320495327\n",
            "valid loss: 0.02334436466688382\n",
            "New best score: 0.02334436466688382\n",
            "\n",
            "Epoch 101: train loss: 0.02900512031761192\n",
            "valid loss: 0.023322705841048168\n",
            "New best score: 0.023322705841048168\n",
            "\n",
            "Epoch 102: train loss: 0.028943347544311396\n",
            "valid loss: 0.02329831603670218\n",
            "New best score: 0.02329831603670218\n",
            "\n",
            "Epoch 103: train loss: 0.028911203381482575\n",
            "valid loss: 0.023276750945175687\n",
            "New best score: 0.023276750945175687\n",
            "\n",
            "Epoch 104: train loss: 0.028877581173445438\n",
            "valid loss: 0.02327146547734534\n",
            "New best score: 0.02327146547734534\n",
            "\n",
            "Epoch 105: train loss: 0.028848347732891643\n",
            "valid loss: 0.02325098470611691\n",
            "New best score: 0.02325098470611691\n",
            "\n",
            "Epoch 106: train loss: 0.02881626338639206\n",
            "valid loss: 0.02322062222526251\n",
            "New best score: 0.02322062222526251\n",
            "\n",
            "Epoch 107: train loss: 0.028819601514944754\n",
            "valid loss: 0.023212433249888118\n",
            "New best score: 0.023212433249888118\n",
            "\n",
            "Epoch 108: train loss: 0.02875230157276861\n",
            "valid loss: 0.023167910041348612\n",
            "New best score: 0.023167910041348612\n",
            "\n",
            "Epoch 109: train loss: 0.028724223692735824\n",
            "valid loss: 0.023146414789600205\n",
            "New best score: 0.023146414789600205\n",
            "\n",
            "Epoch 110: train loss: 0.028695565902798956\n",
            "valid loss: 0.023150026247851917\n",
            "1  iterations since best score.\n",
            "\n",
            "Epoch 111: train loss: 0.028661473563838444\n",
            "valid loss: 0.023105140873154656\n",
            "New best score: 0.023105140873154656\n",
            "\n",
            "Epoch 112: train loss: 0.02866324722917348\n",
            "valid loss: 0.023103760423321948\n",
            "New best score: 0.023103760423321948\n",
            "\n",
            "Epoch 113: train loss: 0.02860520987675292\n",
            "valid loss: 0.023108920934381057\n",
            "1  iterations since best score.\n",
            "\n",
            "Epoch 114: train loss: 0.028577507911588335\n",
            "valid loss: 0.023050605058110234\n",
            "New best score: 0.023050605058110234\n",
            "\n",
            "Epoch 115: train loss: 0.02855812718229899\n",
            "valid loss: 0.023039490485543518\n",
            "New best score: 0.023039490485543518\n",
            "\n",
            "Epoch 116: train loss: 0.028532021239143484\n",
            "valid loss: 0.023004680803259375\n",
            "New best score: 0.023004680803259375\n",
            "\n",
            "Epoch 117: train loss: 0.028500057666528664\n",
            "valid loss: 0.02299320200900929\n",
            "New best score: 0.02299320200900929\n",
            "\n",
            "Epoch 118: train loss: 0.028473237048599505\n",
            "valid loss: 0.02299142291214663\n",
            "New best score: 0.02299142291214663\n",
            "\n",
            "Epoch 119: train loss: 0.028475177997854997\n",
            "valid loss: 0.02298085227064137\n",
            "New best score: 0.02298085227064137\n",
            "\n",
            "Epoch 120: train loss: 0.02842112326234166\n",
            "valid loss: 0.022962102535959393\n",
            "New best score: 0.022962102535959393\n",
            "\n",
            "Epoch 121: train loss: 0.028395735609067344\n",
            "valid loss: 0.022944880969557768\n",
            "New best score: 0.022944880969557768\n",
            "\n",
            "Epoch 122: train loss: 0.02836906327131466\n",
            "valid loss: 0.022936115117458616\n",
            "New best score: 0.022936115117458616\n",
            "\n",
            "Epoch 123: train loss: 0.02834393623699906\n",
            "valid loss: 0.02294791149957706\n",
            "1  iterations since best score.\n",
            "\n",
            "Epoch 124: train loss: 0.02832192087561127\n",
            "valid loss: 0.02291468166303439\n",
            "New best score: 0.02291468166303439\n",
            "\n",
            "Epoch 125: train loss: 0.0282940595536751\n",
            "valid loss: 0.02290783041803156\n",
            "New best score: 0.02290783041803156\n",
            "\n",
            "Epoch 126: train loss: 0.028274452419066533\n",
            "valid loss: 0.02287623245762712\n",
            "New best score: 0.02287623245762712\n",
            "\n",
            "Epoch 127: train loss: 0.02824799543697152\n",
            "valid loss: 0.022854332053077107\n",
            "New best score: 0.022854332053077107\n",
            "\n",
            "Epoch 128: train loss: 0.02821967520694966\n",
            "valid loss: 0.02281298740675337\n",
            "New best score: 0.02281298740675337\n",
            "\n",
            "Epoch 129: train loss: 0.028200366986153316\n",
            "valid loss: 0.02282559509195713\n",
            "1  iterations since best score.\n",
            "\n",
            "Epoch 130: train loss: 0.028199317085113283\n",
            "valid loss: 0.02281215826705953\n",
            "New best score: 0.02281215826705953\n",
            "\n",
            "Epoch 131: train loss: 0.028168288975719\n",
            "valid loss: 0.022795588970489677\n",
            "New best score: 0.022795588970489677\n",
            "\n",
            "Epoch 132: train loss: 0.028135342347608384\n",
            "valid loss: 0.022771188151600258\n",
            "New best score: 0.022771188151600258\n",
            "\n",
            "Epoch 133: train loss: 0.028110218982267447\n",
            "valid loss: 0.022771075542741378\n",
            "New best score: 0.022771075542741378\n",
            "\n",
            "Epoch 134: train loss: 0.028088055681713266\n",
            "valid loss: 0.022756602909527923\n",
            "New best score: 0.022756602909527923\n",
            "\n",
            "Epoch 135: train loss: 0.028064965387097567\n",
            "valid loss: 0.02275203894238532\n",
            "New best score: 0.02275203894238532\n",
            "\n",
            "Epoch 136: train loss: 0.028045664108037792\n",
            "valid loss: 0.022716519447002825\n",
            "New best score: 0.022716519447002825\n",
            "\n",
            "Epoch 137: train loss: 0.02802330735549117\n",
            "valid loss: 0.022720496730543063\n",
            "1  iterations since best score.\n",
            "\n",
            "Epoch 138: train loss: 0.028003983228533293\n",
            "valid loss: 0.022699933917684063\n",
            "New best score: 0.022699933917684063\n",
            "\n",
            "Epoch 139: train loss: 0.027981189711742373\n",
            "valid loss: 0.02266955134010991\n",
            "New best score: 0.02266955134010991\n",
            "\n",
            "Epoch 140: train loss: 0.027989774120590484\n",
            "valid loss: 0.022664511736350063\n",
            "New best score: 0.022664511736350063\n",
            "\n",
            "Epoch 141: train loss: 0.027937547619148278\n",
            "valid loss: 0.0226687864586202\n",
            "1  iterations since best score.\n",
            "\n",
            "Epoch 142: train loss: 0.02791996882341617\n",
            "valid loss: 0.022646989736991013\n",
            "New best score: 0.022646989736991013\n",
            "\n",
            "Epoch 143: train loss: 0.027921524937229006\n",
            "valid loss: 0.022621760573594378\n",
            "New best score: 0.022621760573594378\n",
            "\n",
            "Epoch 144: train loss: 0.02791890251560646\n",
            "valid loss: 0.0226102459308045\n",
            "New best score: 0.0226102459308045\n",
            "\n",
            "Epoch 145: train loss: 0.027864598660430662\n",
            "valid loss: 0.022602234566278877\n",
            "New best score: 0.022602234566278877\n",
            "\n",
            "Epoch 146: train loss: 0.02784077564288237\n",
            "valid loss: 0.02258376539099575\n",
            "New best score: 0.02258376539099575\n",
            "\n",
            "Epoch 147: train loss: 0.027829151281403168\n",
            "valid loss: 0.022590950046172315\n",
            "1  iterations since best score.\n",
            "\n",
            "Epoch 148: train loss: 0.027800326614442993\n",
            "valid loss: 0.02255713402934861\n",
            "New best score: 0.02255713402934861\n",
            "\n",
            "Epoch 149: train loss: 0.027781883101726936\n",
            "valid loss: 0.022554721769525624\n",
            "New best score: 0.022554721769525624\n",
            "\n",
            "Epoch 150: train loss: 0.027762084662020348\n",
            "valid loss: 0.022544778581159036\n",
            "New best score: 0.022544778581159036\n",
            "\n",
            "Epoch 151: train loss: 0.02774542536703161\n",
            "valid loss: 0.022546226324900335\n",
            "1  iterations since best score.\n",
            "\n",
            "Epoch 152: train loss: 0.027726586291746343\n",
            "valid loss: 0.02251878276167061\n",
            "New best score: 0.02251878276167061\n",
            "\n",
            "Epoch 153: train loss: 0.027708370245888073\n",
            "valid loss: 0.02251177804488587\n",
            "New best score: 0.02251177804488587\n",
            "\n",
            "Epoch 154: train loss: 0.027684761740598494\n",
            "valid loss: 0.02252874381107385\n",
            "1  iterations since best score.\n",
            "\n",
            "Epoch 155: train loss: 0.027679320103150523\n",
            "valid loss: 0.022480235394355053\n",
            "New best score: 0.022480235394355053\n",
            "\n",
            "Epoch 156: train loss: 0.027658464233916304\n",
            "valid loss: 0.022468880739042667\n",
            "New best score: 0.022468880739042667\n",
            "\n",
            "Epoch 157: train loss: 0.027635156319220238\n",
            "valid loss: 0.022459146475337977\n",
            "New best score: 0.022459146475337977\n",
            "\n",
            "Epoch 158: train loss: 0.027619728524937697\n",
            "valid loss: 0.022461440377039173\n",
            "1  iterations since best score.\n",
            "\n",
            "Epoch 159: train loss: 0.027598312658606804\n",
            "valid loss: 0.022425288439326275\n",
            "New best score: 0.022425288439326275\n",
            "\n",
            "Epoch 160: train loss: 0.027582467719734455\n",
            "valid loss: 0.02243393454013667\n",
            "1  iterations since best score.\n",
            "\n",
            "Epoch 161: train loss: 0.027563636866754303\n",
            "valid loss: 0.022439969105065845\n",
            "2  iterations since best score.\n",
            "\n",
            "Epoch 162: train loss: 0.02757255462364224\n",
            "valid loss: 0.02239694683685329\n",
            "New best score: 0.02239694683685329\n",
            "\n",
            "Epoch 163: train loss: 0.027565714108079217\n",
            "valid loss: 0.022401131505574115\n",
            "1  iterations since best score.\n",
            "\n",
            "Epoch 164: train loss: 0.027516404752455738\n",
            "valid loss: 0.022379313723840673\n",
            "New best score: 0.022379313723840673\n",
            "\n",
            "Epoch 165: train loss: 0.027508663195434664\n",
            "valid loss: 0.022381737649623975\n",
            "1  iterations since best score.\n",
            "\n",
            "Epoch 166: train loss: 0.027481930387379106\n",
            "valid loss: 0.02237216059291542\n",
            "New best score: 0.02237216059291542\n",
            "\n",
            "Epoch 167: train loss: 0.02746443480144595\n",
            "valid loss: 0.022362899457109592\n",
            "New best score: 0.022362899457109592\n",
            "\n",
            "Epoch 168: train loss: 0.027449859853123402\n",
            "valid loss: 0.02234079503718906\n",
            "New best score: 0.02234079503718906\n",
            "\n",
            "Epoch 169: train loss: 0.027431515889085586\n",
            "valid loss: 0.022327415079204112\n",
            "New best score: 0.022327415079204112\n",
            "\n",
            "Epoch 170: train loss: 0.027415208214667783\n",
            "valid loss: 0.022332262593357126\n",
            "1  iterations since best score.\n",
            "\n",
            "Epoch 171: train loss: 0.027413755163806803\n",
            "valid loss: 0.022314519588352063\n",
            "New best score: 0.022314519588352063\n",
            "\n",
            "Epoch 172: train loss: 0.02741671887909313\n",
            "valid loss: 0.022296041243867387\n",
            "New best score: 0.022296041243867387\n",
            "\n",
            "Epoch 173: train loss: 0.027368070759826533\n",
            "valid loss: 0.022296714852691267\n",
            "1  iterations since best score.\n",
            "\n",
            "Epoch 174: train loss: 0.027351140332440304\n",
            "valid loss: 0.02228026868434511\n",
            "New best score: 0.02228026868434511\n",
            "\n",
            "Epoch 175: train loss: 0.027337438286456635\n",
            "valid loss: 0.02227670729765923\n",
            "New best score: 0.02227670729765923\n",
            "\n",
            "Epoch 176: train loss: 0.027322734472605383\n",
            "valid loss: 0.022267281610895296\n",
            "New best score: 0.022267281610895296\n",
            "\n",
            "Epoch 177: train loss: 0.027339471232753255\n",
            "valid loss: 0.022262210221554005\n",
            "New best score: 0.022262210221554005\n",
            "\n",
            "Epoch 178: train loss: 0.027289921469473587\n",
            "valid loss: 0.022242657008932017\n",
            "New best score: 0.022242657008932017\n",
            "\n",
            "Epoch 179: train loss: 0.02727717292040095\n",
            "valid loss: 0.02223482019334136\n",
            "New best score: 0.02223482019334136\n",
            "\n",
            "Epoch 180: train loss: 0.027256119703824133\n",
            "valid loss: 0.022202519718761166\n",
            "New best score: 0.022202519718761166\n",
            "\n",
            "Epoch 181: train loss: 0.027244928611681065\n",
            "valid loss: 0.022216046313739947\n",
            "1  iterations since best score.\n",
            "\n",
            "Epoch 182: train loss: 0.027228405949104056\n",
            "valid loss: 0.02219262412225044\n",
            "New best score: 0.02219262412225044\n",
            "\n",
            "Epoch 183: train loss: 0.027215742486943962\n",
            "valid loss: 0.022185659261491616\n",
            "New best score: 0.022185659261491616\n",
            "\n",
            "Epoch 184: train loss: 0.027200879267128417\n",
            "valid loss: 0.022172497212632352\n",
            "New best score: 0.022172497212632352\n",
            "\n",
            "Epoch 185: train loss: 0.02718546765657893\n",
            "valid loss: 0.022170468550073645\n",
            "New best score: 0.022170468550073645\n",
            "\n",
            "Epoch 186: train loss: 0.027168685692116747\n",
            "valid loss: 0.022177058552223884\n",
            "1  iterations since best score.\n",
            "\n",
            "Epoch 187: train loss: 0.027185073964445573\n",
            "valid loss: 0.022162173303923074\n",
            "New best score: 0.022162173303923074\n",
            "\n",
            "Epoch 188: train loss: 0.02714508322795878\n",
            "valid loss: 0.022157546465636276\n",
            "New best score: 0.022157546465636276\n",
            "\n",
            "Epoch 189: train loss: 0.02712592491648564\n",
            "valid loss: 0.022162889582842914\n",
            "1  iterations since best score.\n",
            "\n",
            "Epoch 190: train loss: 0.027112349383906956\n",
            "valid loss: 0.02213358562516018\n",
            "New best score: 0.02213358562516018\n",
            "\n",
            "Epoch 191: train loss: 0.027098939102321123\n",
            "valid loss: 0.022126424874693074\n",
            "New best score: 0.022126424874693074\n",
            "\n",
            "Epoch 192: train loss: 0.02708390540061394\n",
            "valid loss: 0.0221205824601866\n",
            "New best score: 0.0221205824601866\n",
            "\n",
            "Epoch 193: train loss: 0.027072312339942683\n",
            "valid loss: 0.022103153313179323\n",
            "New best score: 0.022103153313179323\n",
            "\n",
            "Epoch 194: train loss: 0.027056646642602808\n",
            "valid loss: 0.022104938919121613\n",
            "1  iterations since best score.\n",
            "\n",
            "Epoch 195: train loss: 0.02704806225089424\n",
            "valid loss: 0.022098732539681625\n",
            "New best score: 0.022098732539681625\n",
            "\n",
            "Epoch 196: train loss: 0.02702964008736814\n",
            "valid loss: 0.022084318465283498\n",
            "New best score: 0.022084318465283498\n",
            "\n",
            "Epoch 197: train loss: 0.027016117397774132\n",
            "valid loss: 0.02207520995492655\n",
            "New best score: 0.02207520995492655\n",
            "\n",
            "Epoch 198: train loss: 0.026998164628171156\n",
            "valid loss: 0.022047285257477334\n",
            "New best score: 0.022047285257477334\n",
            "\n",
            "Epoch 199: train loss: 0.02698953836879392\n",
            "valid loss: 0.02205482098564017\n",
            "1  iterations since best score.\n",
            "\n",
            "Epoch 200: train loss: 0.026974614054306515\n",
            "valid loss: 0.0220446337322333\n",
            "New best score: 0.0220446337322333\n",
            "\n",
            "Epoch 201: train loss: 0.026961926879703172\n",
            "valid loss: 0.022038327729013936\n",
            "New best score: 0.022038327729013936\n",
            "\n",
            "Epoch 202: train loss: 0.026946964930123284\n",
            "valid loss: 0.022020376638046218\n",
            "New best score: 0.022020376638046218\n",
            "\n",
            "Epoch 203: train loss: 0.02693202115646982\n",
            "valid loss: 0.022001986016005358\n",
            "New best score: 0.022001986016005358\n",
            "\n",
            "Epoch 204: train loss: 0.026922010056929124\n",
            "valid loss: 0.022015671078573728\n",
            "1  iterations since best score.\n",
            "\n",
            "Epoch 205: train loss: 0.026903756320553102\n",
            "valid loss: 0.02198348467116107\n",
            "New best score: 0.02198348467116107\n",
            "\n",
            "Epoch 206: train loss: 0.02689421239525372\n",
            "valid loss: 0.022006114137923864\n",
            "1  iterations since best score.\n",
            "\n",
            "Epoch 207: train loss: 0.026882294551415963\n",
            "valid loss: 0.021993866724934166\n",
            "2  iterations since best score.\n",
            "\n",
            "Epoch 208: train loss: 0.026868062793013656\n",
            "valid loss: 0.02199216871293353\n",
            "3  iterations since best score.\n",
            "Early stopping\n"
          ]
        }
      ],
      "source": [
        "def training_loop(model,training_generator,valid_generator,optimizer,criterion,max_epochs=100,apply_early_stopping=True,patience=2,verbose=False):\n",
        "    #Setting the model in training mode\n",
        "    model.train()\n",
        "\n",
        "    if apply_early_stopping:\n",
        "        early_stopping = EarlyStopping(verbose=verbose,patience=patience)\n",
        "\n",
        "    all_train_losses = []\n",
        "    all_valid_losses = []\n",
        "\n",
        "    #Training loop\n",
        "    start_time=time.time()\n",
        "    for epoch in range(max_epochs):\n",
        "        model.train()\n",
        "        train_loss=[]\n",
        "        for x_batch, y_batch in training_generator:\n",
        "            optimizer.zero_grad()\n",
        "            y_pred = model(x_batch)\n",
        "            loss = criterion(y_pred.squeeze(), y_batch)\n",
        "            loss.backward()\n",
        "            optimizer.step()\n",
        "            train_loss.append(loss.item())\n",
        "\n",
        "        #showing last training loss after each epoch\n",
        "        all_train_losses.append(np.mean(train_loss))\n",
        "        if verbose:\n",
        "            print('')\n",
        "            print('Epoch {}: train loss: {}'.format(epoch, np.mean(train_loss)))\n",
        "        #evaluating the model on the test set after each epoch\n",
        "        valid_loss = evaluate_model(model,valid_generator,criterion)\n",
        "        all_valid_losses.append(valid_loss)\n",
        "        if verbose:\n",
        "            print('valid loss: {}'.format(valid_loss))\n",
        "        if apply_early_stopping:\n",
        "            if not early_stopping.continue_training(valid_loss):\n",
        "                if verbose:\n",
        "                    print(\"Early stopping\")\n",
        "                break\n",
        "\n",
        "    training_execution_time=time.time()-start_time\n",
        "    return model,training_execution_time,all_train_losses,all_valid_losses\n",
        "\n",
        "model,training_execution_time,train_losses,valid_losses = training_loop(model,training_generator,valid_generator,optimizer,criterion,max_epochs=500,verbose=True)"
      ]
    },
    {
      "cell_type": "markdown",
      "metadata": {
        "id": "AhqhMuMlSicI"
      },
      "source": [
        "After 251 epochs, the model stops learning because the validation performance has not improved for three iterations. Here the optimal model (from epoch 248) is not saved, but this could be implemented by simply adding `torch.save(model.state_dict(), checkpoint_path)` in the `EarlyStopping` class whenever a new best performance is reached. This allows reloading the saved best checkpoint at the end of the training."
      ]
    },
    {
      "cell_type": "markdown",
      "metadata": {
        "id": "DNugDLPwSicI"
      },
      "source": [
        "Now that a clean optimization process is defined, one can consider several solutions to speed up and improve convergence towards a decent extremum. The most natural way to do so is to play with the optimizer hyperparameters like the learning rate and the batch size. With a large learning rate, gradient descent is fast at the beginning, but then the optimizer struggles to find the minimum. Adaptive learning rate techniques like Adam/RMSProp take into account the steepness by normalizing the learning rate with respect to the gradient norm. Below are the formulas to update on a model parameter $w_t$ with Adam.\n",
        "\n",
        "$w_{t+1} = w_t - \\frac{\\eta}{\\sqrt{\\hat{v_t}+\\epsilon}}*\\hat{m_t}$\n",
        "\n",
        "Where:\n",
        "\n",
        "$m_t = \\beta_1 * m_{t-1} + (1-\\beta_1)*\\nabla w_t$\n",
        "\n",
        "$v_t = \\beta_2 * v_{t-1} + (1-\\beta_2)*(\\nabla w_t)^2$\n",
        "\n",
        "$\\hat{m_t}=\\frac{m_t}{1-\\beta_1^t}$\n",
        "\n",
        "$\\hat{v_t}=\\frac{v_t}{1-\\beta_2^t}$\n",
        "\n",
        "The difference with SGD is that here the learning rate is normalized using the \"gradient norm\" ($\\approx \\hat{m_t}$). To be more precise, the approach does not use the \"raw\" gradient $\\nabla w_t$ and gradient norm $\\nabla w_t^2$ but a momentum instead (convex combination between previous values and the current value), respectively $m_t$ and $v_t$. It also applies a decay over the iterations.\n",
        "\n",
        "Let us try Adam with an initial learning rate of `0.0005` to see the difference with regular SGD."
      ]
    },
    {
      "cell_type": "code",
      "execution_count": 53,
      "metadata": {
        "tags": [
          "output_scroll"
        ],
        "id": "9inzC56jSicI",
        "outputId": "37ab09e1-bb0f-4fe3-ff67-4811df69b4e7",
        "colab": {
          "base_uri": "https://localhost:8080/"
        }
      },
      "outputs": [
        {
          "output_type": "stream",
          "name": "stdout",
          "text": [
            "\n",
            "Epoch 0: train loss: 0.045495370538935535\n",
            "valid loss: 0.022971050018098592\n",
            "New best score: 0.022971050018098592\n",
            "\n",
            "Epoch 1: train loss: 0.026674150609247473\n",
            "valid loss: 0.020753495119349225\n",
            "New best score: 0.020753495119349225\n",
            "\n",
            "Epoch 2: train loss: 0.02477499451127658\n",
            "valid loss: 0.022122189264408634\n",
            "1  iterations since best score.\n",
            "\n",
            "Epoch 3: train loss: 0.02355040361368886\n",
            "valid loss: 0.02112830041874648\n",
            "2  iterations since best score.\n",
            "\n",
            "Epoch 4: train loss: 0.022702796821194002\n",
            "valid loss: 0.01978730317879509\n",
            "New best score: 0.01978730317879509\n",
            "\n",
            "Epoch 5: train loss: 0.02225682409322174\n",
            "valid loss: 0.01910372360563669\n",
            "New best score: 0.01910372360563669\n",
            "\n",
            "Epoch 6: train loss: 0.021778294260134605\n",
            "valid loss: 0.01924192796937124\n",
            "1  iterations since best score.\n",
            "\n",
            "Epoch 7: train loss: 0.021255699840546132\n",
            "valid loss: 0.019380429043953658\n",
            "2  iterations since best score.\n",
            "\n",
            "Epoch 8: train loss: 0.02083573192119844\n",
            "valid loss: 0.018438691152208815\n",
            "New best score: 0.018438691152208815\n",
            "\n",
            "Epoch 9: train loss: 0.02057301892997362\n",
            "valid loss: 0.018180071177022136\n",
            "New best score: 0.018180071177022136\n",
            "\n",
            "Epoch 10: train loss: 0.020247667301005468\n",
            "valid loss: 0.018369392440476216\n",
            "1  iterations since best score.\n",
            "\n",
            "Epoch 11: train loss: 0.02004031152445529\n",
            "valid loss: 0.018196322509377708\n",
            "2  iterations since best score.\n",
            "\n",
            "Epoch 12: train loss: 0.019745986094879944\n",
            "valid loss: 0.017979884831568156\n",
            "New best score: 0.017979884831568156\n",
            "\n",
            "Epoch 13: train loss: 0.019670367725376024\n",
            "valid loss: 0.01951571260884282\n",
            "1  iterations since best score.\n",
            "\n",
            "Epoch 14: train loss: 0.019153474772495464\n",
            "valid loss: 0.018597503629248446\n",
            "2  iterations since best score.\n",
            "\n",
            "Epoch 15: train loss: 0.01906213701309113\n",
            "valid loss: 0.017772788600232757\n",
            "New best score: 0.017772788600232757\n",
            "\n",
            "Epoch 16: train loss: 0.018802311354010486\n",
            "valid loss: 0.0195568013394282\n",
            "1  iterations since best score.\n",
            "\n",
            "Epoch 17: train loss: 0.01862305010872382\n",
            "valid loss: 0.0173271153255778\n",
            "New best score: 0.0173271153255778\n",
            "\n",
            "Epoch 18: train loss: 0.018448272077802988\n",
            "valid loss: 0.018657902345096927\n",
            "1  iterations since best score.\n",
            "\n",
            "Epoch 19: train loss: 0.018126611902897584\n",
            "valid loss: 0.017787058021214185\n",
            "2  iterations since best score.\n",
            "\n",
            "Epoch 20: train loss: 0.017930061301420375\n",
            "valid loss: 0.01879254578507144\n",
            "3  iterations since best score.\n",
            "Early stopping\n"
          ]
        }
      ],
      "source": [
        "seed_everything(SEED)\n",
        "model = SimpleFraudMLP(len(input_features), 1000).to(DEVICE)\n",
        "optimizer = torch.optim.Adam(model.parameters(), lr = 0.0005)\n",
        "model,training_execution_time,train_losses_adam,valid_losses_adam = training_loop(model,training_generator,valid_generator,optimizer,criterion,verbose=True)"
      ]
    },
    {
      "cell_type": "code",
      "execution_count": 54,
      "metadata": {
        "id": "RkMPVQpHSicI",
        "outputId": "af945192-5be7-427b-de8a-501a8e0ec0cf",
        "colab": {
          "base_uri": "https://localhost:8080/",
          "height": 490
        }
      },
      "outputs": [
        {
          "output_type": "execute_result",
          "data": {
            "text/plain": [
              "(0.01, 0.06)"
            ]
          },
          "metadata": {},
          "execution_count": 54
        },
        {
          "output_type": "display_data",
          "data": {
            "text/plain": [
              "<Figure size 640x480 with 2 Axes>"
            ],
            "image/png": "[encoded data removed]"
          },
          "metadata": {}
        }
      ],
      "source": [
        "plt.subplot(1, 2, 1)\n",
        "plt.plot(np.arange(len(train_losses))+1, train_losses)\n",
        "plt.plot(np.arange(len(valid_losses))+1, valid_losses)\n",
        "plt.title(\"SGD\")\n",
        "plt.xlabel('epoch')\n",
        "plt.ylabel('loss')\n",
        "plt.legend(['train','valid'])\n",
        "plt.ylim([0.01,0.06])\n",
        "\n",
        "plt.subplot(1, 2, 2)\n",
        "plt.plot(np.arange(len(train_losses_adam))+1, train_losses_adam)\n",
        "plt.plot(np.arange(len(valid_losses_adam))+1, valid_losses_adam)\n",
        "plt.title(\"ADAM\")\n",
        "plt.xlabel('epoch')\n",
        "plt.ylabel('loss')\n",
        "plt.legend(['train','valid'])\n",
        "plt.ylim([0.01,0.06])\n"
      ]
    },
    {
      "cell_type": "markdown",
      "metadata": {
        "id": "Tf1oq801SicI"
      },
      "source": [
        "The optimization is much faster with Adam (10 times fewer epochs) and it reaches a better optimum. Of course, increasing patience or changing the learning rate with SGD would probably help improve both speed and optimum. Nevertheless, Adam will be retained for the rest of the chapter as it usually allows very decent performance **without significant tuning**. To build the final neural network later, the tuning will mostly be made using batch size and initial learning rate."
      ]
    },
    {
      "cell_type": "markdown",
      "metadata": {
        "id": "OuYc4ruRSicI"
      },
      "source": [
        "Here are only mentioned the optimizer's choice and some hyperparameters tuning for the optimization process. But keep in mind that neural network optimization is a very wide and active area of research/engineering. For instance, with Deep Networks, one can apply batch normalization after each layer to standardize the distribution and speed up convergence. One can also reduce the learning rate when validation loss reaches a plateau (`torch.optim.ReduceLROnPlateau`). For a full guide on Deep Learning optimization, we recommend {cite}`ruder2016overview,le2011optimization`."
      ]
    },
    {
      "cell_type": "markdown",
      "metadata": {
        "id": "4zL1pyEQSicI"
      },
      "source": [
        "## Regularization"
      ]
    },
    {
      "cell_type": "markdown",
      "metadata": {
        "id": "nDIax3jtSicJ"
      },
      "source": [
        "A classical way to improve generalization and reach a better validation performance is to regularize the model. Roughly speaking, regularization consists in limiting the model expressiveness in order to reduce overfitting.\n",
        "\n",
        "The most common technique to regularize a machine learning model is to restrict its parameter space, for instance, its norm, by adding a term in the optimization problem. Additionally, to minimize the discrepancy between ground truth and prediction, integrating an L1 norm (resp. L2 norm) term in the loss will entail parameter sparsity (resp. will limit parameters amplitude). The initial solution space is generally full of equivalent solutions (e.g. with linear activations, dividing all input weights of a neuron by 2 and multiplying all of its output weights by 2 leads to an equivalent model), so the restrictions entailed by regularization not only limits overfitting but also reduces the search and can help with optimization. Finally, selecting a solution with minimal norm follows the principle of \"All things being equal, the simplest solution tends to be the best one\", a scientific principle often referred to as the [Occam's razor](https://en.wikipedia.org/wiki/Occam's_razor).\n",
        "\n",
        "In contrast to adding loss terms, there is a regularization technique specifically designed for Neural Networks called dropout. Dropout consists in randomly dropping some neurons from the network at each training step. More precisely, one fixes a dropout parameter p∈[0,1], and, for each mini-batch, for each neuron, performs a coin toss (Bernoulli) with probability p. If positive, one temporarily sets the neuron's weights to zero (so that the dropped neuron is not considered during the forward and backward passes). It is equivalent to training a random sub-network at each mini-batch (Figure 5), and it can be proven that this has an L2-regularization effect on specific architectures {cite}`srivastava2014dropout`.\n",
        "\n",
        "![alt text](https://github.com/Fraud-Detection-Handbook/fraud-detection-handbook/blob/main/Chapter_7_DeepLearning/images/dropout.png?raw=1)\n",
        "Image source: {cite}`srivastava2014dropout`\n",
        "\n",
        "To implement it, let us define a new model with an additional `torch.nn.Dropout` layer."
      ]
    },
    {
      "cell_type": "code",
      "execution_count": 55,
      "metadata": {
        "id": "maNg1f14SicJ"
      },
      "outputs": [],
      "source": [
        "class SimpleFraudMLPWithDropout(torch.nn.Module):\n",
        "\n",
        "        def __init__(self, input_size, hidden_size,p):\n",
        "            super(SimpleFraudMLPWithDropout, self).__init__()\n",
        "            # parameters\n",
        "            self.input_size = input_size\n",
        "            self.hidden_size  = hidden_size\n",
        "            self.p = p\n",
        "\n",
        "            #input to hidden\n",
        "            self.fc1 = torch.nn.Linear(self.input_size, self.hidden_size)\n",
        "            self.relu = torch.nn.ReLU()\n",
        "            #hidden to output\n",
        "            self.fc2 = torch.nn.Linear(self.hidden_size, 1)\n",
        "            self.sigmoid = torch.nn.Sigmoid()\n",
        "\n",
        "            self.dropout = torch.nn.Dropout(self.p)\n",
        "\n",
        "        def forward(self, x):\n",
        "\n",
        "            hidden = self.fc1(x)\n",
        "            hidden = self.relu(hidden)\n",
        "\n",
        "            hidden = self.dropout(hidden)\n",
        "\n",
        "            output = self.fc2(hidden)\n",
        "            output = self.sigmoid(output)\n",
        "\n",
        "            return output"
      ]
    },
    {
      "cell_type": "markdown",
      "metadata": {
        "id": "iRwp1Kl7SicJ"
      },
      "source": [
        "Note that setting the model in training/evaluation mode with the methods `model.eval()` and `model.train()` take all its significance here. In particular, the dropout layer in the forward pass is only applied when the model is in training mode."
      ]
    },
    {
      "cell_type": "code",
      "execution_count": 56,
      "metadata": {
        "id": "o_dQBgQsSicJ"
      },
      "outputs": [],
      "source": [
        "seed_everything(SEED)\n",
        "model = SimpleFraudMLPWithDropout(len(input_features), 1000,0.2).to(DEVICE)\n",
        "optimizer = torch.optim.Adam(model.parameters(), lr = 0.0005)\n",
        "model,training_execution_time,train_losses_dropout,valid_losses_dropout = training_loop(model,training_generator,valid_generator,optimizer,criterion,verbose=False)"
      ]
    },
    {
      "cell_type": "code",
      "execution_count": 57,
      "metadata": {
        "id": "fLfVVM85SicJ",
        "outputId": "f4677a3c-0471-48a9-d14d-6a618c168fdb",
        "colab": {
          "base_uri": "https://localhost:8080/",
          "height": 490
        }
      },
      "outputs": [
        {
          "output_type": "execute_result",
          "data": {
            "text/plain": [
              "<matplotlib.legend.Legend at 0x7c3b07a5a720>"
            ]
          },
          "metadata": {},
          "execution_count": 57
        },
        {
          "output_type": "display_data",
          "data": {
            "text/plain": [
              "<Figure size 640x480 with 1 Axes>"
            ],
            "image/png": "[encoded data removed]"
          },
          "metadata": {}
        }
      ],
      "source": [
        "plt.plot(np.arange(len(train_losses_adam))+1, train_losses_adam)\n",
        "plt.plot(np.arange(len(valid_losses_adam))+1, valid_losses_adam)\n",
        "plt.plot(np.arange(len(train_losses_dropout))+1, train_losses_dropout)\n",
        "plt.plot(np.arange(len(valid_losses_dropout))+1, valid_losses_dropout)\n",
        "plt.title(\"Dropout effect\")\n",
        "plt.xlabel('epoch')\n",
        "plt.ylabel('loss')\n",
        "plt.legend(['train w/o dropout','valid w/o dropout','train w/ dropout','valid w/ dropout'])"
      ]
    },
    {
      "cell_type": "markdown",
      "metadata": {
        "id": "rerDJ70tSicJ"
      },
      "source": [
        "It is generally reported that a small dropout value can lead to better generalization results than no dropout, but it can sometimes be the opposite if the training data are very rich, if the training distribution is close to the valid/test distribution, and if the model is already not too expressive. So, the best practice is to consider dropout as a hyperparameter (that could be set to 0) and tune it with a hyperparameter search.\n",
        "\n",
        "In addition to the L2-regularization effect, dropout can be seen as a very powerful mechanism that mimics ensembling strategies like bagging (the model can be seen as an ensemble of submodels trained on different subsets of data) {cite}`goodfellow2016deep`."
      ]
    },
    {
      "cell_type": "markdown",
      "metadata": {
        "id": "xKUikWyaSicJ"
      },
      "source": [
        "## Scaling the inputs"
      ]
    },
    {
      "cell_type": "markdown",
      "metadata": {
        "id": "yvD-FyccSicK"
      },
      "source": [
        "XGBoost and random forests learn splits on single features and therefore are robust to the scale and distribution of the values. On the contrary, in a neural network, each neuron of the first layer learns a linear combination of all the features. Therefore, it is easier to train the neurons when all features have the same range and are normally distributed. The first property can be easily implemented by applying min-max or standard scaling on the features. As for the second property, it depends on the original distribution of the features. Some of them are not normally distributed and have non-linear scales (e.g. amount): increasing the amount by 5 dollars should not have the same effect if the starting point is 5 dollars or if the starting point is 100 dollars. It turns out that applying the log function on such features can make their distribution slightly more normal which makes it easier for feed-forward neural networks to learn from them."
      ]
    },
    {
      "cell_type": "code",
      "execution_count": 58,
      "metadata": {
        "id": "e-kO3hRgSicK"
      },
      "outputs": [],
      "source": [
        "(train_df, valid_df)=get_train_test_set(transactions_df,start_date_training_with_valid,\n",
        "                                       delta_train=delta_train,delta_delay=delta_delay,delta_test=delta_test)"
      ]
    },
    {
      "cell_type": "markdown",
      "metadata": {
        "id": "8gCdnmDNSicK"
      },
      "source": [
        "For instance here is how the original amounts look like:"
      ]
    },
    {
      "cell_type": "code",
      "execution_count": 59,
      "metadata": {
        "id": "Pb8SomyASicK",
        "outputId": "65733f17-e72d-4a56-a834-a12562476749",
        "colab": {
          "base_uri": "https://localhost:8080/",
          "height": 430
        }
      },
      "outputs": [
        {
          "output_type": "display_data",
          "data": {
            "text/plain": [
              "<Figure size 640x480 with 1 Axes>"
            ],
            "image/png": "[encoded data removed]"
          },
          "metadata": {}
        }
      ],
      "source": [
        "_ = plt.hist(train_df['TX_AMOUNT'].values,bins=20)"
      ]
    },
    {
      "cell_type": "markdown",
      "metadata": {
        "id": "gQJ08dL3SicK"
      },
      "source": [
        "And now let us apply the log function to it. To obtain a positive log for the feature that is in [0,+∞[, an idea is to add 1 and then apply the log function (which is equivalent to applying the `log1p` function in `numpy`). This leads to a preprocessed feature that belongs to [0,+∞[ and it can then be standardized. Here is how the amounts are distributed after all these steps:"
      ]
    },
    {
      "cell_type": "code",
      "execution_count": 60,
      "metadata": {
        "id": "QHbXczHmSicK",
        "outputId": "9ba4e134-cf28-4912-808a-c72eff3a7117",
        "colab": {
          "base_uri": "https://localhost:8080/",
          "height": 430
        }
      },
      "outputs": [
        {
          "output_type": "display_data",
          "data": {
            "text/plain": [
              "<Figure size 640x480 with 1 Axes>"
            ],
            "image/png": "[encoded data removed]"
          },
          "metadata": {}
        }
      ],
      "source": [
        "_ = plt.hist(sklearn.preprocessing.StandardScaler().fit_transform(np.log1p(train_df['TX_AMOUNT'].values).reshape(-1, 1)),bins=20)"
      ]
    },
    {
      "cell_type": "markdown",
      "metadata": {
        "id": "xRaDOs5hSicK"
      },
      "source": [
        "Note that here, our artificial data were generated with Gaussians so the `np.log1p` is not very useful in practice. But keep in mind that on real-world data, the original scale of features like amount is far from normally distributed and this operation turns out to be quite often useful.\n",
        "\n",
        "Let us forget about the log for now and just analyze the impact of scaling the features on our Neural Network's training. More precisely, let us see the difference between no scaling at all and standard scaling. A smaller learning rate of `0.0001` will be chosen here for the experiment without scaling to avoid divergence."
      ]
    },
    {
      "cell_type": "code",
      "execution_count": 61,
      "metadata": {
        "id": "wZjO7JZBSicK"
      },
      "outputs": [],
      "source": [
        "#we did not call the function scaleData this time\n",
        "seed_everything(SEED)\n",
        "training_generator,valid_generator = prepare_generators(train_df,valid_df,batch_size=64)\n",
        "\n",
        "model = SimpleFraudMLPWithDropout(len(input_features), 1000,0.2).to(DEVICE)\n",
        "optimizer = torch.optim.Adam(model.parameters(), lr = 0.0001)\n",
        "model,training_execution_time,train_losses_without_scaling,valid_losses_without_scaling = training_loop(model,training_generator,valid_generator,optimizer,criterion,verbose=False)"
      ]
    },
    {
      "cell_type": "code",
      "execution_count": 62,
      "metadata": {
        "id": "dfKfkV3rSicL",
        "outputId": "ce74bac0-cc52-4ca8-c992-183ad1804bf6",
        "colab": {
          "base_uri": "https://localhost:8080/",
          "height": 490
        }
      },
      "outputs": [
        {
          "output_type": "execute_result",
          "data": {
            "text/plain": [
              "<matplotlib.legend.Legend at 0x7c3b07b99040>"
            ]
          },
          "metadata": {},
          "execution_count": 62
        },
        {
          "output_type": "display_data",
          "data": {
            "text/plain": [
              "<Figure size 640x480 with 1 Axes>"
            ],
            "image/png": "[encoded data removed]"
          },
          "metadata": {}
        }
      ],
      "source": [
        "plt.plot(np.arange(len(train_losses_without_scaling))+1, train_losses_without_scaling)\n",
        "plt.plot(np.arange(len(valid_losses_without_scaling))+1, valid_losses_without_scaling)\n",
        "plt.plot(np.arange(len(train_losses_dropout))+1, train_losses_dropout)\n",
        "plt.plot(np.arange(len(valid_losses_dropout))+1, valid_losses_dropout)\n",
        "plt.title('Scaling effect')\n",
        "plt.xlabel('epoch')\n",
        "plt.ylabel('loss')\n",
        "plt.legend(['train w/o scaling','valid w/o scaling','train w/ scaling','valid w/ scaling'])"
      ]
    },
    {
      "cell_type": "markdown",
      "metadata": {
        "id": "9OV4-WPMSicL"
      },
      "source": [
        "The train/valid losses are smoother and reach much better levels faster when the data is normalized with standard scaling."
      ]
    },
    {
      "cell_type": "code",
      "execution_count": 63,
      "metadata": {
        "id": "Qd6ageOgSicL"
      },
      "outputs": [],
      "source": [
        "# Let us rescale data for the next parts\n",
        "(train_df, valid_df)=scaleData(train_df, valid_df,input_features)"
      ]
    },
    {
      "cell_type": "markdown",
      "metadata": {
        "id": "Cggfe-3tSicL"
      },
      "source": [
        "## Embeddings"
      ]
    },
    {
      "cell_type": "markdown",
      "metadata": {
        "id": "lXHNmLr9SicL"
      },
      "source": [
        "Properly taking into account categorical variables is maybe one of the main advantages of neural networks. In the first chapters, [feature transformation techniques](Baseline_Feature_Transformation) were applied to categorical features like day, Customer ID, Terminal ID, in order to make them binary or to extract numerical features from them.\n",
        "\n",
        "In real-world data, categorical features are frequent (Country, Merchant Type, hour, type of payment, ...). But most machine learning algorithms require features to be numerical. Take the example of linear regression: it is basically a weighted sum of the features' values. For numerical features, it makes sense to consider that their impact is proportional to their value (e.g. the smaller the delay between two transactions, the higher the fraud risk), but it does not make sense for a nominal feature like a Country that can take the values \"USA\", \"France\", \"Belgium\". For the latter, a transformation is necessary. The most common choices are:\n",
        "\n",
        "* One-hot encoding: a binary feature is defined for each modality (e.g. \"country_is_USA\", \"country_is_France\" and \"country_is_Belgium\").\n",
        "* Frequency-based encoding: The frequency (or another statistic) of each modality is computed and the index of the modality is replaced with the value of the statistic.\n",
        "* Label-correlation encoding: It is close to frequency encoding but here a statistic correlated with the label is computed. For instance, each modality can be replaced with its proportion of fraud in the training data.\n",
        "\n",
        "With neural networks, one can make use of embedding layers to encode categorical variables. More precisely, the idea is to let the neural network itself learn a representation of each modality of the categorical variable in a continuous vector space of dimension k, chosen by the practitioner. These representations can be learned end-to-end to make the feed-forward network optimal for the fraud detection task. They can also be learned with a different objective like predicting the sequences of countries visited by cardholders (unsupervised pre-training) and then later used for fraud detection, either with a neural network classifier or any other classifier (XGBoost, random forest, etc.).\n",
        "\n",
        "![Embedding layer illustration](https://github.com/Fraud-Detection-Handbook/fraud-detection-handbook/blob/main/Chapter_7_DeepLearning/images/embedding.png?raw=1)\n",
        "\n",
        "Note that learning an embedding of dimension $k$ for a categorical feature is computationally equivalent to learning a classical fully connected layer that takes as input the one-hot encoding of the feature and outputs $k$ neurons.\n",
        "\n",
        "To test embedding layers, let us try to add extra categorical inputs in $x$ and let the model learn embedding for them. Our last neural network was trained on the following features:"
      ]
    },
    {
      "cell_type": "code",
      "execution_count": 64,
      "metadata": {
        "id": "-2LX_1ieSicL",
        "outputId": "07dd4c37-e327-4902-d9a0-455cc1da792d",
        "colab": {
          "base_uri": "https://localhost:8080/"
        }
      },
      "outputs": [
        {
          "output_type": "execute_result",
          "data": {
            "text/plain": [
              "['TX_AMOUNT',\n",
              " 'TX_DURING_WEEKEND',\n",
              " 'TX_DURING_NIGHT',\n",
              " 'CUSTOMER_ID_NB_TX_1DAY_WINDOW',\n",
              " 'CUSTOMER_ID_AVG_AMOUNT_1DAY_WINDOW',\n",
              " 'CUSTOMER_ID_NB_TX_7DAY_WINDOW',\n",
              " 'CUSTOMER_ID_AVG_AMOUNT_7DAY_WINDOW',\n",
              " 'CUSTOMER_ID_NB_TX_30DAY_WINDOW',\n",
              " 'CUSTOMER_ID_AVG_AMOUNT_30DAY_WINDOW',\n",
              " 'TERMINAL_ID_NB_TX_1DAY_WINDOW',\n",
              " 'TERMINAL_ID_RISK_1DAY_WINDOW',\n",
              " 'TERMINAL_ID_NB_TX_7DAY_WINDOW',\n",
              " 'TERMINAL_ID_RISK_7DAY_WINDOW',\n",
              " 'TERMINAL_ID_NB_TX_30DAY_WINDOW',\n",
              " 'TERMINAL_ID_RISK_30DAY_WINDOW']"
            ]
          },
          "metadata": {},
          "execution_count": 64
        }
      ],
      "source": [
        "input_features"
      ]
    },
    {
      "cell_type": "markdown",
      "metadata": {
        "id": "BTqdVtkkSicL"
      },
      "source": [
        "Let us add, for example, the raw terminal id and the day of the week as categorical input features:"
      ]
    },
    {
      "cell_type": "code",
      "execution_count": 65,
      "metadata": {
        "id": "lv49mULQSicL"
      },
      "outputs": [],
      "source": [
        "def weekday(tx_datetime):\n",
        "\n",
        "    # Transform date into weekday (0 is Monday, 6 is Sunday)\n",
        "    weekday = tx_datetime.weekday()\n",
        "\n",
        "    return int(weekday)"
      ]
    },
    {
      "cell_type": "code",
      "execution_count": 66,
      "metadata": {
        "id": "mHjmUlAtSicL"
      },
      "outputs": [],
      "source": [
        "train_df['TX_WEEKDAY'] = train_df.TX_DATETIME.apply(weekday)\n",
        "valid_df['TX_WEEKDAY'] = valid_df.TX_DATETIME.apply(weekday)\n",
        "input_categorical_features = ['TX_WEEKDAY','TERMINAL_ID']\n"
      ]
    },
    {
      "cell_type": "markdown",
      "metadata": {
        "id": "-Xjpf1JKSicM"
      },
      "source": [
        "Let us now define a new neural network model with two embedding layers. `TX_WEEKDAY` and `TERMINAL_ID` will both go through one of them, and each will be turned into a vector. Then they will be concatenated with the numerical features and the whole will go through a network similar to our previous architecture."
      ]
    },
    {
      "cell_type": "code",
      "execution_count": 67,
      "metadata": {
        "id": "tG6FCScESicM"
      },
      "outputs": [],
      "source": [
        "class FraudMLPWithEmbedding(torch.nn.Module):\n",
        "\n",
        "        def __init__(self, categorical_inputs_modalities,numerical_inputs_size,embedding_sizes, hidden_size,p):\n",
        "            super(FraudMLPWithEmbedding, self).__init__()\n",
        "            # parameters\n",
        "            self.categorical_inputs_modalities = categorical_inputs_modalities\n",
        "            self.numerical_inputs_size = numerical_inputs_size\n",
        "            self.embedding_sizes = embedding_sizes\n",
        "            self.hidden_size  = hidden_size\n",
        "            self.p = p\n",
        "\n",
        "            assert len(categorical_inputs_modalities)==len(embedding_sizes), 'categorical_inputs_modalities and embedding_sizes must have the same length'\n",
        "\n",
        "            #embedding layers\n",
        "            self.emb = []\n",
        "            for i in range(len(categorical_inputs_modalities)):\n",
        "                self.emb.append(torch.nn.Embedding(int(categorical_inputs_modalities[i]), int(embedding_sizes[i])).to(DEVICE))\n",
        "\n",
        "\n",
        "            #contenated inputs to hidden\n",
        "            self.fc1 = torch.nn.Linear(self.numerical_inputs_size+int(np.sum(embedding_sizes)), self.hidden_size)\n",
        "            self.relu = torch.nn.ReLU()\n",
        "            #hidden to output\n",
        "            self.fc2 = torch.nn.Linear(self.hidden_size, 1)\n",
        "            self.sigmoid = torch.nn.Sigmoid()\n",
        "\n",
        "            self.dropout = torch.nn.Dropout(self.p)\n",
        "\n",
        "        def forward(self, x):\n",
        "            #we assume that x start with numerical features then categorical features\n",
        "            inputs = [x[:,:self.numerical_inputs_size]]\n",
        "            for i in range(len(self.categorical_inputs_modalities)):\n",
        "                inputs.append(self.emb[i](x[:,self.numerical_inputs_size+i].to(torch.int64)))\n",
        "\n",
        "            x = torch.cat(inputs,axis=1)\n",
        "\n",
        "\n",
        "            hidden = self.fc1(x)\n",
        "            hidden = self.relu(hidden)\n",
        "\n",
        "            hidden = self.dropout(hidden)\n",
        "\n",
        "            output = self.fc2(hidden)\n",
        "            output = self.sigmoid(output)\n",
        "\n",
        "            return output"
      ]
    },
    {
      "cell_type": "code",
      "execution_count": 68,
      "metadata": {
        "id": "VnTEC1MaSicM"
      },
      "outputs": [],
      "source": [
        "def prepare_generators_with_categorical_features(train_df,valid_df,input_categorical_features,batch_size=64):\n",
        "    x_train = torch.FloatTensor(train_df[input_features].values)\n",
        "    x_valid = torch.FloatTensor(valid_df[input_features].values)\n",
        "    y_train = torch.FloatTensor(train_df[output_feature].values)\n",
        "    y_valid = torch.FloatTensor(valid_df[output_feature].values)\n",
        "\n",
        "    #categorical variables : encoding valid according to train\n",
        "    encoder = sklearn.preprocessing.OrdinalEncoder(handle_unknown='use_encoded_value',unknown_value=-1)\n",
        "    x_train_cat = encoder.fit_transform(train_df[input_categorical_features].values) + 1\n",
        "    categorical_inputs_modalities = np.max(x_train_cat,axis=0)+1\n",
        "\n",
        "    x_train_cat = torch.IntTensor(x_train_cat)\n",
        "    x_valid_cat = torch.IntTensor(encoder.transform(valid_df[input_categorical_features].values) + 1)\n",
        "\n",
        "    x_train = torch.cat([x_train,x_train_cat],axis=1)\n",
        "    x_valid = torch.cat([x_valid,x_valid_cat],axis=1)\n",
        "\n",
        "    train_loader_params = {'batch_size': batch_size,\n",
        "              'shuffle': True,\n",
        "              'num_workers': 0}\n",
        "    valid_loader_params = {'batch_size': batch_size,\n",
        "              'num_workers': 0}\n",
        "\n",
        "    # Generators\n",
        "    training_set = FraudDataset(x_train, y_train)\n",
        "    valid_set = FraudDataset(x_valid, y_valid)\n",
        "\n",
        "    training_generator = torch.utils.data.DataLoader(training_set, **train_loader_params)\n",
        "    valid_generator = torch.utils.data.DataLoader(valid_set, **valid_loader_params)\n",
        "\n",
        "    return training_generator,valid_generator, categorical_inputs_modalities"
      ]
    },
    {
      "cell_type": "markdown",
      "metadata": {
        "id": "Q6XMnWJ-SicM"
      },
      "source": [
        "Now let us train this new model with an embedding dimension of 10 for each categorical feature."
      ]
    },
    {
      "cell_type": "code",
      "execution_count": 69,
      "metadata": {
        "id": "TYmT4kpNSicM"
      },
      "outputs": [],
      "source": [
        "seed_everything(SEED)\n",
        "training_generator,valid_generator,categorical_inputs_modalities = prepare_generators_with_categorical_features(train_df,valid_df,input_categorical_features,batch_size=64)\n",
        "\n",
        "embedding_sizes = [10]*len(categorical_inputs_modalities)\n",
        "\n",
        "model = FraudMLPWithEmbedding(categorical_inputs_modalities,len(input_features),embedding_sizes, 1000,0.2).to(DEVICE)\n",
        "optimizer = torch.optim.Adam(model.parameters(), lr = 0.0001)\n",
        "model,training_execution_time,train_losses_embedding,valid_losses_embedding = training_loop(model,training_generator,valid_generator,optimizer,criterion,verbose=False)"
      ]
    },
    {
      "cell_type": "code",
      "execution_count": 70,
      "metadata": {
        "id": "lqQBme-7SicM",
        "outputId": "89a5aebe-5c74-4bc6-a141-9d798e6eadba",
        "colab": {
          "base_uri": "https://localhost:8080/",
          "height": 490
        }
      },
      "outputs": [
        {
          "output_type": "execute_result",
          "data": {
            "text/plain": [
              "<matplotlib.legend.Legend at 0x7c3b079c2f30>"
            ]
          },
          "metadata": {},
          "execution_count": 70
        },
        {
          "output_type": "display_data",
          "data": {
            "text/plain": [
              "<Figure size 640x480 with 1 Axes>"
            ],
            "image/png": "[encoded data removed]"
          },
          "metadata": {}
        }
      ],
      "source": [
        "plt.plot(np.arange(len(train_losses_embedding))+1, train_losses_embedding)\n",
        "plt.plot(np.arange(len(valid_losses_embedding))+1, valid_losses_embedding)\n",
        "plt.plot(np.arange(len(train_losses_dropout))+1, train_losses_dropout)\n",
        "plt.plot(np.arange(len(valid_losses_dropout))+1, valid_losses_dropout)\n",
        "plt.title('Use of categorical features')\n",
        "plt.xlabel('epoch')\n",
        "plt.ylabel('loss')\n",
        "plt.legend(['train w/ cat','valid w/ cat','train w/o cat','valid w/o cat'])"
      ]
    },
    {
      "cell_type": "markdown",
      "metadata": {
        "id": "fA94TZLrSicM"
      },
      "source": [
        "The performance here is not necessarily better with the categorical features (they do not add value compared to the engineered features, at least for the fraud patterns in our categorical data). This implementation is shown for educational purposes. Keep in mind that embedding layers are often a valuable solution in practice when training with a lot of data because it is a step forward in automation (instead of expert feature engineering, one can leave the representation choice to the model).\n",
        "\n",
        "Embedding can also be interesting for interpretability. Indeed, at the end of training, one can extract `model.emb[i].weight`. Each row of this matrix represents the embedding vector of a given modality for the `i-th` categorical feature. This can be used to compute similarities between modalities. One can also reduce these vectors' dimensionality with TSNE or PCA and visualize all modalities on a 2D plane."
      ]
    },
    {
      "cell_type": "markdown",
      "metadata": {
        "id": "HWId7tz5SicM"
      },
      "source": [
        "## Ensemble"
      ]
    },
    {
      "cell_type": "markdown",
      "metadata": {
        "id": "l3d90U4iSicM"
      },
      "source": [
        "To go further and improve the results, ensembling is a common strategy with neural networks in general and for fraud detection.\n",
        "\n",
        "The idea is to simply train the architecture several times and average the predictions of all the obtained models at inference {cite}`zhou2021ensemble`. Layer initialization and the random batch order are generally enough to ensure diversity between each submodel and make the ensemble better than each individual. To go further, one can also train each individual on a different train/valid split {cite}`breiman1996bagging`.\n",
        "\n",
        "Ensembling is also very useful for fraud detection, in particular, because of concept drift. Indeed, in fraud detection, the fraudsters' techniques are varied and change over time. A single model can struggle to both learn and remember all the different patterns for the target class. In this context, it is expected that an ensemble of models, efficiently built, can cope with the issue. The intuition is that the different components of the ensemble can be specialized for different tasks. For example, a component could be specialized for the recent patterns and another for the old patterns {cite}`lebichot2021incremental`. Similarly, a component could be specialized for the easiest and generic fraudsters’ strategies and another for advanced concepts."
      ]
    },
    {
      "cell_type": "markdown",
      "metadata": {
        "id": "ccerBs1lSicM"
      },
      "source": [
        "(Model_Selection_FFNN)=\n",
        "## Prequential grid search"
      ]
    },
    {
      "cell_type": "markdown",
      "metadata": {
        "id": "xaGAo7J9SicN"
      },
      "source": [
        "The above sections have shown many design choices for the neural network. Let us now follow the prequential methodology from Chapter 5 and perform a grid search to see the impact of some hyperparameters on the performance and be able to compare the results with other baselines from previous chapters.\n",
        "\n",
        "Let us consider the following ranges:\n",
        "* Batch size : [64,128,256]\n",
        "* Initial learning rate: [0.0001, 0.0002, 0.001]\n",
        "* Dropout rate : [0, 0.2, 0.4]\n",
        "* Hidden layer dimension : [500]\n",
        "* Number of hidden layers : [1,2]\n",
        "\n",
        "To use the same procedure as in previous chapters (with GridSearchCV), we have to make the neural network compatible with `sklearn` functions. We will resort to the library `skorch`, which provides an `sklearn` wrapper for `PyTorch` modules. Also, early stopping won't be used, but instead the number of epochs ([10,20,40]) will be another parameter to search."
      ]
    },
    {
      "cell_type": "code",
      "execution_count": 71,
      "metadata": {
        "tags": [
          "hide-output"
        ],
        "id": "PQvFcLxhSicN",
        "outputId": "4575bae2-2863-4e33-c3c0-82307a12b9be",
        "colab": {
          "base_uri": "https://localhost:8080/"
        }
      },
      "outputs": [
        {
          "output_type": "stream",
          "name": "stdout",
          "text": [
            "Collecting skorch\n",
            "  Downloading skorch-1.2.0-py3-none-any.whl.metadata (11 kB)\n",
            "Requirement already satisfied: numpy>=1.13.3 in /usr/local/lib/python3.12/dist-packages (from skorch) (2.0.2)\n",
            "Requirement already satisfied: scikit-learn>=0.22.0 in /usr/local/lib/python3.12/dist-packages (from skorch) (1.6.1)\n",
            "Requirement already satisfied: scipy>=1.1.0 in /usr/local/lib/python3.12/dist-packages (from skorch) (1.16.1)\n",
            "Requirement already satisfied: tabulate>=0.7.7 in /usr/local/lib/python3.12/dist-packages (from skorch) (0.9.0)\n",
            "Requirement already satisfied: tqdm>=4.14.0 in /usr/local/lib/python3.12/dist-packages (from skorch) (4.67.1)\n",
            "Requirement already satisfied: joblib>=1.2.0 in /usr/local/lib/python3.12/dist-packages (from scikit-learn>=0.22.0->skorch) (1.5.2)\n",
            "Requirement already satisfied: threadpoolctl>=3.1.0 in /usr/local/lib/python3.12/dist-packages (from scikit-learn>=0.22.0->skorch) (3.6.0)\n",
            "Downloading skorch-1.2.0-py3-none-any.whl (263 kB)\n",
            "\u001b[2K   \u001b[90m━━━━━━━━━━━━━━━━━━━━━━━━━━━━━━━━━━━━━━━━\u001b[0m \u001b[32m263.1/263.1 kB\u001b[0m \u001b[31m7.0 MB/s\u001b[0m eta \u001b[36m0:00:00\u001b[0m\n",
            "\u001b[?25hInstalling collected packages: skorch\n",
            "Successfully installed skorch-1.2.0\n"
          ]
        }
      ],
      "source": [
        "!pip install skorch"
      ]
    },
    {
      "cell_type": "code",
      "execution_count": 72,
      "metadata": {
        "id": "q2zK0fpzSicN"
      },
      "outputs": [],
      "source": [
        "from skorch import NeuralNetClassifier"
      ]
    },
    {
      "cell_type": "markdown",
      "metadata": {
        "id": "LqksR7bgSicN"
      },
      "source": [
        "In order to make this work, several aspects of our previous Python classes have to be adapted. First, `sklearn`'s classifiers have two output probabilities (one for each class) that are complementary. Therefore, the output of `fc2` has to be changed to 2, and the activation to `softmax` (similar to the sigmoid activation but with a global normalization). Second, the dataset has to expect arrays instead of tensors, so the conversion will be done within the dataset."
      ]
    },
    {
      "cell_type": "code",
      "execution_count": 73,
      "metadata": {
        "id": "PlT7lIrdSicN"
      },
      "outputs": [],
      "source": [
        "class FraudMLP(torch.nn.Module):\n",
        "\n",
        "        def __init__(self, hidden_size=100,num_layers=1,p=0, input_size=len(input_features)):\n",
        "            super(FraudMLP, self).__init__()\n",
        "            # parameters\n",
        "            self.input_size = input_size\n",
        "            self.hidden_size  = hidden_size\n",
        "            self.p = p\n",
        "\n",
        "            #input to hidden\n",
        "            self.fc1 = torch.nn.Linear(self.input_size, self.hidden_size)\n",
        "            self.relu = torch.nn.ReLU()\n",
        "\n",
        "            self.fc_hidden=[]\n",
        "            for i in range(num_layers-1):\n",
        "                self.fc_hidden.append(torch.nn.Linear(self.hidden_size, self.hidden_size))\n",
        "                self.fc_hidden.append(torch.nn.ReLU())\n",
        "\n",
        "            #hidden to output\n",
        "            self.fc2 = torch.nn.Linear(self.hidden_size, 2)\n",
        "            self.softmax = torch.nn.Softmax()\n",
        "\n",
        "            self.dropout = torch.nn.Dropout(self.p)\n",
        "\n",
        "        def forward(self, x):\n",
        "\n",
        "            hidden = self.fc1(x)\n",
        "            hidden = self.relu(hidden)\n",
        "            hidden = self.dropout(hidden)\n",
        "\n",
        "            for layer in self.fc_hidden:\n",
        "                hidden=layer(hidden)\n",
        "                hidden = self.dropout(hidden)\n",
        "\n",
        "            output = self.fc2(hidden)\n",
        "            output = self.softmax(output)\n",
        "\n",
        "            return output"
      ]
    },
    {
      "cell_type": "code",
      "execution_count": 74,
      "metadata": {
        "id": "WzFYbcHpSicN"
      },
      "outputs": [],
      "source": [
        "class FraudDatasetForPipe(torch.utils.data.Dataset):\n",
        "\n",
        "    def __init__(self, x, y):\n",
        "        'Initialization'\n",
        "        self.x = torch.FloatTensor(x)\n",
        "        self.y = None\n",
        "        if y is not None:\n",
        "            self.y = torch.LongTensor(y.values)\n",
        "\n",
        "\n",
        "    def __len__(self):\n",
        "        'Returns the total number of samples'\n",
        "        return len(self.x)\n",
        "\n",
        "    def __getitem__(self, index):\n",
        "        'Generates one sample of data'\n",
        "        # Select sample index\n",
        "        if self.y is not None:\n",
        "            return self.x[index], self.y[index]\n",
        "        else:\n",
        "            return self.x[index], -1"
      ]
    },
    {
      "cell_type": "markdown",
      "metadata": {
        "id": "ElK7--_eSicN"
      },
      "source": [
        "Now that the module and Dataset are adapted, one can obtain an \"sklearn-like\" model using the `NeuralNetClassifier` wrapper from `skorch`. Note that we can set the device directly as a parameter in that class."
      ]
    },
    {
      "cell_type": "code",
      "execution_count": 75,
      "metadata": {
        "id": "OgBcsu1GSicN",
        "outputId": "c52c3f41-c667-45ff-b163-2fcf79713cd3",
        "colab": {
          "base_uri": "https://localhost:8080/",
          "height": 115
        }
      },
      "outputs": [
        {
          "output_type": "execute_result",
          "data": {
            "text/plain": [
              "<class 'skorch.classifier.NeuralNetClassifier'>[uninitialized](\n",
              "  module=<class '__main__.FraudMLP'>,\n",
              ")"
            ],
            "text/html": [
              "<style>#sk-container-id-1 {\n",
              "  /* Definition of color scheme common for light and dark mode */\n",
              "  --sklearn-color-text: #000;\n",
              "  --sklearn-color-text-muted: #666;\n",
              "  --sklearn-color-line: gray;\n",
              "  /* Definition of color scheme for unfitted estimators */\n",
              "  --sklearn-color-unfitted-level-0: #fff5e6;\n",
              "  --sklearn-color-unfitted-level-1: #f6e4d2;\n",
              "  --sklearn-color-unfitted-level-2: #ffe0b3;\n",
              "  --sklearn-color-unfitted-level-3: chocolate;\n",
              "  /* Definition of color scheme for fitted estimators */\n",
              "  --sklearn-color-fitted-level-0: #f0f8ff;\n",
              "  --sklearn-color-fitted-level-1: #d4ebff;\n",
              "  --sklearn-color-fitted-level-2: #b3dbfd;\n",
              "  --sklearn-color-fitted-level-3: cornflowerblue;\n",
              "\n",
              "  /* Specific color for light theme */\n",
              "  --sklearn-color-text-on-default-background: var(--sg-text-color, var(--theme-code-foreground, var(--jp-content-font-color1, black)));\n",
              "  --sklearn-color-background: var(--sg-background-color, var(--theme-background, var(--jp-layout-color0, white)));\n",
              "  --sklearn-color-border-box: var(--sg-text-color, var(--theme-code-foreground, var(--jp-content-font-color1, black)));\n",
              "  --sklearn-color-icon: #696969;\n",
              "\n",
              "  @media (prefers-color-scheme: dark) {\n",
              "    /* Redefinition of color scheme for dark theme */\n",
              "    --sklearn-color-text-on-default-background: var(--sg-text-color, var(--theme-code-foreground, var(--jp-content-font-color1, white)));\n",
              "    --sklearn-color-background: var(--sg-background-color, var(--theme-background, var(--jp-layout-color0, #111)));\n",
              "    --sklearn-color-border-box: var(--sg-text-color, var(--theme-code-foreground, var(--jp-content-font-color1, white)));\n",
              "    --sklearn-color-icon: #878787;\n",
              "  }\n",
              "}\n",
              "\n",
              "#sk-container-id-1 {\n",
              "  color: var(--sklearn-color-text);\n",
              "}\n",
              "\n",
              "#sk-container-id-1 pre {\n",
              "  padding: 0;\n",
              "}\n",
              "\n",
              "#sk-container-id-1 input.sk-hidden--visually {\n",
              "  border: 0;\n",
              "  clip: rect(1px 1px 1px 1px);\n",
              "  clip: rect(1px, 1px, 1px, 1px);\n",
              "  height: 1px;\n",
              "  margin: -1px;\n",
              "  overflow: hidden;\n",
              "  padding: 0;\n",
              "  position: absolute;\n",
              "  width: 1px;\n",
              "}\n",
              "\n",
              "#sk-container-id-1 div.sk-dashed-wrapped {\n",
              "  border: 1px dashed var(--sklearn-color-line);\n",
              "  margin: 0 0.4em 0.5em 0.4em;\n",
              "  box-sizing: border-box;\n",
              "  padding-bottom: 0.4em;\n",
              "  background-color: var(--sklearn-color-background);\n",
              "}\n",
              "\n",
              "#sk-container-id-1 div.sk-container {\n",
              "  /* jupyter's `normalize.less` sets `[hidden] { display: none; }`\n",
              "     but bootstrap.min.css set `[hidden] { display: none !important; }`\n",
              "     so we also need the `!important` here to be able to override the\n",
              "     default hidden behavior on the sphinx rendered scikit-learn.org.\n",
              "     See: https://github.com/scikit-learn/scikit-learn/issues/21755 */\n",
              "  display: inline-block !important;\n",
              "  position: relative;\n",
              "}\n",
              "\n",
              "#sk-container-id-1 div.sk-text-repr-fallback {\n",
              "  display: none;\n",
              "}\n",
              "\n",
              "div.sk-parallel-item,\n",
              "div.sk-serial,\n",
              "div.sk-item {\n",
              "  /* draw centered vertical line to link estimators */\n",
              "  background-image: linear-gradient(var(--sklearn-color-text-on-default-background), var(--sklearn-color-text-on-default-background));\n",
              "  background-size: 2px 100%;\n",
              "  background-repeat: no-repeat;\n",
              "  background-position: center center;\n",
              "}\n",
              "\n",
              "/* Parallel-specific style estimator block */\n",
              "\n",
              "#sk-container-id-1 div.sk-parallel-item::after {\n",
              "  content: \"\";\n",
              "  width: 100%;\n",
              "  border-bottom: 2px solid var(--sklearn-color-text-on-default-background);\n",
              "  flex-grow: 1;\n",
              "}\n",
              "\n",
              "#sk-container-id-1 div.sk-parallel {\n",
              "  display: flex;\n",
              "  align-items: stretch;\n",
              "  justify-content: center;\n",
              "  background-color: var(--sklearn-color-background);\n",
              "  position: relative;\n",
              "}\n",
              "\n",
              "#sk-container-id-1 div.sk-parallel-item {\n",
              "  display: flex;\n",
              "  flex-direction: column;\n",
              "}\n",
              "\n",
              "#sk-container-id-1 div.sk-parallel-item:first-child::after {\n",
              "  align-self: flex-end;\n",
              "  width: 50%;\n",
              "}\n",
              "\n",
              "#sk-container-id-1 div.sk-parallel-item:last-child::after {\n",
              "  align-self: flex-start;\n",
              "  width: 50%;\n",
              "}\n",
              "\n",
              "#sk-container-id-1 div.sk-parallel-item:only-child::after {\n",
              "  width: 0;\n",
              "}\n",
              "\n",
              "/* Serial-specific style estimator block */\n",
              "\n",
              "#sk-container-id-1 div.sk-serial {\n",
              "  display: flex;\n",
              "  flex-direction: column;\n",
              "  align-items: center;\n",
              "  background-color: var(--sklearn-color-background);\n",
              "  padding-right: 1em;\n",
              "  padding-left: 1em;\n",
              "}\n",
              "\n",
              "\n",
              "/* Toggleable style: style used for estimator/Pipeline/ColumnTransformer box that is\n",
              "clickable and can be expanded/collapsed.\n",
              "- Pipeline and ColumnTransformer use this feature and define the default style\n",
              "- Estimators will overwrite some part of the style using the `sk-estimator` class\n",
              "*/\n",
              "\n",
              "/* Pipeline and ColumnTransformer style (default) */\n",
              "\n",
              "#sk-container-id-1 div.sk-toggleable {\n",
              "  /* Default theme specific background. It is overwritten whether we have a\n",
              "  specific estimator or a Pipeline/ColumnTransformer */\n",
              "  background-color: var(--sklearn-color-background);\n",
              "}\n",
              "\n",
              "/* Toggleable label */\n",
              "#sk-container-id-1 label.sk-toggleable__label {\n",
              "  cursor: pointer;\n",
              "  display: flex;\n",
              "  width: 100%;\n",
              "  margin-bottom: 0;\n",
              "  padding: 0.5em;\n",
              "  box-sizing: border-box;\n",
              "  text-align: center;\n",
              "  align-items: start;\n",
              "  justify-content: space-between;\n",
              "  gap: 0.5em;\n",
              "}\n",
              "\n",
              "#sk-container-id-1 label.sk-toggleable__label .caption {\n",
              "  font-size: 0.6rem;\n",
              "  font-weight: lighter;\n",
              "  color: var(--sklearn-color-text-muted);\n",
              "}\n",
              "\n",
              "#sk-container-id-1 label.sk-toggleable__label-arrow:before {\n",
              "  /* Arrow on the left of the label */\n",
              "  content: \"▸\";\n",
              "  float: left;\n",
              "  margin-right: 0.25em;\n",
              "  color: var(--sklearn-color-icon);\n",
              "}\n",
              "\n",
              "#sk-container-id-1 label.sk-toggleable__label-arrow:hover:before {\n",
              "  color: var(--sklearn-color-text);\n",
              "}\n",
              "\n",
              "/* Toggleable content - dropdown */\n",
              "\n",
              "#sk-container-id-1 div.sk-toggleable__content {\n",
              "  max-height: 0;\n",
              "  max-width: 0;\n",
              "  overflow: hidden;\n",
              "  text-align: left;\n",
              "  /* unfitted */\n",
              "  background-color: var(--sklearn-color-unfitted-level-0);\n",
              "}\n",
              "\n",
              "#sk-container-id-1 div.sk-toggleable__content.fitted {\n",
              "  /* fitted */\n",
              "  background-color: var(--sklearn-color-fitted-level-0);\n",
              "}\n",
              "\n",
              "#sk-container-id-1 div.sk-toggleable__content pre {\n",
              "  margin: 0.2em;\n",
              "  border-radius: 0.25em;\n",
              "  color: var(--sklearn-color-text);\n",
              "  /* unfitted */\n",
              "  background-color: var(--sklearn-color-unfitted-level-0);\n",
              "}\n",
              "\n",
              "#sk-container-id-1 div.sk-toggleable__content.fitted pre {\n",
              "  /* unfitted */\n",
              "  background-color: var(--sklearn-color-fitted-level-0);\n",
              "}\n",
              "\n",
              "#sk-container-id-1 input.sk-toggleable__control:checked~div.sk-toggleable__content {\n",
              "  /* Expand drop-down */\n",
              "  max-height: 200px;\n",
              "  max-width: 100%;\n",
              "  overflow: auto;\n",
              "}\n",
              "\n",
              "#sk-container-id-1 input.sk-toggleable__control:checked~label.sk-toggleable__label-arrow:before {\n",
              "  content: \"▾\";\n",
              "}\n",
              "\n",
              "/* Pipeline/ColumnTransformer-specific style */\n",
              "\n",
              "#sk-container-id-1 div.sk-label input.sk-toggleable__control:checked~label.sk-toggleable__label {\n",
              "  color: var(--sklearn-color-text);\n",
              "  background-color: var(--sklearn-color-unfitted-level-2);\n",
              "}\n",
              "\n",
              "#sk-container-id-1 div.sk-label.fitted input.sk-toggleable__control:checked~label.sk-toggleable__label {\n",
              "  background-color: var(--sklearn-color-fitted-level-2);\n",
              "}\n",
              "\n",
              "/* Estimator-specific style */\n",
              "\n",
              "/* Colorize estimator box */\n",
              "#sk-container-id-1 div.sk-estimator input.sk-toggleable__control:checked~label.sk-toggleable__label {\n",
              "  /* unfitted */\n",
              "  background-color: var(--sklearn-color-unfitted-level-2);\n",
              "}\n",
              "\n",
              "#sk-container-id-1 div.sk-estimator.fitted input.sk-toggleable__control:checked~label.sk-toggleable__label {\n",
              "  /* fitted */\n",
              "  background-color: var(--sklearn-color-fitted-level-2);\n",
              "}\n",
              "\n",
              "#sk-container-id-1 div.sk-label label.sk-toggleable__label,\n",
              "#sk-container-id-1 div.sk-label label {\n",
              "  /* The background is the default theme color */\n",
              "  color: var(--sklearn-color-text-on-default-background);\n",
              "}\n",
              "\n",
              "/* On hover, darken the color of the background */\n",
              "#sk-container-id-1 div.sk-label:hover label.sk-toggleable__label {\n",
              "  color: var(--sklearn-color-text);\n",
              "  background-color: var(--sklearn-color-unfitted-level-2);\n",
              "}\n",
              "\n",
              "/* Label box, darken color on hover, fitted */\n",
              "#sk-container-id-1 div.sk-label.fitted:hover label.sk-toggleable__label.fitted {\n",
              "  color: var(--sklearn-color-text);\n",
              "  background-color: var(--sklearn-color-fitted-level-2);\n",
              "}\n",
              "\n",
              "/* Estimator label */\n",
              "\n",
              "#sk-container-id-1 div.sk-label label {\n",
              "  font-family: monospace;\n",
              "  font-weight: bold;\n",
              "  display: inline-block;\n",
              "  line-height: 1.2em;\n",
              "}\n",
              "\n",
              "#sk-container-id-1 div.sk-label-container {\n",
              "  text-align: center;\n",
              "}\n",
              "\n",
              "/* Estimator-specific */\n",
              "#sk-container-id-1 div.sk-estimator {\n",
              "  font-family: monospace;\n",
              "  border: 1px dotted var(--sklearn-color-border-box);\n",
              "  border-radius: 0.25em;\n",
              "  box-sizing: border-box;\n",
              "  margin-bottom: 0.5em;\n",
              "  /* unfitted */\n",
              "  background-color: var(--sklearn-color-unfitted-level-0);\n",
              "}\n",
              "\n",
              "#sk-container-id-1 div.sk-estimator.fitted {\n",
              "  /* fitted */\n",
              "  background-color: var(--sklearn-color-fitted-level-0);\n",
              "}\n",
              "\n",
              "/* on hover */\n",
              "#sk-container-id-1 div.sk-estimator:hover {\n",
              "  /* unfitted */\n",
              "  background-color: var(--sklearn-color-unfitted-level-2);\n",
              "}\n",
              "\n",
              "#sk-container-id-1 div.sk-estimator.fitted:hover {\n",
              "  /* fitted */\n",
              "  background-color: var(--sklearn-color-fitted-level-2);\n",
              "}\n",
              "\n",
              "/* Specification for estimator info (e.g. \"i\" and \"?\") */\n",
              "\n",
              "/* Common style for \"i\" and \"?\" */\n",
              "\n",
              ".sk-estimator-doc-link,\n",
              "a:link.sk-estimator-doc-link,\n",
              "a:visited.sk-estimator-doc-link {\n",
              "  float: right;\n",
              "  font-size: smaller;\n",
              "  line-height: 1em;\n",
              "  font-family: monospace;\n",
              "  background-color: var(--sklearn-color-background);\n",
              "  border-radius: 1em;\n",
              "  height: 1em;\n",
              "  width: 1em;\n",
              "  text-decoration: none !important;\n",
              "  margin-left: 0.5em;\n",
              "  text-align: center;\n",
              "  /* unfitted */\n",
              "  border: var(--sklearn-color-unfitted-level-1) 1pt solid;\n",
              "  color: var(--sklearn-color-unfitted-level-1);\n",
              "}\n",
              "\n",
              ".sk-estimator-doc-link.fitted,\n",
              "a:link.sk-estimator-doc-link.fitted,\n",
              "a:visited.sk-estimator-doc-link.fitted {\n",
              "  /* fitted */\n",
              "  border: var(--sklearn-color-fitted-level-1) 1pt solid;\n",
              "  color: var(--sklearn-color-fitted-level-1);\n",
              "}\n",
              "\n",
              "/* On hover */\n",
              "div.sk-estimator:hover .sk-estimator-doc-link:hover,\n",
              ".sk-estimator-doc-link:hover,\n",
              "div.sk-label-container:hover .sk-estimator-doc-link:hover,\n",
              ".sk-estimator-doc-link:hover {\n",
              "  /* unfitted */\n",
              "  background-color: var(--sklearn-color-unfitted-level-3);\n",
              "  color: var(--sklearn-color-background);\n",
              "  text-decoration: none;\n",
              "}\n",
              "\n",
              "div.sk-estimator.fitted:hover .sk-estimator-doc-link.fitted:hover,\n",
              ".sk-estimator-doc-link.fitted:hover,\n",
              "div.sk-label-container:hover .sk-estimator-doc-link.fitted:hover,\n",
              ".sk-estimator-doc-link.fitted:hover {\n",
              "  /* fitted */\n",
              "  background-color: var(--sklearn-color-fitted-level-3);\n",
              "  color: var(--sklearn-color-background);\n",
              "  text-decoration: none;\n",
              "}\n",
              "\n",
              "/* Span, style for the box shown on hovering the info icon */\n",
              ".sk-estimator-doc-link span {\n",
              "  display: none;\n",
              "  z-index: 9999;\n",
              "  position: relative;\n",
              "  font-weight: normal;\n",
              "  right: .2ex;\n",
              "  padding: .5ex;\n",
              "  margin: .5ex;\n",
              "  width: min-content;\n",
              "  min-width: 20ex;\n",
              "  max-width: 50ex;\n",
              "  color: var(--sklearn-color-text);\n",
              "  box-shadow: 2pt 2pt 4pt #999;\n",
              "  /* unfitted */\n",
              "  background: var(--sklearn-color-unfitted-level-0);\n",
              "  border: .5pt solid var(--sklearn-color-unfitted-level-3);\n",
              "}\n",
              "\n",
              ".sk-estimator-doc-link.fitted span {\n",
              "  /* fitted */\n",
              "  background: var(--sklearn-color-fitted-level-0);\n",
              "  border: var(--sklearn-color-fitted-level-3);\n",
              "}\n",
              "\n",
              ".sk-estimator-doc-link:hover span {\n",
              "  display: block;\n",
              "}\n",
              "\n",
              "/* \"?\"-specific style due to the `<a>` HTML tag */\n",
              "\n",
              "#sk-container-id-1 a.estimator_doc_link {\n",
              "  float: right;\n",
              "  font-size: 1rem;\n",
              "  line-height: 1em;\n",
              "  font-family: monospace;\n",
              "  background-color: var(--sklearn-color-background);\n",
              "  border-radius: 1rem;\n",
              "  height: 1rem;\n",
              "  width: 1rem;\n",
              "  text-decoration: none;\n",
              "  /* unfitted */\n",
              "  color: var(--sklearn-color-unfitted-level-1);\n",
              "  border: var(--sklearn-color-unfitted-level-1) 1pt solid;\n",
              "}\n",
              "\n",
              "#sk-container-id-1 a.estimator_doc_link.fitted {\n",
              "  /* fitted */\n",
              "  border: var(--sklearn-color-fitted-level-1) 1pt solid;\n",
              "  color: var(--sklearn-color-fitted-level-1);\n",
              "}\n",
              "\n",
              "/* On hover */\n",
              "#sk-container-id-1 a.estimator_doc_link:hover {\n",
              "  /* unfitted */\n",
              "  background-color: var(--sklearn-color-unfitted-level-3);\n",
              "  color: var(--sklearn-color-background);\n",
              "  text-decoration: none;\n",
              "}\n",
              "\n",
              "#sk-container-id-1 a.estimator_doc_link.fitted:hover {\n",
              "  /* fitted */\n",
              "  background-color: var(--sklearn-color-fitted-level-3);\n",
              "}\n",
              "</style><div id=\"sk-container-id-1\" class=\"sk-top-container\"><div class=\"sk-text-repr-fallback\"><pre>&lt;class &#x27;skorch.classifier.NeuralNetClassifier&#x27;&gt;[uninitialized](\n",
              "  module=&lt;class &#x27;__main__.FraudMLP&#x27;&gt;,\n",
              ")</pre><b>In a Jupyter environment, please rerun this cell to show the HTML representation or trust the notebook. <br />On GitHub, the HTML representation is unable to render, please try loading this page with nbviewer.org.</b></div><div class=\"sk-container\" hidden><div class=\"sk-item\"><div class=\"sk-estimator fitted sk-toggleable\"><input class=\"sk-toggleable__control sk-hidden--visually\" id=\"sk-estimator-id-1\" type=\"checkbox\" checked><label for=\"sk-estimator-id-1\" class=\"sk-toggleable__label fitted sk-toggleable__label-arrow\"><div><div>NeuralNetClassifier</div></div><div><span class=\"sk-estimator-doc-link fitted\">i<span>Fitted</span></span></div></label><div class=\"sk-toggleable__content fitted\"><pre>&lt;class &#x27;skorch.classifier.NeuralNetClassifier&#x27;&gt;[uninitialized](\n",
              "  module=&lt;class &#x27;__main__.FraudMLP&#x27;&gt;,\n",
              ")</pre></div> </div></div></div></div>"
            ]
          },
          "metadata": {},
          "execution_count": 75
        }
      ],
      "source": [
        "net = NeuralNetClassifier(\n",
        "    FraudMLP,\n",
        "    max_epochs=2,\n",
        "    lr=0.001,\n",
        "    optimizer=torch.optim.Adam,\n",
        "    batch_size=64,\n",
        "    dataset=FraudDatasetForPipe,\n",
        "    iterator_train__shuffle=True\n",
        ")\n",
        "net.set_params(train_split=False, verbose=0)"
      ]
    },
    {
      "cell_type": "markdown",
      "metadata": {
        "id": "z4k8CYMDSicO"
      },
      "source": [
        "To test it, let us perform a first small grid search by playing on the number of epochs and number of layers."
      ]
    },
    {
      "cell_type": "code",
      "execution_count": 76,
      "metadata": {
        "id": "--3V8W_ASicO"
      },
      "outputs": [],
      "source": [
        "# Testing the wrapper\n",
        "\n",
        "#X=train_df[input_features].values\n",
        "#y=train_df[output_feature]\n",
        "#\n",
        "#net.fit(X, y)\n",
        "#net.predict_proba(X)"
      ]
    },
    {
      "cell_type": "code",
      "execution_count": 77,
      "metadata": {
        "id": "tSygjW3tSicO"
      },
      "outputs": [],
      "source": [
        "# Only keep columns that are needed as argument to custom scoring function\n",
        "# to reduce serialization time of transaction dataset\n",
        "transactions_df_scorer=transactions_df[['CUSTOMER_ID', 'TX_FRAUD','TX_TIME_DAYS']]\n",
        "\n",
        "# Make scorer using card_precision_top_k_custom\n",
        "card_precision_top_100 = sklearn.metrics.make_scorer(card_precision_top_k_custom,\n",
        "                                                     needs_proba=True,\n",
        "                                                     top_k=100,\n",
        "                                                     transactions_df=transactions_df_scorer)\n",
        "\n",
        "n_folds=4\n",
        "start_date_training_for_valid = start_date_training+datetime.timedelta(days=-(delta_delay+delta_valid))\n",
        "start_date_training_for_test = start_date_training+datetime.timedelta(days=(n_folds-1)*delta_test)\n",
        "delta_assessment = delta_valid"
      ]
    },
    {
      "cell_type": "code",
      "execution_count": 78,
      "metadata": {
        "id": "_RWVTAnESicO",
        "outputId": "94a59f1b-1da2-4fd0-e869-6d841d48d884",
        "colab": {
          "base_uri": "https://localhost:8080/"
        }
      },
      "outputs": [
        {
          "output_type": "stream",
          "name": "stdout",
          "text": [
            "Validation: Total execution time: 538.1s\n"
          ]
        }
      ],
      "source": [
        "seed_everything(SEED)\n",
        "start_time=time.time()\n",
        "\n",
        "parameters = {\n",
        "    'clf__lr': [0.001 ],\n",
        "    'clf__batch_size': [64],\n",
        "    'clf__max_epochs': [10, 20],\n",
        "    'clf__module__hidden_size': [100],\n",
        "    'clf__module__num_layers': [1,2],\n",
        "    'clf__module__p': [0],\n",
        "}\n",
        "\n",
        "scoring = {'roc_auc':'roc_auc',\n",
        "           'average_precision': 'average_precision',\n",
        "           'card_precision@100': card_precision_top_100,\n",
        "           }\n",
        "\n",
        "\n",
        "performance_metrics_list_grid=['roc_auc', 'average_precision', 'card_precision@100']\n",
        "performance_metrics_list=['AUC ROC', 'Average precision', 'Card Precision@100']\n",
        "\n",
        "performances_df_validation=prequential_grid_search(\n",
        "    transactions_df, net,\n",
        "    input_features, output_feature,\n",
        "    parameters, scoring,\n",
        "    start_date_training=start_date_training_with_valid,\n",
        "    n_folds=n_folds,\n",
        "    expe_type='Validation',\n",
        "    delta_train=delta_train,\n",
        "    delta_delay=delta_delay,\n",
        "    delta_assessment=delta_valid,\n",
        "    performance_metrics_list_grid=performance_metrics_list_grid,\n",
        "    performance_metrics_list=performance_metrics_list)\n",
        "\n",
        "print(\"Validation: Total execution time: \"+str(round(time.time()-start_time,2))+\"s\")"
      ]
    },
    {
      "cell_type": "code",
      "execution_count": 79,
      "metadata": {
        "id": "ajULNYbgSicO",
        "outputId": "60e89985-e404-46ca-c155-130f7f009451",
        "colab": {
          "base_uri": "https://localhost:8080/",
          "height": 261
        }
      },
      "outputs": [
        {
          "output_type": "execute_result",
          "data": {
            "text/plain": [
              "   AUC ROC Validation  AUC ROC Validation Std  Average precision Validation  \\\n",
              "0            0.875315                0.008604                      0.671016   \n",
              "1            0.877233                0.014719                      0.668846   \n",
              "2            0.880364                0.010457                      0.683747   \n",
              "3            0.878457                0.009310                      0.680035   \n",
              "\n",
              "   Average precision Validation Std  Card Precision@100 Validation  \\\n",
              "0                          0.008116                            NaN   \n",
              "1                          0.008374                            NaN   \n",
              "2                          0.013804                            NaN   \n",
              "3                          0.008571                            NaN   \n",
              "\n",
              "   Card Precision@100 Validation Std  \\\n",
              "0                                NaN   \n",
              "1                                NaN   \n",
              "2                                NaN   \n",
              "3                                NaN   \n",
              "\n",
              "                                          Parameters  Execution time  \n",
              "0  {'clf__batch_size': 64, 'clf__lr': 0.001, 'clf...       40.651510  \n",
              "1  {'clf__batch_size': 64, 'clf__lr': 0.001, 'clf...       45.872478  \n",
              "2  {'clf__batch_size': 64, 'clf__lr': 0.001, 'clf...       76.455902  \n",
              "3  {'clf__batch_size': 64, 'clf__lr': 0.001, 'clf...       87.443832  "
            ],
            "text/html": [
              "\n",
              "  <div id=\"df-68510d20-ac2e-49d0-aadf-ab5b2027f0b9\" class=\"colab-df-container\">\n",
              "    <div>\n",
              "<style scoped>\n",
              "    .dataframe tbody tr th:only-of-type {\n",
              "        vertical-align: middle;\n",
              "    }\n",
              "\n",
              "    .dataframe tbody tr th {\n",
              "        vertical-align: top;\n",
              "    }\n",
              "\n",
              "    .dataframe thead th {\n",
              "        text-align: right;\n",
              "    }\n",
              "</style>\n",
              "<table border=\"1\" class=\"dataframe\">\n",
              "  <thead>\n",
              "    <tr style=\"text-align: right;\">\n",
              "      <th></th>\n",
              "      <th>AUC ROC Validation</th>\n",
              "      <th>AUC ROC Validation Std</th>\n",
              "      <th>Average precision Validation</th>\n",
              "      <th>Average precision Validation Std</th>\n",
              "      <th>Card Precision@100 Validation</th>\n",
              "      <th>Card Precision@100 Validation Std</th>\n",
              "      <th>Parameters</th>\n",
              "      <th>Execution time</th>\n",
              "    </tr>\n",
              "  </thead>\n",
              "  <tbody>\n",
              "    <tr>\n",
              "      <th>0</th>\n",
              "      <td>0.875315</td>\n",
              "      <td>0.008604</td>\n",
              "      <td>0.671016</td>\n",
              "      <td>0.008116</td>\n",
              "      <td>NaN</td>\n",
              "      <td>NaN</td>\n",
              "      <td>{'clf__batch_size': 64, 'clf__lr': 0.001, 'clf...</td>\n",
              "      <td>40.651510</td>\n",
              "    </tr>\n",
              "    <tr>\n",
              "      <th>1</th>\n",
              "      <td>0.877233</td>\n",
              "      <td>0.014719</td>\n",
              "      <td>0.668846</td>\n",
              "      <td>0.008374</td>\n",
              "      <td>NaN</td>\n",
              "      <td>NaN</td>\n",
              "      <td>{'clf__batch_size': 64, 'clf__lr': 0.001, 'clf...</td>\n",
              "      <td>45.872478</td>\n",
              "    </tr>\n",
              "    <tr>\n",
              "      <th>2</th>\n",
              "      <td>0.880364</td>\n",
              "      <td>0.010457</td>\n",
              "      <td>0.683747</td>\n",
              "      <td>0.013804</td>\n",
              "      <td>NaN</td>\n",
              "      <td>NaN</td>\n",
              "      <td>{'clf__batch_size': 64, 'clf__lr': 0.001, 'clf...</td>\n",
              "      <td>76.455902</td>\n",
              "    </tr>\n",
              "    <tr>\n",
              "      <th>3</th>\n",
              "      <td>0.878457</td>\n",
              "      <td>0.009310</td>\n",
              "      <td>0.680035</td>\n",
              "      <td>0.008571</td>\n",
              "      <td>NaN</td>\n",
              "      <td>NaN</td>\n",
              "      <td>{'clf__batch_size': 64, 'clf__lr': 0.001, 'clf...</td>\n",
              "      <td>87.443832</td>\n",
              "    </tr>\n",
              "  </tbody>\n",
              "</table>\n",
              "</div>\n",
              "    <div class=\"colab-df-buttons\">\n",
              "\n",
              "  <div class=\"colab-df-container\">\n",
              "    <button class=\"colab-df-convert\" onclick=\"convertToInteractive('df-68510d20-ac2e-49d0-aadf-ab5b2027f0b9')\"\n",
              "            title=\"Convert this dataframe to an interactive table.\"\n",
              "            style=\"display:none;\">\n",
              "\n",
              "  <svg xmlns=\"http://www.w3.org/2000/svg\" height=\"24px\" viewBox=\"0 -960 960 960\">\n",
              "    <path d=\"M120-120v-720h720v720H120Zm60-500h600v-160H180v160Zm220 220h160v-160H400v160Zm0 220h160v-160H400v160ZM180-400h160v-160H180v160Zm440 0h160v-160H620v160ZM180-180h160v-160H180v160Zm440 0h160v-160H620v160Z\"/>\n",
              "  </svg>\n",
              "    </button>\n",
              "\n",
              "  <style>\n",
              "    .colab-df-container {\n",
              "      display:flex;\n",
              "      gap: 12px;\n",
              "    }\n",
              "\n",
              "    .colab-df-convert {\n",
              "      background-color: #E8F0FE;\n",
              "      border: none;\n",
              "      border-radius: 50%;\n",
              "      cursor: pointer;\n",
              "      display: none;\n",
              "      fill: #1967D2;\n",
              "      height: 32px;\n",
              "      padding: 0 0 0 0;\n",
              "      width: 32px;\n",
              "    }\n",
              "\n",
              "    .colab-df-convert:hover {\n",
              "      background-color: #E2EBFA;\n",
              "      box-shadow: 0px 1px 2px rgba(60, 64, 67, 0.3), 0px 1px 3px 1px rgba(60, 64, 67, 0.15);\n",
              "      fill: #174EA6;\n",
              "    }\n",
              "\n",
              "    .colab-df-buttons div {\n",
              "      margin-bottom: 4px;\n",
              "    }\n",
              "\n",
              "    [theme=dark] .colab-df-convert {\n",
              "      background-color: #3B4455;\n",
              "      fill: #D2E3FC;\n",
              "    }\n",
              "\n",
              "    [theme=dark] .colab-df-convert:hover {\n",
              "      background-color: #434B5C;\n",
              "      box-shadow: 0px 1px 3px 1px rgba(0, 0, 0, 0.15);\n",
              "      filter: drop-shadow(0px 1px 2px rgba(0, 0, 0, 0.3));\n",
              "      fill: #FFFFFF;\n",
              "    }\n",
              "  </style>\n",
              "\n",
              "    <script>\n",
              "      const buttonEl =\n",
              "        document.querySelector('#df-68510d20-ac2e-49d0-aadf-ab5b2027f0b9 button.colab-df-convert');\n",
              "      buttonEl.style.display =\n",
              "        google.colab.kernel.accessAllowed ? 'block' : 'none';\n",
              "\n",
              "      async function convertToInteractive(key) {\n",
              "        const element = document.querySelector('#df-68510d20-ac2e-49d0-aadf-ab5b2027f0b9');\n",
              "        const dataTable =\n",
              "          await google.colab.kernel.invokeFunction('convertToInteractive',\n",
              "                                                    [key], {});\n",
              "        if (!dataTable) return;\n",
              "\n",
              "        const docLinkHtml = 'Like what you see? Visit the ' +\n",
              "          '<a target=\"_blank\" href=https://colab.research.google.com/notebooks/data_table.ipynb>data table notebook</a>'\n",
              "          + ' to learn more about interactive tables.';\n",
              "        element.innerHTML = '';\n",
              "        dataTable['output_type'] = 'display_data';\n",
              "        await google.colab.output.renderOutput(dataTable, element);\n",
              "        const docLink = document.createElement('div');\n",
              "        docLink.innerHTML = docLinkHtml;\n",
              "        element.appendChild(docLink);\n",
              "      }\n",
              "    </script>\n",
              "  </div>\n",
              "\n",
              "\n",
              "    <div id=\"df-2df110f2-1a58-41be-9d50-bb181c1434bf\">\n",
              "      <button class=\"colab-df-quickchart\" onclick=\"quickchart('df-2df110f2-1a58-41be-9d50-bb181c1434bf')\"\n",
              "                title=\"Suggest charts\"\n",
              "                style=\"display:none;\">\n",
              "\n",
              "<svg xmlns=\"http://www.w3.org/2000/svg\" height=\"24px\"viewBox=\"0 0 24 24\"\n",
              "     width=\"24px\">\n",
              "    <g>\n",
              "        <path d=\"M19 3H5c-1.1 0-2 .9-2 2v14c0 1.1.9 2 2 2h14c1.1 0 2-.9 2-2V5c0-1.1-.9-2-2-2zM9 17H7v-7h2v7zm4 0h-2V7h2v10zm4 0h-2v-4h2v4z\"/>\n",
              "    </g>\n",
              "</svg>\n",
              "      </button>\n",
              "\n",
              "<style>\n",
              "  .colab-df-quickchart {\n",
              "      --bg-color: #E8F0FE;\n",
              "      --fill-color: #1967D2;\n",
              "      --hover-bg-color: #E2EBFA;\n",
              "      --hover-fill-color: #174EA6;\n",
              "      --disabled-fill-color: #AAA;\n",
              "      --disabled-bg-color: #DDD;\n",
              "  }\n",
              "\n",
              "  [theme=dark] .colab-df-quickchart {\n",
              "      --bg-color: #3B4455;\n",
              "      --fill-color: #D2E3FC;\n",
              "      --hover-bg-color: #434B5C;\n",
              "      --hover-fill-color: #FFFFFF;\n",
              "      --disabled-bg-color: #3B4455;\n",
              "      --disabled-fill-color: #666;\n",
              "  }\n",
              "\n",
              "  .colab-df-quickchart {\n",
              "    background-color: var(--bg-color);\n",
              "    border: none;\n",
              "    border-radius: 50%;\n",
              "    cursor: pointer;\n",
              "    display: none;\n",
              "    fill: var(--fill-color);\n",
              "    height: 32px;\n",
              "    padding: 0;\n",
              "    width: 32px;\n",
              "  }\n",
              "\n",
              "  .colab-df-quickchart:hover {\n",
              "    background-color: var(--hover-bg-color);\n",
              "    box-shadow: 0 1px 2px rgba(60, 64, 67, 0.3), 0 1px 3px 1px rgba(60, 64, 67, 0.15);\n",
              "    fill: var(--button-hover-fill-color);\n",
              "  }\n",
              "\n",
              "  .colab-df-quickchart-complete:disabled,\n",
              "  .colab-df-quickchart-complete:disabled:hover {\n",
              "    background-color: var(--disabled-bg-color);\n",
              "    fill: var(--disabled-fill-color);\n",
              "    box-shadow: none;\n",
              "  }\n",
              "\n",
              "  .colab-df-spinner {\n",
              "    border: 2px solid var(--fill-color);\n",
              "    border-color: transparent;\n",
              "    border-bottom-color: var(--fill-color);\n",
              "    animation:\n",
              "      spin 1s steps(1) infinite;\n",
              "  }\n",
              "\n",
              "  @keyframes spin {\n",
              "    0% {\n",
              "      border-color: transparent;\n",
              "      border-bottom-color: var(--fill-color);\n",
              "      border-left-color: var(--fill-color);\n",
              "    }\n",
              "    20% {\n",
              "      border-color: transparent;\n",
              "      border-left-color: var(--fill-color);\n",
              "      border-top-color: var(--fill-color);\n",
              "    }\n",
              "    30% {\n",
              "      border-color: transparent;\n",
              "      border-left-color: var(--fill-color);\n",
              "      border-top-color: var(--fill-color);\n",
              "      border-right-color: var(--fill-color);\n",
              "    }\n",
              "    40% {\n",
              "      border-color: transparent;\n",
              "      border-right-color: var(--fill-color);\n",
              "      border-top-color: var(--fill-color);\n",
              "    }\n",
              "    60% {\n",
              "      border-color: transparent;\n",
              "      border-right-color: var(--fill-color);\n",
              "    }\n",
              "    80% {\n",
              "      border-color: transparent;\n",
              "      border-right-color: var(--fill-color);\n",
              "      border-bottom-color: var(--fill-color);\n",
              "    }\n",
              "    90% {\n",
              "      border-color: transparent;\n",
              "      border-bottom-color: var(--fill-color);\n",
              "    }\n",
              "  }\n",
              "</style>\n",
              "\n",
              "      <script>\n",
              "        async function quickchart(key) {\n",
              "          const quickchartButtonEl =\n",
              "            document.querySelector('#' + key + ' button');\n",
              "          quickchartButtonEl.disabled = true;  // To prevent multiple clicks.\n",
              "          quickchartButtonEl.classList.add('colab-df-spinner');\n",
              "          try {\n",
              "            const charts = await google.colab.kernel.invokeFunction(\n",
              "                'suggestCharts', [key], {});\n",
              "          } catch (error) {\n",
              "            console.error('Error during call to suggestCharts:', error);\n",
              "          }\n",
              "          quickchartButtonEl.classList.remove('colab-df-spinner');\n",
              "          quickchartButtonEl.classList.add('colab-df-quickchart-complete');\n",
              "        }\n",
              "        (() => {\n",
              "          let quickchartButtonEl =\n",
              "            document.querySelector('#df-2df110f2-1a58-41be-9d50-bb181c1434bf button');\n",
              "          quickchartButtonEl.style.display =\n",
              "            google.colab.kernel.accessAllowed ? 'block' : 'none';\n",
              "        })();\n",
              "      </script>\n",
              "    </div>\n",
              "\n",
              "  <div id=\"id_cb32646f-47e7-4b71-b083-c66b8088a03d\">\n",
              "    <style>\n",
              "      .colab-df-generate {\n",
              "        background-color: #E8F0FE;\n",
              "        border: none;\n",
              "        border-radius: 50%;\n",
              "        cursor: pointer;\n",
              "        display: none;\n",
              "        fill: #1967D2;\n",
              "        height: 32px;\n",
              "        padding: 0 0 0 0;\n",
              "        width: 32px;\n",
              "      }\n",
              "\n",
              "      .colab-df-generate:hover {\n",
              "        background-color: #E2EBFA;\n",
              "        box-shadow: 0px 1px 2px rgba(60, 64, 67, 0.3), 0px 1px 3px 1px rgba(60, 64, 67, 0.15);\n",
              "        fill: #174EA6;\n",
              "      }\n",
              "\n",
              "      [theme=dark] .colab-df-generate {\n",
              "        background-color: #3B4455;\n",
              "        fill: #D2E3FC;\n",
              "      }\n",
              "\n",
              "      [theme=dark] .colab-df-generate:hover {\n",
              "        background-color: #434B5C;\n",
              "        box-shadow: 0px 1px 3px 1px rgba(0, 0, 0, 0.15);\n",
              "        filter: drop-shadow(0px 1px 2px rgba(0, 0, 0, 0.3));\n",
              "        fill: #FFFFFF;\n",
              "      }\n",
              "    </style>\n",
              "    <button class=\"colab-df-generate\" onclick=\"generateWithVariable('performances_df_validation')\"\n",
              "            title=\"Generate code using this dataframe.\"\n",
              "            style=\"display:none;\">\n",
              "\n",
              "  <svg xmlns=\"http://www.w3.org/2000/svg\" height=\"24px\"viewBox=\"0 0 24 24\"\n",
              "       width=\"24px\">\n",
              "    <path d=\"M7,19H8.4L18.45,9,17,7.55,7,17.6ZM5,21V16.75L18.45,3.32a2,2,0,0,1,2.83,0l1.4,1.43a1.91,1.91,0,0,1,.58,1.4,1.91,1.91,0,0,1-.58,1.4L9.25,21ZM18.45,9,17,7.55Zm-12,3A5.31,5.31,0,0,0,4.9,8.1,5.31,5.31,0,0,0,1,6.5,5.31,5.31,0,0,0,4.9,4.9,5.31,5.31,0,0,0,6.5,1,5.31,5.31,0,0,0,8.1,4.9,5.31,5.31,0,0,0,12,6.5,5.46,5.46,0,0,0,6.5,12Z\"/>\n",
              "  </svg>\n",
              "    </button>\n",
              "    <script>\n",
              "      (() => {\n",
              "      const buttonEl =\n",
              "        document.querySelector('#id_cb32646f-47e7-4b71-b083-c66b8088a03d button.colab-df-generate');\n",
              "      buttonEl.style.display =\n",
              "        google.colab.kernel.accessAllowed ? 'block' : 'none';\n",
              "\n",
              "      buttonEl.onclick = () => {\n",
              "        google.colab.notebook.generateWithVariable('performances_df_validation');\n",
              "      }\n",
              "      })();\n",
              "    </script>\n",
              "  </div>\n",
              "\n",
              "    </div>\n",
              "  </div>\n"
            ],
            "application/vnd.google.colaboratory.intrinsic+json": {
              "type": "dataframe",
              "variable_name": "performances_df_validation",
              "summary": "{\n  \"name\": \"performances_df_validation\",\n  \"rows\": 4,\n  \"fields\": [\n    {\n      \"column\": \"AUC ROC Validation\",\n      \"properties\": {\n        \"dtype\": \"number\",\n        \"std\": 0.0021209217737878055,\n        \"min\": 0.8753152554053398,\n        \"max\": 0.8803642120376514,\n        \"num_unique_values\": 4,\n        \"samples\": [\n          0.8772327576577217,\n          0.8784566215499341,\n          0.8753152554053398\n        ],\n        \"semantic_type\": \"\",\n        \"description\": \"\"\n      }\n    },\n    {\n      \"column\": \"AUC ROC Validation Std\",\n      \"properties\": {\n        \"dtype\": \"number\",\n        \"std\": 0.002739857992727163,\n        \"min\": 0.008603713981134867,\n        \"max\": 0.0147192391315242,\n        \"num_unique_values\": 4,\n        \"samples\": [\n          0.0147192391315242,\n          0.009309545537852166,\n          0.008603713981134867\n        ],\n        \"semantic_type\": \"\",\n        \"description\": \"\"\n      }\n    },\n    {\n      \"column\": \"Average precision Validation\",\n      \"properties\": {\n        \"dtype\": \"number\",\n        \"std\": 0.007124578577199664,\n        \"min\": 0.6688457789015405,\n        \"max\": 0.6837465415225208,\n        \"num_unique_values\": 4,\n        \"samples\": [\n          0.6688457789015405,\n          0.6800347722943214,\n          0.6710160738692965\n        ],\n        \"semantic_type\": \"\",\n        \"description\": \"\"\n      }\n    },\n    {\n      \"column\": \"Average precision Validation Std\",\n      \"properties\": {\n        \"dtype\": \"number\",\n        \"std\": 0.0027314504340587927,\n        \"min\": 0.00811576124078299,\n        \"max\": 0.013803704130396095,\n        \"num_unique_values\": 4,\n        \"samples\": [\n          0.008374081273577414,\n          0.008570736087767096,\n          0.00811576124078299\n        ],\n        \"semantic_type\": \"\",\n        \"description\": \"\"\n      }\n    },\n    {\n      \"column\": \"Card Precision@100 Validation\",\n      \"properties\": {\n        \"dtype\": \"number\",\n        \"std\": null,\n        \"min\": null,\n        \"max\": null,\n        \"num_unique_values\": 0,\n        \"samples\": [],\n        \"semantic_type\": \"\",\n        \"description\": \"\"\n      }\n    },\n    {\n      \"column\": \"Card Precision@100 Validation Std\",\n      \"properties\": {\n        \"dtype\": \"number\",\n        \"std\": null,\n        \"min\": null,\n        \"max\": null,\n        \"num_unique_values\": 0,\n        \"samples\": [],\n        \"semantic_type\": \"\",\n        \"description\": \"\"\n      }\n    },\n    {\n      \"column\": \"Parameters\",\n      \"properties\": {\n        \"dtype\": \"object\",\n        \"semantic_type\": \"\",\n        \"description\": \"\"\n      }\n    },\n    {\n      \"column\": \"Execution time\",\n      \"properties\": {\n        \"dtype\": \"number\",\n        \"std\": 22.881929705555258,\n        \"min\": 40.6515097618103,\n        \"max\": 87.44383245706558,\n        \"num_unique_values\": 4,\n        \"samples\": [],\n        \"semantic_type\": \"\",\n        \"description\": \"\"\n      }\n    }\n  ]\n}"
            }
          },
          "metadata": {},
          "execution_count": 79
        }
      ],
      "source": [
        "performances_df_validation"
      ]
    },
    {
      "cell_type": "markdown",
      "metadata": {
        "id": "eV7dKazoSicO"
      },
      "source": [
        "Validation seems to be running smoothly and the results already look promising.\n",
        "\n",
        "Let us now perform a proper model selection using the protocol from Chapter 5.3, [](Model_Selection)."
      ]
    },
    {
      "cell_type": "code",
      "execution_count": null,
      "metadata": {
        "id": "2xQ_sCjJSicO"
      },
      "outputs": [],
      "source": [
        "seed_everything(SEED)\n",
        "\n",
        "\n",
        "parameters = {\n",
        "    'clf__lr': [0.001 , 0.0001, 0.0002],\n",
        "    'clf__batch_size': [64,128,256],\n",
        "    'clf__max_epochs': [10,20,40],\n",
        "    'clf__module__hidden_size': [500],\n",
        "    'clf__module__num_layers': [1,2],\n",
        "    'clf__module__p': [0,0.2,0.4],\n",
        "    'clf__module__input_size': [int(len(input_features))],\n",
        "}\n",
        "\n",
        "start_time=time.time()\n",
        "\n",
        "performances_df=model_selection_wrapper(transactions_df, net,\n",
        "                                        input_features, output_feature,\n",
        "                                        parameters, scoring,\n",
        "                                        start_date_training_for_valid,\n",
        "                                        start_date_training_for_test,\n",
        "                                        n_folds=n_folds,\n",
        "                                        delta_train=delta_train,\n",
        "                                        delta_delay=delta_delay,\n",
        "                                        delta_assessment=delta_assessment,\n",
        "                                        performance_metrics_list_grid=performance_metrics_list_grid,\n",
        "                                        performance_metrics_list=performance_metrics_list,\n",
        "                                        n_jobs=10)\n",
        "\n",
        "\n",
        "execution_time_nn = time.time()-start_time\n",
        "\n",
        "parameters_dict=dict(performances_df['Parameters'])\n",
        "performances_df['Parameters summary']=[str(parameters_dict[i]['clf__lr'])+\n",
        "                                   '/'+\n",
        "                                   str(parameters_dict[i]['clf__batch_size'])+\n",
        "                                   '/'+\n",
        "                                   str(parameters_dict[i]['clf__max_epochs'])+\n",
        "                                   '/'+\n",
        "                                   str(parameters_dict[i]['clf__module__p'])+\n",
        "                                   '/'+\n",
        "                                   str(parameters_dict[i]['clf__module__num_layers'])\n",
        "                                   for i in range(len(parameters_dict))]\n",
        "\n",
        "performances_df_nn=performances_df"
      ]
    },
    {
      "cell_type": "code",
      "execution_count": null,
      "metadata": {
        "id": "l_hdUvvQSicO"
      },
      "outputs": [],
      "source": [
        "performances_df_nn"
      ]
    },
    {
      "cell_type": "code",
      "execution_count": null,
      "metadata": {
        "id": "wFEzzm9sSicP"
      },
      "outputs": [],
      "source": [
        "execution_time_nn"
      ]
    },
    {
      "cell_type": "markdown",
      "metadata": {
        "id": "viyMOcz9SicP"
      },
      "source": [
        "Since the number of parameters to tune is large here, and the training (with 20-40 epochs) is rather slow, the execution of the grid-search can take a long time (7350 seconds here). Indeed, it requires training 162 neural networks for each train/valid split of the prequential validation. To speed up the process, it would be beneficial to adopt the random search as suggested at the end of Section 5.3 or to use a hyperparameter tuning method more adapted to neural networks."
      ]
    },
    {
      "cell_type": "code",
      "execution_count": null,
      "metadata": {
        "id": "zkfXYRYQSicP"
      },
      "outputs": [],
      "source": [
        "summary_performances_nn=get_summary_performances(performances_df_nn, parameter_column_name=\"Parameters summary\")\n",
        "summary_performances_nn"
      ]
    },
    {
      "cell_type": "markdown",
      "metadata": {
        "id": "5BQg2rkJSicP"
      },
      "source": [
        "The optimal sets of hyperparameters strongly depend on the metric. The majority slightly favors the largest learning rate `0.001` and 2 hidden layers. Let us consider these values and visualize the impact of the others (batch size, number of epochs, and dropout)."
      ]
    },
    {
      "cell_type": "code",
      "execution_count": null,
      "metadata": {
        "id": "im4byj-pSicP"
      },
      "outputs": [],
      "source": [
        "parameters_dict=dict(performances_df_nn['Parameters'])\n",
        "performances_df_nn['Parameters summary']=[\n",
        "                                   str(parameters_dict[i]['clf__batch_size'])+\n",
        "                                   '/'+\n",
        "                                   str(parameters_dict[i]['clf__max_epochs'])+\n",
        "                                   '/'+\n",
        "                                   str(parameters_dict[i]['clf__module__p'])\n",
        "\n",
        "                                   for i in range(len(parameters_dict))]"
      ]
    },
    {
      "cell_type": "code",
      "execution_count": null,
      "metadata": {
        "id": "7IODklcTSicP"
      },
      "outputs": [],
      "source": [
        "performances_df_nn_subset = performances_df_nn[performances_df_nn['Parameters'].apply(lambda x:x['clf__lr']== 0.001 and x['clf__module__hidden_size']==500 and x['clf__module__num_layers']==2 and x['clf__module__p']==0.2 and x['clf__max_epochs']==20).values]\n",
        "summary_performances_nn_subset=get_summary_performances(performances_df_nn_subset, parameter_column_name=\"Parameters summary\")\n",
        "indexes_summary = summary_performances_nn_subset.index.values\n",
        "indexes_summary[0] = 'Best estimated parameters'\n",
        "summary_performances_nn_subset.rename(index = dict(zip(np.arange(len(indexes_summary)),indexes_summary)))\n",
        "get_performances_plots(performances_df_nn_subset,\n",
        "                       performance_metrics_list=['AUC ROC', 'Average precision', 'Card Precision@100'],\n",
        "                       expe_type_list=['Test','Validation'], expe_type_color_list=['#008000','#FF0000'],\n",
        "                       parameter_name=\"batch size\",\n",
        "                       summary_performances=summary_performances_nn_subset)"
      ]
    },
    {
      "cell_type": "markdown",
      "metadata": {
        "id": "oTOsIpzDSicP"
      },
      "source": [
        "First, if we fix the number of epochs to 20, the dropout level to 0.2, the lower batch size leads to better results for average precision and card precision on the test set, whereas there is a sweet spot according to AUC-ROC. In fact, the optimal batch size is strongly connected to other optimizer parameters. Often, a larger batch size requires a larger number of epochs. To verify that, let us visualize the same plots but with the number of epochs to 40."
      ]
    },
    {
      "cell_type": "code",
      "execution_count": null,
      "metadata": {
        "id": "07nQKH0FSicP"
      },
      "outputs": [],
      "source": [
        "performances_df_nn_subset = performances_df_nn[performances_df_nn['Parameters'].apply(lambda x:x['clf__lr']== 0.001 and x['clf__module__hidden_size']==500 and x['clf__module__num_layers']==2 and x['clf__module__p']==0.2 and x['clf__max_epochs']==40).values]\n",
        "summary_performances_nn_subset=get_summary_performances(performances_df_nn_subset, parameter_column_name=\"Parameters summary\")\n",
        "indexes_summary = summary_performances_nn_subset.index.values\n",
        "indexes_summary[0] = 'Best estimated parameters'\n",
        "summary_performances_nn_subset.rename(index = dict(zip(np.arange(len(indexes_summary)),indexes_summary)))\n",
        "get_performances_plots(performances_df_nn_subset,\n",
        "                       performance_metrics_list=['AUC ROC', 'Average precision', 'Card Precision@100'],\n",
        "                       expe_type_list=['Test','Validation'], expe_type_color_list=['#008000','#FF0000'],\n",
        "                       parameter_name=\"batch size\",\n",
        "                       summary_performances=summary_performances_nn_subset)"
      ]
    },
    {
      "cell_type": "markdown",
      "metadata": {
        "id": "WOYEzGJ7SicP"
      },
      "source": [
        "With this higher number of epochs, the optimal batch size is now globally higher. Let us now do the contrary, i.e. fix the batch size to some value (e.g. 64) and visualize the impact of the number of epochs."
      ]
    },
    {
      "cell_type": "code",
      "execution_count": null,
      "metadata": {
        "id": "nX5J911HSicQ"
      },
      "outputs": [],
      "source": [
        "performances_df_nn_subset = performances_df_nn[performances_df_nn['Parameters'].apply(lambda x:x['clf__lr']== 0.001 and x['clf__module__hidden_size']==500 and x['clf__module__num_layers']==2 and x['clf__module__p']==0.2 and x['clf__batch_size']==64).values]\n",
        "summary_performances_nn_subset=get_summary_performances(performances_df_nn_subset, parameter_column_name=\"Parameters summary\")\n",
        "indexes_summary = summary_performances_nn_subset.index.values\n",
        "indexes_summary[0] = 'Best estimated parameters'\n",
        "summary_performances_nn_subset.rename(index = dict(zip(np.arange(len(indexes_summary)),indexes_summary)))\n",
        "get_performances_plots(performances_df_nn_subset,\n",
        "                       performance_metrics_list=['AUC ROC', 'Average precision', 'Card Precision@100'],\n",
        "                       expe_type_list=['Test','Validation'], expe_type_color_list=['#008000','#FF0000'],\n",
        "                       parameter_name=\"Epochs\",\n",
        "                       summary_performances=summary_performances_nn_subset)"
      ]
    },
    {
      "cell_type": "markdown",
      "metadata": {
        "id": "l0w2ou-6SicQ"
      },
      "source": [
        "The optimal number of epochs also depends on the metric and has a sweet spot strongly connected to the choice of other hyperparameters."
      ]
    },
    {
      "cell_type": "code",
      "execution_count": null,
      "metadata": {
        "id": "ph3e9EreSicQ"
      },
      "outputs": [],
      "source": [
        "performances_df_nn_subset = performances_df_nn[performances_df_nn['Parameters'].apply(lambda x:x['clf__lr']== 0.001 and x['clf__module__hidden_size']==500 and x['clf__module__num_layers']==2 and x['clf__max_epochs']==20 and x['clf__batch_size']==64).values]\n",
        "summary_performances_nn_subset=get_summary_performances(performances_df_nn_subset, parameter_column_name=\"Parameters summary\")\n",
        "indexes_summary = summary_performances_nn_subset.index.values\n",
        "indexes_summary[0] = 'Best estimated parameters'\n",
        "summary_performances_nn_subset.rename(index = dict(zip(np.arange(len(indexes_summary)),indexes_summary)))\n",
        "get_performances_plots(performances_df_nn_subset,\n",
        "                       performance_metrics_list=['AUC ROC', 'Average precision', 'Card Precision@100'],\n",
        "                       expe_type_list=['Test','Validation'], expe_type_color_list=['#008000','#FF0000'],\n",
        "                       parameter_name=\"Dropout\",\n",
        "                       summary_performances=summary_performances_nn_subset)\n",
        "\n",
        "parameters_dict=dict(performances_df_nn['Parameters'])\n",
        "performances_df_nn['Parameters summary']=[str(parameters_dict[i]['clf__lr'])+\n",
        "                                   '/'+\n",
        "                                   str(parameters_dict[i]['clf__batch_size'])+\n",
        "                                   '/'+\n",
        "                                   str(parameters_dict[i]['clf__max_epochs'])+\n",
        "                                   '/'+\n",
        "                                   str(parameters_dict[i]['clf__module__p'])+\n",
        "                                   '/'+\n",
        "                                   str(parameters_dict[i]['clf__module__num_layers'])\n",
        "                                   for i in range(len(parameters_dict))]"
      ]
    },
    {
      "cell_type": "markdown",
      "metadata": {
        "id": "7sZJPw0wSicQ"
      },
      "source": [
        "As for the dropout, it helps generalize and improve the valid/test metrics. However, when the dropout value is too high (0.4), it can deteriorate the results, e.g. by limiting the fitting power or by requiring a larger number of epochs."
      ]
    },
    {
      "cell_type": "markdown",
      "metadata": {
        "id": "tIjiNq06SicQ"
      },
      "source": [
        "## Saving of results\n",
        "\n",
        "Let us save the performance results and execution times of the neural network models in a Python pickle format."
      ]
    },
    {
      "cell_type": "code",
      "execution_count": null,
      "metadata": {
        "id": "BPP-BEQhSicQ"
      },
      "outputs": [],
      "source": [
        "performances_df_dictionary={\n",
        "    \"Neural Network\": performances_df_nn\n",
        "}\n",
        "\n",
        "execution_times=[execution_time_nn]\n",
        "\n",
        "filehandler = open('performances_model_selection_nn.pkl', 'wb')\n",
        "pickle.dump((performances_df_dictionary, execution_times), filehandler)\n",
        "filehandler.close()"
      ]
    },
    {
      "cell_type": "markdown",
      "metadata": {
        "id": "BpP7acd7SicQ"
      },
      "source": [
        "## Benchmark summary\n",
        "\n",
        "Let us finally retrieve the performance results obtained in [Chapter 5](Model_Selection_Comparison_Performances) with decision tree, logistic regression, random forest and XGBoost, and compare them with those obtained with a feed-forward neural network. The results can be retrieved by loading the `performances_model_selection.pkl` and `performances_model_selection_nn.pkl` pickle files, and summarized with the `get_summary_performances` function."
      ]
    },
    {
      "cell_type": "code",
      "execution_count": null,
      "metadata": {
        "tags": [
          "hide-cell"
        ],
        "id": "Y8mf3tBpSicQ"
      },
      "outputs": [],
      "source": [
        "# Load performance results for decision tree, logistic regression, random forest and XGBoost\n",
        "filehandler = open('../Chapter_5_ModelValidationAndSelection/performances_model_selection.pkl', 'rb')\n",
        "(performances_df_dictionary, execution_times) = pickle.load(filehandler)\n",
        "\n",
        "# Load performance results for feed-forward neural network\n",
        "filehandler = open('performances_model_selection_nn.pkl', 'rb')\n",
        "(performances_df_dictionary_nn, execution_times_nn) = pickle.load(filehandler)\n"
      ]
    },
    {
      "cell_type": "code",
      "execution_count": null,
      "metadata": {
        "tags": [
          "hide-cell"
        ],
        "id": "K0bG7e4ySicQ"
      },
      "outputs": [],
      "source": [
        "performances_df_dt=performances_df_dictionary['Decision Tree']\n",
        "summary_performances_dt=get_summary_performances(performances_df_dt, parameter_column_name=\"Parameters summary\")\n",
        "\n",
        "performances_df_lr=performances_df_dictionary['Logistic Regression']\n",
        "summary_performances_lr=get_summary_performances(performances_df_lr, parameter_column_name=\"Parameters summary\")\n",
        "\n",
        "performances_df_rf=performances_df_dictionary['Random Forest']\n",
        "summary_performances_rf=get_summary_performances(performances_df_rf, parameter_column_name=\"Parameters summary\")\n",
        "\n",
        "performances_df_xgboost=performances_df_dictionary['XGBoost']\n",
        "summary_performances_xgboost=get_summary_performances(performances_df_xgboost, parameter_column_name=\"Parameters summary\")\n",
        "\n",
        "performances_df_nn=performances_df_dictionary_nn['Neural Network']\n",
        "summary_performances_nn=get_summary_performances(performances_df_nn, parameter_column_name=\"Parameters summary\")\n",
        "\n",
        "summary_test_performances = pd.concat([summary_performances_dt.iloc[2,:],\n",
        "                                       summary_performances_lr.iloc[2,:],\n",
        "                                       summary_performances_rf.iloc[2,:],\n",
        "                                       summary_performances_xgboost.iloc[2,:],\n",
        "                                       summary_performances_nn.iloc[2,:],\n",
        "                                      ],axis=1)\n",
        "\n",
        "summary_test_performances.columns=['Decision Tree', 'Logistic Regression', 'Random Forest', 'XGBoost', 'Neural Network']\n"
      ]
    },
    {
      "cell_type": "markdown",
      "metadata": {
        "id": "XgImPAWvSicR"
      },
      "source": [
        "The results are summarized in a `summary_test_performances` table. Rows provide the average performance results on the test sets in terms of AUC ROC, Average Precision and CP@100."
      ]
    },
    {
      "cell_type": "code",
      "execution_count": null,
      "metadata": {
        "id": "viUhawIuSicR"
      },
      "outputs": [],
      "source": [
        "summary_test_performances"
      ]
    },
    {
      "cell_type": "markdown",
      "metadata": {
        "id": "dyemij9FSicR"
      },
      "source": [
        "Overall, it appears that our simple feed-forward neural network is a good competitor in terms of predictive performance for the fraud detection problem, providing the best performances in terms of AUC ROC and CP@100, and competitive performances in terms of Average Precision. Moreover, it benefits from many advantages (e.g. its ability for incremental learning), as mentioned in the previous section."
      ]
    },
    {
      "cell_type": "markdown",
      "metadata": {
        "id": "YvYBzZ4_SicR"
      },
      "source": [
        "## Conclusion"
      ]
    },
    {
      "cell_type": "markdown",
      "metadata": {
        "id": "5ZW4Hj2BSicR"
      },
      "source": [
        "This section gave an overview of how to design a feed-forward neural network for fraud detection. Comparatively to classical machine learning models, neural networks have an infinite set of hyperparameters. This modularity in the design has a lot of advantages in terms of expressivity but it comes at the cost of a time-consuming hyper optimization of the architecture, the activations, the loss, the optimizers, the preprocessing, etc. Nevertheless, there are many ways to automate hyper optimization and architecture design, for instance with AutoML including Neural Architecture Search (or NAS) {cite}`elsken2019neural`.\n",
        "\n",
        "Here only the top of the iceberg is covered. There are many other aspects to consider even with such a simple neural network. Many of them can be found in good practice guides and generally also apply to fraud detection. Some are even specific to problems like the latter. An important one is to manage imbalance (refer to Chapter 6 for more details): it can be done with neural networks by replacing binary cross-entropy with a weighted BCE (putting more importance on the loss terms associated with fraud samples) or with focal loss, a variant of cross-entropy specifically designed to automatically focus on under-represented samples. Another way is to implement a custom Dataloader with a [balanced sampler](https://github.com/ufoym/imbalanced-dataset-sampler).\n",
        "\n",
        "The rest of the chapter rather focuses on different types of neural network models like autoencoders or sequential models and the way they can be used in a fraud detection context."
      ]
    },
    {
      "cell_type": "code",
      "execution_count": null,
      "metadata": {
        "id": "hoePDOAbSicR"
      },
      "outputs": [],
      "source": []
    }
  ],
  "metadata": {
    "celltoolbar": "Tags",
    "kernelspec": {
      "display_name": "Python 3 (ipykernel)",
      "language": "python",
      "name": "python3"
    },
    "language_info": {
      "codemirror_mode": {
        "name": "ipython",
        "version": 3
      },
      "file_extension": ".py",
      "mimetype": "text/x-python",
      "name": "python",
      "nbconvert_exporter": "python",
      "pygments_lexer": "ipython3",
      "version": "3.8.10"
    },
    "colab": {
      "provenance": []
    }
  },
  "nbformat": 4,
  "nbformat_minor": 0
}