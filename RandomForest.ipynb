{
  "cells": [
    {
      "cell_type": "markdown",
      "metadata": {
        "id": "view-in-github",
        "colab_type": "text"
      },
      "source": [
        "<a href=\"https://colab.research.google.com/github/iopebiel/machine_learning_fraud_credit_card/blob/randomForest/RandomForest.ipynb\" target=\"_parent\"><img src=\"https://colab.research.google.com/assets/colab-badge.svg\" alt=\"Open In Colab\"/></a>"
      ]
    },
    {
      "cell_type": "code",
      "execution_count": 15,
      "metadata": {
        "colab": {
          "base_uri": "https://localhost:8080/"
        },
        "id": "6u0d7udHDdcH",
        "outputId": "2f80fc9b-40fa-4549-db08-4a20a50b4734"
      },
      "outputs": [
        {
          "output_type": "stream",
          "name": "stdout",
          "text": [
            "Requirement already satisfied: imblearn in /usr/local/lib/python3.11/dist-packages (0.0)\n",
            "Requirement already satisfied: imbalanced-learn in /usr/local/lib/python3.11/dist-packages (from imblearn) (0.13.0)\n",
            "Requirement already satisfied: numpy<3,>=1.24.3 in /usr/local/lib/python3.11/dist-packages (from imbalanced-learn->imblearn) (2.0.2)\n",
            "Requirement already satisfied: scipy<2,>=1.10.1 in /usr/local/lib/python3.11/dist-packages (from imbalanced-learn->imblearn) (1.15.3)\n",
            "Requirement already satisfied: scikit-learn<2,>=1.3.2 in /usr/local/lib/python3.11/dist-packages (from imbalanced-learn->imblearn) (1.6.1)\n",
            "Requirement already satisfied: sklearn-compat<1,>=0.1 in /usr/local/lib/python3.11/dist-packages (from imbalanced-learn->imblearn) (0.1.3)\n",
            "Requirement already satisfied: joblib<2,>=1.1.1 in /usr/local/lib/python3.11/dist-packages (from imbalanced-learn->imblearn) (1.5.1)\n",
            "Requirement already satisfied: threadpoolctl<4,>=2.0.0 in /usr/local/lib/python3.11/dist-packages (from imbalanced-learn->imblearn) (3.6.0)\n"
          ]
        }
      ],
      "source": [
        "!pip install imblearn\n",
        "from sklearn.metrics import roc_auc_score\n",
        "from kagglehub import KaggleDatasetAdapter\n",
        "from sklearn.model_selection import train_test_split\n",
        "from collections import Counter\n",
        "from imblearn.over_sampling import SMOTE\n",
        "from imblearn.under_sampling import EditedNearestNeighbours\n",
        "from cuml.ensemble import RandomForestClassifier as cuRandomForestClassifier\n",
        "from sklearn.ensemble import RandomForestClassifier\n",
        "from sklearn.metrics import classification_report, confusion_matrix, accuracy_score, precision_score, recall_score, f1_score, roc_curve, matthews_corrcoef\n",
        "import pandas as pd\n",
        "import seaborn as sn\n",
        "import kagglehub as kh\n",
        "import matplotlib.pyplot as plt\n",
        "import os"
      ]
    },
    {
      "cell_type": "markdown",
      "metadata": {
        "id": "yM2E3gRVh24N"
      },
      "source": [
        "Download Arquivo CSV no repositório Credit Card Fraud na plataforma Kaggle"
      ]
    },
    {
      "cell_type": "code",
      "execution_count": null,
      "metadata": {
        "colab": {
          "base_uri": "https://localhost:8080/"
        },
        "id": "-b0wCo2O7oFT",
        "outputId": "738efbcb-e6a8-4926-8d98-187fea7f2547"
      },
      "outputs": [
        {
          "output_type": "stream",
          "name": "stdout",
          "text": [
            "Caminho para o Dataset: /kaggle/input/creditcardfraud\n"
          ]
        },
        {
          "output_type": "execute_result",
          "data": {
            "text/plain": [
              "['creditcard.csv']"
            ]
          },
          "metadata": {},
          "execution_count": 2
        }
      ],
      "source": [
        "path = kh.dataset_download(\"mlg-ulb/creditcardfraud\")\n",
        "\n",
        "print(\"Caminho para o Dataset:\", path)\n",
        "os.listdir(path)"
      ]
    },
    {
      "cell_type": "code",
      "execution_count": null,
      "metadata": {
        "colab": {
          "base_uri": "https://localhost:8080/",
          "height": 255
        },
        "id": "jmeNj-g27uhL",
        "outputId": "baa31acd-cc14-4f67-f6bc-ef6c6afe1854"
      },
      "outputs": [
        {
          "output_type": "execute_result",
          "data": {
            "text/plain": [
              "            Time         V1         V2        V3        V4        V5  \\\n",
              "284802  172786.0 -11.881118  10.071785 -9.834783 -2.066656 -5.364473   \n",
              "284803  172787.0  -0.732789  -0.055080  2.035030 -0.738589  0.868229   \n",
              "284804  172788.0   1.919565  -0.301254 -3.249640 -0.557828  2.630515   \n",
              "284805  172788.0  -0.240440   0.530483  0.702510  0.689799 -0.377961   \n",
              "284806  172792.0  -0.533413  -0.189733  0.703337 -0.506271 -0.012546   \n",
              "\n",
              "              V6        V7        V8        V9  ...       V21       V22  \\\n",
              "284802 -2.606837 -4.918215  7.305334  1.914428  ...  0.213454  0.111864   \n",
              "284803  1.058415  0.024330  0.294869  0.584800  ...  0.214205  0.924384   \n",
              "284804  3.031260 -0.296827  0.708417  0.432454  ...  0.232045  0.578229   \n",
              "284805  0.623708 -0.686180  0.679145  0.392087  ...  0.265245  0.800049   \n",
              "284806 -0.649617  1.577006 -0.414650  0.486180  ...  0.261057  0.643078   \n",
              "\n",
              "             V23       V24       V25       V26       V27       V28  Amount  \\\n",
              "284802  1.014480 -0.509348  1.436807  0.250034  0.943651  0.823731    0.77   \n",
              "284803  0.012463 -1.016226 -0.606624 -0.395255  0.068472 -0.053527   24.79   \n",
              "284804 -0.037501  0.640134  0.265745 -0.087371  0.004455 -0.026561   67.88   \n",
              "284805 -0.163298  0.123205 -0.569159  0.546668  0.108821  0.104533   10.00   \n",
              "284806  0.376777  0.008797 -0.473649 -0.818267 -0.002415  0.013649  217.00   \n",
              "\n",
              "        Class  \n",
              "284802      0  \n",
              "284803      0  \n",
              "284804      0  \n",
              "284805      0  \n",
              "284806      0  \n",
              "\n",
              "[5 rows x 31 columns]"
            ],
            "text/html": [
              "\n",
              "  <div id=\"df-5c431faf-f51a-41d2-9276-6518e0ab7a2a\" class=\"colab-df-container\">\n",
              "    <div>\n",
              "<style scoped>\n",
              "    .dataframe tbody tr th:only-of-type {\n",
              "        vertical-align: middle;\n",
              "    }\n",
              "\n",
              "    .dataframe tbody tr th {\n",
              "        vertical-align: top;\n",
              "    }\n",
              "\n",
              "    .dataframe thead th {\n",
              "        text-align: right;\n",
              "    }\n",
              "</style>\n",
              "<table border=\"1\" class=\"dataframe\">\n",
              "  <thead>\n",
              "    <tr style=\"text-align: right;\">\n",
              "      <th></th>\n",
              "      <th>Time</th>\n",
              "      <th>V1</th>\n",
              "      <th>V2</th>\n",
              "      <th>V3</th>\n",
              "      <th>V4</th>\n",
              "      <th>V5</th>\n",
              "      <th>V6</th>\n",
              "      <th>V7</th>\n",
              "      <th>V8</th>\n",
              "      <th>V9</th>\n",
              "      <th>...</th>\n",
              "      <th>V21</th>\n",
              "      <th>V22</th>\n",
              "      <th>V23</th>\n",
              "      <th>V24</th>\n",
              "      <th>V25</th>\n",
              "      <th>V26</th>\n",
              "      <th>V27</th>\n",
              "      <th>V28</th>\n",
              "      <th>Amount</th>\n",
              "      <th>Class</th>\n",
              "    </tr>\n",
              "  </thead>\n",
              "  <tbody>\n",
              "    <tr>\n",
              "      <th>284802</th>\n",
              "      <td>172786.0</td>\n",
              "      <td>-11.881118</td>\n",
              "      <td>10.071785</td>\n",
              "      <td>-9.834783</td>\n",
              "      <td>-2.066656</td>\n",
              "      <td>-5.364473</td>\n",
              "      <td>-2.606837</td>\n",
              "      <td>-4.918215</td>\n",
              "      <td>7.305334</td>\n",
              "      <td>1.914428</td>\n",
              "      <td>...</td>\n",
              "      <td>0.213454</td>\n",
              "      <td>0.111864</td>\n",
              "      <td>1.014480</td>\n",
              "      <td>-0.509348</td>\n",
              "      <td>1.436807</td>\n",
              "      <td>0.250034</td>\n",
              "      <td>0.943651</td>\n",
              "      <td>0.823731</td>\n",
              "      <td>0.77</td>\n",
              "      <td>0</td>\n",
              "    </tr>\n",
              "    <tr>\n",
              "      <th>284803</th>\n",
              "      <td>172787.0</td>\n",
              "      <td>-0.732789</td>\n",
              "      <td>-0.055080</td>\n",
              "      <td>2.035030</td>\n",
              "      <td>-0.738589</td>\n",
              "      <td>0.868229</td>\n",
              "      <td>1.058415</td>\n",
              "      <td>0.024330</td>\n",
              "      <td>0.294869</td>\n",
              "      <td>0.584800</td>\n",
              "      <td>...</td>\n",
              "      <td>0.214205</td>\n",
              "      <td>0.924384</td>\n",
              "      <td>0.012463</td>\n",
              "      <td>-1.016226</td>\n",
              "      <td>-0.606624</td>\n",
              "      <td>-0.395255</td>\n",
              "      <td>0.068472</td>\n",
              "      <td>-0.053527</td>\n",
              "      <td>24.79</td>\n",
              "      <td>0</td>\n",
              "    </tr>\n",
              "    <tr>\n",
              "      <th>284804</th>\n",
              "      <td>172788.0</td>\n",
              "      <td>1.919565</td>\n",
              "      <td>-0.301254</td>\n",
              "      <td>-3.249640</td>\n",
              "      <td>-0.557828</td>\n",
              "      <td>2.630515</td>\n",
              "      <td>3.031260</td>\n",
              "      <td>-0.296827</td>\n",
              "      <td>0.708417</td>\n",
              "      <td>0.432454</td>\n",
              "      <td>...</td>\n",
              "      <td>0.232045</td>\n",
              "      <td>0.578229</td>\n",
              "      <td>-0.037501</td>\n",
              "      <td>0.640134</td>\n",
              "      <td>0.265745</td>\n",
              "      <td>-0.087371</td>\n",
              "      <td>0.004455</td>\n",
              "      <td>-0.026561</td>\n",
              "      <td>67.88</td>\n",
              "      <td>0</td>\n",
              "    </tr>\n",
              "    <tr>\n",
              "      <th>284805</th>\n",
              "      <td>172788.0</td>\n",
              "      <td>-0.240440</td>\n",
              "      <td>0.530483</td>\n",
              "      <td>0.702510</td>\n",
              "      <td>0.689799</td>\n",
              "      <td>-0.377961</td>\n",
              "      <td>0.623708</td>\n",
              "      <td>-0.686180</td>\n",
              "      <td>0.679145</td>\n",
              "      <td>0.392087</td>\n",
              "      <td>...</td>\n",
              "      <td>0.265245</td>\n",
              "      <td>0.800049</td>\n",
              "      <td>-0.163298</td>\n",
              "      <td>0.123205</td>\n",
              "      <td>-0.569159</td>\n",
              "      <td>0.546668</td>\n",
              "      <td>0.108821</td>\n",
              "      <td>0.104533</td>\n",
              "      <td>10.00</td>\n",
              "      <td>0</td>\n",
              "    </tr>\n",
              "    <tr>\n",
              "      <th>284806</th>\n",
              "      <td>172792.0</td>\n",
              "      <td>-0.533413</td>\n",
              "      <td>-0.189733</td>\n",
              "      <td>0.703337</td>\n",
              "      <td>-0.506271</td>\n",
              "      <td>-0.012546</td>\n",
              "      <td>-0.649617</td>\n",
              "      <td>1.577006</td>\n",
              "      <td>-0.414650</td>\n",
              "      <td>0.486180</td>\n",
              "      <td>...</td>\n",
              "      <td>0.261057</td>\n",
              "      <td>0.643078</td>\n",
              "      <td>0.376777</td>\n",
              "      <td>0.008797</td>\n",
              "      <td>-0.473649</td>\n",
              "      <td>-0.818267</td>\n",
              "      <td>-0.002415</td>\n",
              "      <td>0.013649</td>\n",
              "      <td>217.00</td>\n",
              "      <td>0</td>\n",
              "    </tr>\n",
              "  </tbody>\n",
              "</table>\n",
              "<p>5 rows × 31 columns</p>\n",
              "</div>\n",
              "    <div class=\"colab-df-buttons\">\n",
              "\n",
              "  <div class=\"colab-df-container\">\n",
              "    <button class=\"colab-df-convert\" onclick=\"convertToInteractive('df-5c431faf-f51a-41d2-9276-6518e0ab7a2a')\"\n",
              "            title=\"Convert this dataframe to an interactive table.\"\n",
              "            style=\"display:none;\">\n",
              "\n",
              "  <svg xmlns=\"http://www.w3.org/2000/svg\" height=\"24px\" viewBox=\"0 -960 960 960\">\n",
              "    <path d=\"M120-120v-720h720v720H120Zm60-500h600v-160H180v160Zm220 220h160v-160H400v160Zm0 220h160v-160H400v160ZM180-400h160v-160H180v160Zm440 0h160v-160H620v160ZM180-180h160v-160H180v160Zm440 0h160v-160H620v160Z\"/>\n",
              "  </svg>\n",
              "    </button>\n",
              "\n",
              "  <style>\n",
              "    .colab-df-container {\n",
              "      display:flex;\n",
              "      gap: 12px;\n",
              "    }\n",
              "\n",
              "    .colab-df-convert {\n",
              "      background-color: #E8F0FE;\n",
              "      border: none;\n",
              "      border-radius: 50%;\n",
              "      cursor: pointer;\n",
              "      display: none;\n",
              "      fill: #1967D2;\n",
              "      height: 32px;\n",
              "      padding: 0 0 0 0;\n",
              "      width: 32px;\n",
              "    }\n",
              "\n",
              "    .colab-df-convert:hover {\n",
              "      background-color: #E2EBFA;\n",
              "      box-shadow: 0px 1px 2px rgba(60, 64, 67, 0.3), 0px 1px 3px 1px rgba(60, 64, 67, 0.15);\n",
              "      fill: #174EA6;\n",
              "    }\n",
              "\n",
              "    .colab-df-buttons div {\n",
              "      margin-bottom: 4px;\n",
              "    }\n",
              "\n",
              "    [theme=dark] .colab-df-convert {\n",
              "      background-color: #3B4455;\n",
              "      fill: #D2E3FC;\n",
              "    }\n",
              "\n",
              "    [theme=dark] .colab-df-convert:hover {\n",
              "      background-color: #434B5C;\n",
              "      box-shadow: 0px 1px 3px 1px rgba(0, 0, 0, 0.15);\n",
              "      filter: drop-shadow(0px 1px 2px rgba(0, 0, 0, 0.3));\n",
              "      fill: #FFFFFF;\n",
              "    }\n",
              "  </style>\n",
              "\n",
              "    <script>\n",
              "      const buttonEl =\n",
              "        document.querySelector('#df-5c431faf-f51a-41d2-9276-6518e0ab7a2a button.colab-df-convert');\n",
              "      buttonEl.style.display =\n",
              "        google.colab.kernel.accessAllowed ? 'block' : 'none';\n",
              "\n",
              "      async function convertToInteractive(key) {\n",
              "        const element = document.querySelector('#df-5c431faf-f51a-41d2-9276-6518e0ab7a2a');\n",
              "        const dataTable =\n",
              "          await google.colab.kernel.invokeFunction('convertToInteractive',\n",
              "                                                    [key], {});\n",
              "        if (!dataTable) return;\n",
              "\n",
              "        const docLinkHtml = 'Like what you see? Visit the ' +\n",
              "          '<a target=\"_blank\" href=https://colab.research.google.com/notebooks/data_table.ipynb>data table notebook</a>'\n",
              "          + ' to learn more about interactive tables.';\n",
              "        element.innerHTML = '';\n",
              "        dataTable['output_type'] = 'display_data';\n",
              "        await google.colab.output.renderOutput(dataTable, element);\n",
              "        const docLink = document.createElement('div');\n",
              "        docLink.innerHTML = docLinkHtml;\n",
              "        element.appendChild(docLink);\n",
              "      }\n",
              "    </script>\n",
              "  </div>\n",
              "\n",
              "\n",
              "    <div id=\"df-1db94eed-f0f8-468b-86e0-fd73ddc4d5a2\">\n",
              "      <button class=\"colab-df-quickchart\" onclick=\"quickchart('df-1db94eed-f0f8-468b-86e0-fd73ddc4d5a2')\"\n",
              "                title=\"Suggest charts\"\n",
              "                style=\"display:none;\">\n",
              "\n",
              "<svg xmlns=\"http://www.w3.org/2000/svg\" height=\"24px\"viewBox=\"0 0 24 24\"\n",
              "     width=\"24px\">\n",
              "    <g>\n",
              "        <path d=\"M19 3H5c-1.1 0-2 .9-2 2v14c0 1.1.9 2 2 2h14c1.1 0 2-.9 2-2V5c0-1.1-.9-2-2-2zM9 17H7v-7h2v7zm4 0h-2V7h2v10zm4 0h-2v-4h2v4z\"/>\n",
              "    </g>\n",
              "</svg>\n",
              "      </button>\n",
              "\n",
              "<style>\n",
              "  .colab-df-quickchart {\n",
              "      --bg-color: #E8F0FE;\n",
              "      --fill-color: #1967D2;\n",
              "      --hover-bg-color: #E2EBFA;\n",
              "      --hover-fill-color: #174EA6;\n",
              "      --disabled-fill-color: #AAA;\n",
              "      --disabled-bg-color: #DDD;\n",
              "  }\n",
              "\n",
              "  [theme=dark] .colab-df-quickchart {\n",
              "      --bg-color: #3B4455;\n",
              "      --fill-color: #D2E3FC;\n",
              "      --hover-bg-color: #434B5C;\n",
              "      --hover-fill-color: #FFFFFF;\n",
              "      --disabled-bg-color: #3B4455;\n",
              "      --disabled-fill-color: #666;\n",
              "  }\n",
              "\n",
              "  .colab-df-quickchart {\n",
              "    background-color: var(--bg-color);\n",
              "    border: none;\n",
              "    border-radius: 50%;\n",
              "    cursor: pointer;\n",
              "    display: none;\n",
              "    fill: var(--fill-color);\n",
              "    height: 32px;\n",
              "    padding: 0;\n",
              "    width: 32px;\n",
              "  }\n",
              "\n",
              "  .colab-df-quickchart:hover {\n",
              "    background-color: var(--hover-bg-color);\n",
              "    box-shadow: 0 1px 2px rgba(60, 64, 67, 0.3), 0 1px 3px 1px rgba(60, 64, 67, 0.15);\n",
              "    fill: var(--button-hover-fill-color);\n",
              "  }\n",
              "\n",
              "  .colab-df-quickchart-complete:disabled,\n",
              "  .colab-df-quickchart-complete:disabled:hover {\n",
              "    background-color: var(--disabled-bg-color);\n",
              "    fill: var(--disabled-fill-color);\n",
              "    box-shadow: none;\n",
              "  }\n",
              "\n",
              "  .colab-df-spinner {\n",
              "    border: 2px solid var(--fill-color);\n",
              "    border-color: transparent;\n",
              "    border-bottom-color: var(--fill-color);\n",
              "    animation:\n",
              "      spin 1s steps(1) infinite;\n",
              "  }\n",
              "\n",
              "  @keyframes spin {\n",
              "    0% {\n",
              "      border-color: transparent;\n",
              "      border-bottom-color: var(--fill-color);\n",
              "      border-left-color: var(--fill-color);\n",
              "    }\n",
              "    20% {\n",
              "      border-color: transparent;\n",
              "      border-left-color: var(--fill-color);\n",
              "      border-top-color: var(--fill-color);\n",
              "    }\n",
              "    30% {\n",
              "      border-color: transparent;\n",
              "      border-left-color: var(--fill-color);\n",
              "      border-top-color: var(--fill-color);\n",
              "      border-right-color: var(--fill-color);\n",
              "    }\n",
              "    40% {\n",
              "      border-color: transparent;\n",
              "      border-right-color: var(--fill-color);\n",
              "      border-top-color: var(--fill-color);\n",
              "    }\n",
              "    60% {\n",
              "      border-color: transparent;\n",
              "      border-right-color: var(--fill-color);\n",
              "    }\n",
              "    80% {\n",
              "      border-color: transparent;\n",
              "      border-right-color: var(--fill-color);\n",
              "      border-bottom-color: var(--fill-color);\n",
              "    }\n",
              "    90% {\n",
              "      border-color: transparent;\n",
              "      border-bottom-color: var(--fill-color);\n",
              "    }\n",
              "  }\n",
              "</style>\n",
              "\n",
              "      <script>\n",
              "        async function quickchart(key) {\n",
              "          const quickchartButtonEl =\n",
              "            document.querySelector('#' + key + ' button');\n",
              "          quickchartButtonEl.disabled = true;  // To prevent multiple clicks.\n",
              "          quickchartButtonEl.classList.add('colab-df-spinner');\n",
              "          try {\n",
              "            const charts = await google.colab.kernel.invokeFunction(\n",
              "                'suggestCharts', [key], {});\n",
              "          } catch (error) {\n",
              "            console.error('Error during call to suggestCharts:', error);\n",
              "          }\n",
              "          quickchartButtonEl.classList.remove('colab-df-spinner');\n",
              "          quickchartButtonEl.classList.add('colab-df-quickchart-complete');\n",
              "        }\n",
              "        (() => {\n",
              "          let quickchartButtonEl =\n",
              "            document.querySelector('#df-1db94eed-f0f8-468b-86e0-fd73ddc4d5a2 button');\n",
              "          quickchartButtonEl.style.display =\n",
              "            google.colab.kernel.accessAllowed ? 'block' : 'none';\n",
              "        })();\n",
              "      </script>\n",
              "    </div>\n",
              "\n",
              "    </div>\n",
              "  </div>\n"
            ],
            "application/vnd.google.colaboratory.intrinsic+json": {
              "type": "dataframe"
            }
          },
          "metadata": {},
          "execution_count": 3
        }
      ],
      "source": [
        "data = pd.read_csv(\"../kaggle/input/creditcardfraud/creditcard.csv\")\n",
        "data.tail()"
      ]
    },
    {
      "cell_type": "markdown",
      "metadata": {
        "id": "SjeQ6i7xu0T6"
      },
      "source": [
        "## Pré processamento dos dados"
      ]
    },
    {
      "cell_type": "code",
      "execution_count": null,
      "metadata": {
        "colab": {
          "base_uri": "https://localhost:8080/"
        },
        "id": "2c0be83a-5c4e-4492-a4e9-4bb1c9cb2921",
        "outputId": "c81ecf60-680b-4aad-f69e-3bdb4ac6cbce"
      },
      "outputs": [
        {
          "output_type": "stream",
          "name": "stdout",
          "text": [
            "Fraude: 492\n",
            "Legítima: 284315\n"
          ]
        }
      ],
      "source": [
        "number_of_fraud = len(data[data.Class == 1])\n",
        "number_of_normal= len(data[data.Class == 0])\n",
        "\n",
        "print (\"Fraude:\", number_of_fraud)\n",
        "print (\"Legítima:\",number_of_normal)"
      ]
    },
    {
      "cell_type": "code",
      "execution_count": null,
      "metadata": {
        "colab": {
          "base_uri": "https://localhost:8080/"
        },
        "id": "sscK35_m71nC",
        "outputId": "82e5e1ce-78fc-421d-b756-4594952fd7ba"
      },
      "outputs": [
        {
          "output_type": "stream",
          "name": "stdout",
          "text": [
            "Base de dados de treino antes do SMOTE: Counter({0: 199020, 1: 344})\n",
            "Base de dados de teste Counter({0: 85295, 1: 148})\n"
          ]
        }
      ],
      "source": [
        "X = data.drop(\"Class\", axis=1)\n",
        "y = data[\"Class\"]\n",
        "X_train, X_test, y_train, y_test = train_test_split(X, y, test_size=0.3, stratify=y, random_state=42)\n",
        "counter = Counter(y_train)\n",
        "print('Base de dados de treino antes do SMOTE:', counter)\n",
        "counter = Counter(y_test)\n",
        "print('Base de dados de teste', counter)"
      ]
    },
    {
      "cell_type": "markdown",
      "metadata": {
        "id": "3qwwFsUniCdD"
      },
      "source": [
        "##SMOTE 50:50"
      ]
    },
    {
      "cell_type": "code",
      "execution_count": null,
      "metadata": {
        "colab": {
          "base_uri": "https://localhost:8080/"
        },
        "id": "VZOD0stm77O7",
        "outputId": "222d96d4-03cd-48f7-867c-3f78cf86e607"
      },
      "outputs": [
        {
          "output_type": "stream",
          "name": "stdout",
          "text": [
            "Base de treino depois do ENN: Counter({0: 198698, 1: 344})\n",
            "Depois do SMOTE: Counter({0: 198698, 1: 198698})\n"
          ]
        }
      ],
      "source": [
        "enn = EditedNearestNeighbours()\n",
        "X_train_resampled, y_train_resampled = enn.fit_resample(X_train, y_train)\n",
        "print('Base de treino depois do ENN:', Counter(y_train_resampled))\n",
        "\n",
        "smt = SMOTE(random_state=42)\n",
        "X_train_sm_5050, y_train_sm_5050 = smt.fit_resample(X_train_resampled, y_train_resampled)\n",
        "counter = Counter(y_train_sm_5050)\n",
        "print('Depois do SMOTE:', counter)"
      ]
    },
    {
      "cell_type": "markdown",
      "metadata": {
        "id": "8dihcYF2dVqm"
      },
      "source": [
        "##SMOTE 10 : 90"
      ]
    },
    {
      "cell_type": "code",
      "execution_count": null,
      "metadata": {
        "colab": {
          "base_uri": "https://localhost:8080/"
        },
        "id": "4ceIUVRZdZfX",
        "outputId": "79d094b5-bb05-46f2-fba3-8cf782c02c62"
      },
      "outputs": [
        {
          "output_type": "stream",
          "name": "stdout",
          "text": [
            "Depois do ENN: Counter({0: 198698, 1: 344})\n",
            "Depois do SMOTE: Counter({0: 198698, 1: 22055})\n"
          ]
        }
      ],
      "source": [
        "enn = EditedNearestNeighbours()\n",
        "X_train_enn, y_train_enn = enn.fit_resample(X_train, y_train)\n",
        "print('Depois do ENN:', Counter(y_train_enn))\n",
        "\n",
        "smt = SMOTE(random_state=42, sampling_strategy=0.111)\n",
        "X_train_sm_1090, y_train_sm_1090 = smt.fit_resample(X_train_enn, y_train_enn)\n",
        "counter = Counter(y_train_sm_1090)\n",
        "print('Depois do SMOTE:', counter)"
      ]
    },
    {
      "cell_type": "markdown",
      "metadata": {
        "id": "WdPXAA1BTCFh"
      },
      "source": [
        "#MODELO TREINAMENTO SEM SMOTE"
      ]
    },
    {
      "cell_type": "markdown",
      "metadata": {
        "id": "ai2r4fMfTGv1"
      },
      "source": [
        "#####**MODELO 1 SCIKIT LEARN PURO**"
      ]
    },
    {
      "cell_type": "code",
      "execution_count": 9,
      "metadata": {
        "colab": {
          "base_uri": "https://localhost:8080/"
        },
        "id": "3epw5f8TS-Mh",
        "outputId": "8e923cfb-8fcb-4cee-8429-05959f0c0320"
      },
      "outputs": [
        {
          "output_type": "stream",
          "name": "stderr",
          "text": [
            "[Parallel(n_jobs=100)]: Using backend ThreadingBackend with 100 concurrent workers.\n",
            "[Parallel(n_jobs=100)]: Done 250 tasks      | elapsed:  9.9min\n",
            "[Parallel(n_jobs=100)]: Done 600 tasks      | elapsed: 21.4min\n",
            "[Parallel(n_jobs=100)]: Done 1000 out of 1000 | elapsed: 33.1min finished\n",
            "[Parallel(n_jobs=100)]: Using backend ThreadingBackend with 100 concurrent workers.\n",
            "[Parallel(n_jobs=100)]: Done 250 tasks      | elapsed:    4.2s\n",
            "[Parallel(n_jobs=100)]: Done 600 tasks      | elapsed:    9.0s\n"
          ]
        },
        {
          "output_type": "stream",
          "name": "stdout",
          "text": [
            "              precision    recall  f1-score   support\n",
            "\n",
            "           0       1.00      1.00      1.00    199020\n",
            "           1       1.00      1.00      1.00       344\n",
            "\n",
            "    accuracy                           1.00    199364\n",
            "   macro avg       1.00      1.00      1.00    199364\n",
            "weighted avg       1.00      1.00      1.00    199364\n",
            "\n"
          ]
        },
        {
          "output_type": "stream",
          "name": "stderr",
          "text": [
            "[Parallel(n_jobs=100)]: Done 1000 out of 1000 | elapsed:   14.3s finished\n"
          ]
        }
      ],
      "source": [
        "model = RandomForestClassifier(n_estimators=1000 ,class_weight={0: 1, 1: 10}, verbose=1, n_jobs=100) #Quanto maior o número de iterações, melhor o resultado\n",
        "\n",
        "model.fit(X_train,y_train)\n",
        "y_pred_rl = model.predict(X_train)\n",
        "\n",
        "print(classification_report(y_train, y_pred_rl))"
      ]
    },
    {
      "cell_type": "code",
      "execution_count": 10,
      "metadata": {
        "colab": {
          "base_uri": "https://localhost:8080/"
        },
        "id": "4svh3pkBTOSo",
        "outputId": "87ae41bd-549a-41cb-d696-8f20fc0b27d7"
      },
      "outputs": [
        {
          "output_type": "stream",
          "name": "stdout",
          "text": [
            "            Time        V1        V2        V3        V4        V5        V6  \\\n",
            "186882  127294.0 -2.537331  1.890864 -0.840555 -1.102759 -2.105725  0.367811   \n",
            "165754  117632.0 -0.250839  1.104108  0.206089  0.417324  1.204079 -0.350694   \n",
            "235285  148330.0  0.568980 -2.520416 -1.114138  1.670652 -1.128945  0.398822   \n",
            "101271   67778.0  1.328892  0.226908 -0.308968  0.381772  0.238490 -0.282946   \n",
            "5832      6308.0  1.124863 -0.165691  1.337053  1.030033 -0.891116  0.202926   \n",
            "...          ...       ...       ...       ...       ...       ...       ...   \n",
            "64725    51279.0 -1.808185  1.328808 -0.991449 -2.473986  2.185095  3.496806   \n",
            "16688    28048.0 -0.442905  0.716727  1.256775  0.860048  1.210872  1.066390   \n",
            "183868  125990.0  2.092418 -0.931315 -1.553089 -1.131369 -0.197801 -0.373117   \n",
            "45011    42168.0  1.293234  0.097565 -0.209304  0.329036  0.034958 -0.145507   \n",
            "150527   93609.0  2.214016 -0.584030 -1.238673 -0.702993 -0.184492 -0.646248   \n",
            "\n",
            "              V7        V8        V9  ...       V20       V21       V22  \\\n",
            "186882 -2.737844 -3.543314 -0.483147  ... -1.959611  4.328165 -2.167329   \n",
            "165754  1.369769 -0.133535 -0.957100  ... -0.128120  0.133048  0.499501   \n",
            "235285  0.190403  0.161493  0.840595  ...  1.039287  0.318037 -0.760732   \n",
            "101271  0.029460 -0.079962  0.227173  ... -0.050933 -0.379270 -1.148959   \n",
            "5832   -0.825094  0.163280  2.301808  ... -0.196966 -0.216512 -0.195607   \n",
            "...          ...       ...       ...  ...       ...       ...       ...   \n",
            "64725  -1.030373 -1.860286  0.182992  ...  0.745500 -1.441887 -0.020080   \n",
            "16688   0.888914 -0.176599 -0.172991  ...  0.310200 -0.154031  0.271637   \n",
            "183868 -0.390388 -0.119017 -0.702381  ...  0.120353 -0.008183 -0.274004   \n",
            "45011  -0.203271  0.153076  0.217831  ... -0.186409 -0.340111 -1.128741   \n",
            "150527 -0.425560 -0.352428  0.869265  ... -0.033153 -0.182835 -0.224863   \n",
            "\n",
            "             V23       V24       V25       V26       V27       V28  Amount  \n",
            "186882  1.022567 -0.241143 -1.094885 -0.475427 -0.177157 -0.082691   37.40  \n",
            "165754 -0.392572 -0.393364  0.233354 -0.490717  0.143897  0.136810    9.27  \n",
            "235285 -0.181332  0.595866 -0.760920 -1.048927 -0.096970  0.088686  700.00  \n",
            "101271 -0.047403 -1.074464  0.375683  0.182045 -0.031732  0.017501   14.99  \n",
            "5832    0.072785  0.045625  0.135192  0.308617  0.001142  0.017673   17.25  \n",
            "...          ...       ...       ...       ...       ...       ...     ...  \n",
            "64725   0.256883  1.014602 -0.108679  0.672870 -0.701644 -0.338981    0.92  \n",
            "16688  -0.262547 -1.125678  0.019374 -0.233577 -0.013664 -0.274549   13.74  \n",
            "183868  0.214650  0.257477 -0.193262 -0.458271 -0.056360 -0.053928   74.00  \n",
            "45011   0.000733 -0.956668  0.259784  0.158010 -0.044116  0.003539    1.98  \n",
            "150527  0.257899  0.558856 -0.060775 -0.391478 -0.057635 -0.059988   15.90  \n",
            "\n",
            "[85443 rows x 30 columns]\n"
          ]
        },
        {
          "output_type": "stream",
          "name": "stderr",
          "text": [
            "[Parallel(n_jobs=100)]: Using backend ThreadingBackend with 100 concurrent workers.\n",
            "[Parallel(n_jobs=100)]: Done 251 tasks      | elapsed:    3.0s\n",
            "[Parallel(n_jobs=100)]: Done 601 tasks      | elapsed:    5.3s\n",
            "[Parallel(n_jobs=100)]: Done 1000 out of 1000 | elapsed:    7.2s finished\n"
          ]
        }
      ],
      "source": [
        "print(X_test)\n",
        "resultado_rl = model.predict(X_test)"
      ]
    },
    {
      "cell_type": "code",
      "execution_count": 21,
      "metadata": {
        "colab": {
          "base_uri": "https://localhost:8080/",
          "height": 1000
        },
        "id": "Py05FcCMTRMP",
        "outputId": "f41bb5a7-264d-4ee0-a360-38f6e26e3bd4"
      },
      "outputs": [
        {
          "output_type": "stream",
          "name": "stdout",
          "text": [
            "\n",
            "MÉTRICAS TREINAMENTO SEM SMOTE\n",
            "\n"
          ]
        },
        {
          "output_type": "display_data",
          "data": {
            "text/plain": [
              "<Figure size 640x480 with 2 Axes>"
            ],
            "image/png": "[encoded data removed]"
          },
          "metadata": {}
        },
        {
          "output_type": "stream",
          "name": "stdout",
          "text": [
            "Acurácia: 100.000000%\n",
            "Precisão: 100.000000%\n",
            "Recall:  100.000000%\n",
            "F1 Score:  100.000000%\n",
            "MCC:  100.000000%\n",
            "\n",
            "MÉTRICAS TESTE SEM SMOTE\n",
            "\n"
          ]
        },
        {
          "output_type": "display_data",
          "data": {
            "text/plain": [
              "<Figure size 640x480 with 2 Axes>"
            ],
            "image/png": "[encoded data removed]"
          },
          "metadata": {}
        },
        {
          "output_type": "stream",
          "name": "stdout",
          "text": [
            "Acurácia: 99.948504%\n",
            "Precisão: 97.272727%\n",
            "Recall:  72.297297%\n",
            "F1 Score:  82.945736%\n",
            "MCC:  83.837579%\n",
            "\n",
            "MÉTRICA AUC ROC\n",
            "\n",
            "Treinamento:  1.0 \n",
            "Teste: 0.8614689004615144\n"
          ]
        },
        {
          "output_type": "display_data",
          "data": {
            "text/plain": [
              "<Figure size 640x480 with 1 Axes>"
            ],
            "image/png": "[encoded data removed]"
          },
          "metadata": {}
        }
      ],
      "source": [
        "cf_matrix = confusion_matrix(y_train, y_pred_rl)\n",
        "sn.heatmap(cf_matrix, cmap='coolwarm', annot=True, linewidth=1, fmt='d')\n",
        "plt.xlabel('Expectativa')\n",
        "plt.ylabel('Previsto pelo modelo')\n",
        "print(\"\\nMÉTRICAS TREINAMENTO\\n \\nSEM SMOTE\\n\")\n",
        "plt.show()\n",
        "print(f'Acurácia: {accuracy_score(y_train, y_pred_rl):%}')\n",
        "print(f'Precisão: {precision_score(y_train, y_pred_rl):%}')\n",
        "print(f'Recall:  {recall_score(y_train, y_pred_rl):%}')\n",
        "print(f'F1 Score:  {f1_score(y_train, y_pred_rl):%}')\n",
        "print(f'MCC:  {matthews_corrcoef(y_train, y_pred_rl):%}')\n",
        "cf_matrix = confusion_matrix(y_test, resultado_rl)\n",
        "sn.heatmap(cf_matrix, cmap='coolwarm', annot=True, linewidth=1, fmt='d')\n",
        "plt.xlabel('Expectativa')\n",
        "plt.ylabel('Previsto pelo modelo')\n",
        "print(\"\\nMÉTRICAS TESTE\\n \\nSEM SMOTE\\n\")\n",
        "plt.show()\n",
        "print(f'Acurácia: {accuracy_score(y_test, resultado_rl):%}')\n",
        "print(f'Precisão: {precision_score(y_test, resultado_rl):%}')\n",
        "print(f'Recall:  {recall_score(y_test, resultado_rl):%}')\n",
        "print(f'F1 Score:  {f1_score(y_test, resultado_rl):%}')\n",
        "print(f'MCC:  {matthews_corrcoef(y_test, resultado_rl):%}')\n",
        "\n",
        "\n",
        "print(\"\\nMÉTRICA AUC ROC\\n\")\n",
        "fpr1, tpr1, thresh1 = roc_curve(y_train, y_pred_rl, pos_label=1)\n",
        "fpr2, tpr2, thresh2 = roc_curve(y_test, resultado_rl, pos_label=1)\n",
        "\n",
        "random_probs = [0 for i in range(len(y_test))]\n",
        "p_fpr, p_tpr, _ = roc_curve(y_test, random_probs, pos_label=1)\n",
        "\n",
        "random_probs = [0 for i in range(len(y_test))]\n",
        "p_fpr, p_tpr, _ = roc_curve(y_test, random_probs, pos_label=1)\n",
        "\n",
        "auc_score1 = roc_auc_score(y_train, y_pred_rl)\n",
        "auc_score2 = roc_auc_score(y_test, resultado_rl)\n",
        "\n",
        "print(\"Treinamento: \",auc_score1, \"\\nTeste:\", auc_score2)\n",
        "\n",
        "plt.plot(fpr1, tpr1, linestyle='--',color='orange', label='Treinamento')\n",
        "plt.plot(fpr2, tpr2, linestyle='--',color='green', label='Test')\n",
        "plt.plot(p_fpr, p_tpr, linestyle='--', color='blue')\n",
        "plt.title('ROC curve')\n",
        "plt.xlabel('False Positive Rate')\n",
        "plt.ylabel('True Positive rate')\n",
        "\n",
        "plt.legend(loc='best')\n",
        "plt.savefig('ROC')\n",
        "plt.show();"
      ]
    },
    {
      "cell_type": "markdown",
      "metadata": {
        "id": "wGyO2lrU92Dp"
      },
      "source": [
        "#####**MODELO 2 SCIKIT LEARN RAPIDS CUML**"
      ]
    },
    {
      "cell_type": "code",
      "execution_count": null,
      "metadata": {
        "id": "TZc5tSFj94SE",
        "outputId": "9dd625c8-009d-4e7f-dd1e-bbd4448111d7",
        "colab": {
          "base_uri": "https://localhost:8080/"
        }
      },
      "outputs": [
        {
          "output_type": "stream",
          "name": "stdout",
          "text": [
            "              precision    recall  f1-score   support\n",
            "\n",
            "           0       1.00      1.00      1.00    199020\n",
            "           1       1.00      0.97      0.99       344\n",
            "\n",
            "    accuracy                           1.00    199364\n",
            "   macro avg       1.00      0.99      0.99    199364\n",
            "weighted avg       1.00      1.00      1.00    199364\n",
            "\n"
          ]
        }
      ],
      "source": [
        "model = cuRandomForestClassifier(verbose=1)\n",
        "model.fit(X_train, y_train)\n",
        "y_pred_curl = model.predict(X_train)\n",
        "\n",
        "print(classification_report(y_train, y_pred_curl))"
      ]
    },
    {
      "cell_type": "code",
      "execution_count": null,
      "metadata": {
        "id": "ybyokUkO979F",
        "outputId": "62957be9-06fc-4919-acd4-587a027bf34b",
        "colab": {
          "base_uri": "https://localhost:8080/"
        }
      },
      "outputs": [
        {
          "output_type": "stream",
          "name": "stdout",
          "text": [
            "            Time        V1        V2        V3        V4        V5        V6  \\\n",
            "186882  127294.0 -2.537331  1.890864 -0.840555 -1.102759 -2.105725  0.367811   \n",
            "165754  117632.0 -0.250839  1.104108  0.206089  0.417324  1.204079 -0.350694   \n",
            "235285  148330.0  0.568980 -2.520416 -1.114138  1.670652 -1.128945  0.398822   \n",
            "101271   67778.0  1.328892  0.226908 -0.308968  0.381772  0.238490 -0.282946   \n",
            "5832      6308.0  1.124863 -0.165691  1.337053  1.030033 -0.891116  0.202926   \n",
            "...          ...       ...       ...       ...       ...       ...       ...   \n",
            "64725    51279.0 -1.808185  1.328808 -0.991449 -2.473986  2.185095  3.496806   \n",
            "16688    28048.0 -0.442905  0.716727  1.256775  0.860048  1.210872  1.066390   \n",
            "183868  125990.0  2.092418 -0.931315 -1.553089 -1.131369 -0.197801 -0.373117   \n",
            "45011    42168.0  1.293234  0.097565 -0.209304  0.329036  0.034958 -0.145507   \n",
            "150527   93609.0  2.214016 -0.584030 -1.238673 -0.702993 -0.184492 -0.646248   \n",
            "\n",
            "              V7        V8        V9  ...       V20       V21       V22  \\\n",
            "186882 -2.737844 -3.543314 -0.483147  ... -1.959611  4.328165 -2.167329   \n",
            "165754  1.369769 -0.133535 -0.957100  ... -0.128120  0.133048  0.499501   \n",
            "235285  0.190403  0.161493  0.840595  ...  1.039287  0.318037 -0.760732   \n",
            "101271  0.029460 -0.079962  0.227173  ... -0.050933 -0.379270 -1.148959   \n",
            "5832   -0.825094  0.163280  2.301808  ... -0.196966 -0.216512 -0.195607   \n",
            "...          ...       ...       ...  ...       ...       ...       ...   \n",
            "64725  -1.030373 -1.860286  0.182992  ...  0.745500 -1.441887 -0.020080   \n",
            "16688   0.888914 -0.176599 -0.172991  ...  0.310200 -0.154031  0.271637   \n",
            "183868 -0.390388 -0.119017 -0.702381  ...  0.120353 -0.008183 -0.274004   \n",
            "45011  -0.203271  0.153076  0.217831  ... -0.186409 -0.340111 -1.128741   \n",
            "150527 -0.425560 -0.352428  0.869265  ... -0.033153 -0.182835 -0.224863   \n",
            "\n",
            "             V23       V24       V25       V26       V27       V28  Amount  \n",
            "186882  1.022567 -0.241143 -1.094885 -0.475427 -0.177157 -0.082691   37.40  \n",
            "165754 -0.392572 -0.393364  0.233354 -0.490717  0.143897  0.136810    9.27  \n",
            "235285 -0.181332  0.595866 -0.760920 -1.048927 -0.096970  0.088686  700.00  \n",
            "101271 -0.047403 -1.074464  0.375683  0.182045 -0.031732  0.017501   14.99  \n",
            "5832    0.072785  0.045625  0.135192  0.308617  0.001142  0.017673   17.25  \n",
            "...          ...       ...       ...       ...       ...       ...     ...  \n",
            "64725   0.256883  1.014602 -0.108679  0.672870 -0.701644 -0.338981    0.92  \n",
            "16688  -0.262547 -1.125678  0.019374 -0.233577 -0.013664 -0.274549   13.74  \n",
            "183868  0.214650  0.257477 -0.193262 -0.458271 -0.056360 -0.053928   74.00  \n",
            "45011   0.000733 -0.956668  0.259784  0.158010 -0.044116  0.003539    1.98  \n",
            "150527  0.257899  0.558856 -0.060775 -0.391478 -0.057635 -0.059988   15.90  \n",
            "\n",
            "[85443 rows x 30 columns]\n"
          ]
        }
      ],
      "source": [
        "print(X_test)\n",
        "resultado_curl = model.predict(X_test)"
      ]
    },
    {
      "cell_type": "code",
      "execution_count": 22,
      "metadata": {
        "id": "swW1i_Lz9-Mj",
        "outputId": "e3dc0e44-9012-45d7-bd41-d84928c08fdc",
        "colab": {
          "base_uri": "https://localhost:8080/",
          "height": 219
        }
      },
      "outputs": [
        {
          "output_type": "error",
          "ename": "NameError",
          "evalue": "name 'y_pred_curl' is not defined",
          "traceback": [
            "\u001b[0;31m---------------------------------------------------------------------------\u001b[0m",
            "\u001b[0;31mNameError\u001b[0m                                 Traceback (most recent call last)",
            "\u001b[0;32m/tmp/ipython-input-22-2181766907.py\u001b[0m in \u001b[0;36m<cell line: 0>\u001b[0;34m()\u001b[0m\n\u001b[0;32m----> 1\u001b[0;31m \u001b[0mcf_matrix\u001b[0m \u001b[0;34m=\u001b[0m \u001b[0mconfusion_matrix\u001b[0m\u001b[0;34m(\u001b[0m\u001b[0my_train\u001b[0m\u001b[0;34m,\u001b[0m \u001b[0my_pred_curl\u001b[0m\u001b[0;34m)\u001b[0m\u001b[0;34m\u001b[0m\u001b[0;34m\u001b[0m\u001b[0m\n\u001b[0m\u001b[1;32m      2\u001b[0m \u001b[0msn\u001b[0m\u001b[0;34m.\u001b[0m\u001b[0mheatmap\u001b[0m\u001b[0;34m(\u001b[0m\u001b[0mcf_matrix\u001b[0m\u001b[0;34m,\u001b[0m \u001b[0mcmap\u001b[0m\u001b[0;34m=\u001b[0m\u001b[0;34m'coolwarm'\u001b[0m\u001b[0;34m,\u001b[0m \u001b[0mannot\u001b[0m\u001b[0;34m=\u001b[0m\u001b[0;32mTrue\u001b[0m\u001b[0;34m,\u001b[0m \u001b[0mlinewidth\u001b[0m\u001b[0;34m=\u001b[0m\u001b[0;36m1\u001b[0m\u001b[0;34m,\u001b[0m \u001b[0mfmt\u001b[0m\u001b[0;34m=\u001b[0m\u001b[0;34m'd'\u001b[0m\u001b[0;34m)\u001b[0m\u001b[0;34m\u001b[0m\u001b[0;34m\u001b[0m\u001b[0m\n\u001b[1;32m      3\u001b[0m \u001b[0mplt\u001b[0m\u001b[0;34m.\u001b[0m\u001b[0mxlabel\u001b[0m\u001b[0;34m(\u001b[0m\u001b[0;34m'Expectativa'\u001b[0m\u001b[0;34m)\u001b[0m\u001b[0;34m\u001b[0m\u001b[0;34m\u001b[0m\u001b[0m\n\u001b[1;32m      4\u001b[0m \u001b[0mplt\u001b[0m\u001b[0;34m.\u001b[0m\u001b[0mylabel\u001b[0m\u001b[0;34m(\u001b[0m\u001b[0;34m'Previsto pelo modelo'\u001b[0m\u001b[0;34m)\u001b[0m\u001b[0;34m\u001b[0m\u001b[0;34m\u001b[0m\u001b[0m\n\u001b[1;32m      5\u001b[0m \u001b[0mprint\u001b[0m\u001b[0;34m(\u001b[0m\u001b[0;34m\"\\nMÉTRICAS TREINAMENTO SEM SMOTE\\n\"\u001b[0m\u001b[0;34m)\u001b[0m\u001b[0;34m\u001b[0m\u001b[0;34m\u001b[0m\u001b[0m\n",
            "\u001b[0;31mNameError\u001b[0m: name 'y_pred_curl' is not defined"
          ]
        }
      ],
      "source": [
        "cf_matrix = confusion_matrix(y_train, y_pred_curl)\n",
        "sn.heatmap(cf_matrix, cmap='coolwarm', annot=True, linewidth=1, fmt='d')\n",
        "plt.xlabel('Expectativa')\n",
        "plt.ylabel('Previsto pelo modelo')\n",
        "print(\"\\nMÉTRICAS TREINAMENTO\\n \\nSEM SMOTE\\n\")\n",
        "plt.show()\n",
        "print(f'Acurácia: {accuracy_score(y_train, y_pred_curl):%}')\n",
        "print(f'Precisão: {precision_score(y_train, y_pred_curl):%}')\n",
        "print(f'Recall:  {recall_score(y_train, y_pred_curl):%}')\n",
        "print(f'F1 Score:  {f1_score(y_train, y_pred_curl):%}')\n",
        "print(f'MCC:  {matthews_corrcoef(y_train, y_pred_curl):%}')\n",
        "cf_matrix = confusion_matrix(y_test, resultado_curl)\n",
        "sn.heatmap(cf_matrix, cmap='coolwarm', annot=True, linewidth=1, fmt='d')\n",
        "plt.xlabel('Expectativa')\n",
        "plt.ylabel('Previsto pelo modelo')\n",
        "print(\"\\nMÉTRICAS TESTE\\n \\nSEM SMOTE\\n\")\n",
        "plt.show()\n",
        "print(f'Acurácia: {accuracy_score(y_test, resultado_curl):%}')\n",
        "print(f'Precisão: {precision_score(y_test, resultado_curl):%}')\n",
        "print(f'Recall:  {recall_score(y_test, resultado_curl):%}')\n",
        "print(f'F1 Score:  {f1_score(y_test, resultado_curl):%}')\n",
        "print(f'MCC:  {matthews_corrcoef(y_test, resultado_curl):%}')\n",
        "\n",
        "\n",
        "print(\"\\nMÉTRICA AUC ROC\\n\")\n",
        "fpr1, tpr1, thresh1 = roc_curve(y_train, y_pred_curl, pos_label=1)\n",
        "fpr2, tpr2, thresh2 = roc_curve(y_test, resultado_curl, pos_label=1)\n",
        "\n",
        "random_probs = [0 for i in range(len(y_test))]\n",
        "p_fpr, p_tpr, _ = roc_curve(y_test, random_probs, pos_label=1)\n",
        "\n",
        "random_probs = [0 for i in range(len(y_test))]\n",
        "p_fpr, p_tpr, _ = roc_curve(y_test, random_probs, pos_label=1)\n",
        "\n",
        "auc_score1 = roc_auc_score(y_train, y_pred_curl)\n",
        "auc_score2 = roc_auc_score(y_test, resultado_curl)\n",
        "\n",
        "print(\"Treinamento: \",auc_score1, \"\\nTeste:\", auc_score2)\n",
        "\n",
        "plt.plot(fpr1, tpr1, linestyle='--',color='orange', label='Treinamento')\n",
        "plt.plot(fpr2, tpr2, linestyle='--',color='green', label='Test')\n",
        "plt.plot(p_fpr, p_tpr, linestyle='--', color='blue')\n",
        "plt.title('ROC curve')\n",
        "plt.xlabel('False Positive Rate')\n",
        "plt.ylabel('True Positive rate')\n",
        "\n",
        "plt.legend(loc='best')\n",
        "plt.savefig('ROC')\n",
        "plt.show();"
      ]
    },
    {
      "cell_type": "markdown",
      "metadata": {
        "id": "VwtfBVSlxdXf"
      },
      "source": [
        "#MODELO TREINAMENTO 10 : 90"
      ]
    },
    {
      "cell_type": "markdown",
      "metadata": {
        "id": "N0mDd02NzTCx"
      },
      "source": [
        "#####**MODELO 1**"
      ]
    },
    {
      "cell_type": "code",
      "execution_count": null,
      "metadata": {
        "id": "FxMVKVsOxhjw",
        "colab": {
          "base_uri": "https://localhost:8080/"
        },
        "outputId": "fc3e45a5-8d80-45cf-abe6-fe936852bb7e"
      },
      "outputs": [
        {
          "output_type": "stream",
          "name": "stderr",
          "text": [
            "[Parallel(n_jobs=100)]: Using backend ThreadingBackend with 100 concurrent workers.\n",
            "[Parallel(n_jobs=100)]: Done 250 tasks      | elapsed:  8.7min\n",
            "[Parallel(n_jobs=100)]: Done 600 tasks      | elapsed: 18.6min\n",
            "[Parallel(n_jobs=100)]: Done 1000 out of 1000 | elapsed: 28.9min finished\n",
            "[Parallel(n_jobs=100)]: Using backend ThreadingBackend with 100 concurrent workers.\n",
            "[Parallel(n_jobs=100)]: Done 250 tasks      | elapsed:    5.9s\n",
            "[Parallel(n_jobs=100)]: Done 600 tasks      | elapsed:   11.7s\n"
          ]
        },
        {
          "output_type": "stream",
          "name": "stdout",
          "text": [
            "              precision    recall  f1-score   support\n",
            "\n",
            "           0       1.00      1.00      1.00    198698\n",
            "           1       1.00      1.00      1.00     22055\n",
            "\n",
            "    accuracy                           1.00    220753\n",
            "   macro avg       1.00      1.00      1.00    220753\n",
            "weighted avg       1.00      1.00      1.00    220753\n",
            "\n"
          ]
        },
        {
          "output_type": "stream",
          "name": "stderr",
          "text": [
            "[Parallel(n_jobs=100)]: Done 1000 out of 1000 | elapsed:   18.4s finished\n"
          ]
        }
      ],
      "source": [
        "model = RandomForestClassifier(n_estimators=1000, class_weight={0: 1, 1: 10}, verbose=1, n_jobs=100) #Quanto maior o número de iterações, melhor o resultado\n",
        "model.fit(X_train_sm_1090, y_train_sm_1090)\n",
        "y_pred_rl = model.predict(X_train_sm_1090)\n",
        "\n",
        "print(classification_report(y_train_sm_1090, y_pred_rl))"
      ]
    },
    {
      "cell_type": "code",
      "execution_count": null,
      "metadata": {
        "id": "c6u9KwdKxox5",
        "colab": {
          "base_uri": "https://localhost:8080/"
        },
        "outputId": "5f8b4e65-0007-4db0-d724-edbbb455527f"
      },
      "outputs": [
        {
          "output_type": "stream",
          "name": "stderr",
          "text": [
            "[Parallel(n_jobs=100)]: Using backend ThreadingBackend with 100 concurrent workers.\n"
          ]
        },
        {
          "output_type": "stream",
          "name": "stdout",
          "text": [
            "            Time        V1        V2        V3        V4        V5        V6  \\\n",
            "186882  127294.0 -2.537331  1.890864 -0.840555 -1.102759 -2.105725  0.367811   \n",
            "165754  117632.0 -0.250839  1.104108  0.206089  0.417324  1.204079 -0.350694   \n",
            "235285  148330.0  0.568980 -2.520416 -1.114138  1.670652 -1.128945  0.398822   \n",
            "101271   67778.0  1.328892  0.226908 -0.308968  0.381772  0.238490 -0.282946   \n",
            "5832      6308.0  1.124863 -0.165691  1.337053  1.030033 -0.891116  0.202926   \n",
            "...          ...       ...       ...       ...       ...       ...       ...   \n",
            "64725    51279.0 -1.808185  1.328808 -0.991449 -2.473986  2.185095  3.496806   \n",
            "16688    28048.0 -0.442905  0.716727  1.256775  0.860048  1.210872  1.066390   \n",
            "183868  125990.0  2.092418 -0.931315 -1.553089 -1.131369 -0.197801 -0.373117   \n",
            "45011    42168.0  1.293234  0.097565 -0.209304  0.329036  0.034958 -0.145507   \n",
            "150527   93609.0  2.214016 -0.584030 -1.238673 -0.702993 -0.184492 -0.646248   \n",
            "\n",
            "              V7        V8        V9  ...       V20       V21       V22  \\\n",
            "186882 -2.737844 -3.543314 -0.483147  ... -1.959611  4.328165 -2.167329   \n",
            "165754  1.369769 -0.133535 -0.957100  ... -0.128120  0.133048  0.499501   \n",
            "235285  0.190403  0.161493  0.840595  ...  1.039287  0.318037 -0.760732   \n",
            "101271  0.029460 -0.079962  0.227173  ... -0.050933 -0.379270 -1.148959   \n",
            "5832   -0.825094  0.163280  2.301808  ... -0.196966 -0.216512 -0.195607   \n",
            "...          ...       ...       ...  ...       ...       ...       ...   \n",
            "64725  -1.030373 -1.860286  0.182992  ...  0.745500 -1.441887 -0.020080   \n",
            "16688   0.888914 -0.176599 -0.172991  ...  0.310200 -0.154031  0.271637   \n",
            "183868 -0.390388 -0.119017 -0.702381  ...  0.120353 -0.008183 -0.274004   \n",
            "45011  -0.203271  0.153076  0.217831  ... -0.186409 -0.340111 -1.128741   \n",
            "150527 -0.425560 -0.352428  0.869265  ... -0.033153 -0.182835 -0.224863   \n",
            "\n",
            "             V23       V24       V25       V26       V27       V28  Amount  \n",
            "186882  1.022567 -0.241143 -1.094885 -0.475427 -0.177157 -0.082691   37.40  \n",
            "165754 -0.392572 -0.393364  0.233354 -0.490717  0.143897  0.136810    9.27  \n",
            "235285 -0.181332  0.595866 -0.760920 -1.048927 -0.096970  0.088686  700.00  \n",
            "101271 -0.047403 -1.074464  0.375683  0.182045 -0.031732  0.017501   14.99  \n",
            "5832    0.072785  0.045625  0.135192  0.308617  0.001142  0.017673   17.25  \n",
            "...          ...       ...       ...       ...       ...       ...     ...  \n",
            "64725   0.256883  1.014602 -0.108679  0.672870 -0.701644 -0.338981    0.92  \n",
            "16688  -0.262547 -1.125678  0.019374 -0.233577 -0.013664 -0.274549   13.74  \n",
            "183868  0.214650  0.257477 -0.193262 -0.458271 -0.056360 -0.053928   74.00  \n",
            "45011   0.000733 -0.956668  0.259784  0.158010 -0.044116  0.003539    1.98  \n",
            "150527  0.257899  0.558856 -0.060775 -0.391478 -0.057635 -0.059988   15.90  \n",
            "\n",
            "[85443 rows x 30 columns]\n"
          ]
        },
        {
          "output_type": "stream",
          "name": "stderr",
          "text": [
            "[Parallel(n_jobs=100)]: Done 250 tasks      | elapsed:    1.8s\n",
            "[Parallel(n_jobs=100)]: Done 600 tasks      | elapsed:    3.8s\n",
            "[Parallel(n_jobs=100)]: Done 1000 out of 1000 | elapsed:    5.9s finished\n"
          ]
        }
      ],
      "source": [
        "print(X_test)\n",
        "resultado_rl = model.predict(X_test)"
      ]
    },
    {
      "cell_type": "code",
      "execution_count": null,
      "metadata": {
        "id": "tVIlkR3txsxP",
        "colab": {
          "base_uri": "https://localhost:8080/",
          "height": 612
        },
        "outputId": "d1118268-2e04-4097-abb2-d674af05ffa0"
      },
      "outputs": [
        {
          "output_type": "display_data",
          "data": {
            "text/plain": [
              "<Figure size 640x480 with 2 Axes>"
            ],
            "image/png": "[encoded data removed]"
          },
          "metadata": {}
        },
        {
          "output_type": "stream",
          "name": "stdout",
          "text": [
            "\n",
            "Métricas\n",
            "\n",
            "Acurácia: 100.000000%\n",
            "Precisão: 100.000000%\n",
            "Recall:  100.000000%\n",
            "F1 Score:  100.000000%\n",
            "F1 Score:  100.000000%\n",
            "MCC:  100.000000%\n"
          ]
        }
      ],
      "source": [
        "cf_matrix = confusion_matrix(y_train_sm_1090, y_pred_rl)\n",
        "sn.heatmap(cf_matrix, cmap='coolwarm', annot=True, linewidth=1, fmt='d')\n",
        "plt.xlabel('Expectativa')\n",
        "plt.ylabel('Previsto pelo modelo')\n",
        "print(\"\\nMÉTRICAS TREINAMENTO\\n \\nSMOTE 1090\\n\")\n",
        "plt.show()\n",
        "print(f'Acurácia: {accuracy_score(y_train_sm_1090, y_pred_rl):%}')\n",
        "print(f'Precisão: {precision_score(y_train_sm_1090, y_pred_rl):%}')\n",
        "print(f'Recall:  {recall_score(y_train_sm_1090, y_pred_rl):%}')\n",
        "print(f'F1 Score:  {f1_score(y_train_sm_1090, y_pred_rl):%}')\n",
        "print(f'MCC:  {matthews_corrcoef(y_train_sm_1090, y_pred_rl):%}')\n",
        "cf_matrix = confusion_matrix(y_test, resultado_rl)\n",
        "sn.heatmap(cf_matrix, cmap='coolwarm', annot=True, linewidth=1, fmt='d')\n",
        "plt.xlabel('Expectativa')\n",
        "plt.ylabel('Previsto pelo modelo')\n",
        "print(\"\\nMÉTRICAS TESTE\\n \\nSMOTE 1090\\n\")\n",
        "plt.show()\n",
        "print(f'Acurácia: {accuracy_score(y_test, resultado_rl):%}')\n",
        "print(f'Precisão: {precision_score(y_test, resultado_rl):%}')\n",
        "print(f'Recall:  {recall_score(y_test, resultado_rl):%}')\n",
        "print(f'F1 Score:  {f1_score(y_test, resultado_rl):%}')\n",
        "print(f'MCC:  {matthews_corrcoef(y_test, resultado_rl):%}')\n",
        "\n",
        "\n",
        "print(\"\\nMÉTRICA AUC ROC\\n\")\n",
        "fpr1, tpr1, thresh1 = roc_curve(y_train_sm_1090, y_pred_rl, pos_label=1)\n",
        "fpr2, tpr2, thresh2 = roc_curve(y_test, resultado_rl, pos_label=1)\n",
        "\n",
        "random_probs = [0 for i in range(len(y_test))]\n",
        "p_fpr, p_tpr, _ = roc_curve(y_test, random_probs, pos_label=1)\n",
        "\n",
        "random_probs = [0 for i in range(len(y_test))]\n",
        "p_fpr, p_tpr, _ = roc_curve(y_test, random_probs, pos_label=1)\n",
        "\n",
        "auc_score1 = roc_auc_score(y_train_sm_1090, y_pred_rl)\n",
        "auc_score2 = roc_auc_score(y_test, resultado_rl)\n",
        "\n",
        "print(\"Treinamento: \",auc_score1, \"\\nTeste:\", auc_score2)\n",
        "\n",
        "plt.plot(fpr1, tpr1, linestyle='--',color='orange', label='Treinamento')\n",
        "plt.plot(fpr2, tpr2, linestyle='--',color='green', label='Test')\n",
        "plt.plot(p_fpr, p_tpr, linestyle='--', color='blue')\n",
        "plt.title('ROC curve')\n",
        "plt.xlabel('False Positive Rate')\n",
        "plt.ylabel('True Positive rate')\n",
        "\n",
        "plt.legend(loc='best')\n",
        "plt.savefig('ROC')\n",
        "plt.show();"
      ]
    },
    {
      "cell_type": "markdown",
      "metadata": {
        "id": "x-eHK7uJyTGC"
      },
      "source": [
        "#####**MODELO 2**"
      ]
    },
    {
      "cell_type": "code",
      "execution_count": null,
      "metadata": {
        "id": "uDX8rLBbyV3Y",
        "outputId": "784204c0-c10b-45f9-82c6-3d1943dfb1de",
        "colab": {
          "base_uri": "https://localhost:8080/"
        }
      },
      "outputs": [
        {
          "output_type": "stream",
          "name": "stdout",
          "text": [
            "              precision    recall  f1-score   support\n",
            "\n",
            "           0       1.00      1.00      1.00    198698\n",
            "           1       1.00      1.00      1.00     22055\n",
            "\n",
            "    accuracy                           1.00    220753\n",
            "   macro avg       1.00      1.00      1.00    220753\n",
            "weighted avg       1.00      1.00      1.00    220753\n",
            "\n"
          ]
        }
      ],
      "source": [
        "model = cuRandomForestClassifier(max_iter=10000, solver='qn')  # qn é equivalente ao saga\n",
        "model.fit(X_train_sm_1090, y_train_sm_1090)\n",
        "y_pred_curl = model.predict(X_train_sm_1090)\n",
        "\n",
        "print(classification_report(y_train_sm_1090, y_pred_curl))"
      ]
    },
    {
      "cell_type": "code",
      "execution_count": null,
      "metadata": {
        "id": "WX4agspbyYBE",
        "outputId": "d5a982a0-684e-40e6-e751-81aab8c25d81",
        "colab": {
          "base_uri": "https://localhost:8080/"
        }
      },
      "outputs": [
        {
          "output_type": "stream",
          "name": "stdout",
          "text": [
            "            Time        V1        V2        V3        V4        V5        V6  \\\n",
            "186882  127294.0 -2.537331  1.890864 -0.840555 -1.102759 -2.105725  0.367811   \n",
            "165754  117632.0 -0.250839  1.104108  0.206089  0.417324  1.204079 -0.350694   \n",
            "235285  148330.0  0.568980 -2.520416 -1.114138  1.670652 -1.128945  0.398822   \n",
            "101271   67778.0  1.328892  0.226908 -0.308968  0.381772  0.238490 -0.282946   \n",
            "5832      6308.0  1.124863 -0.165691  1.337053  1.030033 -0.891116  0.202926   \n",
            "...          ...       ...       ...       ...       ...       ...       ...   \n",
            "64725    51279.0 -1.808185  1.328808 -0.991449 -2.473986  2.185095  3.496806   \n",
            "16688    28048.0 -0.442905  0.716727  1.256775  0.860048  1.210872  1.066390   \n",
            "183868  125990.0  2.092418 -0.931315 -1.553089 -1.131369 -0.197801 -0.373117   \n",
            "45011    42168.0  1.293234  0.097565 -0.209304  0.329036  0.034958 -0.145507   \n",
            "150527   93609.0  2.214016 -0.584030 -1.238673 -0.702993 -0.184492 -0.646248   \n",
            "\n",
            "              V7        V8        V9  ...       V20       V21       V22  \\\n",
            "186882 -2.737844 -3.543314 -0.483147  ... -1.959611  4.328165 -2.167329   \n",
            "165754  1.369769 -0.133535 -0.957100  ... -0.128120  0.133048  0.499501   \n",
            "235285  0.190403  0.161493  0.840595  ...  1.039287  0.318037 -0.760732   \n",
            "101271  0.029460 -0.079962  0.227173  ... -0.050933 -0.379270 -1.148959   \n",
            "5832   -0.825094  0.163280  2.301808  ... -0.196966 -0.216512 -0.195607   \n",
            "...          ...       ...       ...  ...       ...       ...       ...   \n",
            "64725  -1.030373 -1.860286  0.182992  ...  0.745500 -1.441887 -0.020080   \n",
            "16688   0.888914 -0.176599 -0.172991  ...  0.310200 -0.154031  0.271637   \n",
            "183868 -0.390388 -0.119017 -0.702381  ...  0.120353 -0.008183 -0.274004   \n",
            "45011  -0.203271  0.153076  0.217831  ... -0.186409 -0.340111 -1.128741   \n",
            "150527 -0.425560 -0.352428  0.869265  ... -0.033153 -0.182835 -0.224863   \n",
            "\n",
            "             V23       V24       V25       V26       V27       V28  Amount  \n",
            "186882  1.022567 -0.241143 -1.094885 -0.475427 -0.177157 -0.082691   37.40  \n",
            "165754 -0.392572 -0.393364  0.233354 -0.490717  0.143897  0.136810    9.27  \n",
            "235285 -0.181332  0.595866 -0.760920 -1.048927 -0.096970  0.088686  700.00  \n",
            "101271 -0.047403 -1.074464  0.375683  0.182045 -0.031732  0.017501   14.99  \n",
            "5832    0.072785  0.045625  0.135192  0.308617  0.001142  0.017673   17.25  \n",
            "...          ...       ...       ...       ...       ...       ...     ...  \n",
            "64725   0.256883  1.014602 -0.108679  0.672870 -0.701644 -0.338981    0.92  \n",
            "16688  -0.262547 -1.125678  0.019374 -0.233577 -0.013664 -0.274549   13.74  \n",
            "183868  0.214650  0.257477 -0.193262 -0.458271 -0.056360 -0.053928   74.00  \n",
            "45011   0.000733 -0.956668  0.259784  0.158010 -0.044116  0.003539    1.98  \n",
            "150527  0.257899  0.558856 -0.060775 -0.391478 -0.057635 -0.059988   15.90  \n",
            "\n",
            "[85443 rows x 30 columns]\n"
          ]
        }
      ],
      "source": [
        "print(X_test)\n",
        "resultado_curl = model.predict(X_test)"
      ]
    },
    {
      "cell_type": "code",
      "execution_count": null,
      "metadata": {
        "id": "GQ30Oe_3yYgu",
        "outputId": "cbe3f384-1a4b-463c-8a90-915335ae1f09",
        "colab": {
          "base_uri": "https://localhost:8080/",
          "height": 594
        }
      },
      "outputs": [
        {
          "output_type": "display_data",
          "data": {
            "text/plain": [
              "<Figure size 640x480 with 2 Axes>"
            ],
            "image/png": "[encoded data removed]"
          },
          "metadata": {}
        },
        {
          "output_type": "stream",
          "name": "stdout",
          "text": [
            "\n",
            "Métricas:\n",
            "\n",
            "Acurácia: 99.959683%\n",
            "Precisão: 100.000000%\n",
            "Recall:  99.596463%\n",
            "F1 Score:  99.797824%\n",
            "MCC:  99.775685%\n"
          ]
        }
      ],
      "source": [
        "cf_matrix = confusion_matrix(y_train_sm_1090, y_pred_curl)\n",
        "sn.heatmap(cf_matrix, cmap='coolwarm', annot=True, linewidth=1, fmt='d')\n",
        "plt.xlabel('Expectativa')\n",
        "plt.ylabel('Previsto pelo modelo')\n",
        "print(\"\\nMÉTRICAS TREINAMENTO\\n \\nSMOTE 1090\\n\")\n",
        "plt.show()\n",
        "print(f'Acurácia: {accuracy_score(y_train_sm_1090, y_pred_curl):%}')\n",
        "print(f'Precisão: {precision_score(y_train_sm_1090, y_pred_curl):%}')\n",
        "print(f'Recall:  {recall_score(y_train_sm_1090, y_pred_curl):%}')\n",
        "print(f'F1 Score:  {f1_score(y_train_sm_1090, y_pred_curl):%}')\n",
        "print(f'MCC:  {matthews_corrcoef(y_train_sm_1090, y_pred_curl):%}')\n",
        "cf_matrix = confusion_matrix(y_test, resultado_curl)\n",
        "sn.heatmap(cf_matrix, cmap='coolwarm', annot=True, linewidth=1, fmt='d')\n",
        "plt.xlabel('Expectativa')\n",
        "plt.ylabel('Previsto pelo modelo')\n",
        "print(\"\\nMÉTRICAS TESTE\\n \\nSMOTE 1090\\n\")\n",
        "plt.show()\n",
        "print(f'Acurácia: {accuracy_score(y_test, resultado_curl):%}')\n",
        "print(f'Precisão: {precision_score(y_test, resultado_curl):%}')\n",
        "print(f'Recall:  {recall_score(y_test, resultado_curl):%}')\n",
        "print(f'F1 Score:  {f1_score(y_test, resultado_curl):%}')\n",
        "print(f'MCC:  {matthews_corrcoef(y_test, resultado_curl):%}')\n",
        "\n",
        "\n",
        "print(\"\\nMÉTRICA AUC ROC\\n\")\n",
        "fpr1, tpr1, thresh1 = roc_curve(y_train_sm_1090, y_pred_curl, pos_label=1)\n",
        "fpr2, tpr2, thresh2 = roc_curve(y_test, resultado_curl, pos_label=1)\n",
        "\n",
        "random_probs = [0 for i in range(len(y_test))]\n",
        "p_fpr, p_tpr, _ = roc_curve(y_test, random_probs, pos_label=1)\n",
        "\n",
        "random_probs = [0 for i in range(len(y_test))]\n",
        "p_fpr, p_tpr, _ = roc_curve(y_test, random_probs, pos_label=1)\n",
        "\n",
        "auc_score1 = roc_auc_score(y_train_sm_1090, y_pred_curl)\n",
        "auc_score2 = roc_auc_score(y_test, resultado_curl)\n",
        "\n",
        "print(\"Treinamento: \",auc_score1, \"\\nTeste:\", auc_score2)\n",
        "\n",
        "plt.plot(fpr1, tpr1, linestyle='--',color='orange', label='Treinamento')\n",
        "plt.plot(fpr2, tpr2, linestyle='--',color='green', label='Test')\n",
        "plt.plot(p_fpr, p_tpr, linestyle='--', color='blue')\n",
        "plt.title('ROC curve')\n",
        "plt.xlabel('False Positive Rate')\n",
        "plt.ylabel('True Positive rate')\n",
        "\n",
        "plt.legend(loc='best')\n",
        "plt.savefig('ROC')\n",
        "plt.show();"
      ]
    },
    {
      "cell_type": "markdown",
      "metadata": {
        "id": "hiDmWncPzctL"
      },
      "source": [
        "#**MODELOS TREINAMENTO 50:50**"
      ]
    },
    {
      "cell_type": "markdown",
      "metadata": {
        "id": "lc5oKPsiu9In"
      },
      "source": [
        "#####**MODELO 1**"
      ]
    },
    {
      "cell_type": "code",
      "execution_count": null,
      "metadata": {
        "id": "119eff53-a10b-4453-8e1a-5e8df48af2e3",
        "outputId": "f2f81158-e40f-41b9-fb28-68734ea8beeb",
        "colab": {
          "base_uri": "https://localhost:8080/",
          "height": 237
        }
      },
      "outputs": [
        {
          "output_type": "error",
          "ename": "TypeError",
          "evalue": "RandomForestClassifier.__init__() got an unexpected keyword argument 'solver'",
          "traceback": [
            "\u001b[0;31m---------------------------------------------------------------------------\u001b[0m",
            "\u001b[0;31mTypeError\u001b[0m                                 Traceback (most recent call last)",
            "\u001b[0;32m/tmp/ipython-input-27-362595917.py\u001b[0m in \u001b[0;36m<cell line: 0>\u001b[0;34m()\u001b[0m\n\u001b[0;32m----> 1\u001b[0;31m \u001b[0mmodel\u001b[0m \u001b[0;34m=\u001b[0m \u001b[0mRandomForestClassifier\u001b[0m\u001b[0;34m(\u001b[0m\u001b[0msolver\u001b[0m\u001b[0;34m=\u001b[0m\u001b[0;34m'saga'\u001b[0m\u001b[0;34m,\u001b[0m \u001b[0mmax_iter\u001b[0m\u001b[0;34m=\u001b[0m\u001b[0;36m6000\u001b[0m\u001b[0;34m,\u001b[0m \u001b[0mclass_weight\u001b[0m\u001b[0;34m=\u001b[0m\u001b[0;34m{\u001b[0m\u001b[0;36m0\u001b[0m\u001b[0;34m:\u001b[0m \u001b[0;36m1\u001b[0m\u001b[0;34m,\u001b[0m \u001b[0;36m1\u001b[0m\u001b[0;34m:\u001b[0m \u001b[0;36m10\u001b[0m\u001b[0;34m}\u001b[0m\u001b[0;34m,\u001b[0m \u001b[0mverbose\u001b[0m\u001b[0;34m=\u001b[0m\u001b[0;36m1\u001b[0m\u001b[0;34m,\u001b[0m \u001b[0mn_jobs\u001b[0m\u001b[0;34m=\u001b[0m\u001b[0;36m100\u001b[0m\u001b[0;34m)\u001b[0m \u001b[0;31m#Quanto maior o número de iterações, melhor o resultado\u001b[0m\u001b[0;34m\u001b[0m\u001b[0;34m\u001b[0m\u001b[0m\n\u001b[0m\u001b[1;32m      2\u001b[0m \u001b[0mmodel\u001b[0m\u001b[0;34m.\u001b[0m\u001b[0mfit\u001b[0m\u001b[0;34m(\u001b[0m\u001b[0mX_train_sm_5050\u001b[0m\u001b[0;34m,\u001b[0m\u001b[0my_train_sm_5050\u001b[0m\u001b[0;34m)\u001b[0m\u001b[0;34m\u001b[0m\u001b[0;34m\u001b[0m\u001b[0m\n\u001b[1;32m      3\u001b[0m \u001b[0my_pred_rl\u001b[0m \u001b[0;34m=\u001b[0m \u001b[0mmodel\u001b[0m\u001b[0;34m.\u001b[0m\u001b[0mpredict\u001b[0m\u001b[0;34m(\u001b[0m\u001b[0mX_train_sm_5050\u001b[0m\u001b[0;34m)\u001b[0m\u001b[0;34m\u001b[0m\u001b[0;34m\u001b[0m\u001b[0m\n\u001b[1;32m      4\u001b[0m \u001b[0;34m\u001b[0m\u001b[0m\n\u001b[1;32m      5\u001b[0m \u001b[0mprint\u001b[0m\u001b[0;34m(\u001b[0m\u001b[0mclassification_report\u001b[0m\u001b[0;34m(\u001b[0m\u001b[0my_train_sm_5050\u001b[0m\u001b[0;34m,\u001b[0m \u001b[0my_pred_rl\u001b[0m\u001b[0;34m)\u001b[0m\u001b[0;34m)\u001b[0m\u001b[0;34m\u001b[0m\u001b[0;34m\u001b[0m\u001b[0m\n",
            "\u001b[0;31mTypeError\u001b[0m: RandomForestClassifier.__init__() got an unexpected keyword argument 'solver'"
          ]
        }
      ],
      "source": [
        "model = RandomForestClassifier(solver='saga', max_iter=6000, class_weight={0: 1, 1: 10}, verbose=1, n_jobs=100) #Quanto maior o número de iterações, melhor o resultado\n",
        "model.fit(X_train_sm_5050,y_train_sm_5050)\n",
        "y_pred_rl = model.predict(X_train_sm_5050)\n",
        "\n",
        "print(classification_report(y_train_sm_5050, y_pred_rl))"
      ]
    },
    {
      "cell_type": "code",
      "execution_count": null,
      "metadata": {
        "id": "3d47929c-6d4e-47f1-8a20-89fdcc0eb092",
        "scrolled": true
      },
      "outputs": [],
      "source": [
        "print(X_test)\n",
        "resultado_rl = model.predict(X_test)"
      ]
    },
    {
      "cell_type": "code",
      "execution_count": null,
      "metadata": {
        "id": "zoYdlHGoAb5m"
      },
      "outputs": [],
      "source": [
        "cf_matrix = confusion_matrix(y_train_sm_5050, y_pred_rl)\n",
        "sn.heatmap(cf_matrix, cmap='coolwarm', annot=True, linewidth=1, fmt='d')\n",
        "plt.xlabel('Expectativa')\n",
        "plt.ylabel('Previsto pelo modelo')\n",
        "print(\"\\nMÉTRICAS TREINAMENTO\\n \\nSMOTE 5050\\n\")\n",
        "plt.show()\n",
        "print(f'Acurácia: {accuracy_score(y_train_sm_5050, y_pred_rl):%}')\n",
        "print(f'Precisão: {precision_score(y_train_sm_5050, y_pred_rl):%}')\n",
        "print(f'Recall:  {recall_score(y_train_sm_5050, y_pred_rl):%}')\n",
        "print(f'F1 Score:  {f1_score(y_train_sm_5050, y_pred_rl):%}')\n",
        "print(f'MCC:  {matthews_corrcoef(y_train_sm_5050, y_pred_rl):%}')\n",
        "cf_matrix = confusion_matrix(y_test, resultado_rl)\n",
        "sn.heatmap(cf_matrix, cmap='coolwarm', annot=True, linewidth=1, fmt='d')\n",
        "plt.xlabel('Expectativa')\n",
        "plt.ylabel('Previsto pelo modelo')\n",
        "print(\"\\nMÉTRICAS TESTE\\n \\nSMOTE 5050\\n\")\n",
        "plt.show()\n",
        "print(f'Acurácia: {accuracy_score(y_test, resultado_rl):%}')\n",
        "print(f'Precisão: {precision_score(y_test, resultado_rl):%}')\n",
        "print(f'Recall:  {recall_score(y_test, resultado_rl):%}')\n",
        "print(f'F1 Score:  {f1_score(y_test, resultado_rl):%}')\n",
        "print(f'MCC:  {matthews_corrcoef(y_test, resultado_rl):%}')\n",
        "\n",
        "\n",
        "print(\"\\nMÉTRICA AUC ROC\\n\")\n",
        "fpr1, tpr1, thresh1 = roc_curve(y_train_sm_5050, y_pred_rl, pos_label=1)\n",
        "fpr2, tpr2, thresh2 = roc_curve(y_test, resultado_rl, pos_label=1)\n",
        "\n",
        "random_probs = [0 for i in range(len(y_test))]\n",
        "p_fpr, p_tpr, _ = roc_curve(y_test, random_probs, pos_label=1)\n",
        "\n",
        "random_probs = [0 for i in range(len(y_test))]\n",
        "p_fpr, p_tpr, _ = roc_curve(y_test, random_probs, pos_label=1)\n",
        "\n",
        "auc_score1 = roc_auc_score(y_train_sm_5050, y_pred_rl)\n",
        "auc_score2 = roc_auc_score(y_test, resultado_rl)\n",
        "\n",
        "print(\"Treinamento: \",auc_score1, \"\\nTeste:\", auc_score2)\n",
        "\n",
        "plt.plot(fpr1, tpr1, linestyle='--',color='orange', label='Treinamento')\n",
        "plt.plot(fpr2, tpr2, linestyle='--',color='green', label='Test')\n",
        "plt.plot(p_fpr, p_tpr, linestyle='--', color='blue')\n",
        "plt.title('ROC curve')\n",
        "plt.xlabel('False Positive Rate')\n",
        "plt.ylabel('True Positive rate')\n",
        "\n",
        "plt.legend(loc='best')\n",
        "plt.savefig('ROC')\n",
        "plt.show();"
      ]
    },
    {
      "cell_type": "markdown",
      "metadata": {
        "id": "lkUEZrsqu_A9"
      },
      "source": [
        "#####**MODELO 2**"
      ]
    },
    {
      "cell_type": "code",
      "execution_count": null,
      "metadata": {
        "id": "j7JfEvwEHfLL",
        "outputId": "a50ccf5e-cfa3-40e6-e46f-9d2cd0ccbb61",
        "colab": {
          "base_uri": "https://localhost:8080/"
        }
      },
      "outputs": [
        {
          "output_type": "stream",
          "name": "stdout",
          "text": [
            "              precision    recall  f1-score   support\n",
            "\n",
            "           0       1.00      1.00      1.00    198698\n",
            "           1       1.00      1.00      1.00    198698\n",
            "\n",
            "    accuracy                           1.00    397396\n",
            "   macro avg       1.00      1.00      1.00    397396\n",
            "weighted avg       1.00      1.00      1.00    397396\n",
            "\n"
          ]
        }
      ],
      "source": [
        "model = cuRandomForestClassifier(verbose=1)\n",
        "model.fit(X_train_sm_5050, y_train_sm_5050)\n",
        "y_pred_curl = model.predict(X_train_sm_5050)\n",
        "\n",
        "print(classification_report(y_train_sm_5050, y_pred_curl))"
      ]
    },
    {
      "cell_type": "code",
      "execution_count": null,
      "metadata": {
        "id": "P6eXcyB2UMvn",
        "outputId": "048c5b56-2291-4afb-f30a-c679a6b1cb42",
        "colab": {
          "base_uri": "https://localhost:8080/"
        }
      },
      "outputs": [
        {
          "output_type": "stream",
          "name": "stdout",
          "text": [
            "            Time        V1        V2        V3        V4        V5        V6  \\\n",
            "186882  127294.0 -2.537331  1.890864 -0.840555 -1.102759 -2.105725  0.367811   \n",
            "165754  117632.0 -0.250839  1.104108  0.206089  0.417324  1.204079 -0.350694   \n",
            "235285  148330.0  0.568980 -2.520416 -1.114138  1.670652 -1.128945  0.398822   \n",
            "101271   67778.0  1.328892  0.226908 -0.308968  0.381772  0.238490 -0.282946   \n",
            "5832      6308.0  1.124863 -0.165691  1.337053  1.030033 -0.891116  0.202926   \n",
            "...          ...       ...       ...       ...       ...       ...       ...   \n",
            "64725    51279.0 -1.808185  1.328808 -0.991449 -2.473986  2.185095  3.496806   \n",
            "16688    28048.0 -0.442905  0.716727  1.256775  0.860048  1.210872  1.066390   \n",
            "183868  125990.0  2.092418 -0.931315 -1.553089 -1.131369 -0.197801 -0.373117   \n",
            "45011    42168.0  1.293234  0.097565 -0.209304  0.329036  0.034958 -0.145507   \n",
            "150527   93609.0  2.214016 -0.584030 -1.238673 -0.702993 -0.184492 -0.646248   \n",
            "\n",
            "              V7        V8        V9  ...       V20       V21       V22  \\\n",
            "186882 -2.737844 -3.543314 -0.483147  ... -1.959611  4.328165 -2.167329   \n",
            "165754  1.369769 -0.133535 -0.957100  ... -0.128120  0.133048  0.499501   \n",
            "235285  0.190403  0.161493  0.840595  ...  1.039287  0.318037 -0.760732   \n",
            "101271  0.029460 -0.079962  0.227173  ... -0.050933 -0.379270 -1.148959   \n",
            "5832   -0.825094  0.163280  2.301808  ... -0.196966 -0.216512 -0.195607   \n",
            "...          ...       ...       ...  ...       ...       ...       ...   \n",
            "64725  -1.030373 -1.860286  0.182992  ...  0.745500 -1.441887 -0.020080   \n",
            "16688   0.888914 -0.176599 -0.172991  ...  0.310200 -0.154031  0.271637   \n",
            "183868 -0.390388 -0.119017 -0.702381  ...  0.120353 -0.008183 -0.274004   \n",
            "45011  -0.203271  0.153076  0.217831  ... -0.186409 -0.340111 -1.128741   \n",
            "150527 -0.425560 -0.352428  0.869265  ... -0.033153 -0.182835 -0.224863   \n",
            "\n",
            "             V23       V24       V25       V26       V27       V28  Amount  \n",
            "186882  1.022567 -0.241143 -1.094885 -0.475427 -0.177157 -0.082691   37.40  \n",
            "165754 -0.392572 -0.393364  0.233354 -0.490717  0.143897  0.136810    9.27  \n",
            "235285 -0.181332  0.595866 -0.760920 -1.048927 -0.096970  0.088686  700.00  \n",
            "101271 -0.047403 -1.074464  0.375683  0.182045 -0.031732  0.017501   14.99  \n",
            "5832    0.072785  0.045625  0.135192  0.308617  0.001142  0.017673   17.25  \n",
            "...          ...       ...       ...       ...       ...       ...     ...  \n",
            "64725   0.256883  1.014602 -0.108679  0.672870 -0.701644 -0.338981    0.92  \n",
            "16688  -0.262547 -1.125678  0.019374 -0.233577 -0.013664 -0.274549   13.74  \n",
            "183868  0.214650  0.257477 -0.193262 -0.458271 -0.056360 -0.053928   74.00  \n",
            "45011   0.000733 -0.956668  0.259784  0.158010 -0.044116  0.003539    1.98  \n",
            "150527  0.257899  0.558856 -0.060775 -0.391478 -0.057635 -0.059988   15.90  \n",
            "\n",
            "[85443 rows x 30 columns]\n"
          ]
        }
      ],
      "source": [
        "print(X_test)\n",
        "resultado_curl = model.predict(X_test)"
      ]
    },
    {
      "cell_type": "code",
      "execution_count": null,
      "metadata": {
        "id": "fJESw7NgULPm",
        "outputId": "6129c275-1f42-45a7-8c07-81f0b63662a0",
        "colab": {
          "base_uri": "https://localhost:8080/",
          "height": 540
        }
      },
      "outputs": [
        {
          "output_type": "display_data",
          "data": {
            "text/plain": [
              "<Figure size 640x480 with 2 Axes>"
            ],
            "image/png": "[encoded data removed]"
          },
          "metadata": {}
        },
        {
          "output_type": "stream",
          "name": "stdout",
          "text": [
            "Acurácia: 99.989934%\n",
            "Precisão: 99.979873%\n",
            "Recall:  100.000000%\n",
            "F1 Score:  99.989935%\n",
            "MCC:  99.979871%\n"
          ]
        }
      ],
      "source": [
        "cf_matrix = confusion_matrix(y_train_sm_5050, y_pred_curl)\n",
        "sn.heatmap(cf_matrix, cmap='coolwarm', annot=True, linewidth=1, fmt='d')\n",
        "plt.xlabel('Expectativa')\n",
        "plt.ylabel('Previsto pelo modelo')\n",
        "print(\"\\nMÉTRICAS TREINAMENTO\\n \\nSMOTE 1090\\n\")\n",
        "plt.show()\n",
        "print(f'Acurácia: {accuracy_score(y_train_sm_5050, y_pred_curl):%}')\n",
        "print(f'Precisão: {precision_score(y_train_sm_5050, y_pred_curl):%}')\n",
        "print(f'Recall:  {recall_score(y_train_sm_5050, y_pred_curl):%}')\n",
        "print(f'F1 Score:  {f1_score(y_train_sm_5050, y_pred_curl):%}')\n",
        "print(f'MCC:  {matthews_corrcoef(y_train_sm_5050, y_pred_curl):%}')\n",
        "cf_matrix = confusion_matrix(y_test, resultado_curl)\n",
        "sn.heatmap(cf_matrix, cmap='coolwarm', annot=True, linewidth=1, fmt='d')\n",
        "plt.xlabel('Expectativa')\n",
        "plt.ylabel('Previsto pelo modelo')\n",
        "print(\"\\nMÉTRICAS TESTE\\n \\nSMOTE 5050\\n\")\n",
        "plt.show()\n",
        "print(f'Acurácia: {accuracy_score(y_test, resultado_curl):%}')\n",
        "print(f'Precisão: {precision_score(y_test, resultado_curl):%}')\n",
        "print(f'Recall:  {recall_score(y_test, resultado_curl):%}')\n",
        "print(f'F1 Score:  {f1_score(y_test, resultado_curl):%}')\n",
        "print(f'MCC:  {matthews_corrcoef(y_test, resultado_curl):%}')\n",
        "\n",
        "\n",
        "print(\"\\nMÉTRICA AUC ROC\\n\")\n",
        "fpr1, tpr1, thresh1 = roc_curve(y_train_sm_5050, y_pred_curl, pos_label=1)\n",
        "fpr2, tpr2, thresh2 = roc_curve(y_test, resultado_curl, pos_label=1)\n",
        "\n",
        "random_probs = [0 for i in range(len(y_test))]\n",
        "p_fpr, p_tpr, _ = roc_curve(y_test, random_probs, pos_label=1)\n",
        "\n",
        "random_probs = [0 for i in range(len(y_test))]\n",
        "p_fpr, p_tpr, _ = roc_curve(y_test, random_probs, pos_label=1)\n",
        "\n",
        "auc_score1 = roc_auc_score(y_train_sm_5050, y_pred_curl)\n",
        "auc_score2 = roc_auc_score(y_test, resultado_curl)\n",
        "\n",
        "print(\"Treinamento: \",auc_score1, \"\\nTeste:\", auc_score2)\n",
        "\n",
        "plt.plot(fpr1, tpr1, linestyle='--',color='orange', label='Treinamento')\n",
        "plt.plot(fpr2, tpr2, linestyle='--',color='green', label='Test')\n",
        "plt.plot(p_fpr, p_tpr, linestyle='--', color='blue')\n",
        "plt.title('ROC curve')\n",
        "plt.xlabel('False Positive Rate')\n",
        "plt.ylabel('True Positive rate')\n",
        "\n",
        "plt.legend(loc='best')\n",
        "plt.savefig('ROC')\n",
        "plt.show();"
      ]
    }
  ],
  "metadata": {
    "accelerator": "GPU",
    "colab": {
      "gpuType": "T4",
      "toc_visible": true,
      "provenance": [],
      "include_colab_link": true
    },
    "kernelspec": {
      "display_name": "Python 3",
      "name": "python3"
    },
    "language_info": {
      "name": "python"
    }
  },
  "nbformat": 4,
  "nbformat_minor": 0
}