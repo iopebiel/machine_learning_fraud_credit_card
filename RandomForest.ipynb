{
  "cells": [
    {
      "cell_type": "markdown",
      "metadata": {
        "id": "view-in-github",
        "colab_type": "text"
      },
      "source": [
        "<a href=\"https://colab.research.google.com/github/iopebiel/modelo_fraudes_em_cartao/blob/randomForest/RandomForest.ipynb\" target=\"_parent\"><img src=\"https://colab.research.google.com/assets/colab-badge.svg\" alt=\"Open In Colab\"/></a>"
      ]
    },
    {
      "cell_type": "code",
      "execution_count": 1,
      "metadata": {
        "colab": {
          "base_uri": "https://localhost:8080/"
        },
        "id": "6u0d7udHDdcH",
        "outputId": "a9fd06f3-b73b-4707-8d0d-120ec7ce95fd"
      },
      "outputs": [
        {
          "output_type": "stream",
          "name": "stdout",
          "text": [
            "Collecting imblearn\n",
            "  Downloading imblearn-0.0-py2.py3-none-any.whl.metadata (355 bytes)\n",
            "Requirement already satisfied: imbalanced-learn in /usr/local/lib/python3.11/dist-packages (from imblearn) (0.13.0)\n",
            "Requirement already satisfied: numpy<3,>=1.24.3 in /usr/local/lib/python3.11/dist-packages (from imbalanced-learn->imblearn) (2.0.2)\n",
            "Requirement already satisfied: scipy<2,>=1.10.1 in /usr/local/lib/python3.11/dist-packages (from imbalanced-learn->imblearn) (1.15.3)\n",
            "Requirement already satisfied: scikit-learn<2,>=1.3.2 in /usr/local/lib/python3.11/dist-packages (from imbalanced-learn->imblearn) (1.6.1)\n",
            "Requirement already satisfied: sklearn-compat<1,>=0.1 in /usr/local/lib/python3.11/dist-packages (from imbalanced-learn->imblearn) (0.1.3)\n",
            "Requirement already satisfied: joblib<2,>=1.1.1 in /usr/local/lib/python3.11/dist-packages (from imbalanced-learn->imblearn) (1.5.1)\n",
            "Requirement already satisfied: threadpoolctl<4,>=2.0.0 in /usr/local/lib/python3.11/dist-packages (from imbalanced-learn->imblearn) (3.6.0)\n",
            "Downloading imblearn-0.0-py2.py3-none-any.whl (1.9 kB)\n",
            "Installing collected packages: imblearn\n",
            "Successfully installed imblearn-0.0\n"
          ]
        },
        {
          "output_type": "stream",
          "name": "stderr",
          "text": [
            "/usr/local/lib/python3.11/dist-packages/cudf/utils/_ptxcompiler.py:64: UserWarning: Error getting driver and runtime versions:\n",
            "\n",
            "stdout:\n",
            "\n",
            "\n",
            "\n",
            "stderr:\n",
            "\n",
            "Traceback (most recent call last):\n",
            "  File \"<string>\", line 4, in <module>\n",
            "  File \"/usr/local/lib/python3.11/dist-packages/numba_cuda/numba/cuda/cudadrv/driver.py\", line 314, in __getattr__\n",
            "    raise CudaSupportError(\"Error at driver init: \\n%s:\" %\n",
            "numba.cuda.cudadrv.error.CudaSupportError: Error at driver init: \n",
            "\n",
            "CUDA driver library cannot be found.\n",
            "If you are sure that a CUDA driver is installed,\n",
            "try setting environment variable NUMBA_CUDA_DRIVER\n",
            "with the file path of the CUDA driver shared library.\n",
            ":\n",
            "\n",
            "\n",
            "Not patching Numba\n",
            "  warnings.warn(msg, UserWarning)\n",
            "/usr/local/lib/python3.11/dist-packages/cudf/utils/gpu_utils.py:62: UserWarning: Failed to dlopen libcuda.so.1\n",
            "  warnings.warn(str(e))\n"
          ]
        }
      ],
      "source": [
        "!pip install imblearn\n",
        "import pandas as pd\n",
        "import seaborn as sn\n",
        "import kagglehub as kh\n",
        "import os\n",
        "from kagglehub import KaggleDatasetAdapter\n",
        "from sklearn.model_selection import train_test_split\n",
        "from collections import Counter\n",
        "from imblearn.over_sampling import SMOTE\n",
        "from imblearn.under_sampling import EditedNearestNeighbours\n",
        "from cuml.ensemble import RandomForestClassifier as cuRandomForestClassifier\n",
        "from sklearn.ensemble import RandomForestClassifier\n",
        "from sklearn.metrics import classification_report, confusion_matrix, accuracy_score, precision_score, recall_score, f1_score, roc_curve, matthews_corrcoef\n",
        "import matplotlib.pyplot as plt"
      ]
    },
    {
      "cell_type": "markdown",
      "metadata": {
        "id": "yM2E3gRVh24N"
      },
      "source": [
        "Download Arquivo CSV no repositório Credit Card Fraud na plataforma Kaggle"
      ]
    },
    {
      "cell_type": "code",
      "execution_count": 2,
      "metadata": {
        "colab": {
          "base_uri": "https://localhost:8080/"
        },
        "id": "-b0wCo2O7oFT",
        "outputId": "41c42a1a-cfe7-4acb-d91b-6990361034d9"
      },
      "outputs": [
        {
          "output_type": "stream",
          "name": "stdout",
          "text": [
            "Caminho para o Dataset: /kaggle/input/creditcardfraud\n"
          ]
        },
        {
          "output_type": "execute_result",
          "data": {
            "text/plain": [
              "['creditcard.csv']"
            ]
          },
          "metadata": {},
          "execution_count": 2
        }
      ],
      "source": [
        "path = kh.dataset_download(\"mlg-ulb/creditcardfraud\")\n",
        "\n",
        "print(\"Caminho para o Dataset:\", path)\n",
        "os.listdir(path)"
      ]
    },
    {
      "cell_type": "code",
      "execution_count": 3,
      "metadata": {
        "colab": {
          "base_uri": "https://localhost:8080/",
          "height": 255
        },
        "id": "jmeNj-g27uhL",
        "outputId": "1afa90df-64f5-47a6-bc4b-159b82fc5afe"
      },
      "outputs": [
        {
          "output_type": "execute_result",
          "data": {
            "text/plain": [
              "            Time         V1         V2        V3        V4        V5  \\\n",
              "284802  172786.0 -11.881118  10.071785 -9.834783 -2.066656 -5.364473   \n",
              "284803  172787.0  -0.732789  -0.055080  2.035030 -0.738589  0.868229   \n",
              "284804  172788.0   1.919565  -0.301254 -3.249640 -0.557828  2.630515   \n",
              "284805  172788.0  -0.240440   0.530483  0.702510  0.689799 -0.377961   \n",
              "284806  172792.0  -0.533413  -0.189733  0.703337 -0.506271 -0.012546   \n",
              "\n",
              "              V6        V7        V8        V9  ...       V21       V22  \\\n",
              "284802 -2.606837 -4.918215  7.305334  1.914428  ...  0.213454  0.111864   \n",
              "284803  1.058415  0.024330  0.294869  0.584800  ...  0.214205  0.924384   \n",
              "284804  3.031260 -0.296827  0.708417  0.432454  ...  0.232045  0.578229   \n",
              "284805  0.623708 -0.686180  0.679145  0.392087  ...  0.265245  0.800049   \n",
              "284806 -0.649617  1.577006 -0.414650  0.486180  ...  0.261057  0.643078   \n",
              "\n",
              "             V23       V24       V25       V26       V27       V28  Amount  \\\n",
              "284802  1.014480 -0.509348  1.436807  0.250034  0.943651  0.823731    0.77   \n",
              "284803  0.012463 -1.016226 -0.606624 -0.395255  0.068472 -0.053527   24.79   \n",
              "284804 -0.037501  0.640134  0.265745 -0.087371  0.004455 -0.026561   67.88   \n",
              "284805 -0.163298  0.123205 -0.569159  0.546668  0.108821  0.104533   10.00   \n",
              "284806  0.376777  0.008797 -0.473649 -0.818267 -0.002415  0.013649  217.00   \n",
              "\n",
              "        Class  \n",
              "284802      0  \n",
              "284803      0  \n",
              "284804      0  \n",
              "284805      0  \n",
              "284806      0  \n",
              "\n",
              "[5 rows x 31 columns]"
            ],
            "text/html": [
              "\n",
              "  <div id=\"df-7620bb78-7085-4784-8ae6-9beb32a2b1ce\" class=\"colab-df-container\">\n",
              "    <div>\n",
              "<style scoped>\n",
              "    .dataframe tbody tr th:only-of-type {\n",
              "        vertical-align: middle;\n",
              "    }\n",
              "\n",
              "    .dataframe tbody tr th {\n",
              "        vertical-align: top;\n",
              "    }\n",
              "\n",
              "    .dataframe thead th {\n",
              "        text-align: right;\n",
              "    }\n",
              "</style>\n",
              "<table border=\"1\" class=\"dataframe\">\n",
              "  <thead>\n",
              "    <tr style=\"text-align: right;\">\n",
              "      <th></th>\n",
              "      <th>Time</th>\n",
              "      <th>V1</th>\n",
              "      <th>V2</th>\n",
              "      <th>V3</th>\n",
              "      <th>V4</th>\n",
              "      <th>V5</th>\n",
              "      <th>V6</th>\n",
              "      <th>V7</th>\n",
              "      <th>V8</th>\n",
              "      <th>V9</th>\n",
              "      <th>...</th>\n",
              "      <th>V21</th>\n",
              "      <th>V22</th>\n",
              "      <th>V23</th>\n",
              "      <th>V24</th>\n",
              "      <th>V25</th>\n",
              "      <th>V26</th>\n",
              "      <th>V27</th>\n",
              "      <th>V28</th>\n",
              "      <th>Amount</th>\n",
              "      <th>Class</th>\n",
              "    </tr>\n",
              "  </thead>\n",
              "  <tbody>\n",
              "    <tr>\n",
              "      <th>284802</th>\n",
              "      <td>172786.0</td>\n",
              "      <td>-11.881118</td>\n",
              "      <td>10.071785</td>\n",
              "      <td>-9.834783</td>\n",
              "      <td>-2.066656</td>\n",
              "      <td>-5.364473</td>\n",
              "      <td>-2.606837</td>\n",
              "      <td>-4.918215</td>\n",
              "      <td>7.305334</td>\n",
              "      <td>1.914428</td>\n",
              "      <td>...</td>\n",
              "      <td>0.213454</td>\n",
              "      <td>0.111864</td>\n",
              "      <td>1.014480</td>\n",
              "      <td>-0.509348</td>\n",
              "      <td>1.436807</td>\n",
              "      <td>0.250034</td>\n",
              "      <td>0.943651</td>\n",
              "      <td>0.823731</td>\n",
              "      <td>0.77</td>\n",
              "      <td>0</td>\n",
              "    </tr>\n",
              "    <tr>\n",
              "      <th>284803</th>\n",
              "      <td>172787.0</td>\n",
              "      <td>-0.732789</td>\n",
              "      <td>-0.055080</td>\n",
              "      <td>2.035030</td>\n",
              "      <td>-0.738589</td>\n",
              "      <td>0.868229</td>\n",
              "      <td>1.058415</td>\n",
              "      <td>0.024330</td>\n",
              "      <td>0.294869</td>\n",
              "      <td>0.584800</td>\n",
              "      <td>...</td>\n",
              "      <td>0.214205</td>\n",
              "      <td>0.924384</td>\n",
              "      <td>0.012463</td>\n",
              "      <td>-1.016226</td>\n",
              "      <td>-0.606624</td>\n",
              "      <td>-0.395255</td>\n",
              "      <td>0.068472</td>\n",
              "      <td>-0.053527</td>\n",
              "      <td>24.79</td>\n",
              "      <td>0</td>\n",
              "    </tr>\n",
              "    <tr>\n",
              "      <th>284804</th>\n",
              "      <td>172788.0</td>\n",
              "      <td>1.919565</td>\n",
              "      <td>-0.301254</td>\n",
              "      <td>-3.249640</td>\n",
              "      <td>-0.557828</td>\n",
              "      <td>2.630515</td>\n",
              "      <td>3.031260</td>\n",
              "      <td>-0.296827</td>\n",
              "      <td>0.708417</td>\n",
              "      <td>0.432454</td>\n",
              "      <td>...</td>\n",
              "      <td>0.232045</td>\n",
              "      <td>0.578229</td>\n",
              "      <td>-0.037501</td>\n",
              "      <td>0.640134</td>\n",
              "      <td>0.265745</td>\n",
              "      <td>-0.087371</td>\n",
              "      <td>0.004455</td>\n",
              "      <td>-0.026561</td>\n",
              "      <td>67.88</td>\n",
              "      <td>0</td>\n",
              "    </tr>\n",
              "    <tr>\n",
              "      <th>284805</th>\n",
              "      <td>172788.0</td>\n",
              "      <td>-0.240440</td>\n",
              "      <td>0.530483</td>\n",
              "      <td>0.702510</td>\n",
              "      <td>0.689799</td>\n",
              "      <td>-0.377961</td>\n",
              "      <td>0.623708</td>\n",
              "      <td>-0.686180</td>\n",
              "      <td>0.679145</td>\n",
              "      <td>0.392087</td>\n",
              "      <td>...</td>\n",
              "      <td>0.265245</td>\n",
              "      <td>0.800049</td>\n",
              "      <td>-0.163298</td>\n",
              "      <td>0.123205</td>\n",
              "      <td>-0.569159</td>\n",
              "      <td>0.546668</td>\n",
              "      <td>0.108821</td>\n",
              "      <td>0.104533</td>\n",
              "      <td>10.00</td>\n",
              "      <td>0</td>\n",
              "    </tr>\n",
              "    <tr>\n",
              "      <th>284806</th>\n",
              "      <td>172792.0</td>\n",
              "      <td>-0.533413</td>\n",
              "      <td>-0.189733</td>\n",
              "      <td>0.703337</td>\n",
              "      <td>-0.506271</td>\n",
              "      <td>-0.012546</td>\n",
              "      <td>-0.649617</td>\n",
              "      <td>1.577006</td>\n",
              "      <td>-0.414650</td>\n",
              "      <td>0.486180</td>\n",
              "      <td>...</td>\n",
              "      <td>0.261057</td>\n",
              "      <td>0.643078</td>\n",
              "      <td>0.376777</td>\n",
              "      <td>0.008797</td>\n",
              "      <td>-0.473649</td>\n",
              "      <td>-0.818267</td>\n",
              "      <td>-0.002415</td>\n",
              "      <td>0.013649</td>\n",
              "      <td>217.00</td>\n",
              "      <td>0</td>\n",
              "    </tr>\n",
              "  </tbody>\n",
              "</table>\n",
              "<p>5 rows × 31 columns</p>\n",
              "</div>\n",
              "    <div class=\"colab-df-buttons\">\n",
              "\n",
              "  <div class=\"colab-df-container\">\n",
              "    <button class=\"colab-df-convert\" onclick=\"convertToInteractive('df-7620bb78-7085-4784-8ae6-9beb32a2b1ce')\"\n",
              "            title=\"Convert this dataframe to an interactive table.\"\n",
              "            style=\"display:none;\">\n",
              "\n",
              "  <svg xmlns=\"http://www.w3.org/2000/svg\" height=\"24px\" viewBox=\"0 -960 960 960\">\n",
              "    <path d=\"M120-120v-720h720v720H120Zm60-500h600v-160H180v160Zm220 220h160v-160H400v160Zm0 220h160v-160H400v160ZM180-400h160v-160H180v160Zm440 0h160v-160H620v160ZM180-180h160v-160H180v160Zm440 0h160v-160H620v160Z\"/>\n",
              "  </svg>\n",
              "    </button>\n",
              "\n",
              "  <style>\n",
              "    .colab-df-container {\n",
              "      display:flex;\n",
              "      gap: 12px;\n",
              "    }\n",
              "\n",
              "    .colab-df-convert {\n",
              "      background-color: #E8F0FE;\n",
              "      border: none;\n",
              "      border-radius: 50%;\n",
              "      cursor: pointer;\n",
              "      display: none;\n",
              "      fill: #1967D2;\n",
              "      height: 32px;\n",
              "      padding: 0 0 0 0;\n",
              "      width: 32px;\n",
              "    }\n",
              "\n",
              "    .colab-df-convert:hover {\n",
              "      background-color: #E2EBFA;\n",
              "      box-shadow: 0px 1px 2px rgba(60, 64, 67, 0.3), 0px 1px 3px 1px rgba(60, 64, 67, 0.15);\n",
              "      fill: #174EA6;\n",
              "    }\n",
              "\n",
              "    .colab-df-buttons div {\n",
              "      margin-bottom: 4px;\n",
              "    }\n",
              "\n",
              "    [theme=dark] .colab-df-convert {\n",
              "      background-color: #3B4455;\n",
              "      fill: #D2E3FC;\n",
              "    }\n",
              "\n",
              "    [theme=dark] .colab-df-convert:hover {\n",
              "      background-color: #434B5C;\n",
              "      box-shadow: 0px 1px 3px 1px rgba(0, 0, 0, 0.15);\n",
              "      filter: drop-shadow(0px 1px 2px rgba(0, 0, 0, 0.3));\n",
              "      fill: #FFFFFF;\n",
              "    }\n",
              "  </style>\n",
              "\n",
              "    <script>\n",
              "      const buttonEl =\n",
              "        document.querySelector('#df-7620bb78-7085-4784-8ae6-9beb32a2b1ce button.colab-df-convert');\n",
              "      buttonEl.style.display =\n",
              "        google.colab.kernel.accessAllowed ? 'block' : 'none';\n",
              "\n",
              "      async function convertToInteractive(key) {\n",
              "        const element = document.querySelector('#df-7620bb78-7085-4784-8ae6-9beb32a2b1ce');\n",
              "        const dataTable =\n",
              "          await google.colab.kernel.invokeFunction('convertToInteractive',\n",
              "                                                    [key], {});\n",
              "        if (!dataTable) return;\n",
              "\n",
              "        const docLinkHtml = 'Like what you see? Visit the ' +\n",
              "          '<a target=\"_blank\" href=https://colab.research.google.com/notebooks/data_table.ipynb>data table notebook</a>'\n",
              "          + ' to learn more about interactive tables.';\n",
              "        element.innerHTML = '';\n",
              "        dataTable['output_type'] = 'display_data';\n",
              "        await google.colab.output.renderOutput(dataTable, element);\n",
              "        const docLink = document.createElement('div');\n",
              "        docLink.innerHTML = docLinkHtml;\n",
              "        element.appendChild(docLink);\n",
              "      }\n",
              "    </script>\n",
              "  </div>\n",
              "\n",
              "\n",
              "    <div id=\"df-814aa854-4a21-4d2d-85e4-ec6a142f748e\">\n",
              "      <button class=\"colab-df-quickchart\" onclick=\"quickchart('df-814aa854-4a21-4d2d-85e4-ec6a142f748e')\"\n",
              "                title=\"Suggest charts\"\n",
              "                style=\"display:none;\">\n",
              "\n",
              "<svg xmlns=\"http://www.w3.org/2000/svg\" height=\"24px\"viewBox=\"0 0 24 24\"\n",
              "     width=\"24px\">\n",
              "    <g>\n",
              "        <path d=\"M19 3H5c-1.1 0-2 .9-2 2v14c0 1.1.9 2 2 2h14c1.1 0 2-.9 2-2V5c0-1.1-.9-2-2-2zM9 17H7v-7h2v7zm4 0h-2V7h2v10zm4 0h-2v-4h2v4z\"/>\n",
              "    </g>\n",
              "</svg>\n",
              "      </button>\n",
              "\n",
              "<style>\n",
              "  .colab-df-quickchart {\n",
              "      --bg-color: #E8F0FE;\n",
              "      --fill-color: #1967D2;\n",
              "      --hover-bg-color: #E2EBFA;\n",
              "      --hover-fill-color: #174EA6;\n",
              "      --disabled-fill-color: #AAA;\n",
              "      --disabled-bg-color: #DDD;\n",
              "  }\n",
              "\n",
              "  [theme=dark] .colab-df-quickchart {\n",
              "      --bg-color: #3B4455;\n",
              "      --fill-color: #D2E3FC;\n",
              "      --hover-bg-color: #434B5C;\n",
              "      --hover-fill-color: #FFFFFF;\n",
              "      --disabled-bg-color: #3B4455;\n",
              "      --disabled-fill-color: #666;\n",
              "  }\n",
              "\n",
              "  .colab-df-quickchart {\n",
              "    background-color: var(--bg-color);\n",
              "    border: none;\n",
              "    border-radius: 50%;\n",
              "    cursor: pointer;\n",
              "    display: none;\n",
              "    fill: var(--fill-color);\n",
              "    height: 32px;\n",
              "    padding: 0;\n",
              "    width: 32px;\n",
              "  }\n",
              "\n",
              "  .colab-df-quickchart:hover {\n",
              "    background-color: var(--hover-bg-color);\n",
              "    box-shadow: 0 1px 2px rgba(60, 64, 67, 0.3), 0 1px 3px 1px rgba(60, 64, 67, 0.15);\n",
              "    fill: var(--button-hover-fill-color);\n",
              "  }\n",
              "\n",
              "  .colab-df-quickchart-complete:disabled,\n",
              "  .colab-df-quickchart-complete:disabled:hover {\n",
              "    background-color: var(--disabled-bg-color);\n",
              "    fill: var(--disabled-fill-color);\n",
              "    box-shadow: none;\n",
              "  }\n",
              "\n",
              "  .colab-df-spinner {\n",
              "    border: 2px solid var(--fill-color);\n",
              "    border-color: transparent;\n",
              "    border-bottom-color: var(--fill-color);\n",
              "    animation:\n",
              "      spin 1s steps(1) infinite;\n",
              "  }\n",
              "\n",
              "  @keyframes spin {\n",
              "    0% {\n",
              "      border-color: transparent;\n",
              "      border-bottom-color: var(--fill-color);\n",
              "      border-left-color: var(--fill-color);\n",
              "    }\n",
              "    20% {\n",
              "      border-color: transparent;\n",
              "      border-left-color: var(--fill-color);\n",
              "      border-top-color: var(--fill-color);\n",
              "    }\n",
              "    30% {\n",
              "      border-color: transparent;\n",
              "      border-left-color: var(--fill-color);\n",
              "      border-top-color: var(--fill-color);\n",
              "      border-right-color: var(--fill-color);\n",
              "    }\n",
              "    40% {\n",
              "      border-color: transparent;\n",
              "      border-right-color: var(--fill-color);\n",
              "      border-top-color: var(--fill-color);\n",
              "    }\n",
              "    60% {\n",
              "      border-color: transparent;\n",
              "      border-right-color: var(--fill-color);\n",
              "    }\n",
              "    80% {\n",
              "      border-color: transparent;\n",
              "      border-right-color: var(--fill-color);\n",
              "      border-bottom-color: var(--fill-color);\n",
              "    }\n",
              "    90% {\n",
              "      border-color: transparent;\n",
              "      border-bottom-color: var(--fill-color);\n",
              "    }\n",
              "  }\n",
              "</style>\n",
              "\n",
              "      <script>\n",
              "        async function quickchart(key) {\n",
              "          const quickchartButtonEl =\n",
              "            document.querySelector('#' + key + ' button');\n",
              "          quickchartButtonEl.disabled = true;  // To prevent multiple clicks.\n",
              "          quickchartButtonEl.classList.add('colab-df-spinner');\n",
              "          try {\n",
              "            const charts = await google.colab.kernel.invokeFunction(\n",
              "                'suggestCharts', [key], {});\n",
              "          } catch (error) {\n",
              "            console.error('Error during call to suggestCharts:', error);\n",
              "          }\n",
              "          quickchartButtonEl.classList.remove('colab-df-spinner');\n",
              "          quickchartButtonEl.classList.add('colab-df-quickchart-complete');\n",
              "        }\n",
              "        (() => {\n",
              "          let quickchartButtonEl =\n",
              "            document.querySelector('#df-814aa854-4a21-4d2d-85e4-ec6a142f748e button');\n",
              "          quickchartButtonEl.style.display =\n",
              "            google.colab.kernel.accessAllowed ? 'block' : 'none';\n",
              "        })();\n",
              "      </script>\n",
              "    </div>\n",
              "\n",
              "    </div>\n",
              "  </div>\n"
            ],
            "application/vnd.google.colaboratory.intrinsic+json": {
              "type": "dataframe"
            }
          },
          "metadata": {},
          "execution_count": 3
        }
      ],
      "source": [
        "data = pd.read_csv(\"../kaggle/input/creditcardfraud/creditcard.csv\")\n",
        "data.tail()"
      ]
    },
    {
      "cell_type": "markdown",
      "metadata": {
        "id": "SjeQ6i7xu0T6"
      },
      "source": [
        "## Pré processamento dos dados"
      ]
    },
    {
      "cell_type": "code",
      "execution_count": 4,
      "metadata": {
        "colab": {
          "base_uri": "https://localhost:8080/"
        },
        "id": "2c0be83a-5c4e-4492-a4e9-4bb1c9cb2921",
        "outputId": "5313e146-5e1c-4364-ab41-6534b03babe7"
      },
      "outputs": [
        {
          "output_type": "stream",
          "name": "stdout",
          "text": [
            "Fraude: 492\n",
            "Legítima: 284315\n"
          ]
        }
      ],
      "source": [
        "number_of_fraud = len(data[data.Class == 1])\n",
        "number_of_normal= len(data[data.Class == 0])\n",
        "\n",
        "print (\"Fraude:\", number_of_fraud)\n",
        "print (\"Legítima:\",number_of_normal)"
      ]
    },
    {
      "cell_type": "code",
      "execution_count": 5,
      "metadata": {
        "colab": {
          "base_uri": "https://localhost:8080/"
        },
        "id": "sscK35_m71nC",
        "outputId": "ebfae18b-a00e-42f3-a454-c7c196d7d6e2"
      },
      "outputs": [
        {
          "output_type": "stream",
          "name": "stdout",
          "text": [
            "Base de dados de treino antes do SMOTE: Counter({0: 199020, 1: 344})\n",
            "Base de dados de teste Counter({0: 85295, 1: 148})\n"
          ]
        }
      ],
      "source": [
        "X = data.drop(\"Class\", axis=1)\n",
        "y = data[\"Class\"]\n",
        "X_train, X_test, y_train, y_test = train_test_split(X, y, test_size=0.3, stratify=y, random_state=42)\n",
        "counter = Counter(y_train)\n",
        "print('Base de dados de treino antes do SMOTE:', counter)\n",
        "counter = Counter(y_test)\n",
        "print('Base de dados de teste', counter)"
      ]
    },
    {
      "cell_type": "markdown",
      "metadata": {
        "id": "3qwwFsUniCdD"
      },
      "source": [
        "##SMOTE 50:50"
      ]
    },
    {
      "cell_type": "code",
      "execution_count": 6,
      "metadata": {
        "colab": {
          "base_uri": "https://localhost:8080/"
        },
        "id": "VZOD0stm77O7",
        "outputId": "a5b4fc10-aac1-4a5c-f2c3-461139517463"
      },
      "outputs": [
        {
          "output_type": "stream",
          "name": "stdout",
          "text": [
            "Base de treino depois do ENN: Counter({0: 198698, 1: 344})\n",
            "Depois do SMOTE: Counter({0: 198698, 1: 198698})\n"
          ]
        }
      ],
      "source": [
        "enn = EditedNearestNeighbours()\n",
        "X_train_resampled, y_train_resampled = enn.fit_resample(X_train, y_train)\n",
        "print('Base de treino depois do ENN:', Counter(y_train_resampled))\n",
        "\n",
        "smt = SMOTE(random_state=42)\n",
        "X_train_sm_5050, y_train_sm_5050 = smt.fit_resample(X_train_resampled, y_train_resampled)\n",
        "counter = Counter(y_train_sm_5050)\n",
        "print('Depois do SMOTE:', counter)"
      ]
    },
    {
      "cell_type": "markdown",
      "metadata": {
        "id": "8dihcYF2dVqm"
      },
      "source": [
        "##SMOTE 10 : 90"
      ]
    },
    {
      "cell_type": "code",
      "execution_count": 7,
      "metadata": {
        "colab": {
          "base_uri": "https://localhost:8080/"
        },
        "id": "4ceIUVRZdZfX",
        "outputId": "7e2985f5-4eef-4b7f-dd0a-feca3eff9b4a"
      },
      "outputs": [
        {
          "output_type": "stream",
          "name": "stdout",
          "text": [
            "Depois do ENN: Counter({0: 198698, 1: 344})\n",
            "Depois do SMOTE: Counter({0: 198698, 1: 22055})\n"
          ]
        }
      ],
      "source": [
        "enn = EditedNearestNeighbours()\n",
        "X_train_enn, y_train_enn = enn.fit_resample(X_train, y_train)\n",
        "print('Depois do ENN:', Counter(y_train_enn))\n",
        "\n",
        "smt = SMOTE(random_state=42, sampling_strategy=0.111)\n",
        "X_train_sm_1090, y_train_sm_1090 = smt.fit_resample(X_train_enn, y_train_enn)\n",
        "counter = Counter(y_train_sm_1090)\n",
        "print('Depois do SMOTE:', counter)"
      ]
    },
    {
      "cell_type": "markdown",
      "metadata": {
        "id": "9hL0Sn2-Ne27"
      },
      "source": [
        "## Análise dos dados"
      ]
    },
    {
      "cell_type": "markdown",
      "metadata": {
        "id": "pCwK3ULUiPOU"
      },
      "source": [
        "##Estatísticas Descritivas"
      ]
    },
    {
      "cell_type": "code",
      "execution_count": null,
      "metadata": {
        "colab": {
          "base_uri": "https://localhost:8080/",
          "height": 318
        },
        "id": "N-UjZ_O7eSQp",
        "outputId": "494dc933-6675-4bfc-81e6-aa640ef584b6"
      },
      "outputs": [
        {
          "name": "stdout",
          "output_type": "stream",
          "text": [
            "dataset original\n"
          ]
        },
        {
          "data": {
            "application/vnd.google.colaboratory.intrinsic+json": {
              "summary": "{\n  \"name\": \"data[[\\\"Amount\\\",\\\"Time\\\"]]\",\n  \"rows\": 8,\n  \"fields\": [\n    {\n      \"column\": \"Amount\",\n      \"properties\": {\n        \"dtype\": \"number\",\n        \"std\": 99778.01856206654,\n        \"min\": 0.0,\n        \"max\": 284807.0,\n        \"num_unique_values\": 8,\n        \"samples\": [\n          88.34961925093133,\n          22.0,\n          284807.0\n        ],\n        \"semantic_type\": \"\",\n        \"description\": \"\"\n      }\n    },\n    {\n      \"column\": \"Time\",\n      \"properties\": {\n        \"dtype\": \"number\",\n        \"std\": 88923.6336142936,\n        \"min\": 0.0,\n        \"max\": 284807.0,\n        \"num_unique_values\": 8,\n        \"samples\": [\n          94813.85957508067,\n          84692.0,\n          284807.0\n        ],\n        \"semantic_type\": \"\",\n        \"description\": \"\"\n      }\n    }\n  ]\n}",
              "type": "dataframe"
            },
            "text/html": [
              "\n",
              "  <div id=\"df-647228f6-dc7a-4779-9668-f8f710a0c8c0\" class=\"colab-df-container\">\n",
              "    <div>\n",
              "<style scoped>\n",
              "    .dataframe tbody tr th:only-of-type {\n",
              "        vertical-align: middle;\n",
              "    }\n",
              "\n",
              "    .dataframe tbody tr th {\n",
              "        vertical-align: top;\n",
              "    }\n",
              "\n",
              "    .dataframe thead th {\n",
              "        text-align: right;\n",
              "    }\n",
              "</style>\n",
              "<table border=\"1\" class=\"dataframe\">\n",
              "  <thead>\n",
              "    <tr style=\"text-align: right;\">\n",
              "      <th></th>\n",
              "      <th>Amount</th>\n",
              "      <th>Time</th>\n",
              "    </tr>\n",
              "  </thead>\n",
              "  <tbody>\n",
              "    <tr>\n",
              "      <th>count</th>\n",
              "      <td>284807.000000</td>\n",
              "      <td>284807.000000</td>\n",
              "    </tr>\n",
              "    <tr>\n",
              "      <th>mean</th>\n",
              "      <td>88.349619</td>\n",
              "      <td>94813.859575</td>\n",
              "    </tr>\n",
              "    <tr>\n",
              "      <th>std</th>\n",
              "      <td>250.120109</td>\n",
              "      <td>47488.145955</td>\n",
              "    </tr>\n",
              "    <tr>\n",
              "      <th>min</th>\n",
              "      <td>0.000000</td>\n",
              "      <td>0.000000</td>\n",
              "    </tr>\n",
              "    <tr>\n",
              "      <th>25%</th>\n",
              "      <td>5.600000</td>\n",
              "      <td>54201.500000</td>\n",
              "    </tr>\n",
              "    <tr>\n",
              "      <th>50%</th>\n",
              "      <td>22.000000</td>\n",
              "      <td>84692.000000</td>\n",
              "    </tr>\n",
              "    <tr>\n",
              "      <th>75%</th>\n",
              "      <td>77.165000</td>\n",
              "      <td>139320.500000</td>\n",
              "    </tr>\n",
              "    <tr>\n",
              "      <th>max</th>\n",
              "      <td>25691.160000</td>\n",
              "      <td>172792.000000</td>\n",
              "    </tr>\n",
              "  </tbody>\n",
              "</table>\n",
              "</div>\n",
              "    <div class=\"colab-df-buttons\">\n",
              "\n",
              "  <div class=\"colab-df-container\">\n",
              "    <button class=\"colab-df-convert\" onclick=\"convertToInteractive('df-647228f6-dc7a-4779-9668-f8f710a0c8c0')\"\n",
              "            title=\"Convert this dataframe to an interactive table.\"\n",
              "            style=\"display:none;\">\n",
              "\n",
              "  <svg xmlns=\"http://www.w3.org/2000/svg\" height=\"24px\" viewBox=\"0 -960 960 960\">\n",
              "    <path d=\"M120-120v-720h720v720H120Zm60-500h600v-160H180v160Zm220 220h160v-160H400v160Zm0 220h160v-160H400v160ZM180-400h160v-160H180v160Zm440 0h160v-160H620v160ZM180-180h160v-160H180v160Zm440 0h160v-160H620v160Z\"/>\n",
              "  </svg>\n",
              "    </button>\n",
              "\n",
              "  <style>\n",
              "    .colab-df-container {\n",
              "      display:flex;\n",
              "      gap: 12px;\n",
              "    }\n",
              "\n",
              "    .colab-df-convert {\n",
              "      background-color: #E8F0FE;\n",
              "      border: none;\n",
              "      border-radius: 50%;\n",
              "      cursor: pointer;\n",
              "      display: none;\n",
              "      fill: #1967D2;\n",
              "      height: 32px;\n",
              "      padding: 0 0 0 0;\n",
              "      width: 32px;\n",
              "    }\n",
              "\n",
              "    .colab-df-convert:hover {\n",
              "      background-color: #E2EBFA;\n",
              "      box-shadow: 0px 1px 2px rgba(60, 64, 67, 0.3), 0px 1px 3px 1px rgba(60, 64, 67, 0.15);\n",
              "      fill: #174EA6;\n",
              "    }\n",
              "\n",
              "    .colab-df-buttons div {\n",
              "      margin-bottom: 4px;\n",
              "    }\n",
              "\n",
              "    [theme=dark] .colab-df-convert {\n",
              "      background-color: #3B4455;\n",
              "      fill: #D2E3FC;\n",
              "    }\n",
              "\n",
              "    [theme=dark] .colab-df-convert:hover {\n",
              "      background-color: #434B5C;\n",
              "      box-shadow: 0px 1px 3px 1px rgba(0, 0, 0, 0.15);\n",
              "      filter: drop-shadow(0px 1px 2px rgba(0, 0, 0, 0.3));\n",
              "      fill: #FFFFFF;\n",
              "    }\n",
              "  </style>\n",
              "\n",
              "    <script>\n",
              "      const buttonEl =\n",
              "        document.querySelector('#df-647228f6-dc7a-4779-9668-f8f710a0c8c0 button.colab-df-convert');\n",
              "      buttonEl.style.display =\n",
              "        google.colab.kernel.accessAllowed ? 'block' : 'none';\n",
              "\n",
              "      async function convertToInteractive(key) {\n",
              "        const element = document.querySelector('#df-647228f6-dc7a-4779-9668-f8f710a0c8c0');\n",
              "        const dataTable =\n",
              "          await google.colab.kernel.invokeFunction('convertToInteractive',\n",
              "                                                    [key], {});\n",
              "        if (!dataTable) return;\n",
              "\n",
              "        const docLinkHtml = 'Like what you see? Visit the ' +\n",
              "          '<a target=\"_blank\" href=https://colab.research.google.com/notebooks/data_table.ipynb>data table notebook</a>'\n",
              "          + ' to learn more about interactive tables.';\n",
              "        element.innerHTML = '';\n",
              "        dataTable['output_type'] = 'display_data';\n",
              "        await google.colab.output.renderOutput(dataTable, element);\n",
              "        const docLink = document.createElement('div');\n",
              "        docLink.innerHTML = docLinkHtml;\n",
              "        element.appendChild(docLink);\n",
              "      }\n",
              "    </script>\n",
              "  </div>\n",
              "\n",
              "\n",
              "    <div id=\"df-1036f98b-0c27-49d8-9889-3810447514a0\">\n",
              "      <button class=\"colab-df-quickchart\" onclick=\"quickchart('df-1036f98b-0c27-49d8-9889-3810447514a0')\"\n",
              "                title=\"Suggest charts\"\n",
              "                style=\"display:none;\">\n",
              "\n",
              "<svg xmlns=\"http://www.w3.org/2000/svg\" height=\"24px\"viewBox=\"0 0 24 24\"\n",
              "     width=\"24px\">\n",
              "    <g>\n",
              "        <path d=\"M19 3H5c-1.1 0-2 .9-2 2v14c0 1.1.9 2 2 2h14c1.1 0 2-.9 2-2V5c0-1.1-.9-2-2-2zM9 17H7v-7h2v7zm4 0h-2V7h2v10zm4 0h-2v-4h2v4z\"/>\n",
              "    </g>\n",
              "</svg>\n",
              "      </button>\n",
              "\n",
              "<style>\n",
              "  .colab-df-quickchart {\n",
              "      --bg-color: #E8F0FE;\n",
              "      --fill-color: #1967D2;\n",
              "      --hover-bg-color: #E2EBFA;\n",
              "      --hover-fill-color: #174EA6;\n",
              "      --disabled-fill-color: #AAA;\n",
              "      --disabled-bg-color: #DDD;\n",
              "  }\n",
              "\n",
              "  [theme=dark] .colab-df-quickchart {\n",
              "      --bg-color: #3B4455;\n",
              "      --fill-color: #D2E3FC;\n",
              "      --hover-bg-color: #434B5C;\n",
              "      --hover-fill-color: #FFFFFF;\n",
              "      --disabled-bg-color: #3B4455;\n",
              "      --disabled-fill-color: #666;\n",
              "  }\n",
              "\n",
              "  .colab-df-quickchart {\n",
              "    background-color: var(--bg-color);\n",
              "    border: none;\n",
              "    border-radius: 50%;\n",
              "    cursor: pointer;\n",
              "    display: none;\n",
              "    fill: var(--fill-color);\n",
              "    height: 32px;\n",
              "    padding: 0;\n",
              "    width: 32px;\n",
              "  }\n",
              "\n",
              "  .colab-df-quickchart:hover {\n",
              "    background-color: var(--hover-bg-color);\n",
              "    box-shadow: 0 1px 2px rgba(60, 64, 67, 0.3), 0 1px 3px 1px rgba(60, 64, 67, 0.15);\n",
              "    fill: var(--button-hover-fill-color);\n",
              "  }\n",
              "\n",
              "  .colab-df-quickchart-complete:disabled,\n",
              "  .colab-df-quickchart-complete:disabled:hover {\n",
              "    background-color: var(--disabled-bg-color);\n",
              "    fill: var(--disabled-fill-color);\n",
              "    box-shadow: none;\n",
              "  }\n",
              "\n",
              "  .colab-df-spinner {\n",
              "    border: 2px solid var(--fill-color);\n",
              "    border-color: transparent;\n",
              "    border-bottom-color: var(--fill-color);\n",
              "    animation:\n",
              "      spin 1s steps(1) infinite;\n",
              "  }\n",
              "\n",
              "  @keyframes spin {\n",
              "    0% {\n",
              "      border-color: transparent;\n",
              "      border-bottom-color: var(--fill-color);\n",
              "      border-left-color: var(--fill-color);\n",
              "    }\n",
              "    20% {\n",
              "      border-color: transparent;\n",
              "      border-left-color: var(--fill-color);\n",
              "      border-top-color: var(--fill-color);\n",
              "    }\n",
              "    30% {\n",
              "      border-color: transparent;\n",
              "      border-left-color: var(--fill-color);\n",
              "      border-top-color: var(--fill-color);\n",
              "      border-right-color: var(--fill-color);\n",
              "    }\n",
              "    40% {\n",
              "      border-color: transparent;\n",
              "      border-right-color: var(--fill-color);\n",
              "      border-top-color: var(--fill-color);\n",
              "    }\n",
              "    60% {\n",
              "      border-color: transparent;\n",
              "      border-right-color: var(--fill-color);\n",
              "    }\n",
              "    80% {\n",
              "      border-color: transparent;\n",
              "      border-right-color: var(--fill-color);\n",
              "      border-bottom-color: var(--fill-color);\n",
              "    }\n",
              "    90% {\n",
              "      border-color: transparent;\n",
              "      border-bottom-color: var(--fill-color);\n",
              "    }\n",
              "  }\n",
              "</style>\n",
              "\n",
              "      <script>\n",
              "        async function quickchart(key) {\n",
              "          const quickchartButtonEl =\n",
              "            document.querySelector('#' + key + ' button');\n",
              "          quickchartButtonEl.disabled = true;  // To prevent multiple clicks.\n",
              "          quickchartButtonEl.classList.add('colab-df-spinner');\n",
              "          try {\n",
              "            const charts = await google.colab.kernel.invokeFunction(\n",
              "                'suggestCharts', [key], {});\n",
              "          } catch (error) {\n",
              "            console.error('Error during call to suggestCharts:', error);\n",
              "          }\n",
              "          quickchartButtonEl.classList.remove('colab-df-spinner');\n",
              "          quickchartButtonEl.classList.add('colab-df-quickchart-complete');\n",
              "        }\n",
              "        (() => {\n",
              "          let quickchartButtonEl =\n",
              "            document.querySelector('#df-1036f98b-0c27-49d8-9889-3810447514a0 button');\n",
              "          quickchartButtonEl.style.display =\n",
              "            google.colab.kernel.accessAllowed ? 'block' : 'none';\n",
              "        })();\n",
              "      </script>\n",
              "    </div>\n",
              "\n",
              "    </div>\n",
              "  </div>\n"
            ],
            "text/plain": [
              "              Amount           Time\n",
              "count  284807.000000  284807.000000\n",
              "mean       88.349619   94813.859575\n",
              "std       250.120109   47488.145955\n",
              "min         0.000000       0.000000\n",
              "25%         5.600000   54201.500000\n",
              "50%        22.000000   84692.000000\n",
              "75%        77.165000  139320.500000\n",
              "max     25691.160000  172792.000000"
            ]
          },
          "execution_count": 8,
          "metadata": {},
          "output_type": "execute_result"
        }
      ],
      "source": [
        "print(\"dataset original\")\n",
        "data[[\"Amount\",\"Time\"]].describe()"
      ]
    },
    {
      "cell_type": "code",
      "execution_count": null,
      "metadata": {
        "colab": {
          "base_uri": "https://localhost:8080/",
          "height": 318
        },
        "id": "H5YMkvWQeUlD",
        "outputId": "f29ee8fb-b6be-412d-f42e-df4e776beb68"
      },
      "outputs": [
        {
          "name": "stdout",
          "output_type": "stream",
          "text": [
            "10 : 90\n"
          ]
        },
        {
          "data": {
            "application/vnd.google.colaboratory.intrinsic+json": {
              "summary": "{\n  \"name\": \"X_train_sm_1090[[\\\"Amount\\\",\\\"Time\\\"]]\",\n  \"rows\": 8,\n  \"fields\": [\n    {\n      \"column\": \"Amount\",\n      \"properties\": {\n        \"dtype\": \"number\",\n        \"std\": 77249.7347762818,\n        \"min\": 0.0,\n        \"max\": 220753.0,\n        \"num_unique_values\": 8,\n        \"samples\": [\n          89.88146280373475,\n          22.52,\n          220753.0\n        ],\n        \"semantic_type\": \"\",\n        \"description\": \"\"\n      }\n    },\n    {\n      \"column\": \"Time\",\n      \"properties\": {\n        \"dtype\": \"number\",\n        \"std\": 72297.44395797116,\n        \"min\": 0.0,\n        \"max\": 220753.0,\n        \"num_unique_values\": 8,\n        \"samples\": [\n          93599.61044871694,\n          84518.0,\n          220753.0\n        ],\n        \"semantic_type\": \"\",\n        \"description\": \"\"\n      }\n    }\n  ]\n}",
              "type": "dataframe"
            },
            "text/html": [
              "\n",
              "  <div id=\"df-cea33cc7-b605-4962-8e3e-9faa91eecef7\" class=\"colab-df-container\">\n",
              "    <div>\n",
              "<style scoped>\n",
              "    .dataframe tbody tr th:only-of-type {\n",
              "        vertical-align: middle;\n",
              "    }\n",
              "\n",
              "    .dataframe tbody tr th {\n",
              "        vertical-align: top;\n",
              "    }\n",
              "\n",
              "    .dataframe thead th {\n",
              "        text-align: right;\n",
              "    }\n",
              "</style>\n",
              "<table border=\"1\" class=\"dataframe\">\n",
              "  <thead>\n",
              "    <tr style=\"text-align: right;\">\n",
              "      <th></th>\n",
              "      <th>Amount</th>\n",
              "      <th>Time</th>\n",
              "    </tr>\n",
              "  </thead>\n",
              "  <tbody>\n",
              "    <tr>\n",
              "      <th>count</th>\n",
              "      <td>220753.000000</td>\n",
              "      <td>220753.000000</td>\n",
              "    </tr>\n",
              "    <tr>\n",
              "      <th>mean</th>\n",
              "      <td>89.881463</td>\n",
              "      <td>93599.610449</td>\n",
              "    </tr>\n",
              "    <tr>\n",
              "      <th>std</th>\n",
              "      <td>247.855283</td>\n",
              "      <td>47639.513139</td>\n",
              "    </tr>\n",
              "    <tr>\n",
              "      <th>min</th>\n",
              "      <td>0.000000</td>\n",
              "      <td>0.000000</td>\n",
              "    </tr>\n",
              "    <tr>\n",
              "      <th>25%</th>\n",
              "      <td>5.000000</td>\n",
              "      <td>53043.811707</td>\n",
              "    </tr>\n",
              "    <tr>\n",
              "      <th>50%</th>\n",
              "      <td>22.520000</td>\n",
              "      <td>84518.000000</td>\n",
              "    </tr>\n",
              "    <tr>\n",
              "      <th>75%</th>\n",
              "      <td>80.820000</td>\n",
              "      <td>138685.000000</td>\n",
              "    </tr>\n",
              "    <tr>\n",
              "      <th>max</th>\n",
              "      <td>25691.160000</td>\n",
              "      <td>172792.000000</td>\n",
              "    </tr>\n",
              "  </tbody>\n",
              "</table>\n",
              "</div>\n",
              "    <div class=\"colab-df-buttons\">\n",
              "\n",
              "  <div class=\"colab-df-container\">\n",
              "    <button class=\"colab-df-convert\" onclick=\"convertToInteractive('df-cea33cc7-b605-4962-8e3e-9faa91eecef7')\"\n",
              "            title=\"Convert this dataframe to an interactive table.\"\n",
              "            style=\"display:none;\">\n",
              "\n",
              "  <svg xmlns=\"http://www.w3.org/2000/svg\" height=\"24px\" viewBox=\"0 -960 960 960\">\n",
              "    <path d=\"M120-120v-720h720v720H120Zm60-500h600v-160H180v160Zm220 220h160v-160H400v160Zm0 220h160v-160H400v160ZM180-400h160v-160H180v160Zm440 0h160v-160H620v160ZM180-180h160v-160H180v160Zm440 0h160v-160H620v160Z\"/>\n",
              "  </svg>\n",
              "    </button>\n",
              "\n",
              "  <style>\n",
              "    .colab-df-container {\n",
              "      display:flex;\n",
              "      gap: 12px;\n",
              "    }\n",
              "\n",
              "    .colab-df-convert {\n",
              "      background-color: #E8F0FE;\n",
              "      border: none;\n",
              "      border-radius: 50%;\n",
              "      cursor: pointer;\n",
              "      display: none;\n",
              "      fill: #1967D2;\n",
              "      height: 32px;\n",
              "      padding: 0 0 0 0;\n",
              "      width: 32px;\n",
              "    }\n",
              "\n",
              "    .colab-df-convert:hover {\n",
              "      background-color: #E2EBFA;\n",
              "      box-shadow: 0px 1px 2px rgba(60, 64, 67, 0.3), 0px 1px 3px 1px rgba(60, 64, 67, 0.15);\n",
              "      fill: #174EA6;\n",
              "    }\n",
              "\n",
              "    .colab-df-buttons div {\n",
              "      margin-bottom: 4px;\n",
              "    }\n",
              "\n",
              "    [theme=dark] .colab-df-convert {\n",
              "      background-color: #3B4455;\n",
              "      fill: #D2E3FC;\n",
              "    }\n",
              "\n",
              "    [theme=dark] .colab-df-convert:hover {\n",
              "      background-color: #434B5C;\n",
              "      box-shadow: 0px 1px 3px 1px rgba(0, 0, 0, 0.15);\n",
              "      filter: drop-shadow(0px 1px 2px rgba(0, 0, 0, 0.3));\n",
              "      fill: #FFFFFF;\n",
              "    }\n",
              "  </style>\n",
              "\n",
              "    <script>\n",
              "      const buttonEl =\n",
              "        document.querySelector('#df-cea33cc7-b605-4962-8e3e-9faa91eecef7 button.colab-df-convert');\n",
              "      buttonEl.style.display =\n",
              "        google.colab.kernel.accessAllowed ? 'block' : 'none';\n",
              "\n",
              "      async function convertToInteractive(key) {\n",
              "        const element = document.querySelector('#df-cea33cc7-b605-4962-8e3e-9faa91eecef7');\n",
              "        const dataTable =\n",
              "          await google.colab.kernel.invokeFunction('convertToInteractive',\n",
              "                                                    [key], {});\n",
              "        if (!dataTable) return;\n",
              "\n",
              "        const docLinkHtml = 'Like what you see? Visit the ' +\n",
              "          '<a target=\"_blank\" href=https://colab.research.google.com/notebooks/data_table.ipynb>data table notebook</a>'\n",
              "          + ' to learn more about interactive tables.';\n",
              "        element.innerHTML = '';\n",
              "        dataTable['output_type'] = 'display_data';\n",
              "        await google.colab.output.renderOutput(dataTable, element);\n",
              "        const docLink = document.createElement('div');\n",
              "        docLink.innerHTML = docLinkHtml;\n",
              "        element.appendChild(docLink);\n",
              "      }\n",
              "    </script>\n",
              "  </div>\n",
              "\n",
              "\n",
              "    <div id=\"df-9efa62e0-6211-4abc-a954-5b7c95ca471e\">\n",
              "      <button class=\"colab-df-quickchart\" onclick=\"quickchart('df-9efa62e0-6211-4abc-a954-5b7c95ca471e')\"\n",
              "                title=\"Suggest charts\"\n",
              "                style=\"display:none;\">\n",
              "\n",
              "<svg xmlns=\"http://www.w3.org/2000/svg\" height=\"24px\"viewBox=\"0 0 24 24\"\n",
              "     width=\"24px\">\n",
              "    <g>\n",
              "        <path d=\"M19 3H5c-1.1 0-2 .9-2 2v14c0 1.1.9 2 2 2h14c1.1 0 2-.9 2-2V5c0-1.1-.9-2-2-2zM9 17H7v-7h2v7zm4 0h-2V7h2v10zm4 0h-2v-4h2v4z\"/>\n",
              "    </g>\n",
              "</svg>\n",
              "      </button>\n",
              "\n",
              "<style>\n",
              "  .colab-df-quickchart {\n",
              "      --bg-color: #E8F0FE;\n",
              "      --fill-color: #1967D2;\n",
              "      --hover-bg-color: #E2EBFA;\n",
              "      --hover-fill-color: #174EA6;\n",
              "      --disabled-fill-color: #AAA;\n",
              "      --disabled-bg-color: #DDD;\n",
              "  }\n",
              "\n",
              "  [theme=dark] .colab-df-quickchart {\n",
              "      --bg-color: #3B4455;\n",
              "      --fill-color: #D2E3FC;\n",
              "      --hover-bg-color: #434B5C;\n",
              "      --hover-fill-color: #FFFFFF;\n",
              "      --disabled-bg-color: #3B4455;\n",
              "      --disabled-fill-color: #666;\n",
              "  }\n",
              "\n",
              "  .colab-df-quickchart {\n",
              "    background-color: var(--bg-color);\n",
              "    border: none;\n",
              "    border-radius: 50%;\n",
              "    cursor: pointer;\n",
              "    display: none;\n",
              "    fill: var(--fill-color);\n",
              "    height: 32px;\n",
              "    padding: 0;\n",
              "    width: 32px;\n",
              "  }\n",
              "\n",
              "  .colab-df-quickchart:hover {\n",
              "    background-color: var(--hover-bg-color);\n",
              "    box-shadow: 0 1px 2px rgba(60, 64, 67, 0.3), 0 1px 3px 1px rgba(60, 64, 67, 0.15);\n",
              "    fill: var(--button-hover-fill-color);\n",
              "  }\n",
              "\n",
              "  .colab-df-quickchart-complete:disabled,\n",
              "  .colab-df-quickchart-complete:disabled:hover {\n",
              "    background-color: var(--disabled-bg-color);\n",
              "    fill: var(--disabled-fill-color);\n",
              "    box-shadow: none;\n",
              "  }\n",
              "\n",
              "  .colab-df-spinner {\n",
              "    border: 2px solid var(--fill-color);\n",
              "    border-color: transparent;\n",
              "    border-bottom-color: var(--fill-color);\n",
              "    animation:\n",
              "      spin 1s steps(1) infinite;\n",
              "  }\n",
              "\n",
              "  @keyframes spin {\n",
              "    0% {\n",
              "      border-color: transparent;\n",
              "      border-bottom-color: var(--fill-color);\n",
              "      border-left-color: var(--fill-color);\n",
              "    }\n",
              "    20% {\n",
              "      border-color: transparent;\n",
              "      border-left-color: var(--fill-color);\n",
              "      border-top-color: var(--fill-color);\n",
              "    }\n",
              "    30% {\n",
              "      border-color: transparent;\n",
              "      border-left-color: var(--fill-color);\n",
              "      border-top-color: var(--fill-color);\n",
              "      border-right-color: var(--fill-color);\n",
              "    }\n",
              "    40% {\n",
              "      border-color: transparent;\n",
              "      border-right-color: var(--fill-color);\n",
              "      border-top-color: var(--fill-color);\n",
              "    }\n",
              "    60% {\n",
              "      border-color: transparent;\n",
              "      border-right-color: var(--fill-color);\n",
              "    }\n",
              "    80% {\n",
              "      border-color: transparent;\n",
              "      border-right-color: var(--fill-color);\n",
              "      border-bottom-color: var(--fill-color);\n",
              "    }\n",
              "    90% {\n",
              "      border-color: transparent;\n",
              "      border-bottom-color: var(--fill-color);\n",
              "    }\n",
              "  }\n",
              "</style>\n",
              "\n",
              "      <script>\n",
              "        async function quickchart(key) {\n",
              "          const quickchartButtonEl =\n",
              "            document.querySelector('#' + key + ' button');\n",
              "          quickchartButtonEl.disabled = true;  // To prevent multiple clicks.\n",
              "          quickchartButtonEl.classList.add('colab-df-spinner');\n",
              "          try {\n",
              "            const charts = await google.colab.kernel.invokeFunction(\n",
              "                'suggestCharts', [key], {});\n",
              "          } catch (error) {\n",
              "            console.error('Error during call to suggestCharts:', error);\n",
              "          }\n",
              "          quickchartButtonEl.classList.remove('colab-df-spinner');\n",
              "          quickchartButtonEl.classList.add('colab-df-quickchart-complete');\n",
              "        }\n",
              "        (() => {\n",
              "          let quickchartButtonEl =\n",
              "            document.querySelector('#df-9efa62e0-6211-4abc-a954-5b7c95ca471e button');\n",
              "          quickchartButtonEl.style.display =\n",
              "            google.colab.kernel.accessAllowed ? 'block' : 'none';\n",
              "        })();\n",
              "      </script>\n",
              "    </div>\n",
              "\n",
              "    </div>\n",
              "  </div>\n"
            ],
            "text/plain": [
              "              Amount           Time\n",
              "count  220753.000000  220753.000000\n",
              "mean       89.881463   93599.610449\n",
              "std       247.855283   47639.513139\n",
              "min         0.000000       0.000000\n",
              "25%         5.000000   53043.811707\n",
              "50%        22.520000   84518.000000\n",
              "75%        80.820000  138685.000000\n",
              "max     25691.160000  172792.000000"
            ]
          },
          "execution_count": 9,
          "metadata": {},
          "output_type": "execute_result"
        }
      ],
      "source": [
        "print(\"10 : 90\")\n",
        "X_train_sm_1090[[\"Amount\",\"Time\"]].describe()"
      ]
    },
    {
      "cell_type": "code",
      "execution_count": null,
      "metadata": {
        "colab": {
          "base_uri": "https://localhost:8080/",
          "height": 318
        },
        "id": "4zUyq4lleV1a",
        "outputId": "6f873081-bd88-4fd8-bfb7-f37efcf12bea"
      },
      "outputs": [
        {
          "name": "stdout",
          "output_type": "stream",
          "text": [
            "50 : 50\n"
          ]
        },
        {
          "data": {
            "application/vnd.google.colaboratory.intrinsic+json": {
              "summary": "{\n  \"name\": \"X_train_sm_5050[[\\\"Amount\\\",\\\"Time\\\"]]\",\n  \"rows\": 8,\n  \"fields\": [\n    {\n      \"column\": \"Amount\",\n      \"properties\": {\n        \"dtype\": \"number\",\n        \"std\": 139468.49977253753,\n        \"min\": 0.0,\n        \"max\": 397396.0,\n        \"num_unique_values\": 8,\n        \"samples\": [\n          97.64413525510587,\n          24.99,\n          397396.0\n        ],\n        \"semantic_type\": \"\",\n        \"description\": \"\"\n      }\n    },\n    {\n      \"column\": \"Time\",\n      \"properties\": {\n        \"dtype\": \"number\",\n        \"std\": 123785.1500222955,\n        \"min\": 0.0,\n        \"max\": 397396.0,\n        \"num_unique_values\": 8,\n        \"samples\": [\n          88299.29721669533,\n          82071.5,\n          397396.0\n        ],\n        \"semantic_type\": \"\",\n        \"description\": \"\"\n      }\n    }\n  ]\n}",
              "type": "dataframe"
            },
            "text/html": [
              "\n",
              "  <div id=\"df-3cfeb061-8041-4fe1-8e20-21101c841f45\" class=\"colab-df-container\">\n",
              "    <div>\n",
              "<style scoped>\n",
              "    .dataframe tbody tr th:only-of-type {\n",
              "        vertical-align: middle;\n",
              "    }\n",
              "\n",
              "    .dataframe tbody tr th {\n",
              "        vertical-align: top;\n",
              "    }\n",
              "\n",
              "    .dataframe thead th {\n",
              "        text-align: right;\n",
              "    }\n",
              "</style>\n",
              "<table border=\"1\" class=\"dataframe\">\n",
              "  <thead>\n",
              "    <tr style=\"text-align: right;\">\n",
              "      <th></th>\n",
              "      <th>Amount</th>\n",
              "      <th>Time</th>\n",
              "    </tr>\n",
              "  </thead>\n",
              "  <tbody>\n",
              "    <tr>\n",
              "      <th>count</th>\n",
              "      <td>397396.000000</td>\n",
              "      <td>397396.000000</td>\n",
              "    </tr>\n",
              "    <tr>\n",
              "      <th>mean</th>\n",
              "      <td>97.644135</td>\n",
              "      <td>88299.297217</td>\n",
              "    </tr>\n",
              "    <tr>\n",
              "      <th>std</th>\n",
              "      <td>228.396829</td>\n",
              "      <td>47967.359296</td>\n",
              "    </tr>\n",
              "    <tr>\n",
              "      <th>min</th>\n",
              "      <td>0.000000</td>\n",
              "      <td>0.000000</td>\n",
              "    </tr>\n",
              "    <tr>\n",
              "      <th>25%</th>\n",
              "      <td>3.570000</td>\n",
              "      <td>47193.911507</td>\n",
              "    </tr>\n",
              "    <tr>\n",
              "      <th>50%</th>\n",
              "      <td>24.990000</td>\n",
              "      <td>82071.500000</td>\n",
              "    </tr>\n",
              "    <tr>\n",
              "      <th>75%</th>\n",
              "      <td>99.990000</td>\n",
              "      <td>134259.100235</td>\n",
              "    </tr>\n",
              "    <tr>\n",
              "      <th>max</th>\n",
              "      <td>25691.160000</td>\n",
              "      <td>172792.000000</td>\n",
              "    </tr>\n",
              "  </tbody>\n",
              "</table>\n",
              "</div>\n",
              "    <div class=\"colab-df-buttons\">\n",
              "\n",
              "  <div class=\"colab-df-container\">\n",
              "    <button class=\"colab-df-convert\" onclick=\"convertToInteractive('df-3cfeb061-8041-4fe1-8e20-21101c841f45')\"\n",
              "            title=\"Convert this dataframe to an interactive table.\"\n",
              "            style=\"display:none;\">\n",
              "\n",
              "  <svg xmlns=\"http://www.w3.org/2000/svg\" height=\"24px\" viewBox=\"0 -960 960 960\">\n",
              "    <path d=\"M120-120v-720h720v720H120Zm60-500h600v-160H180v160Zm220 220h160v-160H400v160Zm0 220h160v-160H400v160ZM180-400h160v-160H180v160Zm440 0h160v-160H620v160ZM180-180h160v-160H180v160Zm440 0h160v-160H620v160Z\"/>\n",
              "  </svg>\n",
              "    </button>\n",
              "\n",
              "  <style>\n",
              "    .colab-df-container {\n",
              "      display:flex;\n",
              "      gap: 12px;\n",
              "    }\n",
              "\n",
              "    .colab-df-convert {\n",
              "      background-color: #E8F0FE;\n",
              "      border: none;\n",
              "      border-radius: 50%;\n",
              "      cursor: pointer;\n",
              "      display: none;\n",
              "      fill: #1967D2;\n",
              "      height: 32px;\n",
              "      padding: 0 0 0 0;\n",
              "      width: 32px;\n",
              "    }\n",
              "\n",
              "    .colab-df-convert:hover {\n",
              "      background-color: #E2EBFA;\n",
              "      box-shadow: 0px 1px 2px rgba(60, 64, 67, 0.3), 0px 1px 3px 1px rgba(60, 64, 67, 0.15);\n",
              "      fill: #174EA6;\n",
              "    }\n",
              "\n",
              "    .colab-df-buttons div {\n",
              "      margin-bottom: 4px;\n",
              "    }\n",
              "\n",
              "    [theme=dark] .colab-df-convert {\n",
              "      background-color: #3B4455;\n",
              "      fill: #D2E3FC;\n",
              "    }\n",
              "\n",
              "    [theme=dark] .colab-df-convert:hover {\n",
              "      background-color: #434B5C;\n",
              "      box-shadow: 0px 1px 3px 1px rgba(0, 0, 0, 0.15);\n",
              "      filter: drop-shadow(0px 1px 2px rgba(0, 0, 0, 0.3));\n",
              "      fill: #FFFFFF;\n",
              "    }\n",
              "  </style>\n",
              "\n",
              "    <script>\n",
              "      const buttonEl =\n",
              "        document.querySelector('#df-3cfeb061-8041-4fe1-8e20-21101c841f45 button.colab-df-convert');\n",
              "      buttonEl.style.display =\n",
              "        google.colab.kernel.accessAllowed ? 'block' : 'none';\n",
              "\n",
              "      async function convertToInteractive(key) {\n",
              "        const element = document.querySelector('#df-3cfeb061-8041-4fe1-8e20-21101c841f45');\n",
              "        const dataTable =\n",
              "          await google.colab.kernel.invokeFunction('convertToInteractive',\n",
              "                                                    [key], {});\n",
              "        if (!dataTable) return;\n",
              "\n",
              "        const docLinkHtml = 'Like what you see? Visit the ' +\n",
              "          '<a target=\"_blank\" href=https://colab.research.google.com/notebooks/data_table.ipynb>data table notebook</a>'\n",
              "          + ' to learn more about interactive tables.';\n",
              "        element.innerHTML = '';\n",
              "        dataTable['output_type'] = 'display_data';\n",
              "        await google.colab.output.renderOutput(dataTable, element);\n",
              "        const docLink = document.createElement('div');\n",
              "        docLink.innerHTML = docLinkHtml;\n",
              "        element.appendChild(docLink);\n",
              "      }\n",
              "    </script>\n",
              "  </div>\n",
              "\n",
              "\n",
              "    <div id=\"df-f38acd7e-a729-4763-bcd7-014ee5971257\">\n",
              "      <button class=\"colab-df-quickchart\" onclick=\"quickchart('df-f38acd7e-a729-4763-bcd7-014ee5971257')\"\n",
              "                title=\"Suggest charts\"\n",
              "                style=\"display:none;\">\n",
              "\n",
              "<svg xmlns=\"http://www.w3.org/2000/svg\" height=\"24px\"viewBox=\"0 0 24 24\"\n",
              "     width=\"24px\">\n",
              "    <g>\n",
              "        <path d=\"M19 3H5c-1.1 0-2 .9-2 2v14c0 1.1.9 2 2 2h14c1.1 0 2-.9 2-2V5c0-1.1-.9-2-2-2zM9 17H7v-7h2v7zm4 0h-2V7h2v10zm4 0h-2v-4h2v4z\"/>\n",
              "    </g>\n",
              "</svg>\n",
              "      </button>\n",
              "\n",
              "<style>\n",
              "  .colab-df-quickchart {\n",
              "      --bg-color: #E8F0FE;\n",
              "      --fill-color: #1967D2;\n",
              "      --hover-bg-color: #E2EBFA;\n",
              "      --hover-fill-color: #174EA6;\n",
              "      --disabled-fill-color: #AAA;\n",
              "      --disabled-bg-color: #DDD;\n",
              "  }\n",
              "\n",
              "  [theme=dark] .colab-df-quickchart {\n",
              "      --bg-color: #3B4455;\n",
              "      --fill-color: #D2E3FC;\n",
              "      --hover-bg-color: #434B5C;\n",
              "      --hover-fill-color: #FFFFFF;\n",
              "      --disabled-bg-color: #3B4455;\n",
              "      --disabled-fill-color: #666;\n",
              "  }\n",
              "\n",
              "  .colab-df-quickchart {\n",
              "    background-color: var(--bg-color);\n",
              "    border: none;\n",
              "    border-radius: 50%;\n",
              "    cursor: pointer;\n",
              "    display: none;\n",
              "    fill: var(--fill-color);\n",
              "    height: 32px;\n",
              "    padding: 0;\n",
              "    width: 32px;\n",
              "  }\n",
              "\n",
              "  .colab-df-quickchart:hover {\n",
              "    background-color: var(--hover-bg-color);\n",
              "    box-shadow: 0 1px 2px rgba(60, 64, 67, 0.3), 0 1px 3px 1px rgba(60, 64, 67, 0.15);\n",
              "    fill: var(--button-hover-fill-color);\n",
              "  }\n",
              "\n",
              "  .colab-df-quickchart-complete:disabled,\n",
              "  .colab-df-quickchart-complete:disabled:hover {\n",
              "    background-color: var(--disabled-bg-color);\n",
              "    fill: var(--disabled-fill-color);\n",
              "    box-shadow: none;\n",
              "  }\n",
              "\n",
              "  .colab-df-spinner {\n",
              "    border: 2px solid var(--fill-color);\n",
              "    border-color: transparent;\n",
              "    border-bottom-color: var(--fill-color);\n",
              "    animation:\n",
              "      spin 1s steps(1) infinite;\n",
              "  }\n",
              "\n",
              "  @keyframes spin {\n",
              "    0% {\n",
              "      border-color: transparent;\n",
              "      border-bottom-color: var(--fill-color);\n",
              "      border-left-color: var(--fill-color);\n",
              "    }\n",
              "    20% {\n",
              "      border-color: transparent;\n",
              "      border-left-color: var(--fill-color);\n",
              "      border-top-color: var(--fill-color);\n",
              "    }\n",
              "    30% {\n",
              "      border-color: transparent;\n",
              "      border-left-color: var(--fill-color);\n",
              "      border-top-color: var(--fill-color);\n",
              "      border-right-color: var(--fill-color);\n",
              "    }\n",
              "    40% {\n",
              "      border-color: transparent;\n",
              "      border-right-color: var(--fill-color);\n",
              "      border-top-color: var(--fill-color);\n",
              "    }\n",
              "    60% {\n",
              "      border-color: transparent;\n",
              "      border-right-color: var(--fill-color);\n",
              "    }\n",
              "    80% {\n",
              "      border-color: transparent;\n",
              "      border-right-color: var(--fill-color);\n",
              "      border-bottom-color: var(--fill-color);\n",
              "    }\n",
              "    90% {\n",
              "      border-color: transparent;\n",
              "      border-bottom-color: var(--fill-color);\n",
              "    }\n",
              "  }\n",
              "</style>\n",
              "\n",
              "      <script>\n",
              "        async function quickchart(key) {\n",
              "          const quickchartButtonEl =\n",
              "            document.querySelector('#' + key + ' button');\n",
              "          quickchartButtonEl.disabled = true;  // To prevent multiple clicks.\n",
              "          quickchartButtonEl.classList.add('colab-df-spinner');\n",
              "          try {\n",
              "            const charts = await google.colab.kernel.invokeFunction(\n",
              "                'suggestCharts', [key], {});\n",
              "          } catch (error) {\n",
              "            console.error('Error during call to suggestCharts:', error);\n",
              "          }\n",
              "          quickchartButtonEl.classList.remove('colab-df-spinner');\n",
              "          quickchartButtonEl.classList.add('colab-df-quickchart-complete');\n",
              "        }\n",
              "        (() => {\n",
              "          let quickchartButtonEl =\n",
              "            document.querySelector('#df-f38acd7e-a729-4763-bcd7-014ee5971257 button');\n",
              "          quickchartButtonEl.style.display =\n",
              "            google.colab.kernel.accessAllowed ? 'block' : 'none';\n",
              "        })();\n",
              "      </script>\n",
              "    </div>\n",
              "\n",
              "    </div>\n",
              "  </div>\n"
            ],
            "text/plain": [
              "              Amount           Time\n",
              "count  397396.000000  397396.000000\n",
              "mean       97.644135   88299.297217\n",
              "std       228.396829   47967.359296\n",
              "min         0.000000       0.000000\n",
              "25%         3.570000   47193.911507\n",
              "50%        24.990000   82071.500000\n",
              "75%        99.990000  134259.100235\n",
              "max     25691.160000  172792.000000"
            ]
          },
          "execution_count": 10,
          "metadata": {},
          "output_type": "execute_result"
        }
      ],
      "source": [
        "print(\"50 : 50\")\n",
        "X_train_sm_5050[[\"Amount\",\"Time\"]].describe()"
      ]
    },
    {
      "cell_type": "markdown",
      "metadata": {
        "id": "f_SJLiOdeQ_u"
      },
      "source": [
        "--------------------------"
      ]
    },
    {
      "cell_type": "markdown",
      "metadata": {
        "id": "jCEqZY2NiYCW"
      },
      "source": [
        "**Gráficos**"
      ]
    },
    {
      "cell_type": "code",
      "execution_count": null,
      "metadata": {
        "colab": {
          "base_uri": "https://localhost:8080/",
          "height": 490
        },
        "id": "A1vriVPDVVGQ",
        "outputId": "8d6a0063-a5bd-468d-932b-ac3fc9b4a825"
      },
      "outputs": [
        {
          "name": "stdout",
          "output_type": "stream",
          "text": [
            "Base de dados original: Counter({0: 199020, 1: 344})\n"
          ]
        },
        {
          "data": {
            "image/png": "[encoded data removed]",
            "text/plain": [
              "<Figure size 640x480 with 1 Axes>"
            ]
          },
          "metadata": {},
          "output_type": "display_data"
        }
      ],
      "source": [
        "data_train = pd.concat([X_train, y_train], axis=1)\n",
        "counter = Counter(data_train[\"Class\"])\n",
        "print('Base de dados original:', counter)\n",
        "\n",
        "sn.histplot(data=data_train[data_train['Class'] == 0], x=\"Amount\", bins=50, kde=True, stat='count')\n",
        "\n",
        "sn.histplot(data=data_train[data_train['Class'] == 1], x=\"Amount\", bins=50, color='red', linewidth=1, kde=True, stat='count')\n",
        "\n",
        "plt.title('Distribuição da Variável Amount por Classe')\n",
        "plt.legend([\"0\", \"1\"])\n",
        "\n",
        "plt.xlabel('Amount')\n",
        "plt.ylabel('Frequência')\n",
        "plt.xlim(0, 2000)\n",
        "plt.ylim(0, 600)\n",
        "plt.show()"
      ]
    },
    {
      "cell_type": "code",
      "execution_count": null,
      "metadata": {
        "colab": {
          "base_uri": "https://localhost:8080/",
          "height": 490
        },
        "id": "WygoSIFgq32A",
        "outputId": "9e0db7ac-4d36-4493-9cf6-521b7b095865"
      },
      "outputs": [
        {
          "name": "stdout",
          "output_type": "stream",
          "text": [
            "Subconjunto 10 : 90: Counter({0: 198698, 1: 22055})\n"
          ]
        },
        {
          "data": {
            "image/png": "[encoded data removed]",
            "text/plain": [
              "<Figure size 640x480 with 1 Axes>"
            ]
          },
          "metadata": {},
          "output_type": "display_data"
        }
      ],
      "source": [
        "data_train_1090 = pd.concat([X_train_sm_1090, y_train_sm_1090], axis=1)\n",
        "freq = data_train_1090.groupby(['Amount','Class']).size().reset_index(name='Frequência')\n",
        "counter = Counter(data_train_1090[\"Class\"])\n",
        "print('Subconjunto 10 : 90:', counter)\n",
        "\n",
        "sn.histplot(data=data_train_1090[data_train_1090['Class'] == 0], x=\"Amount\", bins=50, kde=True, stat='count')\n",
        "\n",
        "sn.histplot(data=data_train_1090[data_train_1090['Class'] == 1], x=\"Amount\", bins=50, color='red', linewidth=1, kde=True, stat='count')\n",
        "\n",
        "plt.legend([\"0\", \"1\"])\n",
        "\n",
        "plt.title('Distribuição da Variável Amount por Classe Subconjunto SMOTE 10 : 90')\n",
        "plt.xlabel('Amount')\n",
        "plt.ylabel('Frequência')\n",
        "plt.xlim(0, 2000)\n",
        "plt.ylim(0, 25000)\n",
        "plt.show()"
      ]
    },
    {
      "cell_type": "code",
      "execution_count": null,
      "metadata": {
        "colab": {
          "base_uri": "https://localhost:8080/",
          "height": 490
        },
        "id": "Ucb5RNXprAAM",
        "outputId": "2ad6e5e8-8fd0-4b6a-eb40-99cd19d44c32"
      },
      "outputs": [
        {
          "name": "stdout",
          "output_type": "stream",
          "text": [
            "Subconjunto 50 : 50: Counter({0: 198698, 1: 198698})\n"
          ]
        },
        {
          "data": {
            "image/png": "[encoded data removed]",
            "text/plain": [
              "<Figure size 640x480 with 1 Axes>"
            ]
          },
          "metadata": {},
          "output_type": "display_data"
        }
      ],
      "source": [
        "data_train_5050 = pd.concat([X_train_sm_5050, y_train_sm_5050], axis=1)\n",
        "freq = data_train_5050.groupby(['Amount','Class']).size().reset_index(name='Frequência')\n",
        "\n",
        "counter = Counter(data_train_5050[\"Class\"])\n",
        "print('Subconjunto 50 : 50:', counter)\n",
        "\n",
        "sn.histplot(data=data_train_5050[data_train_5050['Class'] == 0], x=\"Amount\", bins=50, kde=True, stat='count')\n",
        "\n",
        "sn.histplot(data=data_train_5050[data_train_5050['Class'] == 1], x=\"Amount\", bins=50, color='red',linewidth=1, kde=True, stat='count')\n",
        "\n",
        "plt.legend([\"0\", \"1\"])\n",
        "plt.title('Distribuição da Variável Amount por Classe Subconjunto SMOTE 50 : 50')\n",
        "plt.xlabel('Amount')\n",
        "plt.ylabel('Frequência')\n",
        "plt.xlim(0, 2000)\n",
        "plt.ylim(0, 200000)\n",
        "plt.show()"
      ]
    },
    {
      "cell_type": "markdown",
      "metadata": {
        "id": "WdPXAA1BTCFh"
      },
      "source": [
        "#MODELO TREINAMENTO SEM SMOTE"
      ]
    },
    {
      "cell_type": "markdown",
      "metadata": {
        "id": "ai2r4fMfTGv1"
      },
      "source": [
        "#####**MODELO 1**"
      ]
    },
    {
      "cell_type": "code",
      "execution_count": 8,
      "metadata": {
        "colab": {
          "base_uri": "https://localhost:8080/"
        },
        "id": "3epw5f8TS-Mh",
        "outputId": "e78c4689-c141-4f24-f678-08dc3e0a7937"
      },
      "outputs": [
        {
          "output_type": "stream",
          "name": "stderr",
          "text": [
            "[Parallel(n_jobs=10)]: Using backend ThreadingBackend with 10 concurrent workers.\n",
            "[Parallel(n_jobs=10)]: Done  30 tasks      | elapsed:  1.1min\n",
            "[Parallel(n_jobs=10)]: Done 180 tasks      | elapsed:  6.0min\n",
            "[Parallel(n_jobs=10)]: Done 430 tasks      | elapsed: 14.1min\n",
            "[Parallel(n_jobs=10)]: Done 780 tasks      | elapsed: 25.4min\n",
            "[Parallel(n_jobs=10)]: Done 1000 out of 1000 | elapsed: 32.4min finished\n",
            "[Parallel(n_jobs=10)]: Using backend ThreadingBackend with 10 concurrent workers.\n",
            "[Parallel(n_jobs=10)]: Done  30 tasks      | elapsed:    0.5s\n",
            "[Parallel(n_jobs=10)]: Done 180 tasks      | elapsed:    2.5s\n",
            "[Parallel(n_jobs=10)]: Done 430 tasks      | elapsed:    6.8s\n",
            "[Parallel(n_jobs=10)]: Done 780 tasks      | elapsed:   11.4s\n"
          ]
        },
        {
          "output_type": "stream",
          "name": "stdout",
          "text": [
            "              precision    recall  f1-score   support\n",
            "\n",
            "           0       1.00      1.00      1.00    199020\n",
            "           1       1.00      1.00      1.00       344\n",
            "\n",
            "    accuracy                           1.00    199364\n",
            "   macro avg       1.00      1.00      1.00    199364\n",
            "weighted avg       1.00      1.00      1.00    199364\n",
            "\n"
          ]
        },
        {
          "output_type": "stream",
          "name": "stderr",
          "text": [
            "[Parallel(n_jobs=10)]: Done 1000 out of 1000 | elapsed:   14.3s finished\n"
          ]
        }
      ],
      "source": [
        "model = RandomForestClassifier(n_estimators=1000 ,class_weight={0: 1, 1: 10}, verbose=1, n_jobs=100) #Quanto maior o número de iterações, melhor o resultado\n",
        "\n",
        "model.fit(X_train,y_train)\n",
        "y_pred_rl = model.predict(X_train)\n",
        "\n",
        "print(classification_report(y_train, y_pred_rl))"
      ]
    },
    {
      "cell_type": "code",
      "execution_count": 9,
      "metadata": {
        "colab": {
          "base_uri": "https://localhost:8080/"
        },
        "id": "4svh3pkBTOSo",
        "outputId": "0d3ebcd7-1f51-4ec4-86c5-3ff8a854a82e"
      },
      "outputs": [
        {
          "output_type": "stream",
          "name": "stderr",
          "text": [
            "[Parallel(n_jobs=10)]: Using backend ThreadingBackend with 10 concurrent workers.\n"
          ]
        },
        {
          "output_type": "stream",
          "name": "stdout",
          "text": [
            "            Time        V1        V2        V3        V4        V5        V6  \\\n",
            "186882  127294.0 -2.537331  1.890864 -0.840555 -1.102759 -2.105725  0.367811   \n",
            "165754  117632.0 -0.250839  1.104108  0.206089  0.417324  1.204079 -0.350694   \n",
            "235285  148330.0  0.568980 -2.520416 -1.114138  1.670652 -1.128945  0.398822   \n",
            "101271   67778.0  1.328892  0.226908 -0.308968  0.381772  0.238490 -0.282946   \n",
            "5832      6308.0  1.124863 -0.165691  1.337053  1.030033 -0.891116  0.202926   \n",
            "...          ...       ...       ...       ...       ...       ...       ...   \n",
            "64725    51279.0 -1.808185  1.328808 -0.991449 -2.473986  2.185095  3.496806   \n",
            "16688    28048.0 -0.442905  0.716727  1.256775  0.860048  1.210872  1.066390   \n",
            "183868  125990.0  2.092418 -0.931315 -1.553089 -1.131369 -0.197801 -0.373117   \n",
            "45011    42168.0  1.293234  0.097565 -0.209304  0.329036  0.034958 -0.145507   \n",
            "150527   93609.0  2.214016 -0.584030 -1.238673 -0.702993 -0.184492 -0.646248   \n",
            "\n",
            "              V7        V8        V9  ...       V20       V21       V22  \\\n",
            "186882 -2.737844 -3.543314 -0.483147  ... -1.959611  4.328165 -2.167329   \n",
            "165754  1.369769 -0.133535 -0.957100  ... -0.128120  0.133048  0.499501   \n",
            "235285  0.190403  0.161493  0.840595  ...  1.039287  0.318037 -0.760732   \n",
            "101271  0.029460 -0.079962  0.227173  ... -0.050933 -0.379270 -1.148959   \n",
            "5832   -0.825094  0.163280  2.301808  ... -0.196966 -0.216512 -0.195607   \n",
            "...          ...       ...       ...  ...       ...       ...       ...   \n",
            "64725  -1.030373 -1.860286  0.182992  ...  0.745500 -1.441887 -0.020080   \n",
            "16688   0.888914 -0.176599 -0.172991  ...  0.310200 -0.154031  0.271637   \n",
            "183868 -0.390388 -0.119017 -0.702381  ...  0.120353 -0.008183 -0.274004   \n",
            "45011  -0.203271  0.153076  0.217831  ... -0.186409 -0.340111 -1.128741   \n",
            "150527 -0.425560 -0.352428  0.869265  ... -0.033153 -0.182835 -0.224863   \n",
            "\n",
            "             V23       V24       V25       V26       V27       V28  Amount  \n",
            "186882  1.022567 -0.241143 -1.094885 -0.475427 -0.177157 -0.082691   37.40  \n",
            "165754 -0.392572 -0.393364  0.233354 -0.490717  0.143897  0.136810    9.27  \n",
            "235285 -0.181332  0.595866 -0.760920 -1.048927 -0.096970  0.088686  700.00  \n",
            "101271 -0.047403 -1.074464  0.375683  0.182045 -0.031732  0.017501   14.99  \n",
            "5832    0.072785  0.045625  0.135192  0.308617  0.001142  0.017673   17.25  \n",
            "...          ...       ...       ...       ...       ...       ...     ...  \n",
            "64725   0.256883  1.014602 -0.108679  0.672870 -0.701644 -0.338981    0.92  \n",
            "16688  -0.262547 -1.125678  0.019374 -0.233577 -0.013664 -0.274549   13.74  \n",
            "183868  0.214650  0.257477 -0.193262 -0.458271 -0.056360 -0.053928   74.00  \n",
            "45011   0.000733 -0.956668  0.259784  0.158010 -0.044116  0.003539    1.98  \n",
            "150527  0.257899  0.558856 -0.060775 -0.391478 -0.057635 -0.059988   15.90  \n",
            "\n",
            "[85443 rows x 30 columns]\n"
          ]
        },
        {
          "output_type": "stream",
          "name": "stderr",
          "text": [
            "[Parallel(n_jobs=10)]: Done  30 tasks      | elapsed:    0.2s\n",
            "[Parallel(n_jobs=10)]: Done 180 tasks      | elapsed:    1.1s\n",
            "[Parallel(n_jobs=10)]: Done 430 tasks      | elapsed:    2.8s\n",
            "[Parallel(n_jobs=10)]: Done 780 tasks      | elapsed:    5.6s\n",
            "[Parallel(n_jobs=10)]: Done 1000 out of 1000 | elapsed:    6.9s finished\n"
          ]
        }
      ],
      "source": [
        "dft = pd.DataFrame(data = X_test)\n",
        "print(dft)\n",
        "resultado_rl = model.predict(dft)"
      ]
    },
    {
      "cell_type": "code",
      "execution_count": 10,
      "metadata": {
        "colab": {
          "base_uri": "https://localhost:8080/",
          "height": 594
        },
        "id": "Py05FcCMTRMP",
        "outputId": "c2031b94-9061-4524-8d49-db826ebf852c"
      },
      "outputs": [
        {
          "output_type": "display_data",
          "data": {
            "text/plain": [
              "<Figure size 640x480 with 2 Axes>"
            ],
            "image/png": "[encoded data removed]"
          },
          "metadata": {}
        },
        {
          "output_type": "stream",
          "name": "stdout",
          "text": [
            "\n",
            "Métricas\n",
            "\n",
            "Acurácia: 100.000000%\n",
            "Precisão: 100.000000%\n",
            "Recall:  100.000000%\n",
            "F1 Score:  100.000000%\n",
            "MCC:  100.000000%\n"
          ]
        }
      ],
      "source": [
        "cf_matrix = confusion_matrix(y_train, y_pred_rl)\n",
        "sn.heatmap(cf_matrix, cmap='coolwarm', annot=True, linewidth=1, fmt='d')\n",
        "plt.xlabel('Expectativa')\n",
        "plt.ylabel('Previsto pelo modelo')\n",
        "plt.show()\n",
        "\n",
        "print(\"\\nMétricas\\n\")\n",
        "print(f'Acurácia: {accuracy_score(y_train, y_pred_rl):%}')\n",
        "print(f'Precisão: {precision_score(y_train, y_pred_rl):%}')\n",
        "print(f'Recall:  {recall_score(y_train, y_pred_rl):%}')\n",
        "print(f'F1 Score:  {f1_score(y_train, y_pred_rl):%}')\n",
        "print(f'MCC:  {matthews_corrcoef(y_train, y_pred_rl):%}')"
      ]
    },
    {
      "cell_type": "code",
      "execution_count": 11,
      "metadata": {
        "colab": {
          "base_uri": "https://localhost:8080/",
          "height": 594
        },
        "id": "QZ78ctpfTSzn",
        "outputId": "dedeffd8-e6e8-407f-a523-fe4faee0ab96"
      },
      "outputs": [
        {
          "output_type": "display_data",
          "data": {
            "text/plain": [
              "<Figure size 640x480 with 2 Axes>"
            ],
            "image/png": "[encoded data removed]"
          },
          "metadata": {}
        },
        {
          "output_type": "stream",
          "name": "stdout",
          "text": [
            "\n",
            "Métricas\n",
            "\n",
            "Acurácia: 99.948504%\n",
            "Precisão: 97.272727%\n",
            "Recall:  72.297297%\n",
            "F1 Score:  82.945736%\n",
            "MCC:  83.837579%\n"
          ]
        }
      ],
      "source": [
        "cf_matrix = confusion_matrix(y_test, resultado_rl)\n",
        "sn.heatmap(cf_matrix, cmap='coolwarm', annot=True, linewidth=1, fmt='d')\n",
        "plt.xlabel('Expectativa')\n",
        "plt.ylabel('Previsto pelo modelo')\n",
        "plt.show()\n",
        "\n",
        "print(\"\\nMétricas\\n\")\n",
        "print(f'Acurácia: {accuracy_score(y_test, resultado_rl):%}')\n",
        "print(f'Precisão: {precision_score(y_test, resultado_rl):%}')\n",
        "print(f'Recall:  {recall_score(y_test, resultado_rl):%}')\n",
        "print(f'F1 Score:  {f1_score(y_test, resultado_rl):%}')\n",
        "print(f'MCC:  {matthews_corrcoef(y_test, resultado_rl):%}')"
      ]
    },
    {
      "cell_type": "code",
      "execution_count": 12,
      "metadata": {
        "colab": {
          "base_uri": "https://localhost:8080/",
          "height": 490
        },
        "id": "63dSQj7jy5bN",
        "outputId": "d30b8f1b-fa10-4a98-dda0-e7eed87defc3"
      },
      "outputs": [
        {
          "output_type": "stream",
          "name": "stdout",
          "text": [
            "1.0 0.8614689004615144\n"
          ]
        },
        {
          "output_type": "display_data",
          "data": {
            "text/plain": [
              "<Figure size 640x480 with 1 Axes>"
            ],
            "image/png": "[encoded data removed]"
          },
          "metadata": {}
        }
      ],
      "source": [
        "# roc curve for models\n",
        "fpr1, tpr1, thresh1 = roc_curve(y_train, y_pred_rl, pos_label=1)\n",
        "fpr2, tpr2, thresh2 = roc_curve(y_test, resultado_rl, pos_label=1)\n",
        "\n",
        "# roc curve for tpr = fpr\n",
        "random_probs = [0 for i in range(len(y_test))]\n",
        "p_fpr, p_tpr, _ = roc_curve(y_test, random_probs, pos_label=1)\n",
        "\n",
        "# roc curve for tpr = fpr\n",
        "random_probs = [0 for i in range(len(y_test))]\n",
        "p_fpr, p_tpr, _ = roc_curve(y_test, random_probs, pos_label=1)\n",
        "\n",
        "\n",
        "from sklearn.metrics import roc_auc_score\n",
        "\n",
        "auc_score1 = roc_auc_score(y_train, y_pred_rl)\n",
        "auc_score2 = roc_auc_score(y_test, resultado_rl)\n",
        "\n",
        "print(auc_score1, auc_score2)\n",
        "\n",
        "plt.plot(fpr1, tpr1, linestyle='--',color='orange', label='Treinamento')\n",
        "plt.plot(fpr2, tpr2, linestyle='--',color='green', label='Test')\n",
        "plt.plot(p_fpr, p_tpr, linestyle='--', color='blue')\n",
        "plt.title('ROC curve')\n",
        "plt.xlabel('False Positive Rate')\n",
        "plt.ylabel('True Positive rate')\n",
        "\n",
        "plt.legend(loc='best')\n",
        "plt.savefig('ROC',dpi=300)\n",
        "plt.show();"
      ]
    },
    {
      "cell_type": "markdown",
      "metadata": {
        "id": "wGyO2lrU92Dp"
      },
      "source": [
        "#####**MODELO 2**"
      ]
    },
    {
      "cell_type": "code",
      "execution_count": null,
      "metadata": {
        "id": "TZc5tSFj94SE"
      },
      "outputs": [],
      "source": [
        "from sklearn.metrics import classification_report\n",
        "\n",
        "model = cuRandomForestClassifier(solver='qn')  # qn é equivalente ao saga\n",
        "model.fit(X_train, y_train)\n",
        "y_pred_curl = model.predict(X_train)\n",
        "\n",
        "print(classification_report(y_train, y_pred_curl))"
      ]
    },
    {
      "cell_type": "code",
      "execution_count": null,
      "metadata": {
        "id": "ybyokUkO979F"
      },
      "outputs": [],
      "source": [
        "dft = pd.DataFrame(data = X_test)\n",
        "print(dft)\n",
        "resultado_curl = model.predict(dft)"
      ]
    },
    {
      "cell_type": "code",
      "execution_count": null,
      "metadata": {
        "id": "EeKSDr0HHmEy"
      },
      "outputs": [],
      "source": [
        "from sklearn.metrics import log_loss\n",
        "from sklearn.datasets import make_classification\n",
        "\n",
        "# Obter probabilidades preditas\n",
        "#y_prob = model.predict_proba(X_test)  # probabilidade da classe 1\n",
        "\n",
        "# Calcular log loss\n",
        "loss = log_loss(y_test, resultado_curl)\n",
        "print(f\"Log loss: {loss}\")"
      ]
    },
    {
      "cell_type": "code",
      "execution_count": null,
      "metadata": {
        "id": "swW1i_Lz9-Mj"
      },
      "outputs": [],
      "source": [
        "cf_matrix = confusion_matrix(y_train, y_pred_curl)\n",
        "sn.heatmap(cf_matrix, cmap='coolwarm', annot=True, linewidth=1, fmt='d')\n",
        "plt.xlabel('Expectativa')\n",
        "plt.ylabel('Previsto pelo modelo')\n",
        "plt.show()\n",
        "\n",
        "print(\"\\nMétricas:\\n\")\n",
        "print(f'Acurácia: {accuracy_score(y_train, y_pred_curl):%}')\n",
        "print(f'Precisão: {precision_score(y_train, y_pred_curl):%}')\n",
        "print(f'Recall:  {recall_score(y_train, y_pred_curl):%}')\n",
        "print(f'F1 Score:  {f1_score(y_train, y_pred_curl):%}')\n",
        "print(f'MCC:  {matthews_corrcoef(y_train, y_pred_curl)}')"
      ]
    },
    {
      "cell_type": "code",
      "execution_count": null,
      "metadata": {
        "id": "YrPWx25Y-AWp"
      },
      "outputs": [],
      "source": [
        "cf_matrix = confusion_matrix(y_test, resultado_curl)\n",
        "sn.heatmap(cf_matrix, cmap='coolwarm', annot=True, linewidth=1, fmt='d')\n",
        "plt.xlabel('Expectativa')\n",
        "plt.ylabel('Previsto pelo modelo')\n",
        "plt.show()\n",
        "\n",
        "print(\"\\nMétricas:\\n\")\n",
        "print(f'Acurácia: {accuracy_score(y_test, resultado_curl):%}')\n",
        "print(f'Precisão: {precision_score(y_test, resultado_curl):%}')\n",
        "print(f'Recall:  {recall_score(y_test, resultado_curl):%}')\n",
        "print(f'F1 Score:  {f1_score(y_test, resultado_curl):%}')\n",
        "print(f'MCC:  {matthews_corrcoef(y_test, resultado_curl)}')"
      ]
    },
    {
      "cell_type": "code",
      "execution_count": null,
      "metadata": {
        "id": "VIk8HqdFy694"
      },
      "outputs": [],
      "source": [
        "# roc curve for models\n",
        "fpr1, tpr1, thresh1 = roc_curve(y_train, y_pred_curl, pos_label=1)\n",
        "fpr2, tpr2, thresh2 = roc_curve(y_test, resultado_curl, pos_label=1)\n",
        "\n",
        "# roc curve for tpr = fpr\n",
        "random_probs = [0 for i in range(len(y_test))]\n",
        "p_fpr, p_tpr, _ = roc_curve(y_test, random_probs, pos_label=1)\n",
        "\n",
        "# roc curve for tpr = fpr\n",
        "random_probs = [0 for i in range(len(y_test))]\n",
        "p_fpr, p_tpr, _ = roc_curve(y_test, random_probs, pos_label=1)\n",
        "\n",
        "\n",
        "from sklearn.metrics import roc_auc_score\n",
        "\n",
        "# auc scores\n",
        "auc_score1 = roc_auc_score(y_train, y_pred_curl)\n",
        "auc_score2 = roc_auc_score(y_test, resultado_curl)\n",
        "\n",
        "print(auc_score1, auc_score2)\n",
        "\n",
        "# plot roc curves\n",
        "plt.plot(fpr1, tpr1, linestyle='--',color='orange', label='Treinamento')\n",
        "plt.plot(fpr2, tpr2, linestyle='--',color='green', label='Test')\n",
        "plt.plot(p_fpr, p_tpr, linestyle='--', color='blue')\n",
        "# title\n",
        "plt.title('ROC curve')\n",
        "# x label\n",
        "plt.xlabel('False Positive Rate')\n",
        "# y label\n",
        "plt.ylabel('True Positive rate')\n",
        "\n",
        "plt.legend(loc='best')\n",
        "plt.savefig('ROC',dpi=300)\n",
        "plt.show();"
      ]
    },
    {
      "cell_type": "markdown",
      "metadata": {
        "id": "VwtfBVSlxdXf"
      },
      "source": [
        "#MODELO TREINAMENTO 10 : 90"
      ]
    },
    {
      "cell_type": "markdown",
      "metadata": {
        "id": "N0mDd02NzTCx"
      },
      "source": [
        "#####**MODELO 1**"
      ]
    },
    {
      "cell_type": "code",
      "execution_count": 13,
      "metadata": {
        "id": "FxMVKVsOxhjw",
        "colab": {
          "base_uri": "https://localhost:8080/"
        },
        "outputId": "fc3e45a5-8d80-45cf-abe6-fe936852bb7e"
      },
      "outputs": [
        {
          "output_type": "stream",
          "name": "stderr",
          "text": [
            "[Parallel(n_jobs=100)]: Using backend ThreadingBackend with 100 concurrent workers.\n",
            "[Parallel(n_jobs=100)]: Done 250 tasks      | elapsed:  8.7min\n",
            "[Parallel(n_jobs=100)]: Done 600 tasks      | elapsed: 18.6min\n",
            "[Parallel(n_jobs=100)]: Done 1000 out of 1000 | elapsed: 28.9min finished\n",
            "[Parallel(n_jobs=100)]: Using backend ThreadingBackend with 100 concurrent workers.\n",
            "[Parallel(n_jobs=100)]: Done 250 tasks      | elapsed:    5.9s\n",
            "[Parallel(n_jobs=100)]: Done 600 tasks      | elapsed:   11.7s\n"
          ]
        },
        {
          "output_type": "stream",
          "name": "stdout",
          "text": [
            "              precision    recall  f1-score   support\n",
            "\n",
            "           0       1.00      1.00      1.00    198698\n",
            "           1       1.00      1.00      1.00     22055\n",
            "\n",
            "    accuracy                           1.00    220753\n",
            "   macro avg       1.00      1.00      1.00    220753\n",
            "weighted avg       1.00      1.00      1.00    220753\n",
            "\n"
          ]
        },
        {
          "output_type": "stream",
          "name": "stderr",
          "text": [
            "[Parallel(n_jobs=100)]: Done 1000 out of 1000 | elapsed:   18.4s finished\n"
          ]
        }
      ],
      "source": [
        "model = RandomForestClassifier(n_estimators=1000, class_weight={0: 1, 1: 10}, verbose=1, n_jobs=100) #Quanto maior o número de iterações, melhor o resultado\n",
        "model.fit(X_train_sm_1090, y_train_sm_1090)\n",
        "y_pred_rl = model.predict(X_train_sm_1090)\n",
        "\n",
        "print(classification_report(y_train_sm_1090, y_pred_rl))"
      ]
    },
    {
      "cell_type": "code",
      "execution_count": 14,
      "metadata": {
        "id": "c6u9KwdKxox5",
        "colab": {
          "base_uri": "https://localhost:8080/"
        },
        "outputId": "5f8b4e65-0007-4db0-d724-edbbb455527f"
      },
      "outputs": [
        {
          "output_type": "stream",
          "name": "stderr",
          "text": [
            "[Parallel(n_jobs=100)]: Using backend ThreadingBackend with 100 concurrent workers.\n"
          ]
        },
        {
          "output_type": "stream",
          "name": "stdout",
          "text": [
            "            Time        V1        V2        V3        V4        V5        V6  \\\n",
            "186882  127294.0 -2.537331  1.890864 -0.840555 -1.102759 -2.105725  0.367811   \n",
            "165754  117632.0 -0.250839  1.104108  0.206089  0.417324  1.204079 -0.350694   \n",
            "235285  148330.0  0.568980 -2.520416 -1.114138  1.670652 -1.128945  0.398822   \n",
            "101271   67778.0  1.328892  0.226908 -0.308968  0.381772  0.238490 -0.282946   \n",
            "5832      6308.0  1.124863 -0.165691  1.337053  1.030033 -0.891116  0.202926   \n",
            "...          ...       ...       ...       ...       ...       ...       ...   \n",
            "64725    51279.0 -1.808185  1.328808 -0.991449 -2.473986  2.185095  3.496806   \n",
            "16688    28048.0 -0.442905  0.716727  1.256775  0.860048  1.210872  1.066390   \n",
            "183868  125990.0  2.092418 -0.931315 -1.553089 -1.131369 -0.197801 -0.373117   \n",
            "45011    42168.0  1.293234  0.097565 -0.209304  0.329036  0.034958 -0.145507   \n",
            "150527   93609.0  2.214016 -0.584030 -1.238673 -0.702993 -0.184492 -0.646248   \n",
            "\n",
            "              V7        V8        V9  ...       V20       V21       V22  \\\n",
            "186882 -2.737844 -3.543314 -0.483147  ... -1.959611  4.328165 -2.167329   \n",
            "165754  1.369769 -0.133535 -0.957100  ... -0.128120  0.133048  0.499501   \n",
            "235285  0.190403  0.161493  0.840595  ...  1.039287  0.318037 -0.760732   \n",
            "101271  0.029460 -0.079962  0.227173  ... -0.050933 -0.379270 -1.148959   \n",
            "5832   -0.825094  0.163280  2.301808  ... -0.196966 -0.216512 -0.195607   \n",
            "...          ...       ...       ...  ...       ...       ...       ...   \n",
            "64725  -1.030373 -1.860286  0.182992  ...  0.745500 -1.441887 -0.020080   \n",
            "16688   0.888914 -0.176599 -0.172991  ...  0.310200 -0.154031  0.271637   \n",
            "183868 -0.390388 -0.119017 -0.702381  ...  0.120353 -0.008183 -0.274004   \n",
            "45011  -0.203271  0.153076  0.217831  ... -0.186409 -0.340111 -1.128741   \n",
            "150527 -0.425560 -0.352428  0.869265  ... -0.033153 -0.182835 -0.224863   \n",
            "\n",
            "             V23       V24       V25       V26       V27       V28  Amount  \n",
            "186882  1.022567 -0.241143 -1.094885 -0.475427 -0.177157 -0.082691   37.40  \n",
            "165754 -0.392572 -0.393364  0.233354 -0.490717  0.143897  0.136810    9.27  \n",
            "235285 -0.181332  0.595866 -0.760920 -1.048927 -0.096970  0.088686  700.00  \n",
            "101271 -0.047403 -1.074464  0.375683  0.182045 -0.031732  0.017501   14.99  \n",
            "5832    0.072785  0.045625  0.135192  0.308617  0.001142  0.017673   17.25  \n",
            "...          ...       ...       ...       ...       ...       ...     ...  \n",
            "64725   0.256883  1.014602 -0.108679  0.672870 -0.701644 -0.338981    0.92  \n",
            "16688  -0.262547 -1.125678  0.019374 -0.233577 -0.013664 -0.274549   13.74  \n",
            "183868  0.214650  0.257477 -0.193262 -0.458271 -0.056360 -0.053928   74.00  \n",
            "45011   0.000733 -0.956668  0.259784  0.158010 -0.044116  0.003539    1.98  \n",
            "150527  0.257899  0.558856 -0.060775 -0.391478 -0.057635 -0.059988   15.90  \n",
            "\n",
            "[85443 rows x 30 columns]\n"
          ]
        },
        {
          "output_type": "stream",
          "name": "stderr",
          "text": [
            "[Parallel(n_jobs=100)]: Done 250 tasks      | elapsed:    1.8s\n",
            "[Parallel(n_jobs=100)]: Done 600 tasks      | elapsed:    3.8s\n",
            "[Parallel(n_jobs=100)]: Done 1000 out of 1000 | elapsed:    5.9s finished\n"
          ]
        }
      ],
      "source": [
        "dft = pd.DataFrame(data = X_test)\n",
        "print(dft)\n",
        "resultado_rl = model.predict(dft)"
      ]
    },
    {
      "cell_type": "code",
      "execution_count": 15,
      "metadata": {
        "id": "tVIlkR3txsxP",
        "colab": {
          "base_uri": "https://localhost:8080/",
          "height": 612
        },
        "outputId": "d1118268-2e04-4097-abb2-d674af05ffa0"
      },
      "outputs": [
        {
          "output_type": "display_data",
          "data": {
            "text/plain": [
              "<Figure size 640x480 with 2 Axes>"
            ],
            "image/png": "[encoded data removed]"
          },
          "metadata": {}
        },
        {
          "output_type": "stream",
          "name": "stdout",
          "text": [
            "\n",
            "Métricas\n",
            "\n",
            "Acurácia: 100.000000%\n",
            "Precisão: 100.000000%\n",
            "Recall:  100.000000%\n",
            "F1 Score:  100.000000%\n",
            "F1 Score:  100.000000%\n",
            "MCC:  100.000000%\n"
          ]
        }
      ],
      "source": [
        "cf_matrix = confusion_matrix(y_train_sm_1090, y_pred_rl)\n",
        "sn.heatmap(cf_matrix, cmap='coolwarm', annot=True, linewidth=1, fmt='d')\n",
        "plt.xlabel('Expectativa')\n",
        "plt.ylabel('Previsto pelo modelo')\n",
        "plt.show()\n",
        "\n",
        "print(\"\\nMétricas\\n\")\n",
        "print(f'Acurácia: {accuracy_score(y_train_sm_1090, y_pred_rl):%}')\n",
        "print(f'Precisão: {precision_score(y_train_sm_1090, y_pred_rl):%}')\n",
        "print(f'Recall:  {recall_score(y_train_sm_1090, y_pred_rl):%}')\n",
        "print(f'F1 Score:  {f1_score(y_train_sm_1090, y_pred_rl):%}')\n",
        "print(f'F1 Score:  {matthews_corrcoef(y_train_sm_1090, y_pred_rl):%}')\n",
        "print(f'MCC:  {matthews_corrcoef(y_train_sm_1090, y_pred_rl):%}')"
      ]
    },
    {
      "cell_type": "code",
      "execution_count": 16,
      "metadata": {
        "id": "qqcB3MDyxzfP",
        "colab": {
          "base_uri": "https://localhost:8080/",
          "height": 594
        },
        "outputId": "93920e80-c2ea-45d2-ba11-f96e8f4eac28"
      },
      "outputs": [
        {
          "output_type": "display_data",
          "data": {
            "text/plain": [
              "<Figure size 640x480 with 2 Axes>"
            ],
            "image/png": "[encoded data removed]"
          },
          "metadata": {}
        },
        {
          "output_type": "stream",
          "name": "stdout",
          "text": [
            "\n",
            "Métricas\n",
            "\n",
            "Acurácia: 99.943822%\n",
            "Precisão: 88.461538%\n",
            "Recall:  77.702703%\n",
            "F1 Score:  82.733813%\n",
            "MCC:  82.880275%\n"
          ]
        }
      ],
      "source": [
        "cf_matrix = confusion_matrix(y_test, resultado_rl)\n",
        "sn.heatmap(cf_matrix, cmap='coolwarm', annot=True, linewidth=1, fmt='d')\n",
        "plt.xlabel('Expectativa')\n",
        "plt.ylabel('Previsto pelo modelo')\n",
        "plt.show()\n",
        "\n",
        "print(\"\\nMétricas\\n\")\n",
        "print(f'Acurácia: {accuracy_score(y_test, resultado_rl):%}')\n",
        "print(f'Precisão: {precision_score(y_test, resultado_rl):%}')\n",
        "print(f'Recall:  {recall_score(y_test, resultado_rl):%}')\n",
        "print(f'F1 Score:  {f1_score(y_test, resultado_rl):%}')\n",
        "print(f'MCC:  {matthews_corrcoef(y_test, resultado_rl):%}')"
      ]
    },
    {
      "cell_type": "code",
      "execution_count": 17,
      "metadata": {
        "id": "DqnigMWSy8ll",
        "colab": {
          "base_uri": "https://localhost:8080/",
          "height": 490
        },
        "outputId": "d7979943-5d11-4184-d510-329bf521c86b"
      },
      "outputs": [
        {
          "output_type": "stream",
          "name": "stdout",
          "text": [
            "1.0 0.8884255833886526\n"
          ]
        },
        {
          "output_type": "display_data",
          "data": {
            "text/plain": [
              "<Figure size 640x480 with 1 Axes>"
            ],
            "image/png": "[encoded data removed]"
          },
          "metadata": {}
        }
      ],
      "source": [
        "# roc curve for models\n",
        "fpr1, tpr1, thresh1 = roc_curve(y_train_sm_1090, y_pred_rl, pos_label=1)\n",
        "fpr2, tpr2, thresh2 = roc_curve(y_test, resultado_rl, pos_label=1)\n",
        "\n",
        "# roc curve for tpr = fpr\n",
        "random_probs = [0 for i in range(len(y_test))]\n",
        "p_fpr, p_tpr, _ = roc_curve(y_test, random_probs, pos_label=1)\n",
        "\n",
        "# roc curve for tpr = fpr\n",
        "random_probs = [0 for i in range(len(y_test))]\n",
        "p_fpr, p_tpr, _ = roc_curve(y_test, random_probs, pos_label=1)\n",
        "\n",
        "\n",
        "from sklearn.metrics import roc_auc_score\n",
        "\n",
        "# auc scores\n",
        "auc_score1 = roc_auc_score(y_train_sm_1090, y_pred_rl)\n",
        "auc_score2 = roc_auc_score(y_test, resultado_rl)\n",
        "\n",
        "print(auc_score1, auc_score2)\n",
        "\n",
        "# plot roc curves\n",
        "plt.plot(fpr1, tpr1, linestyle='--',color='orange', label='Treinamento')\n",
        "plt.plot(fpr2, tpr2, linestyle='--',color='green', label='Test')\n",
        "plt.plot(p_fpr, p_tpr, linestyle='--', color='blue')\n",
        "# title\n",
        "plt.title('ROC curve')\n",
        "# x label\n",
        "plt.xlabel('False Positive Rate')\n",
        "# y label\n",
        "plt.ylabel('True Positive rate')\n",
        "\n",
        "plt.legend(loc='best')\n",
        "plt.savefig('ROC',dpi=300)\n",
        "plt.show();"
      ]
    },
    {
      "cell_type": "markdown",
      "metadata": {
        "id": "x-eHK7uJyTGC"
      },
      "source": [
        "#####**MODELO 2**"
      ]
    },
    {
      "cell_type": "code",
      "execution_count": null,
      "metadata": {
        "id": "uDX8rLBbyV3Y"
      },
      "outputs": [],
      "source": [
        "model = cuRandomForestClassifier(max_iter=10000, solver='qn')  # qn é equivalente ao saga\n",
        "model.fit(X_train_sm_1090, y_train_sm_1090)\n",
        "y_pred_curl = model.predict(X_train_sm_1090)\n",
        "\n",
        "print(classification_report(y_train_sm_1090, y_pred_curl))"
      ]
    },
    {
      "cell_type": "code",
      "execution_count": null,
      "metadata": {
        "id": "WX4agspbyYBE"
      },
      "outputs": [],
      "source": [
        "dft = pd.DataFrame(data = X_test)\n",
        "print(dft)\n",
        "resultado_curl = model.predict(dft)"
      ]
    },
    {
      "cell_type": "code",
      "execution_count": null,
      "metadata": {
        "id": "GQ30Oe_3yYgu"
      },
      "outputs": [],
      "source": [
        "cf_matrix = confusion_matrix(y_train_sm_1090, y_pred_curl)\n",
        "sn.heatmap(cf_matrix, cmap='coolwarm', annot=True, linewidth=1, fmt='d')\n",
        "plt.xlabel('Expectativa')\n",
        "plt.ylabel('Previsto pelo modelo')\n",
        "plt.show()\n",
        "\n",
        "print(\"\\nMétricas:\\n\")\n",
        "print(f'Acurácia: {accuracy_score(y_train_sm_1090, y_pred_curl):%}')\n",
        "print(f'Precisão: {precision_score(y_train_sm_1090, y_pred_curl):%}')\n",
        "print(f'Recall:  {recall_score(y_train_sm_1090, y_pred_curl):%}')\n",
        "print(f'F1 Score:  {f1_score(y_train_sm_1090, y_pred_curl):%}')\n",
        "print(f'MCC:  {matthews_corrcoef(y_train_sm_1090, y_pred_curl):%}')"
      ]
    },
    {
      "cell_type": "code",
      "execution_count": null,
      "metadata": {
        "id": "w7gAt7u-ydbP"
      },
      "outputs": [],
      "source": [
        "cf_matrix = confusion_matrix(y_test, resultado_curl)\n",
        "sn.heatmap(cf_matrix, cmap='coolwarm', annot=True, linewidth=1, fmt='d')\n",
        "plt.xlabel('Expectativa')\n",
        "plt.ylabel('Previsto pelo modelo')\n",
        "plt.show()\n",
        "\n",
        "print(\"\\nMétricas:\\n\")\n",
        "print(f'Acurácia: {accuracy_score(y_test, resultado_curl):%}')\n",
        "print(f'Precisão: {precision_score(y_test, resultado_curl):%}')\n",
        "print(f'Recall:  {recall_score(y_test, resultado_curl):%}')\n",
        "print(f'F1 Score:  {f1_score(y_test, resultado_curl):%}')\n",
        "print(f'MCC:  {matthews_corrcoef(y_test, resultado_curl):%}')"
      ]
    },
    {
      "cell_type": "code",
      "execution_count": null,
      "metadata": {
        "id": "c_ZR0aMay96s"
      },
      "outputs": [],
      "source": [
        "# roc curve for models\n",
        "fpr1, tpr1, thresh1 = roc_curve(y_train_sm_1090, y_pred_curl, pos_label=1)\n",
        "fpr2, tpr2, thresh2 = roc_curve(y_test, resultado_curl, pos_label=1)\n",
        "\n",
        "# roc curve for tpr = fpr\n",
        "random_probs = [0 for i in range(len(y_test))]\n",
        "p_fpr, p_tpr, _ = roc_curve(y_test, random_probs, pos_label=1)\n",
        "\n",
        "# roc curve for tpr = fpr\n",
        "random_probs = [0 for i in range(len(y_test))]\n",
        "p_fpr, p_tpr, _ = roc_curve(y_test, random_probs, pos_label=1)\n",
        "\n",
        "\n",
        "from sklearn.metrics import roc_auc_score\n",
        "\n",
        "# auc scores\n",
        "auc_score1 = roc_auc_score(y_train_sm_1090, y_pred_curl)\n",
        "auc_score2 = roc_auc_score(y_test, resultado_curl)\n",
        "\n",
        "print(auc_score1, auc_score2)\n",
        "\n",
        "# plot roc curves\n",
        "plt.plot(fpr1, tpr1, linestyle='--',color='orange', label='Treinamento')\n",
        "plt.plot(fpr2, tpr2, linestyle='--',color='green', label='Test')\n",
        "plt.plot(p_fpr, p_tpr, linestyle='--', color='blue')\n",
        "# title\n",
        "plt.title('ROC curve')\n",
        "# x label\n",
        "plt.xlabel('False Positive Rate')\n",
        "# y label\n",
        "plt.ylabel('True Positive rate')\n",
        "\n",
        "plt.legend(loc='best')\n",
        "plt.savefig('ROC',dpi=300)\n",
        "plt.show();"
      ]
    },
    {
      "cell_type": "markdown",
      "metadata": {
        "id": "hiDmWncPzctL"
      },
      "source": [
        "#**MODELOS TREINAMENTO 50:50**"
      ]
    },
    {
      "cell_type": "markdown",
      "metadata": {
        "id": "lc5oKPsiu9In"
      },
      "source": [
        "#####**MODELO 1 SCIKIT LEARN PURO**"
      ]
    },
    {
      "cell_type": "code",
      "execution_count": null,
      "metadata": {
        "id": "119eff53-a10b-4453-8e1a-5e8df48af2e3"
      },
      "outputs": [],
      "source": [
        "model = RandomForestClassifier(solver='saga', max_iter=6000, class_weight={0: 1, 1: 10}, verbose=1, n_jobs=100) #Quanto maior o número de iterações, melhor o resultado\n",
        "model.fit(X_train_sm_5050,y_train_sm_5050)\n",
        "y_pred_rl = model.predict(X_train_sm_5050)\n",
        "\n",
        "print(classification_report(y_train_sm_5050, y_pred_rl))"
      ]
    },
    {
      "cell_type": "code",
      "execution_count": null,
      "metadata": {
        "id": "3d47929c-6d4e-47f1-8a20-89fdcc0eb092",
        "scrolled": true
      },
      "outputs": [],
      "source": [
        "dft = pd.DataFrame(data = X_test)\n",
        "print(dft)\n",
        "resultado_rl = model.predict(dft)"
      ]
    },
    {
      "cell_type": "code",
      "execution_count": null,
      "metadata": {
        "id": "zoYdlHGoAb5m"
      },
      "outputs": [],
      "source": [
        "cf_matrix = confusion_matrix(y_train_sm_5050, y_pred_rl)\n",
        "sn.heatmap(cf_matrix, cmap='coolwarm', annot=True, linewidth=1, fmt='d')\n",
        "plt.xlabel('Expectativa')\n",
        "plt.ylabel('Previsto pelo modelo')\n",
        "plt.show()\n",
        "\n",
        "print(\"\\nMétricas\\n\")\n",
        "print(f'Acurácia: {accuracy_score(y_train_sm_5050, y_pred_rl):%}')\n",
        "print(f'Precisão: {precision_score(y_train_sm_5050, y_pred_rl):%}')\n",
        "print(f'Recall:  {recall_score(y_train_sm_5050, y_pred_rl):%}')\n",
        "print(f'F1 Score:  {f1_score(y_train_sm_5050, y_pred_rl):%}')\n",
        "print(f'MCC:  {matthews_corrcoef(y_train_sm_5050, y_pred_rl):%}')"
      ]
    },
    {
      "cell_type": "code",
      "execution_count": null,
      "metadata": {
        "id": "c99a03dd-2817-47ff-9e57-fdec66d92ccc"
      },
      "outputs": [],
      "source": [
        "cf_matrix = confusion_matrix(y_test, resultado_rl)\n",
        "sn.heatmap(cf_matrix, cmap='coolwarm', annot=True, linewidth=1, fmt='d')\n",
        "plt.xlabel('Expectativa')\n",
        "plt.ylabel('Previsto pelo modelo')\n",
        "plt.show()\n",
        "\n",
        "print(\"\\nMétricas\\n\")\n",
        "print(f'Acurácia: {accuracy_score(y_test, resultado_rl):%}')\n",
        "print(f'Precisão: {precision_score(y_test, resultado_rl):%}')\n",
        "print(f'Recall:  {recall_score(y_test, resultado_rl):%}')\n",
        "print(f'F1 Score:  {f1_score(y_test, resultado_rl):%}')\n",
        "print(f'MCC:  {matthews_corrcoef(y_test, resultado_rl):%}')"
      ]
    },
    {
      "cell_type": "code",
      "execution_count": null,
      "metadata": {
        "id": "3l6jvrq9hFVr"
      },
      "outputs": [],
      "source": [
        "# roc curve for models\n",
        "fpr1, tpr1, thresh1 = roc_curve(y_train_sm_5050, y_pred_rl, pos_label=1)\n",
        "fpr2, tpr2, thresh2 = roc_curve(y_test, resultado_rl, pos_label=1)\n",
        "\n",
        "# roc curve for tpr = fpr\n",
        "random_probs = [0 for i in range(len(y_test))]\n",
        "p_fpr, p_tpr, _ = roc_curve(y_test, random_probs, pos_label=1)\n",
        "\n",
        "# roc curve for tpr = fpr\n",
        "random_probs = [0 for i in range(len(y_test))]\n",
        "p_fpr, p_tpr, _ = roc_curve(y_test, random_probs, pos_label=1)\n",
        "\n",
        "\n",
        "from sklearn.metrics import roc_auc_score\n",
        "\n",
        "# auc scores\n",
        "auc_score1 = roc_auc_score(y_train_sm_5050, y_pred_rl)\n",
        "auc_score2 = roc_auc_score(y_test, resultado_rl)\n",
        "\n",
        "print(auc_score1, auc_score2)\n",
        "\n",
        "# plot roc curves\n",
        "plt.plot(fpr1, tpr1, linestyle='--',color='orange', label='Treinamento')\n",
        "plt.plot(fpr2, tpr2, linestyle='--',color='green', label='Test')\n",
        "plt.plot(p_fpr, p_tpr, linestyle='--', color='blue')\n",
        "# title\n",
        "plt.title('ROC curve')\n",
        "# x label\n",
        "plt.xlabel('False Positive Rate')\n",
        "# y label\n",
        "plt.ylabel('True Positive rate')\n",
        "\n",
        "plt.legend(loc='best')\n",
        "plt.savefig('ROC',dpi=300)\n",
        "plt.show();"
      ]
    },
    {
      "cell_type": "markdown",
      "metadata": {
        "id": "lkUEZrsqu_A9"
      },
      "source": [
        "#####**MODELO 2 CUML**"
      ]
    },
    {
      "cell_type": "code",
      "execution_count": null,
      "metadata": {
        "id": "j7JfEvwEHfLL"
      },
      "outputs": [],
      "source": [
        "from sklearn.metrics import classification_report\n",
        "\n",
        "model = cuRandomForestClassifier(max_iter=10000, solver='qn', verbose=1)  # qn é equivalente ao saga\n",
        "model.fit(X_train_sm_5050, y_train_sm_5050)\n",
        "y_pred_curl = model.predict(X_train_sm_5050)\n",
        "\n",
        "print(classification_report(y_train_sm_5050, y_pred_curl))"
      ]
    },
    {
      "cell_type": "code",
      "execution_count": null,
      "metadata": {
        "id": "P6eXcyB2UMvn"
      },
      "outputs": [],
      "source": [
        "from sklearn.metrics import log_loss\n",
        "from sklearn.datasets import make_classification\n",
        "\n",
        "\n",
        "dft = pd.DataFrame(data = X_test)\n",
        "print(dft)\n",
        "# Obter probabilidades preditas\n",
        "# y_prob = model.predict_proba(X_test)[:, 1]  # probabilidade da classe 1\n",
        "\n",
        "# Calcular log loss\n",
        "# loss = log_loss(y_test, y_prob)\n",
        "# print(f\"Log loss: {loss}\")\n",
        "resultado_curl = model.predict(dft)"
      ]
    },
    {
      "cell_type": "code",
      "execution_count": null,
      "metadata": {
        "id": "fJESw7NgULPm"
      },
      "outputs": [],
      "source": [
        "cf_matrix = confusion_matrix(y_train_sm_5050, y_pred_curl)\n",
        "sn.heatmap(cf_matrix, cmap='coolwarm', annot=True, linewidth=1, fmt='d')\n",
        "plt.xlabel('Expectativa')\n",
        "plt.ylabel('Previsto pelo modelo')\n",
        "plt.show()\n",
        "\n",
        "print(f'Acurácia: {accuracy_score(y_train_sm_5050, y_pred_curl):%}')\n",
        "print(f'Precisão: {precision_score(y_train_sm_5050, y_pred_curl):%}')\n",
        "print(f'Recall:  {recall_score(y_train_sm_5050, y_pred_curl):%}')\n",
        "print(f'F1 Score:  {f1_score(y_train_sm_5050, y_pred_curl):%}')\n",
        "print(f'MCC:  {matthews_corrcoef(y_train_sm_5050, y_pred_curl):%}')"
      ]
    },
    {
      "cell_type": "code",
      "execution_count": null,
      "metadata": {
        "id": "V-J3lmx5UMmc"
      },
      "outputs": [],
      "source": [
        "cf_matrix = confusion_matrix(y_test, resultado_curl)\n",
        "sn.heatmap(cf_matrix, cmap='coolwarm', annot=True, linewidth=1, fmt='d')\n",
        "plt.xlabel('Expectativa')\n",
        "plt.ylabel('Previsto pelo modelo')\n",
        "plt.show()\n",
        "\n",
        "print(f'Acurácia: {accuracy_score(y_test, resultado_curl):%}')\n",
        "print(f'Precisão: {precision_score(y_test, resultado_curl):%}')\n",
        "print(f'Recall:  {recall_score(y_test, resultado_curl):%}')\n",
        "print(f'F1 Score:  {f1_score(y_test, resultado_curl):%}')\n",
        "print(f'MCC:  {matthews_corrcoef(y_test, resultado_curl):%}')"
      ]
    },
    {
      "cell_type": "code",
      "execution_count": null,
      "metadata": {
        "id": "wVQRywysLvDm"
      },
      "outputs": [],
      "source": []
    },
    {
      "cell_type": "code",
      "execution_count": null,
      "metadata": {
        "id": "qJmLQZcnzA8_"
      },
      "outputs": [],
      "source": [
        "# roc curve for models\n",
        "fpr1, tpr1, thresh1 = roc_curve(y_train_sm_5050, y_pred_curl, pos_label=1)\n",
        "fpr2, tpr2, thresh2 = roc_curve(y_test, resultado_curl, pos_label=1)\n",
        "\n",
        "# roc curve for tpr = fpr\n",
        "random_probs = [0 for i in range(len(y_test))]\n",
        "p_fpr, p_tpr, _ = roc_curve(y_test, random_probs, pos_label=1)\n",
        "\n",
        "# roc curve for tpr = fpr\n",
        "random_probs = [0 for i in range(len(y_test))]\n",
        "p_fpr, p_tpr, _ = roc_curve(y_test, random_probs, pos_label=1)\n",
        "\n",
        "\n",
        "from sklearn.metrics import roc_auc_score\n",
        "\n",
        "# auc scores\n",
        "auc_score1 = roc_auc_score(y_train_sm_5050, y_pred_curl)\n",
        "auc_score2 = roc_auc_score(y_test, resultado_curl)\n",
        "\n",
        "print(auc_score1, auc_score2)\n",
        "\n",
        "# plot roc curves\n",
        "plt.plot(fpr1, tpr1, linestyle='--',color='orange', label='Treinamento')\n",
        "plt.plot(fpr2, tpr2, linestyle='--',color='green', label='Test')\n",
        "plt.plot(p_fpr, p_tpr, linestyle='--', color='blue')\n",
        "# title\n",
        "plt.title('ROC curve')\n",
        "# x label\n",
        "plt.xlabel('False Positive Rate')\n",
        "# y label\n",
        "plt.ylabel('True Positive rate')\n",
        "\n",
        "plt.legend(loc='best')\n",
        "plt.savefig('ROC',dpi=300)\n",
        "plt.show();"
      ]
    }
  ],
  "metadata": {
    "accelerator": "GPU",
    "colab": {
      "gpuType": "T4",
      "toc_visible": true,
      "provenance": [],
      "include_colab_link": true
    },
    "kernelspec": {
      "display_name": "Python 3",
      "name": "python3"
    },
    "language_info": {
      "name": "python"
    }
  },
  "nbformat": 4,
  "nbformat_minor": 0
}