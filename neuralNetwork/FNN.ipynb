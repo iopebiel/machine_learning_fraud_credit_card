{
 "cells": [
  {
   "cell_type": "code",
   "execution_count": 1,
   "id": "804096f8-6f81-482d-bcc6-07097b42e80c",
   "metadata": {},
   "outputs": [
    {
     "name": "stderr",
     "output_type": "stream",
     "text": [
      "/home/ubuntu-user/anaconda3/lib/python3.12/site-packages/cudf/utils/gpu_utils.py:62: UserWarning: Failed to dlopen libcuda.so.1\n",
      "  warnings.warn(str(e))\n"
     ]
    },
    {
     "name": "stdout",
     "output_type": "stream",
     "text": [
      "Torch disponível: True\n"
     ]
    }
   ],
   "source": [
    "TEST_SIZE = 0.20\n",
    "RANDOM_STATE = 42\n",
    "BATCH_SIZE = 1024\n",
    "EPOCHS = 20\n",
    "LR = 1e-3\n",
    "DEVICE = None  # 'cuda' ou 'cpu'\n",
    "\n",
    "from sklearn.preprocessing import StandardScaler\n",
    "\n",
    "try:\n",
    "    import torch\n",
    "    import torch.nn as nn\n",
    "    import torch.optim as optim\n",
    "    from torch.utils.data import Dataset, DataLoader\n",
    "    TORCH_AVAILABLE = True\n",
    "except Exception:\n",
    "    TORCH_AVAILABLE = False\n",
    "\n",
    "\n",
    "from sklearn.metrics import roc_auc_score\n",
    "from kagglehub import KaggleDatasetAdapter\n",
    "from sklearn.model_selection import train_test_split\n",
    "from collections import Counter\n",
    "from imblearn.combine import SMOTEENN\n",
    "from cuml.ensemble import RandomForestClassifier as cuRandomForestClassifier\n",
    "from sklearn.ensemble import RandomForestClassifier\n",
    "from sklearn.metrics import classification_report, confusion_matrix, accuracy_score, precision_score, recall_score, f1_score, roc_curve, matthews_corrcoef\n",
    "import pandas as pd\n",
    "import seaborn as sn\n",
    "import kagglehub as kh\n",
    "import matplotlib.pyplot as plt\n",
    "import os\n",
    "import numpy as np     \n",
    "\n",
    "import warnings\n",
    "warnings.filterwarnings('ignore')\n",
    "\n",
    "print(f\"Torch disponível: {TORCH_AVAILABLE}\")"
   ]
  },
  {
   "cell_type": "code",
   "execution_count": 2,
   "id": "e1180be3-b3b9-4e96-89df-c487ea462ed6",
   "metadata": {},
   "outputs": [
    {
     "name": "stdout",
     "output_type": "stream",
     "text": [
      "Warning: Looks like you're using an outdated `kagglehub` version (installed: 0.3.12), please consider upgrading to the latest version (0.3.13).\n",
      "Caminho para o Dataset: /home/ubuntu-user/.cache/kagglehub/datasets/mlg-ulb/creditcardfraud/versions/3\n",
      "Caminho para o Dataset: /home/ubuntu-user/.cache/kagglehub/datasets/mlg-ulb/creditcardfraud/versions/3\n",
      "Formato do dataset: (284807, 31)\n",
      "Class\n",
      "0    284315\n",
      "1       492\n",
      "Name: count, dtype: int64\n"
     ]
    }
   ],
   "source": [
    "path = kh.dataset_download(\"mlg-ulb/creditcardfraud\")\n",
    "print(\"Caminho para o Dataset:\", path)\n",
    "os.listdir(path)\n",
    "\n",
    "df = pd.read_csv(\"/home/ubuntu-user/.cache/kagglehub/datasets/mlg-ulb/creditcardfraud/versions/3/creditcard.csv\")\n",
    "df.tail()\n",
    "\n",
    "print(\"Caminho para o Dataset:\", path)\n",
    "os.listdir(path)\n",
    "\n",
    "print('Formato do dataset:', df.shape)\n",
    "print(df['Class'].value_counts())\n",
    "\n",
    "expected_pca = [f'V{i}' for i in range(1,29)]\n",
    "missing = [c for c in expected_pca if c not in df.columns]\n",
    "if missing:\n",
    "    print('Aviso: colunas PCA ausentes:', missing)\n",
    "\n",
    "features = [c for c in df.columns if c != 'Class']\n",
    "X = df[features].copy()\n",
    "y = df['Class'].copy()\n",
    "\n",
    "scaler = StandardScaler()\n",
    "if 'Amount' in X.columns:\n",
    "    X['Amount'] = scaler.fit_transform(X[['Amount']])\n",
    "if 'Time' in X.columns:\n",
    "    X['Time'] = scaler.fit_transform(X[['Time']])\n",
    "\n",
    "X = X.fillna(0)\n"
   ]
  },
  {
   "cell_type": "code",
   "execution_count": 3,
   "id": "5ce1dd27-da55-4012-8fe8-bec7c598d928",
   "metadata": {},
   "outputs": [
    {
     "name": "stdout",
     "output_type": "stream",
     "text": [
      "Treino: (227845, 30) Teste: (56962, 30)\n",
      "Distribuição treino:\n",
      " Class\n",
      "0    0.998271\n",
      "1    0.001729\n",
      "Name: proportion, dtype: float64\n"
     ]
    }
   ],
   "source": [
    "X_train, X_test, y_train, y_test = train_test_split(\n",
    "    X, y, test_size=TEST_SIZE, stratify=y, random_state=RANDOM_STATE\n",
    ")\n",
    "print('Treino:', X_train.shape, 'Teste:', X_test.shape)\n",
    "print('Distribuição treino:\\n', y_train.value_counts(normalize=True))"
   ]
  },
  {
   "cell_type": "code",
   "execution_count": 4,
   "id": "8a5cd9c6-34e9-472e-bcb6-335bde937a94",
   "metadata": {},
   "outputs": [],
   "source": [
    "def ratio_to_sampling_strategy(minority_pct, majority_pct):\n",
    "    return (minority_pct / majority_pct)\n",
    "\n",
    "def compute_metrics(y_true, y_pred, y_proba=None):\n",
    "    p = precision_score(y_true, y_pred, zero_division=0)\n",
    "    r = recall_score(y_true, y_pred)\n",
    "    f1 = f1_score(y_true, y_pred)\n",
    "    acc = accuracy_score(y_true, y_pred)\n",
    "    mcc = matthews_corrcoef(y_true, y_pred)\n",
    "    auc = roc_auc_score(y_true, y_proba) if y_proba is not None else np.nan\n",
    "    return dict(precision=p, recall=r, f1=f1, accuracy=acc, mcc=mcc, auc=auc)\n",
    "\n",
    "if TORCH_AVAILABLE:\n",
    "    class FraudDatasetTorch(Dataset):\n",
    "        def __init__(self, X, y=None):\n",
    "            self.X = torch.tensor(X.values, dtype=torch.float32)\n",
    "            self.y = None if y is None else torch.tensor(y.values, dtype=torch.float32)\n",
    "        def __len__(self):\n",
    "            return len(self.X)\n",
    "        def __getitem__(self, idx):\n",
    "            if self.y is None:\n",
    "                return self.X[idx]\n",
    "            return self.X[idx], self.y[idx]\n",
    "\n",
    "    class SimpleMLP(nn.Module):\n",
    "        def __init__(self, input_dim, hidden_layers=[64,32], dropout=0.2):\n",
    "            super().__init__()\n",
    "            layers = []\n",
    "            prev = input_dim\n",
    "            for h in hidden_layers:\n",
    "                layers.append(nn.Linear(prev, h))\n",
    "                layers.append(nn.ReLU())\n",
    "                layers.append(nn.Dropout(dropout))\n",
    "                prev = h\n",
    "            layers.append(nn.Linear(prev, 1))\n",
    "            layers.append(nn.Sigmoid())\n",
    "            self.model = nn.Sequential(*layers)\n",
    "        def forward(self, x):\n",
    "            return self.model(x).squeeze(1)\n",
    "\n",
    "    def train_pytorch_mlp(X_tr, y_tr, X_val, y_val, input_dim, hidden_layers=[64,32],\n",
    "                          epochs=EPOCHS, batch_size=BATCH_SIZE, lr=LR, device=None):\n",
    "        if device is None:\n",
    "            device = 'cuda' if torch.cuda.is_available() else 'cpu'\n",
    "        model = SimpleMLP(input_dim, hidden_layers=hidden_layers).to(device)\n",
    "        criterion = nn.BCELoss()\n",
    "        optimizer = optim.Adam(model.parameters(), lr=lr)\n",
    "\n",
    "        train_ds = FraudDatasetTorch(X_tr, y_tr)\n",
    "        val_ds = FraudDatasetTorch(X_val, y_val)\n",
    "        train_loader = DataLoader(train_ds, batch_size=batch_size, shuffle=True)\n",
    "        val_loader = DataLoader(val_ds, batch_size=batch_size, shuffle=False)\n",
    "\n",
    "        best_model = None\n",
    "        best_auc = -np.inf\n",
    "\n",
    "        for epoch in range(epochs):\n",
    "            model.train()\n",
    "            for xb, yb in train_loader:\n",
    "                xb, yb = xb.to(device), yb.to(device)\n",
    "                optimizer.zero_grad()\n",
    "                preds = model(xb)\n",
    "                loss = criterion(preds, yb)\n",
    "                loss.backward()\n",
    "                optimizer.step()\n",
    "            # Validação simples\n",
    "            model.eval()\n",
    "            ys, ps = [], []\n",
    "            with torch.no_grad():\n",
    "                for xb, yb in val_loader:\n",
    "                    xb, yb = xb.to(device), yb.to(device)\n",
    "                    out = model(xb)\n",
    "                    ys.append(yb.cpu().numpy())\n",
    "                    ps.append(out.cpu().numpy())\n",
    "            ys = np.concatenate(ys)\n",
    "            ps = np.concatenate(ps)\n",
    "            auc = roc_auc_score(ys, ps)\n",
    "            if auc > best_auc:\n",
    "                best_auc = auc\n",
    "                best_model = model.state_dict()\n",
    "            if (epoch+1) % 10 == 0 or epoch == 0:\n",
    "                print(f\"Epoch {epoch+1}/{epochs} AUC={auc:.4f}\")\n",
    "\n",
    "        model.load_state_dict(best_model)\n",
    "        return model, device\n",
    "\n",
    "    def predict_pytorch(model, device, X):\n",
    "        model.eval()\n",
    "        ds = FraudDatasetTorch(X, None)\n",
    "        loader = DataLoader(ds, batch_size=BATCH_SIZE, shuffle=False)\n",
    "        preds = []\n",
    "        with torch.no_grad():\n",
    "            for xb in loader:\n",
    "                xb = xb.to(device)\n",
    "                out = model(xb)\n",
    "                preds.append(out.cpu().numpy())\n",
    "        return np.concatenate(preds)\n"
   ]
  },
  {
   "cell_type": "code",
   "execution_count": 5,
   "id": "d904a2ae-ac44-4c7d-9571-ee783c7e5f87",
   "metadata": {},
   "outputs": [
    {
     "name": "stdout",
     "output_type": "stream",
     "text": [
      "SMOTE-ENN 10 : 90\n",
      "Amostra balanceada: [227074  25243]\n",
      "Epoch 1/20 AUC=0.9819\n",
      "Epoch 10/20 AUC=0.9791\n",
      "Epoch 20/20 AUC=0.9765\n"
     ]
    }
   ],
   "source": [
    "summary_rows = []\n",
    "roc_data = {}\n",
    "\n",
    "print('SMOTE-ENN 10 : 90')\n",
    "smt = SMOTEENN(random_state=42, sampling_strategy=0.111)\n",
    "X_train_sm_1090, y_train_sm_1090 = smt.fit_resample(X_train, y_train)\n",
    "counter = Counter(y_train_sm_1090)\n",
    "print('Amostra balanceada:', np.bincount(y_train_sm_1090.astype(int).))\n",
    "\n",
    "if TORCH_AVAILABLE:\n",
    "    model, device = train_pytorch_mlp(X_train_sm_1090, y_train_sm_1090, X_test, y_test, input_dim=X_train_sm_1090.shape[1])\n",
    "    y_proba = predict_pytorch(model, device, X_test)\n",
    "    y_pred = (y_proba >= 0.5).astype(int)\n",
    "else:\n",
    "    from sklearn.neural_network import MLPClassifier\n",
    "    mlp = MLPClassifier(hidden_layer_sizes=(64,32), max_iter=200, random_state=RANDOM_STATE)\n",
    "    mlp.fit(X_train_sm_1090, y_train_sm_1090)\n",
    "    y_pred = mlp.predict(X_test)\n",
    "    y_proba = mlp.predict_proba(X_test)[:,1]\n",
    "\n",
    "metrics = compute_metrics(y_test, y_pred, y_proba)\n",
    "summary_rows.append(dict(ratio=f\"{10}:{90}\", model='FNN', **metrics))\n",
    "roc_data[f\"{10}:{90}\"] = y_proba"
   ]
  },
  {
   "cell_type": "code",
   "execution_count": 6,
   "id": "c7a62443-a01e-42e0-b6f0-f1d042f1fe69",
   "metadata": {},
   "outputs": [
    {
     "name": "stdout",
     "output_type": "stream",
     "text": [
      "\n",
      "Resumo das métricas:\n",
      "   ratio model  precision    recall        f1  accuracy       mcc       auc\n",
      "0  10:90   FNN   0.696721  0.867347  0.772727  0.999122  0.776948  0.976466\n"
     ]
    }
   ],
   "source": [
    "summary_df = pd.DataFrame(summary_rows)\n",
    "print('\\nResumo das métricas:')\n",
    "print(summary_df)"
   ]
  },
  {
   "cell_type": "code",
   "execution_count": 7,
   "id": "ec963532-db42-4cf7-92d1-75a2567778da",
   "metadata": {},
   "outputs": [
    {
     "data": {
      "image/png": "[encoded data removed]",
      "text/plain": [
       "<Figure size 800x600 with 1 Axes>"
      ]
     },
     "metadata": {},
     "output_type": "display_data"
    }
   ],
   "source": [
    "last_ratio = list(roc_data.keys())[-1]\n",
    "plt.figure(figsize=(8,6))\n",
    "fpr, tpr, _ = roc_curve(y_test, roc_data[last_ratio])\n",
    "auc_val = roc_auc_score(y_test, roc_data[last_ratio])\n",
    "plt.plot(fpr, tpr, label=f\"FNN (AUC={auc_val:.3f})\")\n",
    "plt.plot([0,1],[0,1],'--')\n",
    "plt.xlabel('False Positive Rate')\n",
    "plt.ylabel('True Positive Rate')\n",
    "plt.title(f'ROC Curve (ratio={last_ratio})')\n",
    "plt.legend()\n",
    "plt.grid(True)\n",
    "plt.show()"
   ]
  },
  {
   "cell_type": "code",
   "execution_count": 8,
   "id": "c474cff7-82b3-4e3e-a925-1ad954cbb8cf",
   "metadata": {},
   "outputs": [
    {
     "name": "stdout",
     "output_type": "stream",
     "text": [
      "SMOTE-ENN 50 : 50\n",
      "Depois do SMOTE-ENN: Counter({1: 227451, 0: 227054})\n",
      "Amostra balanceada: [227054 227451]\n",
      "Epoch 1/20 AUC=0.9790\n",
      "Epoch 10/20 AUC=0.9720\n",
      "Epoch 20/20 AUC=0.9706\n"
     ]
    }
   ],
   "source": [
    "summary_rows = []\n",
    "roc_data = {}\n",
    "\n",
    "print('SMOTE-ENN 50 : 50')\n",
    "smt = SMOTEENN(random_state=42)\n",
    "X_train_sm_5050, y_train_sm_5050 = smt.fit_resample(X_train, y_train)\n",
    "counter = Counter(y_train_sm_5050)\n",
    "print('Depois do SMOTE-ENN:', counter)\n",
    "\n",
    "print('Amostra balanceada:', np.bincount(y_train_sm_5050.astype(int)))\n",
    "\n",
    "if TORCH_AVAILABLE:\n",
    "    model, device = train_pytorch_mlp(X_train_sm_5050, y_train_sm_5050, X_test, y_test, input_dim=X_train_sm_5050.shape[1])\n",
    "    y_proba = predict_pytorch(model, device, X_test)\n",
    "    y_pred = (y_proba >= 0.5).astype(int)\n",
    "else:\n",
    "    from sklearn.neural_network import MLPClassifier\n",
    "    mlp = MLPClassifier(hidden_layer_sizes=(64,32), max_iter=200, random_state=RANDOM_STATE)\n",
    "    mlp.fit(X_train_sm_5050, y_train_sm_5050)\n",
    "    y_pred = mlp.predict(X_test)\n",
    "    y_proba = mlp.predict_proba(X_test)[:,1]\n",
    "\n",
    "metrics = compute_metrics(y_test, y_pred, y_proba)\n",
    "summary_rows.append(dict(ratio=f\"{50}:{50}\", model='FNN', **metrics))\n",
    "roc_data[f\"{50}:{50}\"] = y_proba\n"
   ]
  },
  {
   "cell_type": "code",
   "execution_count": 9,
   "id": "b43e178b-62df-4a5f-9ee9-a4ef2c8fe3b3",
   "metadata": {},
   "outputs": [],
   "source": [
    "# summary_rows = []\n",
    "# roc_data = {}\n",
    "# train_losses = []\n",
    "# val_losses = []\n",
    "\n",
    "# for ratio in SMOTEENN_RATIOS:\n",
    "#     minor_pct, maj_pct = ratio\n",
    "#     sampling_strategy = ratio_to_sampling_strategy(minor_pct, maj_pct)\n",
    "#     print(f\"\\n--- Treinando FNN com razão {minor_pct}:{maj_pct} ---\")\n",
    "\n",
    "#     sampler = SMOTEENN(smote=SMOTE(sampling_strategy=sampling_strategy, random_state=RANDOM_STATE),\n",
    "#                        random_state=RANDOM_STATE)\n",
    "\n",
    "#     X_resampled, y_resampled = sampler.fit_resample(X_train, y_train)\n",
    "#     print('Amostra balanceada:', np.bincount(y_resampled.astype(int)))\n",
    "\n",
    "#     if TORCH_AVAILABLE:\n",
    "#         model, device = train_pytorch_mlp(X_resampled, y_resampled, X_resampled, y_resampled, input_dim=X_resampled.shape[1])\n",
    "#         y_proba = predict_pytorch(model, device, X_test)\n",
    "#         y_pred = (y_proba >= 0.5).astype(int)\n",
    "#     else:\n",
    "#         from sklearn.neural_network import MLPClassifier\n",
    "#         mlp = MLPClassifier(hidden_layer_sizes=(64,32), max_iter=200, random_state=RANDOM_STATE)\n",
    "#         mlp.fit(X_resampled, y_resampled)\n",
    "#         y_pred = mlp.predict(X_test)\n",
    "#         y_proba = mlp.predict_proba(X_test)[:,1]\n",
    "\n",
    "#     metrics = compute_metrics(y_test, y_pred, y_proba)\n",
    "#     summary_rows.append(dict(ratio=f\"{minor_pct}:{maj_pct}\", model='FNN', **metrics))\n",
    "#     roc_data[f\"{minor_pct}:{maj_pct}\"] = y_proba\n"
   ]
  },
  {
   "cell_type": "code",
   "execution_count": 10,
   "id": "38d00210-cb3f-4b16-982a-1fefecb290f4",
   "metadata": {},
   "outputs": [
    {
     "name": "stdout",
     "output_type": "stream",
     "text": [
      "\n",
      "Resumo das métricas:\n",
      "   ratio model  precision    recall        f1  accuracy       mcc       auc\n",
      "0  50:50   FNN   0.613139  0.857143  0.714894  0.998824  0.724407  0.970649\n"
     ]
    }
   ],
   "source": [
    "summary_df = pd.DataFrame(summary_rows)\n",
    "print('\\nResumo das métricas:')\n",
    "print(summary_df)"
   ]
  },
  {
   "cell_type": "code",
   "execution_count": 11,
   "id": "6a6598ae-8fb9-4eef-bf5d-b51ed2a7f0d8",
   "metadata": {},
   "outputs": [
    {
     "data": {
      "image/png": "[encoded data removed]",
      "text/plain": [
       "<Figure size 800x600 with 1 Axes>"
      ]
     },
     "metadata": {},
     "output_type": "display_data"
    }
   ],
   "source": [
    "last_ratio = list(roc_data.keys())[-1]\n",
    "plt.figure(figsize=(8,6))\n",
    "fpr, tpr, _ = roc_curve(y_test, roc_data[last_ratio])\n",
    "auc_val = roc_auc_score(y_test, roc_data[last_ratio])\n",
    "plt.plot(fpr, tpr, label=f\"FNN (AUC={auc_val:.3f})\")\n",
    "plt.plot([0,1],[0,1],'--')\n",
    "plt.xlabel('False Positive Rate')\n",
    "plt.ylabel('True Positive Rate')\n",
    "plt.title(f'ROC Curve (ratio={last_ratio})')\n",
    "plt.legend()\n",
    "plt.grid(True)\n",
    "plt.show()"
   ]
  },
  {
   "cell_type": "code",
   "execution_count": 12,
   "id": "7f8d9c5f-1cf3-462a-9ac4-b1b9b03a5659",
   "metadata": {},
   "outputs": [
    {
     "name": "stdout",
     "output_type": "stream",
     "text": [
      "Resultados salvos em fnn_results_summary.csv\n"
     ]
    }
   ],
   "source": [
    "summary_df.to_csv('fnn_results_summary.csv', index=False)\n",
    "print('Resultados salvos em fnn_results_summary.csv')"
   ]
  },
  {
   "cell_type": "code",
   "execution_count": null,
   "id": "007e745c-1469-4f7a-a54a-f180e42713bf",
   "metadata": {},
   "outputs": [],
   "source": []
  }
 ],
 "metadata": {
  "kernelspec": {
   "display_name": "Python 3 (ipykernel)",
   "language": "python",
   "name": "python3"
  },
  "language_info": {
   "codemirror_mode": {
    "name": "ipython",
    "version": 3
   },
   "file_extension": ".py",
   "mimetype": "text/x-python",
   "name": "python",
   "nbconvert_exporter": "python",
   "pygments_lexer": "ipython3",
   "version": "3.12.7"
  }
 },
 "nbformat": 4,
 "nbformat_minor": 5
}
